{
 "cells": [
  {
   "cell_type": "markdown",
   "id": "aa7fd3a4",
   "metadata": {},
   "source": [
    "### 딕셔너리의 키, 값 모두 리스트 형태로 가져오기\n",
    "\n",
    "#### 딕셔너리명.keys()\n",
    "- 딕셔너리의 키만 리스트로 가져오기\n",
    "- dict_keys 객체로 받아온다. 리스트처럼 사용할 수 있지만 리스트는 아니다."
   ]
  },
  {
   "cell_type": "code",
   "execution_count": 2,
   "id": "daa34203",
   "metadata": {},
   "outputs": [
    {
     "data": {
      "text/plain": [
       "dict_keys(['kor', 'eng', 'math'])"
      ]
     },
     "execution_count": 2,
     "metadata": {},
     "output_type": "execute_result"
    }
   ],
   "source": [
    "scores = {'kor':100, 'eng':90, 'math':80}\n",
    "scores.keys()"
   ]
  },
  {
   "cell_type": "markdown",
   "id": "81ea31ea",
   "metadata": {},
   "source": [
    "#### 딕셔너리명. values()\n",
    "- 딕셔녀리의 value만 리스트로 가져오기\n",
    "- dict_values 객체로 받아온다."
   ]
  },
  {
   "cell_type": "code",
   "execution_count": 3,
   "id": "4b8a4026",
   "metadata": {},
   "outputs": [
    {
     "data": {
      "text/plain": [
       "dict_values([100, 90, 80])"
      ]
     },
     "execution_count": 3,
     "metadata": {},
     "output_type": "execute_result"
    }
   ],
   "source": [
    "scores = {'kor':100, 'eng':90, 'math':80}\n",
    "scores.values()"
   ]
  },
  {
   "cell_type": "markdown",
   "id": "16703933",
   "metadata": {},
   "source": [
    "#### 딕셔너리명.items()\n",
    "- 딕셔너리의 (key, value) 쌍을 리스트로 가져오기\n",
    "- dict_items 객체로 받아온다."
   ]
  },
  {
   "cell_type": "code",
   "execution_count": 5,
   "id": "eba27393",
   "metadata": {},
   "outputs": [
    {
     "data": {
      "text/plain": [
       "dict_items([('kor', 100), ('eng', 90), ('math', 80)])"
      ]
     },
     "execution_count": 5,
     "metadata": {},
     "output_type": "execute_result"
    }
   ],
   "source": [
    "scores = {'kor':100, 'eng':90, 'math':80}\n",
    "scores.items()"
   ]
  },
  {
   "cell_type": "markdown",
   "id": "d139c743",
   "metadata": {},
   "source": [
    "### for문으로 딕셔너리 출력하기\n",
    "#### for문으로 딕셔너리 키만 출력하기"
   ]
  },
  {
   "cell_type": "code",
   "execution_count": 6,
   "id": "cc42dfd2",
   "metadata": {},
   "outputs": [
    {
     "name": "stdout",
     "output_type": "stream",
     "text": [
      "kor\n",
      "eng\n",
      "math\n"
     ]
    }
   ],
   "source": [
    "scores = {'kor':100, 'eng':90, 'math':80}\n",
    "\n",
    "for i in scores.keys():\n",
    "    print(i)"
   ]
  },
  {
   "cell_type": "code",
   "execution_count": 7,
   "id": "415e4ea3",
   "metadata": {},
   "outputs": [
    {
     "name": "stdout",
     "output_type": "stream",
     "text": [
      "kor\n",
      "eng\n",
      "math\n"
     ]
    }
   ],
   "source": [
    "scores = {'kor':100, 'eng':90, 'math':80}\n",
    "\n",
    "for i in scores:\n",
    "    print(i)"
   ]
  },
  {
   "cell_type": "markdown",
   "id": "56f54891",
   "metadata": {},
   "source": [
    "#### for문으로 딕셔너리의 value만 출력하기"
   ]
  },
  {
   "cell_type": "code",
   "execution_count": 8,
   "id": "6c4079a3",
   "metadata": {},
   "outputs": [
    {
     "name": "stdout",
     "output_type": "stream",
     "text": [
      "100\n",
      "90\n",
      "80\n"
     ]
    }
   ],
   "source": [
    "scores = {'kor':100, 'eng':90, 'math':80}\n",
    "\n",
    "for i in scores.values():\n",
    "    print(i)"
   ]
  },
  {
   "cell_type": "markdown",
   "id": "e367b04c",
   "metadata": {},
   "source": [
    "#### for문으로 딕셔너리의 key, value 출력하기"
   ]
  },
  {
   "cell_type": "code",
   "execution_count": 10,
   "id": "d0379377",
   "metadata": {},
   "outputs": [
    {
     "name": "stdout",
     "output_type": "stream",
     "text": [
      "('kor', 100)\n",
      "('eng', 90)\n",
      "('math', 80)\n"
     ]
    }
   ],
   "source": [
    "scores = {'kor':100, 'eng':90, 'math':80}\n",
    "\n",
    "for i in scores.items():\n",
    "    print(i)"
   ]
  },
  {
   "cell_type": "code",
   "execution_count": 11,
   "id": "40a9d814",
   "metadata": {},
   "outputs": [
    {
     "name": "stdout",
     "output_type": "stream",
     "text": [
      "kor 100\n",
      "eng 90\n",
      "math 80\n"
     ]
    }
   ],
   "source": [
    "scores = {'kor':100, 'eng':90, 'math':80}\n",
    "\n",
    "for key,value in scores.items():\n",
    "    print(key, value)"
   ]
  },
  {
   "cell_type": "markdown",
   "id": "a67232db",
   "metadata": {},
   "source": [
    "### 딕셔너리 정렬하기\n",
    "\n",
    "#### 키 정렬하기"
   ]
  },
  {
   "cell_type": "code",
   "execution_count": 12,
   "id": "5906da82",
   "metadata": {},
   "outputs": [
    {
     "data": {
      "text/plain": [
       "['eng', 'kor', 'math']"
      ]
     },
     "execution_count": 12,
     "metadata": {},
     "output_type": "execute_result"
    }
   ],
   "source": [
    "scores = {'kor':100, 'eng':90, 'math':80}\n",
    "\n",
    "sorted(scores.keys())"
   ]
  },
  {
   "cell_type": "markdown",
   "id": "166fb48d",
   "metadata": {},
   "source": [
    "#### 값 정렬하기"
   ]
  },
  {
   "cell_type": "code",
   "execution_count": 14,
   "id": "f69f220a",
   "metadata": {},
   "outputs": [
    {
     "data": {
      "text/plain": [
       "[80, 90, 100]"
      ]
     },
     "execution_count": 14,
     "metadata": {},
     "output_type": "execute_result"
    }
   ],
   "source": [
    "scores = {'kor':100, 'eng':90, 'math':80}\n",
    "\n",
    "sorted(scores.values())"
   ]
  },
  {
   "cell_type": "markdown",
   "id": "1da94940",
   "metadata": {},
   "source": [
    "#### (키, 값) 정렬하기"
   ]
  },
  {
   "cell_type": "code",
   "execution_count": 15,
   "id": "e3b177fc",
   "metadata": {},
   "outputs": [
    {
     "data": {
      "text/plain": [
       "[('eng', 90), ('kor', 100), ('math', 80)]"
      ]
     },
     "execution_count": 15,
     "metadata": {},
     "output_type": "execute_result"
    }
   ],
   "source": [
    "scores = {'kor':100, 'eng':90, 'math':80}\n",
    "sorted(scores.items())"
   ]
  },
  {
   "cell_type": "code",
   "execution_count": 16,
   "id": "a7450a4a",
   "metadata": {},
   "outputs": [
    {
     "ename": "AttributeError",
     "evalue": "'dict_keys' object has no attribute 'sort'",
     "output_type": "error",
     "traceback": [
      "\u001b[1;31m---------------------------------------------------------------------------\u001b[0m",
      "\u001b[1;31mAttributeError\u001b[0m                            Traceback (most recent call last)",
      "\u001b[1;32m~\\AppData\\Local\\Temp/ipykernel_11400/1790297796.py\u001b[0m in \u001b[0;36m<module>\u001b[1;34m\u001b[0m\n\u001b[0;32m      1\u001b[0m \u001b[1;31m# .sort는 지원하지 않음\u001b[0m\u001b[1;33m\u001b[0m\u001b[1;33m\u001b[0m\u001b[0m\n\u001b[1;32m----> 2\u001b[1;33m \u001b[0mscores\u001b[0m\u001b[1;33m.\u001b[0m\u001b[0mkeys\u001b[0m\u001b[1;33m(\u001b[0m\u001b[1;33m)\u001b[0m\u001b[1;33m.\u001b[0m\u001b[0msort\u001b[0m\u001b[1;33m(\u001b[0m\u001b[1;33m)\u001b[0m\u001b[1;33m\u001b[0m\u001b[1;33m\u001b[0m\u001b[0m\n\u001b[0m",
      "\u001b[1;31mAttributeError\u001b[0m: 'dict_keys' object has no attribute 'sort'"
     ]
    }
   ],
   "source": [
    "# .sort는 지원하지 않음\n",
    "scores.keys().sort()"
   ]
  }
 ],
 "metadata": {
  "kernelspec": {
   "display_name": "Python 3 (ipykernel)",
   "language": "python",
   "name": "python3"
  },
  "language_info": {
   "codemirror_mode": {
    "name": "ipython",
    "version": 3
   },
   "file_extension": ".py",
   "mimetype": "text/x-python",
   "name": "python",
   "nbconvert_exporter": "python",
   "pygments_lexer": "ipython3",
   "version": "3.9.7"
  }
 },
 "nbformat": 4,
 "nbformat_minor": 5
}
