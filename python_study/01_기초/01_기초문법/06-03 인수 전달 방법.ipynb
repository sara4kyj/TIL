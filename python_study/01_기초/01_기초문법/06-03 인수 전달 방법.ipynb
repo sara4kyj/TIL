{
 "cells": [
  {
   "cell_type": "markdown",
   "id": "2c7f8a11",
   "metadata": {},
   "source": [
    "### 위치 인수\n",
    "- 기본적인 인수 전달 방법이다.\n",
    "- 함수에 정의된 매개변수와 순서에 맞게 짝을 맞추어 인수를 전달한다."
   ]
  },
  {
   "cell_type": "code",
   "execution_count": 1,
   "id": "85a6f499",
   "metadata": {},
   "outputs": [
    {
     "name": "stdout",
     "output_type": "stream",
     "text": [
      "Hello! python Nice to meet you\n"
     ]
    }
   ],
   "source": [
    "def greet(name, msg):\n",
    "    print('Hello!', name, msg)\n",
    "\n",
    "greet('python', 'Nice to meet you')"
   ]
  },
  {
   "cell_type": "markdown",
   "id": "95ac88b4",
   "metadata": {},
   "source": [
    "### 디폴트 인수\n",
    "- 함수를 정의할 때 매개변수에 디폴트값을 지정하면 디폴트값이 지정된 인수를 생략할 수 있다."
   ]
  },
  {
   "cell_type": "code",
   "execution_count": 2,
   "id": "b3dcde16",
   "metadata": {},
   "outputs": [
    {
     "name": "stdout",
     "output_type": "stream",
     "text": [
      "Hello! python Nice to meet you\n",
      "Hello! python2 bye\n"
     ]
    }
   ],
   "source": [
    "def greet(name, msg='Nice to meet you'):\n",
    "    print('Hello!', name, msg)\n",
    "\n",
    "greet('python')\n",
    "greet('python2','bye')"
   ]
  },
  {
   "cell_type": "markdown",
   "id": "a96f1fb8",
   "metadata": {},
   "source": [
    "- 디폴트 인수는 기본 위치 인수를 다 적은 다음에 적어야 한다."
   ]
  },
  {
   "cell_type": "code",
   "execution_count": 3,
   "id": "4c714fb1",
   "metadata": {},
   "outputs": [
    {
     "ename": "SyntaxError",
     "evalue": "non-default argument follows default argument (Temp/ipykernel_11404/1353298985.py, line 1)",
     "output_type": "error",
     "traceback": [
      "\u001b[1;36m  File \u001b[1;32m\"C:\\Users\\sara\\AppData\\Local\\Temp/ipykernel_11404/1353298985.py\"\u001b[1;36m, line \u001b[1;32m1\u001b[0m\n\u001b[1;33m    def greet(name='python', msg):\u001b[0m\n\u001b[1;37m                                ^\u001b[0m\n\u001b[1;31mSyntaxError\u001b[0m\u001b[1;31m:\u001b[0m non-default argument follows default argument\n"
     ]
    }
   ],
   "source": [
    "def greet(name='python', msg):\n",
    "    print('Hello!', name, msg)"
   ]
  },
  {
   "cell_type": "markdown",
   "id": "318aeff2",
   "metadata": {},
   "source": [
    "### 키워드 인수\n",
    "- 함수를 호출할 때 인수의 이름을 명시하면, 순서를 바꾸어 전달할 수 있다."
   ]
  },
  {
   "cell_type": "code",
   "execution_count": 4,
   "id": "ce253cba",
   "metadata": {},
   "outputs": [
    {
     "name": "stdout",
     "output_type": "stream",
     "text": [
      "-20\n",
      "-20\n"
     ]
    }
   ],
   "source": [
    "def minus(x,y,z):\n",
    "    return x-y-z\n",
    "\n",
    "print(minus(5,10,15))\n",
    "print(minus(5,z=15,y=10))"
   ]
  },
  {
   "cell_type": "markdown",
   "id": "0f31ebcc",
   "metadata": {},
   "source": [
    "- 키워드 인수는 기본위치 인수를 다 적은 다음에 적어야 한다."
   ]
  },
  {
   "cell_type": "code",
   "execution_count": 5,
   "id": "0fc1c3dd",
   "metadata": {},
   "outputs": [
    {
     "ename": "SyntaxError",
     "evalue": "positional argument follows keyword argument (Temp/ipykernel_11404/1177548471.py, line 5)",
     "output_type": "error",
     "traceback": [
      "\u001b[1;36m  File \u001b[1;32m\"C:\\Users\\sara\\AppData\\Local\\Temp/ipykernel_11404/1177548471.py\"\u001b[1;36m, line \u001b[1;32m5\u001b[0m\n\u001b[1;33m    print(get_minus(z=15,10,x=5))\u001b[0m\n\u001b[1;37m                               ^\u001b[0m\n\u001b[1;31mSyntaxError\u001b[0m\u001b[1;31m:\u001b[0m positional argument follows keyword argument\n"
     ]
    }
   ],
   "source": [
    "def get_minus(x,y,z):\n",
    "    return x-y-z\n",
    "\n",
    "print(get_minus(5,10,15))\n",
    "print(get_minus(z=15,10,x=5))"
   ]
  },
  {
   "cell_type": "markdown",
   "id": "37c0c3bb",
   "metadata": {},
   "source": [
    "### 가변인수\n",
    "- 인수를 하나의 튜플이나 리스트로 전달한다."
   ]
  },
  {
   "cell_type": "code",
   "execution_count": 8,
   "id": "429b0976",
   "metadata": {},
   "outputs": [
    {
     "name": "stdout",
     "output_type": "stream",
     "text": [
      "2.0\n",
      "3.0\n"
     ]
    }
   ],
   "source": [
    "# 가변적인 수를 하나의 리스트/튜플로 받아서 수의 평균을 리턴하는 함수\n",
    "def average(args):\n",
    "    return sum(args)/len(args)\n",
    "\n",
    "print(average([1,2,3]))\n",
    "print(average([1,2,3,4,5]))"
   ]
  },
  {
   "cell_type": "markdown",
   "id": "31082cdf",
   "metadata": {},
   "source": [
    "- 매개변수에 '*'를 붙이면 여러개의 인수를 하나의 튜플로 받는다.\n",
    "- 인수의 갯수는 가변적이다."
   ]
  },
  {
   "cell_type": "code",
   "execution_count": 9,
   "id": "5e6848a5",
   "metadata": {},
   "outputs": [
    {
     "data": {
      "text/plain": [
       "2.0"
      ]
     },
     "execution_count": 9,
     "metadata": {},
     "output_type": "execute_result"
    }
   ],
   "source": [
    "# 가변적인 수를 받아서 수의 평균을 리턴하는 함수\n",
    "def average(*args):\n",
    "    return sum(args)/len(args)\n",
    "\n",
    "average(1,2,3)"
   ]
  },
  {
   "cell_type": "markdown",
   "id": "f6863056",
   "metadata": {},
   "source": [
    "- print함수의 위치인수, 키워드인수"
   ]
  },
  {
   "cell_type": "code",
   "execution_count": 10,
   "id": "f1656b05",
   "metadata": {},
   "outputs": [
    {
     "name": "stdout",
     "output_type": "stream",
     "text": [
      "Help on built-in function print in module builtins:\n",
      "\n",
      "print(...)\n",
      "    print(value, ..., sep=' ', end='\\n', file=sys.stdout, flush=False)\n",
      "    \n",
      "    Prints the values to a stream, or to sys.stdout by default.\n",
      "    Optional keyword arguments:\n",
      "    file:  a file-like object (stream); defaults to the current sys.stdout.\n",
      "    sep:   string inserted between values, default a space.\n",
      "    end:   string appended after the last value, default a newline.\n",
      "    flush: whether to forcibly flush the stream.\n",
      "\n"
     ]
    }
   ],
   "source": [
    "help(print)"
   ]
  },
  {
   "cell_type": "code",
   "execution_count": 13,
   "id": "ed8bc1e9",
   "metadata": {},
   "outputs": [
    {
     "name": "stdout",
     "output_type": "stream",
     "text": [
      "1@2@3\n",
      "4 5\n"
     ]
    }
   ],
   "source": [
    "print(1,2,3,sep='@')\n",
    "print(4,5)"
   ]
  }
 ],
 "metadata": {
  "kernelspec": {
   "display_name": "Python 3 (ipykernel)",
   "language": "python",
   "name": "python3"
  },
  "language_info": {
   "codemirror_mode": {
    "name": "ipython",
    "version": 3
   },
   "file_extension": ".py",
   "mimetype": "text/x-python",
   "name": "python",
   "nbconvert_exporter": "python",
   "pygments_lexer": "ipython3",
   "version": "3.9.7"
  }
 },
 "nbformat": 4,
 "nbformat_minor": 5
}
