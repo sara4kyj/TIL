{
 "cells": [
  {
   "cell_type": "markdown",
   "id": "eb177cb9",
   "metadata": {},
   "source": [
    "### 리스트 항목 추가하기\n",
    "\n",
    "#### 리스트 끝에 항목 추가하기\n",
    "- 리스트명.append(항목)"
   ]
  },
  {
   "cell_type": "code",
   "execution_count": 1,
   "id": "46967d44",
   "metadata": {},
   "outputs": [],
   "source": [
    "todolist = ['양치','물마시기']"
   ]
  },
  {
   "cell_type": "code",
   "execution_count": 2,
   "id": "4650436c",
   "metadata": {},
   "outputs": [],
   "source": [
    "# 아침운동 항목 추가하기\n",
    "todolist.append('아침운동')"
   ]
  },
  {
   "cell_type": "code",
   "execution_count": 3,
   "id": "78c56b31",
   "metadata": {},
   "outputs": [
    {
     "data": {
      "text/plain": [
       "['양치', '물마시기', '아침운동']"
      ]
     },
     "execution_count": 3,
     "metadata": {},
     "output_type": "execute_result"
    }
   ],
   "source": [
    "todolist"
   ]
  },
  {
   "cell_type": "markdown",
   "id": "9e244529",
   "metadata": {},
   "source": [
    "#### 리스트 중간에 항목 삽입하기\n",
    "- 리스트명.insert(인덱스, 항목)"
   ]
  },
  {
   "cell_type": "code",
   "execution_count": 4,
   "id": "32950755",
   "metadata": {},
   "outputs": [],
   "source": [
    "# 아침운동하기전에 아침식사\n",
    "todolist.insert(2,'아침식사')"
   ]
  },
  {
   "cell_type": "code",
   "execution_count": 5,
   "id": "259e52a2",
   "metadata": {},
   "outputs": [
    {
     "data": {
      "text/plain": [
       "['양치', '물마시기', '아침식사', '아침운동']"
      ]
     },
     "execution_count": 5,
     "metadata": {},
     "output_type": "execute_result"
    }
   ],
   "source": [
    "todolist"
   ]
  },
  {
   "cell_type": "markdown",
   "id": "b0caff4e",
   "metadata": {},
   "source": [
    "#### 리스트 끝에 여러 항목 추가하기\n",
    "- 리스트명.extend(리스트)"
   ]
  },
  {
   "cell_type": "code",
   "execution_count": null,
   "id": "7c3e9457",
   "metadata": {},
   "outputs": [],
   "source": [
    "# 아침운동 후에 ['샤워','드라이','공부']"
   ]
  },
  {
   "cell_type": "code",
   "execution_count": 6,
   "id": "1cc6e456",
   "metadata": {},
   "outputs": [],
   "source": [
    "todolist.extend(['샤워','드라이','공부'])"
   ]
  },
  {
   "cell_type": "code",
   "execution_count": 7,
   "id": "9b2a18dd",
   "metadata": {},
   "outputs": [
    {
     "data": {
      "text/plain": [
       "['양치', '물마시기', '아침식사', '아침운동', '샤워', '드라이', '공부']"
      ]
     },
     "execution_count": 7,
     "metadata": {},
     "output_type": "execute_result"
    }
   ],
   "source": [
    "todolist"
   ]
  },
  {
   "cell_type": "markdown",
   "id": "f3e5cd68",
   "metadata": {},
   "source": [
    "### 리스트 항목 수정하기\n",
    "\n",
    "#### 하나의 항목 수정하기\n",
    "- 리스트명[인덱스]=항목"
   ]
  },
  {
   "cell_type": "code",
   "execution_count": 8,
   "id": "550d2624",
   "metadata": {},
   "outputs": [],
   "source": [
    "# 아침운동 -> 산책\n",
    "todolist[3]='산책'"
   ]
  },
  {
   "cell_type": "code",
   "execution_count": 9,
   "id": "047b8cce",
   "metadata": {},
   "outputs": [
    {
     "data": {
      "text/plain": [
       "['양치', '물마시기', '아침식사', '산책', '샤워', '드라이', '공부']"
      ]
     },
     "execution_count": 9,
     "metadata": {},
     "output_type": "execute_result"
    }
   ],
   "source": [
    "todolist"
   ]
  },
  {
   "cell_type": "markdown",
   "id": "d3e20e0c",
   "metadata": {},
   "source": [
    "#### 여러 항목 수정하기\n",
    "- 리스트명[시작인덱스:끝인덱스]=리스트"
   ]
  },
  {
   "cell_type": "code",
   "execution_count": 10,
   "id": "dc51bc93",
   "metadata": {},
   "outputs": [],
   "source": [
    "# 아침식사, 산책 -> 독서, 산책, 아침식사\n",
    "todolist[2:4] = ['독서','산책','아침식사']"
   ]
  },
  {
   "cell_type": "code",
   "execution_count": 11,
   "id": "06eac4a3",
   "metadata": {},
   "outputs": [
    {
     "data": {
      "text/plain": [
       "['양치', '물마시기', '독서', '산책', '아침식사', '샤워', '드라이', '공부']"
      ]
     },
     "execution_count": 11,
     "metadata": {},
     "output_type": "execute_result"
    }
   ],
   "source": [
    "todolist"
   ]
  },
  {
   "cell_type": "markdown",
   "id": "d1a18b8c",
   "metadata": {},
   "source": [
    "### 리스트 항목 삭제하기\n",
    "\n",
    "#### 인덱스를 이용하여 항목 삭제\n",
    "- del 리스트명[인덱스]"
   ]
  },
  {
   "cell_type": "code",
   "execution_count": 12,
   "id": "1dc8690a",
   "metadata": {},
   "outputs": [],
   "source": [
    "del todolist[-1]"
   ]
  },
  {
   "cell_type": "code",
   "execution_count": 13,
   "id": "1ab9257e",
   "metadata": {},
   "outputs": [
    {
     "data": {
      "text/plain": [
       "['양치', '물마시기', '독서', '산책', '아침식사', '샤워', '드라이']"
      ]
     },
     "execution_count": 13,
     "metadata": {},
     "output_type": "execute_result"
    }
   ],
   "source": [
    "todolist"
   ]
  },
  {
   "cell_type": "markdown",
   "id": "0d3f87df",
   "metadata": {},
   "source": [
    "#### 항목값을 이용하여 삭제\n",
    "- 리스트.remove(항목)\n",
    " \n",
    " 항목이 여러개일 경우 앞의 인덱스만 삭제"
   ]
  },
  {
   "cell_type": "code",
   "execution_count": 14,
   "id": "2db0381a",
   "metadata": {},
   "outputs": [],
   "source": [
    "# 양치 삭제\n",
    "todolist.remove('양치')"
   ]
  },
  {
   "cell_type": "code",
   "execution_count": 15,
   "id": "732d7fa3",
   "metadata": {
    "scrolled": true
   },
   "outputs": [
    {
     "data": {
      "text/plain": [
       "['물마시기', '독서', '산책', '아침식사', '샤워', '드라이']"
      ]
     },
     "execution_count": 15,
     "metadata": {},
     "output_type": "execute_result"
    }
   ],
   "source": [
    "todolist"
   ]
  },
  {
   "cell_type": "markdown",
   "id": "86cda98a",
   "metadata": {},
   "source": [
    "#### 마지막 항목을 반환하고 삭제\n",
    "- 리스트.pop()"
   ]
  },
  {
   "cell_type": "code",
   "execution_count": 16,
   "id": "5b38e487",
   "metadata": {},
   "outputs": [],
   "source": [
    "a = todolist.pop()"
   ]
  },
  {
   "cell_type": "code",
   "execution_count": 17,
   "id": "990a852e",
   "metadata": {},
   "outputs": [
    {
     "data": {
      "text/plain": [
       "'드라이'"
      ]
     },
     "execution_count": 17,
     "metadata": {},
     "output_type": "execute_result"
    }
   ],
   "source": [
    "a"
   ]
  },
  {
   "cell_type": "code",
   "execution_count": 18,
   "id": "536b1d51",
   "metadata": {},
   "outputs": [
    {
     "data": {
      "text/plain": [
       "['물마시기', '독서', '산책', '아침식사', '샤워']"
      ]
     },
     "execution_count": 18,
     "metadata": {},
     "output_type": "execute_result"
    }
   ],
   "source": [
    "todolist"
   ]
  },
  {
   "cell_type": "markdown",
   "id": "68acdea4",
   "metadata": {},
   "source": [
    "### 연습문제\n",
    "\n",
    "- 아래 wishlist의 '시계','신발'을 maCart로 이동해봅시다."
   ]
  },
  {
   "cell_type": "code",
   "execution_count": 19,
   "id": "4020c3dc",
   "metadata": {},
   "outputs": [
    {
     "data": {
      "text/plain": [
       "['시계', '신발']"
      ]
     },
     "execution_count": 19,
     "metadata": {},
     "output_type": "execute_result"
    }
   ],
   "source": [
    "wishlist = ['가방','시계','신발']\n",
    "myCart = []\n",
    "\n",
    "myCart.extend(wishlist[1:])\n",
    "myCart"
   ]
  },
  {
   "cell_type": "code",
   "execution_count": 20,
   "id": "0d9bd997",
   "metadata": {},
   "outputs": [],
   "source": [
    "del wishlist[1:]"
   ]
  },
  {
   "cell_type": "code",
   "execution_count": 21,
   "id": "affc74aa",
   "metadata": {},
   "outputs": [
    {
     "data": {
      "text/plain": [
       "['가방']"
      ]
     },
     "execution_count": 21,
     "metadata": {},
     "output_type": "execute_result"
    }
   ],
   "source": [
    "wishlist"
   ]
  },
  {
   "cell_type": "code",
   "execution_count": 22,
   "id": "aa47cbfc",
   "metadata": {},
   "outputs": [
    {
     "data": {
      "text/plain": [
       "['시계', '신발']"
      ]
     },
     "execution_count": 22,
     "metadata": {},
     "output_type": "execute_result"
    }
   ],
   "source": [
    "myCart"
   ]
  }
 ],
 "metadata": {
  "kernelspec": {
   "display_name": "Python 3 (ipykernel)",
   "language": "python",
   "name": "python3"
  },
  "language_info": {
   "codemirror_mode": {
    "name": "ipython",
    "version": 3
   },
   "file_extension": ".py",
   "mimetype": "text/x-python",
   "name": "python",
   "nbconvert_exporter": "python",
   "pygments_lexer": "ipython3",
   "version": "3.9.7"
  }
 },
 "nbformat": 4,
 "nbformat_minor": 5
}
