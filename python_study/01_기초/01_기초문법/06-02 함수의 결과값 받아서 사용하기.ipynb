{
 "cells": [
  {
   "cell_type": "markdown",
   "id": "c4c1d6fc",
   "metadata": {},
   "source": [
    "### 값 1개 반환하기"
   ]
  },
  {
   "cell_type": "code",
   "execution_count": 1,
   "id": "aa6c5e12",
   "metadata": {},
   "outputs": [
    {
     "name": "stdout",
     "output_type": "stream",
     "text": [
      "8\n",
      "plus: 7\n"
     ]
    }
   ],
   "source": [
    "# 두 수를 매개변수로 받아 더한 후 결과를 리턴하는 함수 만들기\n",
    "def plus(a,b):\n",
    "    return a+b\n",
    "\n",
    "print(plus(3,5))\n",
    "\n",
    "plus = plus(3,4)\n",
    "print('plus: %d'%plus)"
   ]
  },
  {
   "cell_type": "markdown",
   "id": "46d75a12",
   "metadata": {},
   "source": [
    "### 값 여러개 반환하기\n",
    "- 여러개의 값을 하나의 튜플로 묶어서 반환한다."
   ]
  },
  {
   "cell_type": "code",
   "execution_count": 3,
   "id": "9aca3d05",
   "metadata": {},
   "outputs": [
    {
     "name": "stdout",
     "output_type": "stream",
     "text": [
      "(6, 2)\n",
      "7 1\n"
     ]
    }
   ],
   "source": [
    "# 두 수를 매개변수로 받아 더한 값과 뺀 값을 리턴하는 함수 만들기\n",
    "def plus_minus(a,b):\n",
    "    return a+b, a-b\n",
    "\n",
    "print(plus_minus(4,2))\n",
    "\n",
    "plus, minus = plus_minus(4,3)\n",
    "print(plus, minus)"
   ]
  },
  {
   "cell_type": "markdown",
   "id": "4091e91a",
   "metadata": {},
   "source": [
    "### 함수에서 빠져나오기\n",
    "- return을 만나면 함수를 빠져나온다.\n",
    "- 반환할 값이 있다면 값을 반환하고 빠져나오고, 없다면 그냥 빠져나온다."
   ]
  },
  {
   "cell_type": "code",
   "execution_count": 5,
   "id": "a426c5b7",
   "metadata": {},
   "outputs": [
    {
     "data": {
      "text/plain": [
       "'홀수'"
      ]
     },
     "execution_count": 5,
     "metadata": {},
     "output_type": "execute_result"
    }
   ],
   "source": [
    "# 정수를 입력받아 0, 짝수, 홀수 여부를 리턴하는 함수 만들기\n",
    "def is_odd_even(n):\n",
    "    if n==0:\n",
    "        return 0\n",
    "    elif n%2 == 0:\n",
    "        return '짝수'\n",
    "    return '홀수'\n",
    "\n",
    "is_odd_even(3)"
   ]
  },
  {
   "cell_type": "markdown",
   "id": "42f03097",
   "metadata": {},
   "source": [
    "### 연습문제\n",
    "- 소수 여부 판단하기\n",
    "\n",
    "    매개변수로 전달받은 수가 소수이지 아닌지 판별하는 함수를 작성하고 호출하시오.\n",
    "\n",
    "\n",
    "- 소수란 : 1과 자기자신으로만 나누어 떨어지는 큰 양의 정수"
   ]
  },
  {
   "cell_type": "code",
   "execution_count": 7,
   "id": "5b65c5f7",
   "metadata": {},
   "outputs": [
    {
     "data": {
      "text/plain": [
       "False"
      ]
     },
     "execution_count": 7,
     "metadata": {},
     "output_type": "execute_result"
    }
   ],
   "source": [
    "def isPrime(n):\n",
    "    if n<=1:\n",
    "        return False\n",
    "    for i in range(2,n):\n",
    "        if n%i==0:\n",
    "            return False\n",
    "    return True\n",
    "\n",
    "isPrime(21)"
   ]
  }
 ],
 "metadata": {
  "kernelspec": {
   "display_name": "Python 3 (ipykernel)",
   "language": "python",
   "name": "python3"
  },
  "language_info": {
   "codemirror_mode": {
    "name": "ipython",
    "version": 3
   },
   "file_extension": ".py",
   "mimetype": "text/x-python",
   "name": "python",
   "nbconvert_exporter": "python",
   "pygments_lexer": "ipython3",
   "version": "3.9.7"
  }
 },
 "nbformat": 4,
 "nbformat_minor": 5
}
