{
 "cells": [
  {
   "cell_type": "markdown",
   "id": "df29a9d4",
   "metadata": {},
   "source": [
    "### 리스트의 통계값 구하기\n",
    "- 항목수 : len(리스트명)\n",
    "- 합계 : sum(리스트명)\n",
    "- 최소값: min(리스트명)\n",
    "- 최대값 : max(리스트명)\n",
    "- 항목의 갯수 : 리스트명.count(항목)"
   ]
  },
  {
   "cell_type": "code",
   "execution_count": 1,
   "id": "dabd1d30",
   "metadata": {},
   "outputs": [
    {
     "name": "stdout",
     "output_type": "stream",
     "text": [
      "항목수 : 8\n",
      "합계 : 27\n",
      "최소값 : 1\n",
      "최대값 : 5\n",
      "평균 : 3.375\n",
      "항목5의 갯수 : 2\n"
     ]
    }
   ],
   "source": [
    "l = [1,2,3,4,5,3,4,5]\n",
    "print('항목수 :',len(l))\n",
    "print('합계 :',sum(l))\n",
    "print('최소값 :',min(l))\n",
    "print('최대값 :',max(l))\n",
    "print('평균 :',sum(l)/len(l))     # 추천코드 (len()함수: 전체 크기)\n",
    "print('항목5의 갯수 :', l.count(5)) # list 내 특정 숫자의 갯수 세기 "
   ]
  },
  {
   "cell_type": "markdown",
   "id": "a4705501",
   "metadata": {},
   "source": [
    "### 리스트 정렬하기\n",
    "\n",
    "#### 원본리스트 정렬\n",
    "- 리스트명.sort()\n",
    "- 리스트명.sort(reverse=True) : 내림차순"
   ]
  },
  {
   "cell_type": "code",
   "execution_count": 2,
   "id": "84cfb77b",
   "metadata": {},
   "outputs": [],
   "source": [
    "friends = ['닥터윌', '수지', '지은', '찬혁', '수현', '범준']"
   ]
  },
  {
   "cell_type": "code",
   "execution_count": 3,
   "id": "8df84a6e",
   "metadata": {},
   "outputs": [],
   "source": [
    "friends.sort()"
   ]
  },
  {
   "cell_type": "code",
   "execution_count": 4,
   "id": "ea11b08c",
   "metadata": {},
   "outputs": [
    {
     "data": {
      "text/plain": [
       "['닥터윌', '범준', '수지', '수현', '지은', '찬혁']"
      ]
     },
     "execution_count": 4,
     "metadata": {},
     "output_type": "execute_result"
    }
   ],
   "source": [
    "friends"
   ]
  },
  {
   "cell_type": "code",
   "execution_count": 5,
   "id": "ef113286",
   "metadata": {},
   "outputs": [
    {
     "data": {
      "text/plain": [
       "['찬혁', '지은', '수현', '수지', '범준', '닥터윌']"
      ]
     },
     "execution_count": 5,
     "metadata": {},
     "output_type": "execute_result"
    }
   ],
   "source": [
    "friends.sort(reverse=True)\n",
    "friends"
   ]
  },
  {
   "cell_type": "markdown",
   "id": "991d2de6",
   "metadata": {},
   "source": [
    "#### 복사본 만들어서 정렬\n",
    "- sorted(리스트명)\n",
    "- sorted(리스트명, reverse=True) : 내림차순"
   ]
  },
  {
   "cell_type": "code",
   "execution_count": 7,
   "id": "10f7de99",
   "metadata": {},
   "outputs": [],
   "source": [
    "friends = ['닥터윌', '수지', '지은', '찬혁', '수현', '범준']"
   ]
  },
  {
   "cell_type": "code",
   "execution_count": 9,
   "id": "8b225c83",
   "metadata": {},
   "outputs": [
    {
     "data": {
      "text/plain": [
       "['닥터윌', '범준', '수지', '수현', '지은', '찬혁']"
      ]
     },
     "execution_count": 9,
     "metadata": {},
     "output_type": "execute_result"
    }
   ],
   "source": [
    "sorted_friends = sorted(friends)\n",
    "sorted_friends"
   ]
  },
  {
   "cell_type": "code",
   "execution_count": 10,
   "id": "98832937",
   "metadata": {},
   "outputs": [
    {
     "data": {
      "text/plain": [
       "['닥터윌', '수지', '지은', '찬혁', '수현', '범준']"
      ]
     },
     "execution_count": 10,
     "metadata": {},
     "output_type": "execute_result"
    }
   ],
   "source": [
    "friends"
   ]
  },
  {
   "cell_type": "markdown",
   "id": "368e9a8b",
   "metadata": {},
   "source": [
    "#### 리스트 순서 뒤집기\n",
    "- 리스트명.reverse()"
   ]
  },
  {
   "cell_type": "code",
   "execution_count": 11,
   "id": "12375ebe",
   "metadata": {},
   "outputs": [],
   "source": [
    "friends = ['닥터윌', '수지', '지은', '찬혁', '수현', '범준']"
   ]
  },
  {
   "cell_type": "code",
   "execution_count": 12,
   "id": "07ea0c0f",
   "metadata": {},
   "outputs": [
    {
     "data": {
      "text/plain": [
       "['범준', '수현', '찬혁', '지은', '수지', '닥터윌']"
      ]
     },
     "execution_count": 12,
     "metadata": {},
     "output_type": "execute_result"
    }
   ],
   "source": [
    "friends.reverse()\n",
    "friends"
   ]
  },
  {
   "cell_type": "markdown",
   "id": "4684483b",
   "metadata": {},
   "source": [
    "### 2차원리스트 다루기\n",
    "- 2차원 리스트 만들기\n",
    "\n",
    "| |0열|1열|2열|\n",
    "|---|---|---|---|\n",
    "|0행|10|20|30|\n",
    "|1행|40|50|60|"
   ]
  },
  {
   "cell_type": "code",
   "execution_count": 13,
   "id": "af90539a",
   "metadata": {},
   "outputs": [
    {
     "name": "stdout",
     "output_type": "stream",
     "text": [
      "30\n",
      "60\n"
     ]
    }
   ],
   "source": [
    "# 리스트 만들기\n",
    "l2 = [[10,20,30],[40,50,60]]\n",
    "\n",
    "# 30 추출하기\n",
    "print(l2[0][2])\n",
    "\n",
    "# 1행 2열 추출하기\n",
    "print(l2[1][2])"
   ]
  },
  {
   "cell_type": "markdown",
   "id": "08694f80",
   "metadata": {},
   "source": [
    "### 연습\n",
    "- 파일리스트에서 파일명과 확장자를 분리하여 다음과 같은 형태로 저장하는 리스트를 만들어보자\n",
    "|파일명|확장자| \n",
    "|--|--|\n",
    "|file1|py| \n",
    "|file2|txt| \n",
    "|file3|pptx|"
   ]
  },
  {
   "cell_type": "code",
   "execution_count": 14,
   "id": "8c93788f",
   "metadata": {},
   "outputs": [
    {
     "data": {
      "text/plain": [
       "[['file1', 'py'], ['file2', 'txt'], ['file3', 'pptx']]"
      ]
     },
     "execution_count": 14,
     "metadata": {},
     "output_type": "execute_result"
    }
   ],
   "source": [
    "file_list = ['file1.py', 'file2.txt',  'file3.pptx']\n",
    "name_extension = []\n",
    "\n",
    "for i in file_list:\n",
    "    name_extension.append(i.split('.'))\n",
    "\n",
    "name_extension"
   ]
  }
 ],
 "metadata": {
  "kernelspec": {
   "display_name": "Python 3 (ipykernel)",
   "language": "python",
   "name": "python3"
  },
  "language_info": {
   "codemirror_mode": {
    "name": "ipython",
    "version": 3
   },
   "file_extension": ".py",
   "mimetype": "text/x-python",
   "name": "python",
   "nbconvert_exporter": "python",
   "pygments_lexer": "ipython3",
   "version": "3.9.7"
  }
 },
 "nbformat": 4,
 "nbformat_minor": 5
}
