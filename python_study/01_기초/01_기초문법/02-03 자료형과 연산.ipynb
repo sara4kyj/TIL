{
 "cells": [
  {
   "cell_type": "markdown",
   "id": "e02a7f43",
   "metadata": {},
   "source": [
    "### 산술연산"
   ]
  },
  {
   "cell_type": "code",
   "execution_count": 2,
   "id": "4c315f2d",
   "metadata": {},
   "outputs": [
    {
     "name": "stdout",
     "output_type": "stream",
     "text": [
      "a+b=7\n",
      "a-b=-1\n",
      "a*b=12\n",
      "a/b=0.75\n",
      "a//b=0\n",
      "a%b=3\n",
      "a**b=81\n"
     ]
    }
   ],
   "source": [
    "a, b = 3, 4\n",
    "\n",
    "print('a+b=',a+b,sep='')\n",
    "print('a-b=',a-b,sep='')\n",
    "print('a*b=',a*b,sep='')\n",
    "print('a/b=',a/b,sep='')\n",
    "print('a//b=',a//b,sep='')\n",
    "print('a%b=',a%b,sep='')\n",
    "print('a**b=',a**b,sep='')"
   ]
  },
  {
   "cell_type": "markdown",
   "id": "3fe0a72e",
   "metadata": {},
   "source": [
    "### 문자열 연산"
   ]
  },
  {
   "cell_type": "code",
   "execution_count": 4,
   "id": "72d6b0a6",
   "metadata": {},
   "outputs": [
    {
     "data": {
      "text/plain": [
       "'good morning'"
      ]
     },
     "execution_count": 4,
     "metadata": {},
     "output_type": "execute_result"
    }
   ],
   "source": [
    "# 문자열 더하기(문자열 연결하기)\n",
    "a = 'good '\n",
    "b = 'morning'\n",
    "a+b"
   ]
  },
  {
   "cell_type": "code",
   "execution_count": 5,
   "id": "5826d277",
   "metadata": {},
   "outputs": [
    {
     "data": {
      "text/plain": [
       "'hahaha'"
      ]
     },
     "execution_count": 5,
     "metadata": {},
     "output_type": "execute_result"
    }
   ],
   "source": [
    "# 문자열 곱하기 (문자열 반복하기)\n",
    "ha = 'ha'\n",
    "ha*3"
   ]
  },
  {
   "cell_type": "code",
   "execution_count": 6,
   "id": "d4c4ba5a",
   "metadata": {},
   "outputs": [
    {
     "name": "stdout",
     "output_type": "stream",
     "text": [
      "영어점수80\n"
     ]
    }
   ],
   "source": [
    "# 문자열과 숫자형 더하기\n",
    "english = 80\n",
    "result = '영어점수' + str(english)\n",
    "print(result)"
   ]
  },
  {
   "cell_type": "markdown",
   "id": "ffa4a822",
   "metadata": {},
   "source": [
    "### 할당 연산자"
   ]
  },
  {
   "cell_type": "code",
   "execution_count": 7,
   "id": "6a92bc58",
   "metadata": {},
   "outputs": [],
   "source": [
    "a = 1"
   ]
  },
  {
   "cell_type": "code",
   "execution_count": 8,
   "id": "08cc6b4f",
   "metadata": {},
   "outputs": [
    {
     "name": "stdout",
     "output_type": "stream",
     "text": [
      "1\t1\t1\n"
     ]
    }
   ],
   "source": [
    "# a, b, c에 모두 1 할당\n",
    "a = b = c = 1\n",
    "print(a,b,c,sep='\\t')"
   ]
  },
  {
   "cell_type": "code",
   "execution_count": 10,
   "id": "ff98b523",
   "metadata": {},
   "outputs": [
    {
     "name": "stdout",
     "output_type": "stream",
     "text": [
      "1\t2\t3\n"
     ]
    }
   ],
   "source": [
    "# a, b, c에 각각 1,2,3 할당\n",
    "a, b, c = 1, 2, 3\n",
    "print(a,b,c,sep='\\t')"
   ]
  },
  {
   "cell_type": "markdown",
   "id": "6846f7ef",
   "metadata": {},
   "source": [
    "### 복합 할당 연산자"
   ]
  },
  {
   "cell_type": "code",
   "execution_count": 11,
   "id": "ae404dbf",
   "metadata": {},
   "outputs": [
    {
     "name": "stdout",
     "output_type": "stream",
     "text": [
      "30\n"
     ]
    }
   ],
   "source": [
    "x = 10\n",
    "x += 20 \n",
    "# >> x = x + 20\n",
    "# >> x = 10 + 20 = 30\n",
    "print(x)"
   ]
  },
  {
   "cell_type": "code",
   "execution_count": 12,
   "id": "b64ba55a",
   "metadata": {},
   "outputs": [
    {
     "name": "stdout",
     "output_type": "stream",
     "text": [
      "24\n"
     ]
    }
   ],
   "source": [
    "x = 3\n",
    "y = 5\n",
    "x *= x+y\n",
    "# >> x = x*(x+y)\n",
    "# >> x = 3*(3+5) = 24\n",
    "print(x)"
   ]
  },
  {
   "cell_type": "markdown",
   "id": "c5183906",
   "metadata": {},
   "source": [
    "### f스트링으로 출력하기"
   ]
  },
  {
   "cell_type": "code",
   "execution_count": 13,
   "id": "5df28c92",
   "metadata": {},
   "outputs": [
    {
     "name": "stdout",
     "output_type": "stream",
     "text": [
      "이름 : 김유정\n",
      "김유정 님, 안녕하세요?\n"
     ]
    }
   ],
   "source": [
    "name = input('이름 : ')\n",
    "print(name, '님, 안녕하세요?')"
   ]
  },
  {
   "cell_type": "code",
   "execution_count": 14,
   "id": "1b7972d7",
   "metadata": {},
   "outputs": [
    {
     "name": "stdout",
     "output_type": "stream",
     "text": [
      "김유정님 안녕하세요\n"
     ]
    }
   ],
   "source": [
    "print(f'{name}님 안녕하세요')"
   ]
  },
  {
   "cell_type": "code",
   "execution_count": 16,
   "id": "d2124886",
   "metadata": {},
   "outputs": [
    {
     "name": "stdout",
     "output_type": "stream",
     "text": [
      "나이:31\n",
      "나이는 31 살이시군요. 내년이면 32 살이 되시겠네요\n"
     ]
    }
   ],
   "source": [
    "age = int(input('나이:'))\n",
    "print('나이는',age,'살이시군요. 내년이면',age+1,'살이 되시겠네요')"
   ]
  },
  {
   "cell_type": "code",
   "execution_count": 17,
   "id": "6cd9f245",
   "metadata": {},
   "outputs": [
    {
     "name": "stdout",
     "output_type": "stream",
     "text": [
      "나이는 31살이시군요. 내년이면 32살이 되시겠네요\n"
     ]
    }
   ],
   "source": [
    "print(f'나이는 {age}살이시군요. 내년이면 {age+1}살이 되시겠네요')"
   ]
  },
  {
   "cell_type": "markdown",
   "id": "909fcee7",
   "metadata": {},
   "source": [
    "- 두 수를 입력받아 더하는 프로그램 작성하기"
   ]
  },
  {
   "cell_type": "code",
   "execution_count": 18,
   "id": "36c4adee",
   "metadata": {},
   "outputs": [
    {
     "name": "stdout",
     "output_type": "stream",
     "text": [
      "first number: 1\n",
      "second number: 2\n",
      "1 + 2 = 3\n"
     ]
    }
   ],
   "source": [
    "a = int(input('first number: '))\n",
    "b = int(input('second number: '))\n",
    "\n",
    "print(a, '+', b, '=', a+b)"
   ]
  },
  {
   "cell_type": "markdown",
   "id": "ee273b7f",
   "metadata": {},
   "source": [
    "### 연습문제"
   ]
  },
  {
   "cell_type": "markdown",
   "id": "a28bf306",
   "metadata": {},
   "source": [
    "- 화씨 온도를 입력받아 섭씨 온도로 변환하는 프로그램을 작성해보세요.</br>\n",
    "\\begin{align}\n",
    "C = (F-32)*\\frac{5}{9}\n",
    "\\end{align}"
   ]
  },
  {
   "cell_type": "code",
   "execution_count": 20,
   "id": "f1fb2e28",
   "metadata": {},
   "outputs": [
    {
     "name": "stdout",
     "output_type": "stream",
     "text": [
      "섭씨 온도로 변환하려는 화씨 온도를 입력하세요.: 500\n",
      "섭씨 온도 500.0의 화씨 온도는 260.0입니다.\n"
     ]
    }
   ],
   "source": [
    "f = float(input('섭씨 온도로 변환하려는 화씨 온도를 입력하세요.: '))\n",
    "\n",
    "c = (f-32)*5/9\n",
    "\n",
    "print('섭씨 온도 {}의 화씨 온도는 {}입니다.'.format(f,c))"
   ]
  }
 ],
 "metadata": {
  "kernelspec": {
   "display_name": "Python 3 (ipykernel)",
   "language": "python",
   "name": "python3"
  },
  "language_info": {
   "codemirror_mode": {
    "name": "ipython",
    "version": 3
   },
   "file_extension": ".py",
   "mimetype": "text/x-python",
   "name": "python",
   "nbconvert_exporter": "python",
   "pygments_lexer": "ipython3",
   "version": "3.9.7"
  }
 },
 "nbformat": 4,
 "nbformat_minor": 5
}
