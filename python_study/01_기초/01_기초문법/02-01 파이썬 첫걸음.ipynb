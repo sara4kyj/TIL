{
 "cells": [
  {
   "cell_type": "markdown",
   "id": "b259a90f",
   "metadata": {},
   "source": [
    "### 출력하기\n",
    "#### 기본 출력\n",
    "- print(value1, value2, ...)"
   ]
  },
  {
   "cell_type": "code",
   "execution_count": 2,
   "id": "e3f1c9af",
   "metadata": {},
   "outputs": [
    {
     "name": "stdout",
     "output_type": "stream",
     "text": [
      "hello world\n",
      "hello world2\n"
     ]
    }
   ],
   "source": [
    "# hello 출력하기\n",
    "print('hello world')\n",
    "print('hello world2')"
   ]
  },
  {
   "cell_type": "code",
   "execution_count": 3,
   "id": "37a374ba",
   "metadata": {},
   "outputs": [
    {
     "name": "stdout",
     "output_type": "stream",
     "text": [
      "hello python\n"
     ]
    }
   ],
   "source": [
    "# hello python 출력하기\n",
    "print('hello', 'python')"
   ]
  },
  {
   "cell_type": "code",
   "execution_count": 8,
   "id": "d6980ec7",
   "metadata": {},
   "outputs": [
    {
     "name": "stdout",
     "output_type": "stream",
     "text": [
      "1+1= 2\n"
     ]
    }
   ],
   "source": [
    "# 계산식 출력하기 (1+1=2)\n",
    "print('1+1=', 1+1)"
   ]
  },
  {
   "cell_type": "markdown",
   "id": "fba2ccc0",
   "metadata": {},
   "source": [
    "#### 구분자 지정\n",
    "- print(value1, valu2, ... , sep='구분자')"
   ]
  },
  {
   "cell_type": "code",
   "execution_count": 6,
   "id": "5d4e960b",
   "metadata": {},
   "outputs": [
    {
     "name": "stdout",
     "output_type": "stream",
     "text": [
      "hello.python\n"
     ]
    }
   ],
   "source": [
    "# . 로 구분 (hello.python)\n",
    "print('hello', 'python', sep='.')"
   ]
  },
  {
   "cell_type": "code",
   "execution_count": 7,
   "id": "e15193dd",
   "metadata": {},
   "outputs": [
    {
     "name": "stdout",
     "output_type": "stream",
     "text": [
      "1+1=2\n"
     ]
    }
   ],
   "source": [
    "# 공백 없이 붙여서 출력 (1+1=2)\n",
    "print('1+1=',1+1,sep='')"
   ]
  },
  {
   "cell_type": "markdown",
   "id": "fdfc028a",
   "metadata": {},
   "source": [
    "#### 끝문자 지정\n",
    "- print(value1, value2, ... , end='끝문자')"
   ]
  },
  {
   "cell_type": "code",
   "execution_count": 9,
   "id": "8eed8683",
   "metadata": {},
   "outputs": [
    {
     "name": "stdout",
     "output_type": "stream",
     "text": [
      "안녕하세요 반갑습니다\n"
     ]
    }
   ],
   "source": [
    "# 공백으로 끝내기 (안녕하세요 반갑습니다)\n",
    "print('안녕하세요', end=' ')\n",
    "print('반갑습니다')"
   ]
  },
  {
   "cell_type": "code",
   "execution_count": 10,
   "id": "68cbecb1",
   "metadata": {},
   "outputs": [
    {
     "name": "stdout",
     "output_type": "stream",
     "text": [
      "안녕하세요!!반갑습니다!!"
     ]
    }
   ],
   "source": [
    "# !!로 끝내기 (안녕하세요!! 반갑습니다!!)\n",
    "print('안녕하세요', end='!!')\n",
    "print('반갑습니다', end='!!')"
   ]
  },
  {
   "cell_type": "markdown",
   "id": "ec2164a9",
   "metadata": {},
   "source": [
    "#### 여러줄 한번에 출력하기\n",
    "- 홑따옴표 세개(''') 혹은 쌍따옴표 세개(\"\"\")로 묶는다."
   ]
  },
  {
   "cell_type": "code",
   "execution_count": 11,
   "id": "1b4df29d",
   "metadata": {},
   "outputs": [
    {
     "name": "stdout",
     "output_type": "stream",
     "text": [
      "자세히 보아야 예쁘다.\n",
      "오래 보아야 사랑스럽다.\n",
      "너도 그렇다.\n"
     ]
    }
   ],
   "source": [
    "print('자세히 보아야 예쁘다.')\n",
    "print('오래 보아야 사랑스럽다.')\n",
    "print('너도 그렇다.')"
   ]
  },
  {
   "cell_type": "code",
   "execution_count": 12,
   "id": "0836d581",
   "metadata": {},
   "outputs": [
    {
     "name": "stdout",
     "output_type": "stream",
     "text": [
      "\n",
      "자세히 보아야 예쁘다.\n",
      "오래보아야 사랑스럽다.\n",
      "너도 그렇다.\n",
      "\n"
     ]
    }
   ],
   "source": [
    "print('''\n",
    "자세히 보아야 예쁘다.\n",
    "오래보아야 사랑스럽다.\n",
    "너도 그렇다.\n",
    "''')"
   ]
  },
  {
   "cell_type": "code",
   "execution_count": 13,
   "id": "4c98f078",
   "metadata": {},
   "outputs": [
    {
     "name": "stdout",
     "output_type": "stream",
     "text": [
      "\n",
      "자세히 보아야 예쁘다\n",
      "오래보아야 사랑스럽다.\n",
      "너도 그렇다.\n",
      "\n"
     ]
    }
   ],
   "source": [
    "print(\"\"\"\n",
    "자세히 보아야 예쁘다\n",
    "오래보아야 사랑스럽다.\n",
    "너도 그렇다.\n",
    "\"\"\")"
   ]
  },
  {
   "cell_type": "markdown",
   "id": "f6393d8d",
   "metadata": {},
   "source": [
    "#### 주석달기\n",
    "- 프로그램에 대한 설명을 적을 때, 코드의 실행을 잠시 막아둘 때 주석을 사용한다.\n",
    "- 파이썬에서는 샵('#')을 주석기호로 사용한다."
   ]
  },
  {
   "cell_type": "code",
   "execution_count": 14,
   "id": "f3197e7d",
   "metadata": {},
   "outputs": [
    {
     "name": "stdout",
     "output_type": "stream",
     "text": [
      "1\n",
      "3\n"
     ]
    }
   ],
   "source": [
    "## 주석에 대한 코드입니다 ##\n",
    "print(1) # 주석\n",
    "#print(2)\n",
    "print(3)"
   ]
  },
  {
   "cell_type": "markdown",
   "id": "5e18aa09",
   "metadata": {},
   "source": [
    "#### 들여쓰기\n",
    "- 파이썬에서는 들여쓰기 자체가 문법\n",
    "- 파이썬 들여쓰기 방법은 공백 2칸, 공백 4칸 등 여러가지 방법이 있지만 보통 공백 4칸을 사용"
   ]
  },
  {
   "cell_type": "code",
   "execution_count": 15,
   "id": "d09a249e",
   "metadata": {},
   "outputs": [
    {
     "ename": "IndentationError",
     "evalue": "unexpected indent (Temp/ipykernel_8604/246959834.py, line 2)",
     "output_type": "error",
     "traceback": [
      "\u001b[1;36m  File \u001b[1;32m\"C:\\Users\\sara\\AppData\\Local\\Temp/ipykernel_8604/246959834.py\"\u001b[1;36m, line \u001b[1;32m2\u001b[0m\n\u001b[1;33m    print('hello2')\u001b[0m\n\u001b[1;37m    ^\u001b[0m\n\u001b[1;31mIndentationError\u001b[0m\u001b[1;31m:\u001b[0m unexpected indent\n"
     ]
    }
   ],
   "source": [
    "print('hello1')\n",
    " print('hello2')"
   ]
  },
  {
   "cell_type": "markdown",
   "id": "a8fe3881",
   "metadata": {},
   "source": [
    "### 오류 해석하기"
   ]
  },
  {
   "cell_type": "markdown",
   "id": "afc94ce0",
   "metadata": {},
   "source": [
    "#### 파이썬에서는 대소문자를 구분한다."
   ]
  },
  {
   "cell_type": "code",
   "execution_count": 16,
   "id": "1ec978d1",
   "metadata": {},
   "outputs": [
    {
     "ename": "NameError",
     "evalue": "name 'Print' is not defined",
     "output_type": "error",
     "traceback": [
      "\u001b[1;31m---------------------------------------------------------------------------\u001b[0m",
      "\u001b[1;31mNameError\u001b[0m                                 Traceback (most recent call last)",
      "\u001b[1;32m~\\AppData\\Local\\Temp/ipykernel_8604/2674531823.py\u001b[0m in \u001b[0;36m<module>\u001b[1;34m\u001b[0m\n\u001b[1;32m----> 1\u001b[1;33m \u001b[0mPrint\u001b[0m\u001b[1;33m(\u001b[0m\u001b[1;34m'hello'\u001b[0m\u001b[1;33m)\u001b[0m\u001b[1;33m\u001b[0m\u001b[1;33m\u001b[0m\u001b[0m\n\u001b[0m",
      "\u001b[1;31mNameError\u001b[0m: name 'Print' is not defined"
     ]
    }
   ],
   "source": [
    "Print('hello')"
   ]
  },
  {
   "cell_type": "markdown",
   "id": "f3e1b600",
   "metadata": {},
   "source": [
    "#### 따옴표의 짝이 맞아야 한다."
   ]
  },
  {
   "cell_type": "code",
   "execution_count": 17,
   "id": "1f913525",
   "metadata": {},
   "outputs": [
    {
     "ename": "SyntaxError",
     "evalue": "EOL while scanning string literal (Temp/ipykernel_8604/353353896.py, line 1)",
     "output_type": "error",
     "traceback": [
      "\u001b[1;36m  File \u001b[1;32m\"C:\\Users\\sara\\AppData\\Local\\Temp/ipykernel_8604/353353896.py\"\u001b[1;36m, line \u001b[1;32m1\u001b[0m\n\u001b[1;33m    print('hello'')\u001b[0m\n\u001b[1;37m                   ^\u001b[0m\n\u001b[1;31mSyntaxError\u001b[0m\u001b[1;31m:\u001b[0m EOL while scanning string literal\n"
     ]
    }
   ],
   "source": [
    "print('hello'')"
   ]
  },
  {
   "cell_type": "markdown",
   "id": "431424b3",
   "metadata": {},
   "source": [
    "#### 괄호의 짝이 맞아야 한다."
   ]
  },
  {
   "cell_type": "code",
   "execution_count": 19,
   "id": "62f0cbb8",
   "metadata": {},
   "outputs": [
    {
     "ename": "SyntaxError",
     "evalue": "closing parenthesis '}' does not match opening parenthesis '(' (Temp/ipykernel_8604/670788223.py, line 1)",
     "output_type": "error",
     "traceback": [
      "\u001b[1;36m  File \u001b[1;32m\"C:\\Users\\sara\\AppData\\Local\\Temp/ipykernel_8604/670788223.py\"\u001b[1;36m, line \u001b[1;32m1\u001b[0m\n\u001b[1;33m    print('hello'}\u001b[0m\n\u001b[1;37m                 ^\u001b[0m\n\u001b[1;31mSyntaxError\u001b[0m\u001b[1;31m:\u001b[0m closing parenthesis '}' does not match opening parenthesis '('\n"
     ]
    }
   ],
   "source": [
    "print('hello'}"
   ]
  }
 ],
 "metadata": {
  "kernelspec": {
   "display_name": "Python 3 (ipykernel)",
   "language": "python",
   "name": "python3"
  },
  "language_info": {
   "codemirror_mode": {
    "name": "ipython",
    "version": 3
   },
   "file_extension": ".py",
   "mimetype": "text/x-python",
   "name": "python",
   "nbconvert_exporter": "python",
   "pygments_lexer": "ipython3",
   "version": "3.9.7"
  }
 },
 "nbformat": 4,
 "nbformat_minor": 5
}
