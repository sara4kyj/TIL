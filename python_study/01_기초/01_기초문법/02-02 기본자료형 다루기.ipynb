{
 "cells": [
  {
   "cell_type": "markdown",
   "id": "48edba89",
   "metadata": {},
   "source": [
    "### 변수 만들기\n",
    "#### 변수에 값 할당하기\n",
    "- 변수명 = 변수값\n",
    "- 변수에 값이 할당될 때 변수값의 자료형에 따라 변수의 자료형이 결정된다."
   ]
  },
  {
   "cell_type": "code",
   "execution_count": 1,
   "id": "eb6ceae7",
   "metadata": {},
   "outputs": [],
   "source": [
    "name = 'james'\n",
    "age = 20\n",
    "height = 175.0\n",
    "ischile = age<20"
   ]
  },
  {
   "cell_type": "markdown",
   "id": "a88c0b1a",
   "metadata": {},
   "source": [
    "#### 변수 값, 자료형 출력하기\n",
    "- 변수에 접근할 때는 변수명을 사용한다.\n",
    "- 변수 값 출력 : print(변수명)\n",
    "- 변수 자료형 출력 : prinit(type(변수명))"
   ]
  },
  {
   "cell_type": "code",
   "execution_count": 3,
   "id": "44af0b56",
   "metadata": {},
   "outputs": [
    {
     "name": "stdout",
     "output_type": "stream",
     "text": [
      "james\n",
      "<class 'str'>\n"
     ]
    }
   ],
   "source": [
    "print(name)\n",
    "print(type(name))"
   ]
  },
  {
   "cell_type": "code",
   "execution_count": 4,
   "id": "186abf1f",
   "metadata": {},
   "outputs": [
    {
     "name": "stdout",
     "output_type": "stream",
     "text": [
      "20\n",
      "<class 'int'>\n"
     ]
    }
   ],
   "source": [
    "print(age)\n",
    "print(type(age))"
   ]
  },
  {
   "cell_type": "code",
   "execution_count": 5,
   "id": "a2d7bb1f",
   "metadata": {},
   "outputs": [
    {
     "name": "stdout",
     "output_type": "stream",
     "text": [
      "175.0\n",
      "<class 'float'>\n"
     ]
    }
   ],
   "source": [
    "print(height)\n",
    "print(type(height))"
   ]
  },
  {
   "cell_type": "code",
   "execution_count": 7,
   "id": "eeaa0ad4",
   "metadata": {},
   "outputs": [
    {
     "name": "stdout",
     "output_type": "stream",
     "text": [
      "False\n",
      "<class 'bool'>\n"
     ]
    }
   ],
   "source": [
    "print(ischile)\n",
    "print(type(ischile))"
   ]
  },
  {
   "cell_type": "markdown",
   "id": "fee7d7c1",
   "metadata": {},
   "source": [
    "### 쌍따옴표나 홑따옴표가 포함되어 있는 문자열 사용하기"
   ]
  },
  {
   "cell_type": "markdown",
   "id": "f7cfb130",
   "metadata": {},
   "source": [
    "- 홑따옴표가 포함되어 있는 문자열 사용하기</br>\n",
    "'낮말'을 새가 듣고 '밤말'을 쥐가 듣는다."
   ]
  },
  {
   "cell_type": "code",
   "execution_count": 8,
   "id": "654599bf",
   "metadata": {},
   "outputs": [
    {
     "name": "stdout",
     "output_type": "stream",
     "text": [
      "'낮말'은 새가 듣고 '밤말'을 쥐가 듣는다.\n"
     ]
    }
   ],
   "source": [
    "a = \"'낮말'은 새가 듣고 '밤말'을 쥐가 듣는다.\"\n",
    "print(a)"
   ]
  },
  {
   "cell_type": "markdown",
   "id": "1f7d2f24",
   "metadata": {},
   "source": [
    "- 쌍따옴표가 포함되어 있는 문자열 사용하기</br>\n",
    "\"시간은 금\"이라는 말이 있다."
   ]
  },
  {
   "cell_type": "code",
   "execution_count": 9,
   "id": "1a33622f",
   "metadata": {},
   "outputs": [
    {
     "name": "stdout",
     "output_type": "stream",
     "text": [
      "\"시간은 금\"이라는 말이 있다.\n"
     ]
    }
   ],
   "source": [
    "b = '\"시간은 금\"이라는 말이 있다.'\n",
    "print(b)"
   ]
  },
  {
   "cell_type": "markdown",
   "id": "aa63158a",
   "metadata": {},
   "source": [
    "### 키보드로 변수에 값 입력받기\n",
    "- input()\n",
    "- input으로 입력받은 값은 무조건 str"
   ]
  },
  {
   "cell_type": "code",
   "execution_count": 10,
   "id": "2088053a",
   "metadata": {},
   "outputs": [
    {
     "name": "stdout",
     "output_type": "stream",
     "text": [
      "나이 : 20\n"
     ]
    }
   ],
   "source": [
    "a = input('나이 : ')"
   ]
  },
  {
   "cell_type": "code",
   "execution_count": 11,
   "id": "33058819",
   "metadata": {},
   "outputs": [
    {
     "data": {
      "text/plain": [
       "str"
      ]
     },
     "execution_count": 11,
     "metadata": {},
     "output_type": "execute_result"
    }
   ],
   "source": [
    "type(a)"
   ]
  },
  {
   "cell_type": "markdown",
   "id": "bbe2ea7f",
   "metadata": {},
   "source": [
    "### 자료형 변환하기"
   ]
  },
  {
   "cell_type": "markdown",
   "id": "13bc9dda",
   "metadata": {},
   "source": [
    "- int(value) : int형으로 변환"
   ]
  },
  {
   "cell_type": "code",
   "execution_count": 12,
   "id": "de5b5fb2",
   "metadata": {},
   "outputs": [
    {
     "data": {
      "text/plain": [
       "int"
      ]
     },
     "execution_count": 12,
     "metadata": {},
     "output_type": "execute_result"
    }
   ],
   "source": [
    "age = int(a)\n",
    "type(age)"
   ]
  },
  {
   "cell_type": "markdown",
   "id": "9f42bf46",
   "metadata": {},
   "source": [
    "- str(value) : str형으로 변환"
   ]
  },
  {
   "cell_type": "code",
   "execution_count": 13,
   "id": "a81298a8",
   "metadata": {},
   "outputs": [
    {
     "data": {
      "text/plain": [
       "str"
      ]
     },
     "execution_count": 13,
     "metadata": {},
     "output_type": "execute_result"
    }
   ],
   "source": [
    "age2 = str(age)\n",
    "type(age2)"
   ]
  },
  {
   "cell_type": "markdown",
   "id": "e264beda",
   "metadata": {},
   "source": [
    "- float(value) : float형으로 변환"
   ]
  },
  {
   "cell_type": "code",
   "execution_count": 15,
   "id": "71657170",
   "metadata": {},
   "outputs": [
    {
     "name": "stdout",
     "output_type": "stream",
     "text": [
      "20\t<class 'int'>\n"
     ]
    }
   ],
   "source": [
    "age3 = float(age)\n",
    "print(age, type(age), sep='\\t')"
   ]
  },
  {
   "cell_type": "markdown",
   "id": "5bc6ee36",
   "metadata": {},
   "source": [
    "- input으로 입력받은 값을 숫자형으로 변환하여 사용하기"
   ]
  },
  {
   "cell_type": "code",
   "execution_count": 16,
   "id": "02e80f30",
   "metadata": {},
   "outputs": [
    {
     "name": "stdout",
     "output_type": "stream",
     "text": [
      "나이 : 20\n"
     ]
    }
   ],
   "source": [
    "a = int(input('나이 : '))"
   ]
  },
  {
   "cell_type": "code",
   "execution_count": 17,
   "id": "16c93610",
   "metadata": {},
   "outputs": [
    {
     "data": {
      "text/plain": [
       "int"
      ]
     },
     "execution_count": 17,
     "metadata": {},
     "output_type": "execute_result"
    }
   ],
   "source": [
    "type(a)"
   ]
  }
 ],
 "metadata": {
  "kernelspec": {
   "display_name": "Python 3 (ipykernel)",
   "language": "python",
   "name": "python3"
  },
  "language_info": {
   "codemirror_mode": {
    "name": "ipython",
    "version": 3
   },
   "file_extension": ".py",
   "mimetype": "text/x-python",
   "name": "python",
   "nbconvert_exporter": "python",
   "pygments_lexer": "ipython3",
   "version": "3.9.7"
  }
 },
 "nbformat": 4,
 "nbformat_minor": 5
}
