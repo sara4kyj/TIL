{
 "cells": [
  {
   "cell_type": "code",
   "execution_count": 1,
   "id": "bdad79bf",
   "metadata": {},
   "outputs": [],
   "source": [
    "from sympy import symbols"
   ]
  },
  {
   "cell_type": "markdown",
   "id": "b5a3b2a0",
   "metadata": {},
   "source": [
    "#### 평균 변화율 함수"
   ]
  },
  {
   "cell_type": "code",
   "execution_count": 23,
   "id": "60b92236",
   "metadata": {},
   "outputs": [
    {
     "name": "stdout",
     "output_type": "stream",
     "text": [
      "8\n"
     ]
    }
   ],
   "source": [
    "def average(a,b):\n",
    "    m = max(a,b)\n",
    "    n = min(a,b)\n",
    "    x = symbols('x')\n",
    "    \n",
    "    fx = 2*x**2 + 4*x + 7     # 2x^2 + 4x + 7 정의\n",
    "    fb = fx.subs(x, m)        # 함수fx에 m 대입    \n",
    "    fa = fx.subs(x, n)        # 함수fx에 n 대입\n",
    "    \n",
    "    result = (fb-fa)/(m-n)\n",
    "    return result\n",
    "\n",
    "print(average(0,2))"
   ]
  },
  {
   "cell_type": "code",
   "execution_count": 24,
   "id": "7a225eb1",
   "metadata": {
    "scrolled": true
   },
   "outputs": [
    {
     "name": "stdout",
     "output_type": "stream",
     "text": [
      "104\n"
     ]
    }
   ],
   "source": [
    "print(average(30,20))"
   ]
  },
  {
   "cell_type": "code",
   "execution_count": 21,
   "id": "449f9e31",
   "metadata": {},
   "outputs": [
    {
     "name": "stdout",
     "output_type": "stream",
     "text": [
      "8\n"
     ]
    }
   ],
   "source": [
    "def average(a,b):\n",
    "    x = symbols('x')\n",
    "    \n",
    "    fx = 2*x**2 + 4*x + 7     # 2x^2 + 4x + 7 정의\n",
    "    fb = fx.subs(x, b)        # 함수fx에 m 대입    \n",
    "    fa = fx.subs(x, a)        # 함수fx에 n 대입\n",
    "    \n",
    "    result = (fb-fa)/(b-a)\n",
    "    return result\n",
    "\n",
    "print(average(0,2))"
   ]
  },
  {
   "cell_type": "code",
   "execution_count": 22,
   "id": "f5a0847d",
   "metadata": {},
   "outputs": [
    {
     "name": "stdout",
     "output_type": "stream",
     "text": [
      "104\n"
     ]
    }
   ],
   "source": [
    "print(average(30,20))"
   ]
  },
  {
   "cell_type": "markdown",
   "id": "9f6fed59",
   "metadata": {},
   "source": [
    "#### 순간변화율 함수"
   ]
  },
  {
   "cell_type": "code",
   "execution_count": 7,
   "id": "ded9b2e6",
   "metadata": {},
   "outputs": [],
   "source": [
    "from sympy import Derivative, symbols\n",
    "\n",
    "# 평균변화율을 구할수 있는 함수 정의\n",
    "x = symbols('x')\n",
    "fx = 2*x**2 + 4*x +7"
   ]
  },
  {
   "cell_type": "code",
   "execution_count": 9,
   "id": "692577ac",
   "metadata": {},
   "outputs": [],
   "source": [
    "fprime = Derivative(fx, x).doit()"
   ]
  },
  {
   "cell_type": "code",
   "execution_count": 11,
   "id": "a3043897",
   "metadata": {},
   "outputs": [
    {
     "name": "stdout",
     "output_type": "stream",
     "text": [
      "fx에서 x=3에서의 순간변화율(미분계수)는  16 이다\n"
     ]
    }
   ],
   "source": [
    "n = fprime.subs({x: 3})\n",
    "print(\"fx에서 x=3에서의 순간변화율(미분계수)는 \",n,\"이다\")"
   ]
  },
  {
   "cell_type": "markdown",
   "id": "7ad56c6b",
   "metadata": {},
   "source": [
    "#### 다항함수의 미분법"
   ]
  },
  {
   "cell_type": "code",
   "execution_count": 12,
   "id": "17aa21d1",
   "metadata": {},
   "outputs": [
    {
     "name": "stdout",
     "output_type": "stream",
     "text": [
      "6*x**2 + 6*x + 1\n"
     ]
    }
   ],
   "source": [
    "import sympy as sym\n",
    "\n",
    "x = sym.Symbol('x')\n",
    "a = sym.diff((2*x**3 + 3*x**2 + x + 1), x)\n",
    "print(a)"
   ]
  }
 ],
 "metadata": {
  "kernelspec": {
   "display_name": "Python 3 (ipykernel)",
   "language": "python",
   "name": "python3"
  },
  "language_info": {
   "codemirror_mode": {
    "name": "ipython",
    "version": 3
   },
   "file_extension": ".py",
   "mimetype": "text/x-python",
   "name": "python",
   "nbconvert_exporter": "python",
   "pygments_lexer": "ipython3",
   "version": "3.9.7"
  }
 },
 "nbformat": 4,
 "nbformat_minor": 5
}
