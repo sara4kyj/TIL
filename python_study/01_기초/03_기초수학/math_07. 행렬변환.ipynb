{
 "cells": [
  {
   "cell_type": "markdown",
   "id": "67983f3c",
   "metadata": {},
   "source": [
    "1. 역함수와 역변환\n",
    "    - 역행렬"
   ]
  },
  {
   "cell_type": "code",
   "execution_count": 2,
   "id": "17c13c23",
   "metadata": {},
   "outputs": [
    {
     "name": "stdout",
     "output_type": "stream",
     "text": [
      "[[1 0 0 0]\n",
      " [2 1 0 0]\n",
      " [3 0 1 0]\n",
      " [4 0 0 1]]\n",
      "\n",
      "[[ 1.  0.  0.  0.]\n",
      " [-2.  1.  0.  0.]\n",
      " [-3.  0.  1.  0.]\n",
      " [-4. -0. -0.  1.]]\n"
     ]
    }
   ],
   "source": [
    "import numpy as np\n",
    "\n",
    "A = np.matrix([[1,0,0,0],[2,1,0,0],[3,0,1,0],[4,0,0,1]])\n",
    "\n",
    "print(A)\n",
    "print()\n",
    "print(np.linalg.inv(A))"
   ]
  },
  {
   "cell_type": "markdown",
   "id": "70e97ab1",
   "metadata": {},
   "source": [
    "2. 전치행렬(Transpose)"
   ]
  },
  {
   "cell_type": "code",
   "execution_count": 5,
   "id": "8de5ac9c",
   "metadata": {},
   "outputs": [
    {
     "name": "stdout",
     "output_type": "stream",
     "text": [
      "[[ 0  1  2  3  4]\n",
      " [ 5  6  7  8  9]\n",
      " [10 11 12 13 14]]\n"
     ]
    }
   ],
   "source": [
    "a = np.arange(15).reshape(3,5)\n",
    "print(a)"
   ]
  },
  {
   "cell_type": "code",
   "execution_count": 6,
   "id": "ab5579d8",
   "metadata": {},
   "outputs": [
    {
     "data": {
      "text/plain": [
       "array([[ 0,  5, 10],\n",
       "       [ 1,  6, 11],\n",
       "       [ 2,  7, 12],\n",
       "       [ 3,  8, 13],\n",
       "       [ 4,  9, 14]])"
      ]
     },
     "execution_count": 6,
     "metadata": {},
     "output_type": "execute_result"
    }
   ],
   "source": [
    "np.transpose(a)"
   ]
  },
  {
   "cell_type": "markdown",
   "id": "32d56f6d",
   "metadata": {},
   "source": [
    "3. 고유값과 고유벡터"
   ]
  },
  {
   "cell_type": "code",
   "execution_count": 9,
   "id": "aa28b5c8",
   "metadata": {},
   "outputs": [
    {
     "name": "stdout",
     "output_type": "stream",
     "text": [
      "[5.44948974 0.55051026]\n",
      "\n",
      "[[ 0.91209559  0.21927526]\n",
      " [-0.40997761  0.97566304]]\n"
     ]
    }
   ],
   "source": [
    "import numpy as np\n",
    "\n",
    "a = np.array([[5,-1],[-2,1]])\n",
    "w, v = np.linalg.eig(a)\n",
    "\n",
    "print(w)     # 고유값\n",
    "print()\n",
    "print(v)     # 고유벡터 (단위벡터로 정규화함)"
   ]
  },
  {
   "cell_type": "code",
   "execution_count": 12,
   "id": "6c7afdac",
   "metadata": {},
   "outputs": [
    {
     "name": "stdout",
     "output_type": "stream",
     "text": [
      "[-2.  5.]\n",
      "\n",
      "[[-0.70710678 -0.6       ]\n",
      " [ 0.70710678 -0.8       ]]\n"
     ]
    }
   ],
   "source": [
    "b = np.array([[1,3],[4,2]])\n",
    "\n",
    "w, v = np.linalg.eig(b)\n",
    "\n",
    "print(w)\n",
    "print()\n",
    "print(v)"
   ]
  }
 ],
 "metadata": {
  "kernelspec": {
   "display_name": "Python 3 (ipykernel)",
   "language": "python",
   "name": "python3"
  },
  "language_info": {
   "codemirror_mode": {
    "name": "ipython",
    "version": 3
   },
   "file_extension": ".py",
   "mimetype": "text/x-python",
   "name": "python",
   "nbconvert_exporter": "python",
   "pygments_lexer": "ipython3",
   "version": "3.9.7"
  }
 },
 "nbformat": 4,
 "nbformat_minor": 5
}
