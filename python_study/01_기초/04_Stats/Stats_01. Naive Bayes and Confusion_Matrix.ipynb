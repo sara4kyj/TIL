{
 "cells": [
  {
   "cell_type": "code",
   "execution_count": 2,
   "id": "41f8590f",
   "metadata": {},
   "outputs": [],
   "source": [
    "import nltk"
   ]
  },
  {
   "cell_type": "code",
   "execution_count": 4,
   "id": "0f6032d5",
   "metadata": {},
   "outputs": [
    {
     "name": "stdout",
     "output_type": "stream",
     "text": [
      "showing info https://raw.githubusercontent.com/nltk/nltk_data/gh-pages/index.xml\n"
     ]
    },
    {
     "data": {
      "text/plain": [
       "True"
      ]
     },
     "execution_count": 4,
     "metadata": {},
     "output_type": "execute_result"
    }
   ],
   "source": [
    "nltk.download()"
   ]
  },
  {
   "cell_type": "code",
   "execution_count": 5,
   "id": "59dcf99a",
   "metadata": {},
   "outputs": [],
   "source": [
    "import numpy as np\n",
    "import pandas as pd\n",
    "from nltk.corpus import stopwords       # stopword : 불용어(the, a, 등)\n",
    "import string\n",
    "import nltk"
   ]
  },
  {
   "cell_type": "code",
   "execution_count": 7,
   "id": "0cf9423e",
   "metadata": {},
   "outputs": [
    {
     "data": {
      "text/html": [
       "<div>\n",
       "<style scoped>\n",
       "    .dataframe tbody tr th:only-of-type {\n",
       "        vertical-align: middle;\n",
       "    }\n",
       "\n",
       "    .dataframe tbody tr th {\n",
       "        vertical-align: top;\n",
       "    }\n",
       "\n",
       "    .dataframe thead th {\n",
       "        text-align: right;\n",
       "    }\n",
       "</style>\n",
       "<table border=\"1\" class=\"dataframe\">\n",
       "  <thead>\n",
       "    <tr style=\"text-align: right;\">\n",
       "      <th></th>\n",
       "      <th>Unnamed: 0</th>\n",
       "      <th>num</th>\n",
       "      <th>label</th>\n",
       "      <th>text</th>\n",
       "      <th>label_num</th>\n",
       "    </tr>\n",
       "  </thead>\n",
       "  <tbody>\n",
       "    <tr>\n",
       "      <th>0</th>\n",
       "      <td>0</td>\n",
       "      <td>1</td>\n",
       "      <td>spam</td>\n",
       "      <td>your free lottery</td>\n",
       "      <td>1</td>\n",
       "    </tr>\n",
       "    <tr>\n",
       "      <th>1</th>\n",
       "      <td>1</td>\n",
       "      <td>2</td>\n",
       "      <td>spam</td>\n",
       "      <td>free lottery free you</td>\n",
       "      <td>1</td>\n",
       "    </tr>\n",
       "    <tr>\n",
       "      <th>2</th>\n",
       "      <td>2</td>\n",
       "      <td>3</td>\n",
       "      <td>ham</td>\n",
       "      <td>your free apple</td>\n",
       "      <td>0</td>\n",
       "    </tr>\n",
       "    <tr>\n",
       "      <th>3</th>\n",
       "      <td>3</td>\n",
       "      <td>4</td>\n",
       "      <td>ham</td>\n",
       "      <td>free to contact me</td>\n",
       "      <td>0</td>\n",
       "    </tr>\n",
       "    <tr>\n",
       "      <th>4</th>\n",
       "      <td>4</td>\n",
       "      <td>5</td>\n",
       "      <td>ham</td>\n",
       "      <td>I won award</td>\n",
       "      <td>0</td>\n",
       "    </tr>\n",
       "    <tr>\n",
       "      <th>5</th>\n",
       "      <td>5</td>\n",
       "      <td>6</td>\n",
       "      <td>spam</td>\n",
       "      <td>my lottery ticket</td>\n",
       "      <td>1</td>\n",
       "    </tr>\n",
       "  </tbody>\n",
       "</table>\n",
       "</div>"
      ],
      "text/plain": [
       "   Unnamed: 0  num label                    text  label_num\n",
       "0           0    1  spam       your free lottery          1\n",
       "1           1    2  spam  free lottery free you           1\n",
       "2           2    3   ham        your free apple           0\n",
       "3           3    4   ham     free to contact me           0\n",
       "4           4    5   ham             I won award          0\n",
       "5           5    6  spam      my lottery ticket           1"
      ]
     },
     "execution_count": 7,
     "metadata": {},
     "output_type": "execute_result"
    }
   ],
   "source": [
    "df = pd.read_csv('./data/spam.csv')\n",
    "df"
   ]
  },
  {
   "cell_type": "code",
   "execution_count": 16,
   "id": "a4363e41",
   "metadata": {},
   "outputs": [],
   "source": [
    "# 베이지안 확률 정의\n",
    "\n",
    "def process_text(text):\n",
    "    \n",
    "    # 구두점 제거\n",
    "    nopunc = [char for char in text if char not in string.punctuation]   # list comprehesion\n",
    "    nopunc = ''.join(nopunc)\n",
    "    \n",
    "    # 무의미한 단어(접미사, 조사) 삭제  --> stopwords(불용어) 제거\n",
    "    # 소문자로 전부 변환(대/소문자 구분)\n",
    "    cleaned_words = [word for word in nopunc.split() if word.lower() not in stopwords.words('english')]\n",
    "    \n",
    "    return cleaned_words"
   ]
  },
  {
   "cell_type": "code",
   "execution_count": 17,
   "id": "ee6abe8d",
   "metadata": {},
   "outputs": [
    {
     "data": {
      "text/plain": [
       "0          [free, lottery]\n",
       "1    [free, lottery, free]\n",
       "2            [free, apple]\n",
       "3          [free, contact]\n",
       "4                  [award]\n",
       "Name: text, dtype: object"
      ]
     },
     "execution_count": 17,
     "metadata": {},
     "output_type": "execute_result"
    }
   ],
   "source": [
    "# df['text'] 데이터 셋의 텍스트 데이터 토큰화(분절)\n",
    "df['text'].head().apply(process_text)"
   ]
  },
  {
   "cell_type": "code",
   "execution_count": 21,
   "id": "da9b07ed",
   "metadata": {},
   "outputs": [
    {
     "data": {
      "text/plain": [
       "<6x6 sparse matrix of type '<class 'numpy.int64'>'\n",
       "\twith 11 stored elements in Compressed Sparse Row format>"
      ]
     },
     "execution_count": 21,
     "metadata": {},
     "output_type": "execute_result"
    }
   ],
   "source": [
    "# text를 token 수의 행렬 변환\n",
    "from sklearn.feature_extraction.text import CountVectorizer\n",
    "message_bow = CountVectorizer(analyzer=process_text).fit_transform(df['text'])\n",
    "message_bow"
   ]
  },
  {
   "cell_type": "code",
   "execution_count": 34,
   "id": "36233383",
   "metadata": {},
   "outputs": [],
   "source": [
    "# data를 80%의 train과 20%의 test로 분류\n",
    "\n",
    "from sklearn.model_selection import train_test_split\n",
    "X_train, X_test, y_train, y_test = train_test_split(message_bow, df['label_num'], test_size = 0.20, random_state = 0)"
   ]
  },
  {
   "cell_type": "code",
   "execution_count": 25,
   "id": "d8ce793a",
   "metadata": {},
   "outputs": [
    {
     "data": {
      "text/plain": [
       "MultinomialNB()"
      ]
     },
     "execution_count": 25,
     "metadata": {},
     "output_type": "execute_result"
    }
   ],
   "source": [
    "# naive_bayes 다항식 나이브베이즈 모델 사용, 훈련\n",
    "\n",
    "from sklearn.naive_bayes import MultinomialNB\n",
    "classifier = MultinomialNB()\n",
    "classifier.fit(X_train, y_train)     # train 데이터로 fit해야함"
   ]
  },
  {
   "cell_type": "code",
   "execution_count": 26,
   "id": "ff9c593a",
   "metadata": {},
   "outputs": [
    {
     "name": "stdout",
     "output_type": "stream",
     "text": [
      "[1 0 1 0]\n",
      "[1 0 1 0]\n"
     ]
    }
   ],
   "source": [
    "# 예측 값, 실제 값 출력\n",
    "print(classifier.predict(X_train))  # 예측 값 출력\n",
    "print(y_train.values)               # 실제 관측 값 출력"
   ]
  },
  {
   "cell_type": "code",
   "execution_count": 28,
   "id": "4e6219e2",
   "metadata": {},
   "outputs": [
    {
     "name": "stdout",
     "output_type": "stream",
     "text": [
      "              precision    recall  f1-score   support\n",
      "\n",
      "           0       1.00      1.00      1.00         2\n",
      "           1       1.00      1.00      1.00         2\n",
      "\n",
      "    accuracy                           1.00         4\n",
      "   macro avg       1.00      1.00      1.00         4\n",
      "weighted avg       1.00      1.00      1.00         4\n",
      "\n"
     ]
    }
   ],
   "source": [
    "# 학습데이터셋에서 모델 정확도 표현\n",
    "from sklearn.metrics import classification_report\n",
    "from sklearn.metrics import confusion_matrix, accuracy_score  # confusion_matrix : 혼동행렬\n",
    "\n",
    "pred = classifier.predict(X_train)  # 예측값 출력\n",
    "\n",
    "# metrics pkg에 있는 정밀도(precision), 재현율(sensitivity), f-1 score 구하기\n",
    "print(classification_report(y_train, pred))   # 실제값, 예측값 출력"
   ]
  },
  {
   "cell_type": "markdown",
   "id": "9bc795f6",
   "metadata": {},
   "source": [
    "1. precision(정밀도) : 정확한 예측, 예측(Prediction) 기준으로 TP 진짜 양성인 것을 맞추는 것\n",
    "2. recall(재현율, 민감도) : 재현 실제(실화)냐, 실제(Actual)를 기준으로 TP 진짜 양성인 것을 맞추는 것\n",
    "3. f1-score : 정밀도와 재현율의 조화 평균(둘 다 중요한 지표이므로 둘 다 고려해야함) \n",
    "4. 정밀도와 재현율은 상충관계(trade-off)\n",
    "5. 산업군마다 중요도(가중치)가 틀림\n",
    "  - 의료 : 재현율 (암환자 True Positive에게 암(Positive)라 진단해야 함)\n",
    "  - 반도체 : 정밀도 (정확히 예측하는 제품을 생산해 정확하게 실제에 딱 맞춤)"
   ]
  },
  {
   "cell_type": "code",
   "execution_count": 30,
   "id": "95a7db60",
   "metadata": {},
   "outputs": [
    {
     "data": {
      "text/plain": [
       "array([[2, 0],\n",
       "       [0, 2]], dtype=int64)"
      ]
     },
     "execution_count": 30,
     "metadata": {},
     "output_type": "execute_result"
    }
   ],
   "source": [
    "# confusion matrix\n",
    "\n",
    "confusion_matrix(y_train, pred)   # 실제값, 예측값"
   ]
  },
  {
   "cell_type": "code",
   "execution_count": 32,
   "id": "69cab6f9",
   "metadata": {},
   "outputs": [
    {
     "data": {
      "text/plain": [
       "1.0"
      ]
     },
     "execution_count": 32,
     "metadata": {},
     "output_type": "execute_result"
    }
   ],
   "source": [
    "accuracy_score(y_train, pred)"
   ]
  },
  {
   "cell_type": "code",
   "execution_count": 35,
   "id": "40f06975",
   "metadata": {},
   "outputs": [
    {
     "data": {
      "text/plain": [
       "array([1, 1], dtype=int64)"
      ]
     },
     "execution_count": 35,
     "metadata": {},
     "output_type": "execute_result"
    }
   ],
   "source": [
    "# 테스트 데이터 셋 모델의 정확도 평가\n",
    "classifier.predict(X_test)"
   ]
  },
  {
   "cell_type": "code",
   "execution_count": 37,
   "id": "ff2fd474",
   "metadata": {},
   "outputs": [
    {
     "name": "stdout",
     "output_type": "stream",
     "text": [
      "[1 0]\n"
     ]
    }
   ],
   "source": [
    "# 실제 관측값 출력\n",
    "print(y_test.values)"
   ]
  },
  {
   "cell_type": "code",
   "execution_count": 40,
   "id": "700a3a5c",
   "metadata": {},
   "outputs": [
    {
     "name": "stdout",
     "output_type": "stream",
     "text": [
      "[[0 1]\n",
      " [0 1]]\n"
     ]
    }
   ],
   "source": [
    "# 테스트셋에서 모델 평가\n",
    "from sklearn.metrics import classification_report\n",
    "from sklearn.metrics import confusion_matrix, accuracy_score\n",
    "\n",
    "pred = classifier.predict(X_test)       # X_test : test data(새로운 데이터 간주)\n",
    "print(confusion_matrix(y_test, pred))   # 실제 라벨, 예측 라벨"
   ]
  },
  {
   "cell_type": "code",
   "execution_count": 41,
   "id": "5e0c024f",
   "metadata": {},
   "outputs": [
    {
     "name": "stdout",
     "output_type": "stream",
     "text": [
      "0.5\n"
     ]
    }
   ],
   "source": [
    "print(accuracy_score(y_test, pred))   # 예측률 : 0.5(50%)"
   ]
  }
 ],
 "metadata": {
  "kernelspec": {
   "display_name": "Python 3 (ipykernel)",
   "language": "python",
   "name": "python3"
  },
  "language_info": {
   "codemirror_mode": {
    "name": "ipython",
    "version": 3
   },
   "file_extension": ".py",
   "mimetype": "text/x-python",
   "name": "python",
   "nbconvert_exporter": "python",
   "pygments_lexer": "ipython3",
   "version": "3.9.7"
  }
 },
 "nbformat": 4,
 "nbformat_minor": 5
}
