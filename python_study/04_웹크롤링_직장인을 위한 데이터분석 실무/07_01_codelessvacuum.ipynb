{
 "cells": [
  {
   "cell_type": "markdown",
   "id": "3d9d1853",
   "metadata": {},
   "source": [
    "### 01 다나와에서 상품명, 스펙목록, 가격 crawling 하기"
   ]
  },
  {
   "cell_type": "code",
   "execution_count": 48,
   "id": "a1a980ec",
   "metadata": {},
   "outputs": [],
   "source": [
    "from selenium import webdriver\n",
    "from selenium.webdriver.chrome.service import Service\n",
    "from bs4 import BeautifulSoup\n",
    "from selenium.webdriver.common.by import By\n",
    "from tqdm import tqdm_notebook\n",
    "\n",
    "import pandas as pd\n",
    "import numpy as np\n",
    "import time"
   ]
  },
  {
   "cell_type": "code",
   "execution_count": 45,
   "id": "f8d4a72e",
   "metadata": {},
   "outputs": [],
   "source": [
    "ser = Service('../chromedriver/chromedriver.exe')\n",
    "driver = webdriver.Chrome(service = ser)"
   ]
  },
  {
   "cell_type": "code",
   "execution_count": 3,
   "id": "4f6d5a58",
   "metadata": {},
   "outputs": [],
   "source": [
    "keyword = '무선청소기'\n",
    "url = 'http://search.danawa.com/dsearch.php?k1={}&module=goods&act=dispMain'.format(keyword)\n",
    "driver.get(url)"
   ]
  },
  {
   "cell_type": "code",
   "execution_count": 4,
   "id": "4f34f16b",
   "metadata": {},
   "outputs": [],
   "source": [
    "html = driver.page_source\n",
    "soup = BeautifulSoup(html, 'html.parser')"
   ]
  },
  {
   "cell_type": "code",
   "execution_count": 5,
   "id": "536caee4",
   "metadata": {},
   "outputs": [],
   "source": [
    "item_list = soup.select('div.prod_main_info')\n",
    "item = item_list[0]"
   ]
  },
  {
   "cell_type": "code",
   "execution_count": 32,
   "id": "b3244136",
   "metadata": {
    "scrolled": true
   },
   "outputs": [
    {
     "data": {
      "text/plain": [
       "104990"
      ]
     },
     "execution_count": 32,
     "metadata": {},
     "output_type": "execute_result"
    }
   ],
   "source": [
    "product = item.select('.prod_info > p > a')[0].text\n",
    "spec = item.select('.spec_list')[0].text.replace('\\t','').replace('\\n','')\n",
    "price = item.select('.price_sect > a > strong')[0].text.replace(',','')\n",
    "int(item.select('.price_sect > a > strong')[0].text.replace(',',''))"
   ]
  },
  {
   "cell_type": "markdown",
   "id": "61a0812b",
   "metadata": {},
   "source": [
    "#### 다나와사이트 크롤링하여 데이터프레임을 반환하는 함수 만들기"
   ]
  },
  {
   "cell_type": "code",
   "execution_count": 42,
   "id": "3616a2fe",
   "metadata": {},
   "outputs": [],
   "source": [
    "def get_product_info(keyword):\n",
    "    item_list = soup.select('div.prod_main_info')\n",
    "    product_list = []\n",
    "\n",
    "    for items in item_list:\n",
    "        try:\n",
    "            product = items.select('.prod_info > p > a')[0].text\n",
    "        except:\n",
    "            pass\n",
    "        \n",
    "        try:\n",
    "            spec = items.select('.spec_list')[0].text.replace('\\t','').replace('\\n','')\n",
    "        except:\n",
    "            pass\n",
    "        \n",
    "        try:\n",
    "            price = int(items.select('.price_sect > a > strong')[0].text.replace(',',''))\n",
    "        except:\n",
    "            pass\n",
    "        \n",
    "        if keyword[0] in spec and '광고' not in items.text:\n",
    "            product_list.append([product, spec, price])        \n",
    "\n",
    "    product_list_pd = pd.DataFrame(product_list, columns = ['상품명', '스펙목록', '가격'])\n",
    "    return product_list_pd"
   ]
  },
  {
   "cell_type": "markdown",
   "id": "4199856f",
   "metadata": {},
   "source": [
    "### 02 여러페이지에 걸친 다나와 페이지 크롤링 함수 만들기"
   ]
  },
  {
   "cell_type": "code",
   "execution_count": null,
   "id": "c4049e14",
   "metadata": {},
   "outputs": [],
   "source": [
    "http://search.danawa.com/dsearch.php?k1=무선청소기&\n",
    "    module=goods&act=dispMain"
   ]
  },
  {
   "cell_type": "code",
   "execution_count": null,
   "id": "0312a9a1",
   "metadata": {},
   "outputs": [],
   "source": [
    "http://search.danawa.com/dsearch.php?query=무선청소기&\n",
    "    originalQuery=무선청소기&volumeType=allvs&page=2&limit=40&sort=saveDESC&list=list&boost=true&addDelivery=N&\n",
    "    recommendedSort=Y&defaultUICategoryCode=102207&defaultPhysicsCategoryCode=72|80|81|0&defaultVmTab=2606&defaultVaTab=390097&\n",
    "    tab=goods"
   ]
  },
  {
   "cell_type": "code",
   "execution_count": null,
   "id": "30aa5051",
   "metadata": {},
   "outputs": [],
   "source": [
    "http://search.danawa.com/dsearch.php?query={}&originalQuery={}&volumeType=allvs&page={}&limit=40&sort=saveDESC&list=list&boost=true&addDelivery=N&recommendedSort=Y&defaultUICategoryCode=102207&defaultPhysicsCategoryCode=72|80|81|0&defaultVmTab=2606&defaultVaTab=390097&tab=goods"
   ]
  },
  {
   "cell_type": "code",
   "execution_count": 63,
   "id": "b47ec117",
   "metadata": {},
   "outputs": [],
   "source": [
    "def get_url(page_num, keyword):\n",
    "    if page_num == 1:\n",
    "        url = 'http://search.danawa.com/dsearch.php?k1={}&module=goods&act=dispMain'.format(keyword)\n",
    "    else:\n",
    "        url = 'http://search.danawa.com/dsearch.php?query={0}&originalQuery={0}&volumeType=allvs&page={1}&limit=40&sort=saveDESC&list=list&boost=true&addDelivery=N&recommendedSort=Y&defaultUICategoryCode=102207&defaultPhysicsCategoryCode=72|80|81|0&defaultVmTab=2606&defaultVaTab=390097&tab=goods'.format(keyword, page_num)\n",
    "    return url"
   ]
  },
  {
   "cell_type": "code",
   "execution_count": 72,
   "id": "b2140aed",
   "metadata": {},
   "outputs": [],
   "source": [
    "def get_multi_page_crawling(total_num, keyword):   \n",
    "    product_list = []\n",
    "    for num in tqdm_notebook(range(1,total_num+1)):\n",
    "        driver.implicitly_wait(3)\n",
    "        \n",
    "        driver.get(get_url(num, keyword))\n",
    "        html = driver.page_source\n",
    "        soup = BeautifulSoup(html, 'html.parser')\n",
    "        \n",
    "        item_list = soup.select('div.prod_main_info')\n",
    "\n",
    "        for items in item_list:\n",
    "            try:\n",
    "                product = items.select('.prod_info > p > a')[0].text\n",
    "            except:\n",
    "                pass\n",
    "        \n",
    "            try:\n",
    "                spec = items.select('.spec_list')[0].text.replace('\\t','').replace('\\n','')\n",
    "            except:\n",
    "                pass\n",
    "        \n",
    "            try:\n",
    "                price = int(items.select('.price_sect > a > strong')[0].text.replace(',',''))\n",
    "            except:\n",
    "                pass\n",
    "        \n",
    "            if '/' in spec and '광고' not in items.text:\n",
    "                product_list.append([product, spec, price])        \n",
    "\n",
    "    product_list_pd = pd.DataFrame(product_list, columns = ['상품명', '스펙목록', '가격'])\n",
    "    return product_list_pd"
   ]
  },
  {
   "cell_type": "code",
   "execution_count": 69,
   "id": "235899fd",
   "metadata": {},
   "outputs": [
    {
     "name": "stderr",
     "output_type": "stream",
     "text": [
      "C:\\Users\\sara\\AppData\\Local\\Temp/ipykernel_8148/3215115800.py:3: TqdmDeprecationWarning: This function will be removed in tqdm==5.0.0\n",
      "Please use `tqdm.notebook.tqdm` instead of `tqdm.tqdm_notebook`\n",
      "  for num in tqdm_notebook(range(1,total_num+1)):\n"
     ]
    },
    {
     "data": {
      "application/vnd.jupyter.widget-view+json": {
       "model_id": "213112add87d4809bff1cb6dabc41800",
       "version_major": 2,
       "version_minor": 0
      },
      "text/plain": [
       "  0%|          | 0/10 [00:00<?, ?it/s]"
      ]
     },
     "metadata": {},
     "output_type": "display_data"
    },
    {
     "data": {
      "text/html": [
       "<div>\n",
       "<style scoped>\n",
       "    .dataframe tbody tr th:only-of-type {\n",
       "        vertical-align: middle;\n",
       "    }\n",
       "\n",
       "    .dataframe tbody tr th {\n",
       "        vertical-align: top;\n",
       "    }\n",
       "\n",
       "    .dataframe thead th {\n",
       "        text-align: right;\n",
       "    }\n",
       "</style>\n",
       "<table border=\"1\" class=\"dataframe\">\n",
       "  <thead>\n",
       "    <tr style=\"text-align: right;\">\n",
       "      <th></th>\n",
       "      <th>상품명</th>\n",
       "      <th>스펙목록</th>\n",
       "      <th>가격</th>\n",
       "    </tr>\n",
       "  </thead>\n",
       "  <tbody>\n",
       "    <tr>\n",
       "      <th>0</th>\n",
       "      <td>LG전자 오브제컬렉션 코드제로 ThinQ A9S AO9571</td>\n",
       "      <td>핸디/스틱청소기 / 핸디+스틱형 / 무선형 / 흡입+걸레겸용 / 소비전력: 590W...</td>\n",
       "      <td>1055260</td>\n",
       "    </tr>\n",
       "    <tr>\n",
       "      <th>1</th>\n",
       "      <td>삼성전자 비스포크 제트 VS20A956A3</td>\n",
       "      <td>핸디/스틱청소기 / 핸디+스틱형 / 무선형 / 흡입+걸레겸용 / [성능] 흡입력: ...</td>\n",
       "      <td>566410</td>\n",
       "    </tr>\n",
       "    <tr>\n",
       "      <th>2</th>\n",
       "      <td>LG전자 코드제로 ThinQ A9S AS9370IKT</td>\n",
       "      <td>핸디/스틱청소기 / 핸디+스틱형 / 무선형 / 흡입+걸레겸용 / 소비전력: 590W...</td>\n",
       "      <td>784550</td>\n",
       "    </tr>\n",
       "    <tr>\n",
       "      <th>3</th>\n",
       "      <td>샤오미 CLEANFLY 차량용 무선 청소기 4세대 H2 (해외구매)</td>\n",
       "      <td>차량용청소기 / 무선 / 흡입력: 16,800Pa / 최대출력: 120W / 헤파필...</td>\n",
       "      <td>59840</td>\n",
       "    </tr>\n",
       "    <tr>\n",
       "      <th>4</th>\n",
       "      <td>삼성전자 비스포크 제트 VS20A957E3</td>\n",
       "      <td>핸디/스틱청소기 / 핸디+스틱형 / 무선형 / 흡입+걸레겸용 / [성능] 흡입력: ...</td>\n",
       "      <td>903110</td>\n",
       "    </tr>\n",
       "  </tbody>\n",
       "</table>\n",
       "</div>"
      ],
      "text/plain": [
       "                                     상품명  \\\n",
       "0      LG전자 오브제컬렉션 코드제로 ThinQ A9S AO9571   \n",
       "1                삼성전자 비스포크 제트 VS20A956A3   \n",
       "2          LG전자 코드제로 ThinQ A9S AS9370IKT   \n",
       "3  샤오미 CLEANFLY 차량용 무선 청소기 4세대 H2 (해외구매)   \n",
       "4                삼성전자 비스포크 제트 VS20A957E3   \n",
       "\n",
       "                                                스펙목록       가격  \n",
       "0  핸디/스틱청소기 / 핸디+스틱형 / 무선형 / 흡입+걸레겸용 / 소비전력: 590W...  1055260  \n",
       "1  핸디/스틱청소기 / 핸디+스틱형 / 무선형 / 흡입+걸레겸용 / [성능] 흡입력: ...   566410  \n",
       "2  핸디/스틱청소기 / 핸디+스틱형 / 무선형 / 흡입+걸레겸용 / 소비전력: 590W...   784550  \n",
       "3  차량용청소기 / 무선 / 흡입력: 16,800Pa / 최대출력: 120W / 헤파필...    59840  \n",
       "4  핸디/스틱청소기 / 핸디+스틱형 / 무선형 / 흡입+걸레겸용 / [성능] 흡입력: ...   903110  "
      ]
     },
     "execution_count": 69,
     "metadata": {},
     "output_type": "execute_result"
    }
   ],
   "source": [
    "data = get_multi_page_crawling(10, '무선청소기')\n",
    "data.head()"
   ]
  },
  {
   "cell_type": "code",
   "execution_count": 70,
   "id": "6cfd4d12",
   "metadata": {},
   "outputs": [
    {
     "name": "stdout",
     "output_type": "stream",
     "text": [
      "<class 'pandas.core.frame.DataFrame'>\n",
      "RangeIndex: 400 entries, 0 to 399\n",
      "Data columns (total 3 columns):\n",
      " #   Column  Non-Null Count  Dtype \n",
      "---  ------  --------------  ----- \n",
      " 0   상품명     400 non-null    object\n",
      " 1   스펙목록    400 non-null    object\n",
      " 2   가격      400 non-null    int64 \n",
      "dtypes: int64(1), object(2)\n",
      "memory usage: 9.5+ KB\n"
     ]
    }
   ],
   "source": [
    "data.info()"
   ]
  },
  {
   "cell_type": "code",
   "execution_count": 71,
   "id": "5fe1180f",
   "metadata": {},
   "outputs": [],
   "source": [
    "data.to_excel('./files/1_danawa_crawling_result_class.xlsx', index = False)"
   ]
  },
  {
   "cell_type": "markdown",
   "id": "356612bf",
   "metadata": {},
   "source": [
    "### 03 Data Preprocessing"
   ]
  },
  {
   "cell_type": "code",
   "execution_count": 139,
   "id": "a137a641",
   "metadata": {},
   "outputs": [],
   "source": [
    "data = pd.read_excel('./files/1_danawa_crawling_result_class.xlsx')"
   ]
  },
  {
   "cell_type": "code",
   "execution_count": 140,
   "id": "ab750a00",
   "metadata": {},
   "outputs": [
    {
     "data": {
      "text/html": [
       "<div>\n",
       "<style scoped>\n",
       "    .dataframe tbody tr th:only-of-type {\n",
       "        vertical-align: middle;\n",
       "    }\n",
       "\n",
       "    .dataframe tbody tr th {\n",
       "        vertical-align: top;\n",
       "    }\n",
       "\n",
       "    .dataframe thead th {\n",
       "        text-align: right;\n",
       "    }\n",
       "</style>\n",
       "<table border=\"1\" class=\"dataframe\">\n",
       "  <thead>\n",
       "    <tr style=\"text-align: right;\">\n",
       "      <th></th>\n",
       "      <th>상품명</th>\n",
       "      <th>스펙목록</th>\n",
       "      <th>가격</th>\n",
       "    </tr>\n",
       "  </thead>\n",
       "  <tbody>\n",
       "    <tr>\n",
       "      <th>0</th>\n",
       "      <td>LG전자 오브제컬렉션 코드제로 ThinQ A9S AO9571</td>\n",
       "      <td>핸디/스틱청소기 / 핸디+스틱형 / 무선형 / 흡입+걸레겸용 / 소비전력: 590W...</td>\n",
       "      <td>1055260</td>\n",
       "    </tr>\n",
       "    <tr>\n",
       "      <th>1</th>\n",
       "      <td>삼성전자 비스포크 제트 VS20A956A3</td>\n",
       "      <td>핸디/스틱청소기 / 핸디+스틱형 / 무선형 / 흡입+걸레겸용 / [성능] 흡입력: ...</td>\n",
       "      <td>566410</td>\n",
       "    </tr>\n",
       "    <tr>\n",
       "      <th>2</th>\n",
       "      <td>LG전자 코드제로 ThinQ A9S AS9370IKT</td>\n",
       "      <td>핸디/스틱청소기 / 핸디+스틱형 / 무선형 / 흡입+걸레겸용 / 소비전력: 590W...</td>\n",
       "      <td>784550</td>\n",
       "    </tr>\n",
       "    <tr>\n",
       "      <th>3</th>\n",
       "      <td>샤오미 CLEANFLY 차량용 무선 청소기 4세대 H2 (해외구매)</td>\n",
       "      <td>차량용청소기 / 무선 / 흡입력: 16,800Pa / 최대출력: 120W / 헤파필...</td>\n",
       "      <td>59840</td>\n",
       "    </tr>\n",
       "    <tr>\n",
       "      <th>4</th>\n",
       "      <td>삼성전자 비스포크 제트 VS20A957E3</td>\n",
       "      <td>핸디/스틱청소기 / 핸디+스틱형 / 무선형 / 흡입+걸레겸용 / [성능] 흡입력: ...</td>\n",
       "      <td>903110</td>\n",
       "    </tr>\n",
       "  </tbody>\n",
       "</table>\n",
       "</div>"
      ],
      "text/plain": [
       "                                     상품명  \\\n",
       "0      LG전자 오브제컬렉션 코드제로 ThinQ A9S AO9571   \n",
       "1                삼성전자 비스포크 제트 VS20A956A3   \n",
       "2          LG전자 코드제로 ThinQ A9S AS9370IKT   \n",
       "3  샤오미 CLEANFLY 차량용 무선 청소기 4세대 H2 (해외구매)   \n",
       "4                삼성전자 비스포크 제트 VS20A957E3   \n",
       "\n",
       "                                                스펙목록       가격  \n",
       "0  핸디/스틱청소기 / 핸디+스틱형 / 무선형 / 흡입+걸레겸용 / 소비전력: 590W...  1055260  \n",
       "1  핸디/스틱청소기 / 핸디+스틱형 / 무선형 / 흡입+걸레겸용 / [성능] 흡입력: ...   566410  \n",
       "2  핸디/스틱청소기 / 핸디+스틱형 / 무선형 / 흡입+걸레겸용 / 소비전력: 590W...   784550  \n",
       "3  차량용청소기 / 무선 / 흡입력: 16,800Pa / 최대출력: 120W / 헤파필...    59840  \n",
       "4  핸디/스틱청소기 / 핸디+스틱형 / 무선형 / 흡입+걸레겸용 / [성능] 흡입력: ...   903110  "
      ]
     },
     "execution_count": 140,
     "metadata": {},
     "output_type": "execute_result"
    }
   ],
   "source": [
    "data.head()"
   ]
  },
  {
   "cell_type": "markdown",
   "id": "023d2e2a",
   "metadata": {},
   "source": [
    "#### 상품명에서 회사명, 모델명 분리하기"
   ]
  },
  {
   "cell_type": "code",
   "execution_count": 141,
   "id": "6cc2ed19",
   "metadata": {},
   "outputs": [],
   "source": [
    "company = data['상품명'][0].split(' ')[0]\n",
    "product = ' '.join(data['상품명'][0].split(' ')[1:])"
   ]
  },
  {
   "cell_type": "code",
   "execution_count": 142,
   "id": "bce48227",
   "metadata": {},
   "outputs": [
    {
     "data": {
      "text/html": [
       "<div>\n",
       "<style scoped>\n",
       "    .dataframe tbody tr th:only-of-type {\n",
       "        vertical-align: middle;\n",
       "    }\n",
       "\n",
       "    .dataframe tbody tr th {\n",
       "        vertical-align: top;\n",
       "    }\n",
       "\n",
       "    .dataframe thead th {\n",
       "        text-align: right;\n",
       "    }\n",
       "</style>\n",
       "<table border=\"1\" class=\"dataframe\">\n",
       "  <thead>\n",
       "    <tr style=\"text-align: right;\">\n",
       "      <th></th>\n",
       "      <th>상품명</th>\n",
       "      <th>스펙목록</th>\n",
       "      <th>가격</th>\n",
       "      <th>회사명</th>\n",
       "      <th>모델명</th>\n",
       "    </tr>\n",
       "  </thead>\n",
       "  <tbody>\n",
       "    <tr>\n",
       "      <th>0</th>\n",
       "      <td>LG전자 오브제컬렉션 코드제로 ThinQ A9S AO9571</td>\n",
       "      <td>핸디/스틱청소기 / 핸디+스틱형 / 무선형 / 흡입+걸레겸용 / 소비전력: 590W...</td>\n",
       "      <td>1055260</td>\n",
       "      <td>LG전자</td>\n",
       "      <td>오브제컬렉션 코드제로 ThinQ A9S AO9571</td>\n",
       "    </tr>\n",
       "    <tr>\n",
       "      <th>1</th>\n",
       "      <td>삼성전자 비스포크 제트 VS20A956A3</td>\n",
       "      <td>핸디/스틱청소기 / 핸디+스틱형 / 무선형 / 흡입+걸레겸용 / [성능] 흡입력: ...</td>\n",
       "      <td>566410</td>\n",
       "      <td>삼성전자</td>\n",
       "      <td>비스포크 제트 VS20A956A3</td>\n",
       "    </tr>\n",
       "    <tr>\n",
       "      <th>2</th>\n",
       "      <td>LG전자 코드제로 ThinQ A9S AS9370IKT</td>\n",
       "      <td>핸디/스틱청소기 / 핸디+스틱형 / 무선형 / 흡입+걸레겸용 / 소비전력: 590W...</td>\n",
       "      <td>784550</td>\n",
       "      <td>LG전자</td>\n",
       "      <td>코드제로 ThinQ A9S AS9370IKT</td>\n",
       "    </tr>\n",
       "    <tr>\n",
       "      <th>3</th>\n",
       "      <td>샤오미 CLEANFLY 차량용 무선 청소기 4세대 H2 (해외구매)</td>\n",
       "      <td>차량용청소기 / 무선 / 흡입력: 16,800Pa / 최대출력: 120W / 헤파필...</td>\n",
       "      <td>59840</td>\n",
       "      <td>샤오미</td>\n",
       "      <td>CLEANFLY 차량용 무선 청소기 4세대 H2 (해외구매)</td>\n",
       "    </tr>\n",
       "    <tr>\n",
       "      <th>4</th>\n",
       "      <td>삼성전자 비스포크 제트 VS20A957E3</td>\n",
       "      <td>핸디/스틱청소기 / 핸디+스틱형 / 무선형 / 흡입+걸레겸용 / [성능] 흡입력: ...</td>\n",
       "      <td>903110</td>\n",
       "      <td>삼성전자</td>\n",
       "      <td>비스포크 제트 VS20A957E3</td>\n",
       "    </tr>\n",
       "  </tbody>\n",
       "</table>\n",
       "</div>"
      ],
      "text/plain": [
       "                                     상품명  \\\n",
       "0      LG전자 오브제컬렉션 코드제로 ThinQ A9S AO9571   \n",
       "1                삼성전자 비스포크 제트 VS20A956A3   \n",
       "2          LG전자 코드제로 ThinQ A9S AS9370IKT   \n",
       "3  샤오미 CLEANFLY 차량용 무선 청소기 4세대 H2 (해외구매)   \n",
       "4                삼성전자 비스포크 제트 VS20A957E3   \n",
       "\n",
       "                                                스펙목록       가격   회사명  \\\n",
       "0  핸디/스틱청소기 / 핸디+스틱형 / 무선형 / 흡입+걸레겸용 / 소비전력: 590W...  1055260  LG전자   \n",
       "1  핸디/스틱청소기 / 핸디+스틱형 / 무선형 / 흡입+걸레겸용 / [성능] 흡입력: ...   566410  삼성전자   \n",
       "2  핸디/스틱청소기 / 핸디+스틱형 / 무선형 / 흡입+걸레겸용 / 소비전력: 590W...   784550  LG전자   \n",
       "3  차량용청소기 / 무선 / 흡입력: 16,800Pa / 최대출력: 120W / 헤파필...    59840   샤오미   \n",
       "4  핸디/스틱청소기 / 핸디+스틱형 / 무선형 / 흡입+걸레겸용 / [성능] 흡입력: ...   903110  삼성전자   \n",
       "\n",
       "                                 모델명  \n",
       "0       오브제컬렉션 코드제로 ThinQ A9S AO9571  \n",
       "1                 비스포크 제트 VS20A956A3  \n",
       "2           코드제로 ThinQ A9S AS9370IKT  \n",
       "3  CLEANFLY 차량용 무선 청소기 4세대 H2 (해외구매)  \n",
       "4                 비스포크 제트 VS20A957E3  "
      ]
     },
     "execution_count": 142,
     "metadata": {},
     "output_type": "execute_result"
    }
   ],
   "source": [
    "company_list = []\n",
    "product_list = []\n",
    "\n",
    "for item in data['상품명']:\n",
    "    company_list.append(item.split(' ')[0])\n",
    "    product_list.append(' '.join(item.split(' ')[1:]))\n",
    "\n",
    "data['회사명'] = company_list\n",
    "data['모델명'] = product_list\n",
    "data.head()"
   ]
  },
  {
   "cell_type": "markdown",
   "id": "2b032c0e",
   "metadata": {},
   "source": [
    "#### 스펙목록에서 카테고리, 사용시간, 흡입력 추출해서 정리하기"
   ]
  },
  {
   "cell_type": "code",
   "execution_count": 144,
   "id": "9bb8170c",
   "metadata": {},
   "outputs": [
    {
     "name": "stdout",
     "output_type": "stream",
     "text": [
      "핸디/스틱청소기\n",
      "1시간\n",
      "210W\n"
     ]
    }
   ],
   "source": [
    "category = data['스펙목록'][0].split(' / ')[0]\n",
    "use_time = data['스펙목록'][0].split('사용시간(개당): ')[1].split(' / ')[0]\n",
    "power = data['스펙목록'][0].split('흡입력: ')[1].split(' / ')[0]\n",
    "print(category, use_time, power, sep = '\\n')"
   ]
  },
  {
   "cell_type": "code",
   "execution_count": 145,
   "id": "5d8cba3e",
   "metadata": {},
   "outputs": [
    {
     "data": {
      "text/html": [
       "<div>\n",
       "<style scoped>\n",
       "    .dataframe tbody tr th:only-of-type {\n",
       "        vertical-align: middle;\n",
       "    }\n",
       "\n",
       "    .dataframe tbody tr th {\n",
       "        vertical-align: top;\n",
       "    }\n",
       "\n",
       "    .dataframe thead th {\n",
       "        text-align: right;\n",
       "    }\n",
       "</style>\n",
       "<table border=\"1\" class=\"dataframe\">\n",
       "  <thead>\n",
       "    <tr style=\"text-align: right;\">\n",
       "      <th></th>\n",
       "      <th>상품명</th>\n",
       "      <th>스펙목록</th>\n",
       "      <th>가격</th>\n",
       "      <th>회사명</th>\n",
       "      <th>모델명</th>\n",
       "      <th>카테고리</th>\n",
       "      <th>사용시간</th>\n",
       "      <th>흡입력</th>\n",
       "    </tr>\n",
       "  </thead>\n",
       "  <tbody>\n",
       "    <tr>\n",
       "      <th>0</th>\n",
       "      <td>LG전자 오브제컬렉션 코드제로 ThinQ A9S AO9571</td>\n",
       "      <td>핸디/스틱청소기 / 핸디+스틱형 / 무선형 / 흡입+걸레겸용 / 소비전력: 590W...</td>\n",
       "      <td>1055260</td>\n",
       "      <td>LG전자</td>\n",
       "      <td>오브제컬렉션 코드제로 ThinQ A9S AO9571</td>\n",
       "      <td>핸디/스틱청소기</td>\n",
       "      <td>1시간</td>\n",
       "      <td>210W</td>\n",
       "    </tr>\n",
       "    <tr>\n",
       "      <th>1</th>\n",
       "      <td>삼성전자 비스포크 제트 VS20A956A3</td>\n",
       "      <td>핸디/스틱청소기 / 핸디+스틱형 / 무선형 / 흡입+걸레겸용 / [성능] 흡입력: ...</td>\n",
       "      <td>566410</td>\n",
       "      <td>삼성전자</td>\n",
       "      <td>비스포크 제트 VS20A956A3</td>\n",
       "      <td>핸디/스틱청소기</td>\n",
       "      <td>1시간</td>\n",
       "      <td>210W</td>\n",
       "    </tr>\n",
       "    <tr>\n",
       "      <th>2</th>\n",
       "      <td>LG전자 코드제로 ThinQ A9S AS9370IKT</td>\n",
       "      <td>핸디/스틱청소기 / 핸디+스틱형 / 무선형 / 흡입+걸레겸용 / 소비전력: 590W...</td>\n",
       "      <td>784550</td>\n",
       "      <td>LG전자</td>\n",
       "      <td>코드제로 ThinQ A9S AS9370IKT</td>\n",
       "      <td>핸디/스틱청소기</td>\n",
       "      <td>1시간</td>\n",
       "      <td>210W</td>\n",
       "    </tr>\n",
       "    <tr>\n",
       "      <th>3</th>\n",
       "      <td>샤오미 CLEANFLY 차량용 무선 청소기 4세대 H2 (해외구매)</td>\n",
       "      <td>차량용청소기 / 무선 / 흡입력: 16,800Pa / 최대출력: 120W / 헤파필...</td>\n",
       "      <td>59840</td>\n",
       "      <td>샤오미</td>\n",
       "      <td>CLEANFLY 차량용 무선 청소기 4세대 H2 (해외구매)</td>\n",
       "      <td>차량용청소기</td>\n",
       "      <td></td>\n",
       "      <td>16,800Pa</td>\n",
       "    </tr>\n",
       "    <tr>\n",
       "      <th>4</th>\n",
       "      <td>삼성전자 비스포크 제트 VS20A957E3</td>\n",
       "      <td>핸디/스틱청소기 / 핸디+스틱형 / 무선형 / 흡입+걸레겸용 / [성능] 흡입력: ...</td>\n",
       "      <td>903110</td>\n",
       "      <td>삼성전자</td>\n",
       "      <td>비스포크 제트 VS20A957E3</td>\n",
       "      <td>핸디/스틱청소기</td>\n",
       "      <td>1시간</td>\n",
       "      <td>210W</td>\n",
       "    </tr>\n",
       "  </tbody>\n",
       "</table>\n",
       "</div>"
      ],
      "text/plain": [
       "                                     상품명  \\\n",
       "0      LG전자 오브제컬렉션 코드제로 ThinQ A9S AO9571   \n",
       "1                삼성전자 비스포크 제트 VS20A956A3   \n",
       "2          LG전자 코드제로 ThinQ A9S AS9370IKT   \n",
       "3  샤오미 CLEANFLY 차량용 무선 청소기 4세대 H2 (해외구매)   \n",
       "4                삼성전자 비스포크 제트 VS20A957E3   \n",
       "\n",
       "                                                스펙목록       가격   회사명  \\\n",
       "0  핸디/스틱청소기 / 핸디+스틱형 / 무선형 / 흡입+걸레겸용 / 소비전력: 590W...  1055260  LG전자   \n",
       "1  핸디/스틱청소기 / 핸디+스틱형 / 무선형 / 흡입+걸레겸용 / [성능] 흡입력: ...   566410  삼성전자   \n",
       "2  핸디/스틱청소기 / 핸디+스틱형 / 무선형 / 흡입+걸레겸용 / 소비전력: 590W...   784550  LG전자   \n",
       "3  차량용청소기 / 무선 / 흡입력: 16,800Pa / 최대출력: 120W / 헤파필...    59840   샤오미   \n",
       "4  핸디/스틱청소기 / 핸디+스틱형 / 무선형 / 흡입+걸레겸용 / [성능] 흡입력: ...   903110  삼성전자   \n",
       "\n",
       "                                 모델명      카테고리 사용시간       흡입력  \n",
       "0       오브제컬렉션 코드제로 ThinQ A9S AO9571  핸디/스틱청소기  1시간      210W  \n",
       "1                 비스포크 제트 VS20A956A3  핸디/스틱청소기  1시간      210W  \n",
       "2           코드제로 ThinQ A9S AS9370IKT  핸디/스틱청소기  1시간      210W  \n",
       "3  CLEANFLY 차량용 무선 청소기 4세대 H2 (해외구매)    차량용청소기       16,800Pa  \n",
       "4                 비스포크 제트 VS20A957E3  핸디/스틱청소기  1시간      210W  "
      ]
     },
     "execution_count": 145,
     "metadata": {},
     "output_type": "execute_result"
    }
   ],
   "source": [
    "category_list = []\n",
    "use_time_list = []\n",
    "power_list = []\n",
    "\n",
    "for item in data['스펙목록']:\n",
    "    try:\n",
    "        category_list.append(item.split(' / ')[0])\n",
    "    except:\n",
    "        category_list.append(' ')\n",
    "    \n",
    "    try: \n",
    "        use_time_list.append(item.split('사용시간(개당): ')[1].split(' / ')[0])\n",
    "    except:\n",
    "        use_time_list.append(' ')\n",
    "    \n",
    "    try:\n",
    "        power_list.append(item.split('흡입력: ')[1].split(' / ')[0])\n",
    "    except:\n",
    "        power_list.append(' ')\n",
    "    \n",
    "data['카테고리'] = category_list\n",
    "data['사용시간'] = use_time_list\n",
    "data['흡입력'] = power_list\n",
    "data.head()"
   ]
  },
  {
   "cell_type": "markdown",
   "id": "0629fe63",
   "metadata": {},
   "source": [
    " -> 위처럼 진행시 데이터 손실 발생하므로 아래 방법으로 재시도"
   ]
  },
  {
   "cell_type": "markdown",
   "id": "0c51e6a4",
   "metadata": {},
   "source": [
    "###### 2차 시도"
   ]
  },
  {
   "cell_type": "code",
   "execution_count": 194,
   "id": "db5ac9e9",
   "metadata": {},
   "outputs": [
    {
     "data": {
      "text/html": [
       "<div>\n",
       "<style scoped>\n",
       "    .dataframe tbody tr th:only-of-type {\n",
       "        vertical-align: middle;\n",
       "    }\n",
       "\n",
       "    .dataframe tbody tr th {\n",
       "        vertical-align: top;\n",
       "    }\n",
       "\n",
       "    .dataframe thead th {\n",
       "        text-align: right;\n",
       "    }\n",
       "</style>\n",
       "<table border=\"1\" class=\"dataframe\">\n",
       "  <thead>\n",
       "    <tr style=\"text-align: right;\">\n",
       "      <th></th>\n",
       "      <th>상품명</th>\n",
       "      <th>스펙목록</th>\n",
       "      <th>가격</th>\n",
       "    </tr>\n",
       "  </thead>\n",
       "  <tbody>\n",
       "    <tr>\n",
       "      <th>0</th>\n",
       "      <td>LG전자 오브제컬렉션 코드제로 ThinQ A9S AO9571</td>\n",
       "      <td>핸디/스틱청소기 / 핸디+스틱형 / 무선형 / 흡입+걸레겸용 / 소비전력: 590W...</td>\n",
       "      <td>1055260</td>\n",
       "    </tr>\n",
       "    <tr>\n",
       "      <th>1</th>\n",
       "      <td>삼성전자 비스포크 제트 VS20A956A3</td>\n",
       "      <td>핸디/스틱청소기 / 핸디+스틱형 / 무선형 / 흡입+걸레겸용 / [성능] 흡입력: ...</td>\n",
       "      <td>566410</td>\n",
       "    </tr>\n",
       "    <tr>\n",
       "      <th>2</th>\n",
       "      <td>LG전자 코드제로 ThinQ A9S AS9370IKT</td>\n",
       "      <td>핸디/스틱청소기 / 핸디+스틱형 / 무선형 / 흡입+걸레겸용 / 소비전력: 590W...</td>\n",
       "      <td>784550</td>\n",
       "    </tr>\n",
       "    <tr>\n",
       "      <th>3</th>\n",
       "      <td>샤오미 CLEANFLY 차량용 무선 청소기 4세대 H2 (해외구매)</td>\n",
       "      <td>차량용청소기 / 무선 / 흡입력: 16,800Pa / 최대출력: 120W / 헤파필...</td>\n",
       "      <td>59840</td>\n",
       "    </tr>\n",
       "    <tr>\n",
       "      <th>4</th>\n",
       "      <td>삼성전자 비스포크 제트 VS20A957E3</td>\n",
       "      <td>핸디/스틱청소기 / 핸디+스틱형 / 무선형 / 흡입+걸레겸용 / [성능] 흡입력: ...</td>\n",
       "      <td>903110</td>\n",
       "    </tr>\n",
       "  </tbody>\n",
       "</table>\n",
       "</div>"
      ],
      "text/plain": [
       "                                     상품명  \\\n",
       "0      LG전자 오브제컬렉션 코드제로 ThinQ A9S AO9571   \n",
       "1                삼성전자 비스포크 제트 VS20A956A3   \n",
       "2          LG전자 코드제로 ThinQ A9S AS9370IKT   \n",
       "3  샤오미 CLEANFLY 차량용 무선 청소기 4세대 H2 (해외구매)   \n",
       "4                삼성전자 비스포크 제트 VS20A957E3   \n",
       "\n",
       "                                                스펙목록       가격  \n",
       "0  핸디/스틱청소기 / 핸디+스틱형 / 무선형 / 흡입+걸레겸용 / 소비전력: 590W...  1055260  \n",
       "1  핸디/스틱청소기 / 핸디+스틱형 / 무선형 / 흡입+걸레겸용 / [성능] 흡입력: ...   566410  \n",
       "2  핸디/스틱청소기 / 핸디+스틱형 / 무선형 / 흡입+걸레겸용 / 소비전력: 590W...   784550  \n",
       "3  차량용청소기 / 무선 / 흡입력: 16,800Pa / 최대출력: 120W / 헤파필...    59840  \n",
       "4  핸디/스틱청소기 / 핸디+스틱형 / 무선형 / 흡입+걸레겸용 / [성능] 흡입력: ...   903110  "
      ]
     },
     "execution_count": 194,
     "metadata": {},
     "output_type": "execute_result"
    }
   ],
   "source": [
    "data2 = pd.read_excel('./files/1_danawa_crawling_result_class.xlsx')\n",
    "data2.head()"
   ]
  },
  {
   "cell_type": "markdown",
   "id": "ec558080",
   "metadata": {},
   "source": [
    "#### 상품명에서 회사명, 모델명 분리하기"
   ]
  },
  {
   "cell_type": "code",
   "execution_count": 236,
   "id": "186d4c4d",
   "metadata": {},
   "outputs": [],
   "source": [
    "company_list = []\n",
    "product_list = []\n",
    "\n",
    "for item in data2['상품명']:\n",
    "    company_list.append(item.split(' ')[0])\n",
    "    product_list.append(' '.join(item.split(' ')[1:]))"
   ]
  },
  {
   "cell_type": "markdown",
   "id": "23e853da",
   "metadata": {},
   "source": [
    "#### 스펙목록에서 카테고리, 사용시간, 흡입력 분리하기"
   ]
  },
  {
   "cell_type": "code",
   "execution_count": 162,
   "id": "b10f59c5",
   "metadata": {},
   "outputs": [
    {
     "data": {
      "text/plain": [
       "'210W'"
      ]
     },
     "execution_count": 162,
     "metadata": {},
     "output_type": "execute_result"
    }
   ],
   "source": [
    "data2['스펙목록'][0].split(' / ')[5].split(': ')[1]"
   ]
  },
  {
   "cell_type": "code",
   "execution_count": 196,
   "id": "fb139669",
   "metadata": {},
   "outputs": [],
   "source": [
    "category_list = []\n",
    "use_time_list = []\n",
    "power_list = []\n",
    "\n",
    "for item in data2['스펙목록']:\n",
    "    use_time = None\n",
    "    power = None\n",
    "    \n",
    "    for spec in item.split(' / '):\n",
    "        if '사용시간' in spec:\n",
    "            use_time  = spec.split(': ')[1]\n",
    "        if '흡입력' in spec:\n",
    "            power = spec.split(': ')[1]\n",
    "    \n",
    "    try:\n",
    "        category_list.append(item.split(' / ')[0])\n",
    "    except:\n",
    "        category_list.append(' ')\n",
    "    \n",
    "    use_time_list.append(use_time)\n",
    "    power_list.append(power)"
   ]
  },
  {
   "cell_type": "markdown",
   "id": "f2f60251",
   "metadata": {},
   "source": [
    "#### 무선청소기 사용시간 통일 시키기"
   ]
  },
  {
   "cell_type": "code",
   "execution_count": 203,
   "id": "959ab1b0",
   "metadata": {},
   "outputs": [
    {
     "data": {
      "text/plain": [
       "['10분', '20분', '25분', None, '50분', '1시간', '3시간', '1시간', '1시간', '40분']"
      ]
     },
     "execution_count": 203,
     "metadata": {},
     "output_type": "execute_result"
    }
   ],
   "source": [
    "use_time_list[30:40]"
   ]
  },
  {
   "cell_type": "code",
   "execution_count": 204,
   "id": "7a4426ed",
   "metadata": {},
   "outputs": [],
   "source": [
    "time = use_time_list[33]\n",
    "time"
   ]
  },
  {
   "cell_type": "code",
   "execution_count": 206,
   "id": "a83df20b",
   "metadata": {},
   "outputs": [
    {
     "name": "stdout",
     "output_type": "stream",
     "text": [
      "none\n"
     ]
    }
   ],
   "source": [
    "hour = 0\n",
    "minute = 0\n",
    "try:\n",
    "    if '시간' in time:\n",
    "        hour = int(time.split('시간')[0])\n",
    "        if '분' in time:\n",
    "            minute = int(time.split('시간')[1].replace('분',''))\n",
    "    else:\n",
    "        if '분' in time:\n",
    "            minute = int(time.split('분')[0])\n",
    "            hour = 0\n",
    "        else:\n",
    "            pass\n",
    "except:\n",
    "    print('none')\n",
    "    \n",
    "#print(time , hour*60 + minute, sep = '\\n')"
   ]
  },
  {
   "cell_type": "code",
   "execution_count": 207,
   "id": "153b9a6e",
   "metadata": {},
   "outputs": [],
   "source": [
    "def convert_time_minute(time):\n",
    "    hour = 0\n",
    "    minute = 0\n",
    "    \n",
    "    try:\n",
    "        if '시간' in time:\n",
    "            hour = int(time.split('시간')[0])\n",
    "            if '분' in time:\n",
    "                minute = int(time.split('시간')[1].replace('분',''))\n",
    "        else:\n",
    "            if '분' in time:\n",
    "                minute = int(time.split('분')[0])\n",
    "                hour = 0\n",
    "            else:\n",
    "                return None\n",
    "    except:\n",
    "        return None\n",
    "    \n",
    "    return (hour*60 + minute)"
   ]
  },
  {
   "cell_type": "code",
   "execution_count": 215,
   "id": "a6d1f239",
   "metadata": {},
   "outputs": [],
   "source": [
    "new_use_time_list = []\n",
    "\n",
    "\n",
    "for time in use_time_list:\n",
    "    new_use_time_list.append(convert_time_minute(time))    "
   ]
  },
  {
   "cell_type": "code",
   "execution_count": 217,
   "id": "afcb9a77",
   "metadata": {},
   "outputs": [
    {
     "data": {
      "text/plain": [
       "[10, 20, 25, None, 50, 60, 180, 60, 60, 40]"
      ]
     },
     "execution_count": 217,
     "metadata": {},
     "output_type": "execute_result"
    }
   ],
   "source": [
    "new_use_time_list[30:40]"
   ]
  },
  {
   "cell_type": "code",
   "execution_count": 216,
   "id": "82e7e104",
   "metadata": {},
   "outputs": [
    {
     "data": {
      "text/plain": [
       "['10분', '20분', '25분', None, '50분', '1시간', '3시간', '1시간', '1시간', '40분']"
      ]
     },
     "execution_count": 216,
     "metadata": {},
     "output_type": "execute_result"
    }
   ],
   "source": [
    "use_time_list[30:40]"
   ]
  },
  {
   "cell_type": "markdown",
   "id": "395ed44b",
   "metadata": {},
   "source": [
    "#### 무선청소기 흡입력 단위 통일시키기\n",
    "1W = 1AW = 100PA"
   ]
  },
  {
   "cell_type": "code",
   "execution_count": 219,
   "id": "b0b61886",
   "metadata": {},
   "outputs": [
    {
     "data": {
      "text/plain": [
       "['20000Pa',\n",
       " '15,000Pa',\n",
       " '22000Pa',\n",
       " '210W',\n",
       " None,\n",
       " None,\n",
       " '151AW',\n",
       " '140W',\n",
       " '210W',\n",
       " '210W']"
      ]
     },
     "execution_count": 219,
     "metadata": {},
     "output_type": "execute_result"
    }
   ],
   "source": [
    "power_list[5:15]"
   ]
  },
  {
   "cell_type": "code",
   "execution_count": 231,
   "id": "52cfda8f",
   "metadata": {},
   "outputs": [],
   "source": [
    "def convert_power(power):\n",
    "    try:\n",
    "        if 'Pa' in power:\n",
    "            return float(power.replace(',','').replace('Pa',''))/100\n",
    "        elif 'AW' in power:\n",
    "            return float(power.replace(',','').replace('AW',''))\n",
    "        elif 'W' in power:\n",
    "            return float(power.replace(',','').replace('W',''))\n",
    "    except:\n",
    "        return None"
   ]
  },
  {
   "cell_type": "code",
   "execution_count": 232,
   "id": "90434aa0",
   "metadata": {},
   "outputs": [],
   "source": [
    "new_power_list = []\n",
    "\n",
    "for power in power_list:\n",
    "    new_power_list.append(convert_power(power))"
   ]
  },
  {
   "cell_type": "code",
   "execution_count": 235,
   "id": "bddae1a2",
   "metadata": {},
   "outputs": [
    {
     "data": {
      "text/plain": [
       "[200.0, 150.0, 220.0, 210.0, None, None, 151.0, 140.0, 210.0, 210.0]"
      ]
     },
     "execution_count": 235,
     "metadata": {},
     "output_type": "execute_result"
    }
   ],
   "source": [
    "new_power_list[5:15]"
   ]
  },
  {
   "cell_type": "markdown",
   "id": "fd7d9f27",
   "metadata": {},
   "source": [
    "#### 전처리한 결과 통합하여 저장하기"
   ]
  },
  {
   "cell_type": "code",
   "execution_count": 237,
   "id": "21f19575",
   "metadata": {},
   "outputs": [],
   "source": [
    "pd_data = pd.DataFrame()\n",
    "pd_data['카테고리'] = category_list\n",
    "pd_data['회사명'] = company_list\n",
    "pd_data['제품'] = product_list\n",
    "pd_data['가격'] = data2['가격']\n",
    "pd_data['사용시간'] = new_use_time_list\n",
    "pd_data['흡입력(W)'] = new_power_list"
   ]
  },
  {
   "cell_type": "code",
   "execution_count": 238,
   "id": "e4d13178",
   "metadata": {},
   "outputs": [
    {
     "data": {
      "text/html": [
       "<div>\n",
       "<style scoped>\n",
       "    .dataframe tbody tr th:only-of-type {\n",
       "        vertical-align: middle;\n",
       "    }\n",
       "\n",
       "    .dataframe tbody tr th {\n",
       "        vertical-align: top;\n",
       "    }\n",
       "\n",
       "    .dataframe thead th {\n",
       "        text-align: right;\n",
       "    }\n",
       "</style>\n",
       "<table border=\"1\" class=\"dataframe\">\n",
       "  <thead>\n",
       "    <tr style=\"text-align: right;\">\n",
       "      <th></th>\n",
       "      <th>카테고리</th>\n",
       "      <th>회사명</th>\n",
       "      <th>제품</th>\n",
       "      <th>가격</th>\n",
       "      <th>사용시간</th>\n",
       "      <th>흡입력(W)</th>\n",
       "    </tr>\n",
       "  </thead>\n",
       "  <tbody>\n",
       "    <tr>\n",
       "      <th>0</th>\n",
       "      <td>핸디/스틱청소기</td>\n",
       "      <td>LG전자</td>\n",
       "      <td>오브제컬렉션 코드제로 ThinQ A9S AO9571</td>\n",
       "      <td>1055260</td>\n",
       "      <td>60.0</td>\n",
       "      <td>210.0</td>\n",
       "    </tr>\n",
       "    <tr>\n",
       "      <th>1</th>\n",
       "      <td>핸디/스틱청소기</td>\n",
       "      <td>삼성전자</td>\n",
       "      <td>비스포크 제트 VS20A956A3</td>\n",
       "      <td>566410</td>\n",
       "      <td>60.0</td>\n",
       "      <td>210.0</td>\n",
       "    </tr>\n",
       "    <tr>\n",
       "      <th>2</th>\n",
       "      <td>핸디/스틱청소기</td>\n",
       "      <td>LG전자</td>\n",
       "      <td>코드제로 ThinQ A9S AS9370IKT</td>\n",
       "      <td>784550</td>\n",
       "      <td>60.0</td>\n",
       "      <td>210.0</td>\n",
       "    </tr>\n",
       "    <tr>\n",
       "      <th>3</th>\n",
       "      <td>차량용청소기</td>\n",
       "      <td>샤오미</td>\n",
       "      <td>CLEANFLY 차량용 무선 청소기 4세대 H2 (해외구매)</td>\n",
       "      <td>59840</td>\n",
       "      <td>30.0</td>\n",
       "      <td>168.0</td>\n",
       "    </tr>\n",
       "    <tr>\n",
       "      <th>4</th>\n",
       "      <td>핸디/스틱청소기</td>\n",
       "      <td>삼성전자</td>\n",
       "      <td>비스포크 제트 VS20A957E3</td>\n",
       "      <td>903110</td>\n",
       "      <td>60.0</td>\n",
       "      <td>210.0</td>\n",
       "    </tr>\n",
       "  </tbody>\n",
       "</table>\n",
       "</div>"
      ],
      "text/plain": [
       "       카테고리   회사명                                 제품       가격  사용시간  흡입력(W)\n",
       "0  핸디/스틱청소기  LG전자       오브제컬렉션 코드제로 ThinQ A9S AO9571  1055260  60.0   210.0\n",
       "1  핸디/스틱청소기  삼성전자                 비스포크 제트 VS20A956A3   566410  60.0   210.0\n",
       "2  핸디/스틱청소기  LG전자           코드제로 ThinQ A9S AS9370IKT   784550  60.0   210.0\n",
       "3    차량용청소기   샤오미  CLEANFLY 차량용 무선 청소기 4세대 H2 (해외구매)    59840  30.0   168.0\n",
       "4  핸디/스틱청소기  삼성전자                 비스포크 제트 VS20A957E3   903110  60.0   210.0"
      ]
     },
     "execution_count": 238,
     "metadata": {},
     "output_type": "execute_result"
    }
   ],
   "source": [
    "pd_data.head()"
   ]
  },
  {
   "cell_type": "code",
   "execution_count": 242,
   "id": "f002e88d",
   "metadata": {},
   "outputs": [],
   "source": [
    "pd_data.to_excel('./files/2_danawa_data_final_class.xlsx', index = False)"
   ]
  },
  {
   "cell_type": "markdown",
   "id": "41cb8c08",
   "metadata": {},
   "source": [
    "### 04 무선 청소기 모델별 비교 분석"
   ]
  },
  {
   "cell_type": "code",
   "execution_count": 243,
   "id": "b10bba9b",
   "metadata": {},
   "outputs": [
    {
     "data": {
      "text/html": [
       "<div>\n",
       "<style scoped>\n",
       "    .dataframe tbody tr th:only-of-type {\n",
       "        vertical-align: middle;\n",
       "    }\n",
       "\n",
       "    .dataframe tbody tr th {\n",
       "        vertical-align: top;\n",
       "    }\n",
       "\n",
       "    .dataframe thead th {\n",
       "        text-align: right;\n",
       "    }\n",
       "</style>\n",
       "<table border=\"1\" class=\"dataframe\">\n",
       "  <thead>\n",
       "    <tr style=\"text-align: right;\">\n",
       "      <th></th>\n",
       "      <th>카테고리</th>\n",
       "      <th>회사명</th>\n",
       "      <th>제품</th>\n",
       "      <th>가격</th>\n",
       "      <th>사용시간</th>\n",
       "      <th>흡입력(W)</th>\n",
       "    </tr>\n",
       "  </thead>\n",
       "  <tbody>\n",
       "    <tr>\n",
       "      <th>0</th>\n",
       "      <td>핸디/스틱청소기</td>\n",
       "      <td>LG전자</td>\n",
       "      <td>오브제컬렉션 코드제로 ThinQ A9S AO9571</td>\n",
       "      <td>1055260</td>\n",
       "      <td>60.0</td>\n",
       "      <td>210.0</td>\n",
       "    </tr>\n",
       "    <tr>\n",
       "      <th>1</th>\n",
       "      <td>핸디/스틱청소기</td>\n",
       "      <td>삼성전자</td>\n",
       "      <td>비스포크 제트 VS20A956A3</td>\n",
       "      <td>566410</td>\n",
       "      <td>60.0</td>\n",
       "      <td>210.0</td>\n",
       "    </tr>\n",
       "    <tr>\n",
       "      <th>2</th>\n",
       "      <td>핸디/스틱청소기</td>\n",
       "      <td>LG전자</td>\n",
       "      <td>코드제로 ThinQ A9S AS9370IKT</td>\n",
       "      <td>784550</td>\n",
       "      <td>60.0</td>\n",
       "      <td>210.0</td>\n",
       "    </tr>\n",
       "    <tr>\n",
       "      <th>3</th>\n",
       "      <td>차량용청소기</td>\n",
       "      <td>샤오미</td>\n",
       "      <td>CLEANFLY 차량용 무선 청소기 4세대 H2 (해외구매)</td>\n",
       "      <td>59840</td>\n",
       "      <td>30.0</td>\n",
       "      <td>168.0</td>\n",
       "    </tr>\n",
       "    <tr>\n",
       "      <th>4</th>\n",
       "      <td>핸디/스틱청소기</td>\n",
       "      <td>삼성전자</td>\n",
       "      <td>비스포크 제트 VS20A957E3</td>\n",
       "      <td>903110</td>\n",
       "      <td>60.0</td>\n",
       "      <td>210.0</td>\n",
       "    </tr>\n",
       "  </tbody>\n",
       "</table>\n",
       "</div>"
      ],
      "text/plain": [
       "       카테고리   회사명                                 제품       가격  사용시간  흡입력(W)\n",
       "0  핸디/스틱청소기  LG전자       오브제컬렉션 코드제로 ThinQ A9S AO9571  1055260  60.0   210.0\n",
       "1  핸디/스틱청소기  삼성전자                 비스포크 제트 VS20A956A3   566410  60.0   210.0\n",
       "2  핸디/스틱청소기  LG전자           코드제로 ThinQ A9S AS9370IKT   784550  60.0   210.0\n",
       "3    차량용청소기   샤오미  CLEANFLY 차량용 무선 청소기 4세대 H2 (해외구매)    59840  30.0   168.0\n",
       "4  핸디/스틱청소기  삼성전자                 비스포크 제트 VS20A957E3   903110  60.0   210.0"
      ]
     },
     "execution_count": 243,
     "metadata": {},
     "output_type": "execute_result"
    }
   ],
   "source": [
    "danawa_data = pd.read_excel('./files/2_danawa_data_final_class.xlsx')\n",
    "danawa_data.head()"
   ]
  },
  {
   "cell_type": "code",
   "execution_count": 245,
   "id": "1e7730ea",
   "metadata": {},
   "outputs": [
    {
     "data": {
      "text/html": [
       "<div>\n",
       "<style scoped>\n",
       "    .dataframe tbody tr th:only-of-type {\n",
       "        vertical-align: middle;\n",
       "    }\n",
       "\n",
       "    .dataframe tbody tr th {\n",
       "        vertical-align: top;\n",
       "    }\n",
       "\n",
       "    .dataframe thead th {\n",
       "        text-align: right;\n",
       "    }\n",
       "</style>\n",
       "<table border=\"1\" class=\"dataframe\">\n",
       "  <thead>\n",
       "    <tr style=\"text-align: right;\">\n",
       "      <th></th>\n",
       "      <th>카테고리</th>\n",
       "      <th>회사명</th>\n",
       "      <th>제품</th>\n",
       "      <th>가격</th>\n",
       "      <th>사용시간</th>\n",
       "      <th>흡입력(W)</th>\n",
       "    </tr>\n",
       "  </thead>\n",
       "  <tbody>\n",
       "    <tr>\n",
       "      <th>370</th>\n",
       "      <td>업소용청소기</td>\n",
       "      <td>미닛츠</td>\n",
       "      <td>YS-MI2021VC</td>\n",
       "      <td>229000</td>\n",
       "      <td>NaN</td>\n",
       "      <td>1200.0</td>\n",
       "    </tr>\n",
       "    <tr>\n",
       "      <th>215</th>\n",
       "      <td>핸디/스틱청소기</td>\n",
       "      <td>리하스</td>\n",
       "      <td>LH20</td>\n",
       "      <td>184000</td>\n",
       "      <td>120.0</td>\n",
       "      <td>330.0</td>\n",
       "    </tr>\n",
       "    <tr>\n",
       "      <th>305</th>\n",
       "      <td>핸디/스틱청소기</td>\n",
       "      <td>비브르</td>\n",
       "      <td>스톰파워 VE35</td>\n",
       "      <td>235000</td>\n",
       "      <td>NaN</td>\n",
       "      <td>310.0</td>\n",
       "    </tr>\n",
       "    <tr>\n",
       "      <th>197</th>\n",
       "      <td>핸디/스틱청소기</td>\n",
       "      <td>아이닉</td>\n",
       "      <td>NEW i20</td>\n",
       "      <td>188000</td>\n",
       "      <td>50.0</td>\n",
       "      <td>300.0</td>\n",
       "    </tr>\n",
       "    <tr>\n",
       "      <th>336</th>\n",
       "      <td>핸디/스틱청소기</td>\n",
       "      <td>캐치웰</td>\n",
       "      <td>NEW F8</td>\n",
       "      <td>189000</td>\n",
       "      <td>25.0</td>\n",
       "      <td>290.0</td>\n",
       "    </tr>\n",
       "  </tbody>\n",
       "</table>\n",
       "</div>"
      ],
      "text/plain": [
       "         카테고리  회사명           제품      가격   사용시간  흡입력(W)\n",
       "370    업소용청소기  미닛츠  YS-MI2021VC  229000    NaN  1200.0\n",
       "215  핸디/스틱청소기  리하스         LH20  184000  120.0   330.0\n",
       "305  핸디/스틱청소기  비브르    스톰파워 VE35  235000    NaN   310.0\n",
       "197  핸디/스틱청소기  아이닉      NEW i20  188000   50.0   300.0\n",
       "336  핸디/스틱청소기  캐치웰       NEW F8  189000   25.0   290.0"
      ]
     },
     "execution_count": 245,
     "metadata": {},
     "output_type": "execute_result"
    }
   ],
   "source": [
    "top_list = danawa_data.sort_values([\"흡입력(W)\"], ascending = False)\n",
    "top_list.head()"
   ]
  },
  {
   "cell_type": "code",
   "execution_count": 246,
   "id": "0f13de95",
   "metadata": {},
   "outputs": [
    {
     "data": {
      "text/html": [
       "<div>\n",
       "<style scoped>\n",
       "    .dataframe tbody tr th:only-of-type {\n",
       "        vertical-align: middle;\n",
       "    }\n",
       "\n",
       "    .dataframe tbody tr th {\n",
       "        vertical-align: top;\n",
       "    }\n",
       "\n",
       "    .dataframe thead th {\n",
       "        text-align: right;\n",
       "    }\n",
       "</style>\n",
       "<table border=\"1\" class=\"dataframe\">\n",
       "  <thead>\n",
       "    <tr style=\"text-align: right;\">\n",
       "      <th></th>\n",
       "      <th>카테고리</th>\n",
       "      <th>회사명</th>\n",
       "      <th>제품</th>\n",
       "      <th>가격</th>\n",
       "      <th>사용시간</th>\n",
       "      <th>흡입력(W)</th>\n",
       "    </tr>\n",
       "  </thead>\n",
       "  <tbody>\n",
       "    <tr>\n",
       "      <th>169</th>\n",
       "      <td>물걸레청소기</td>\n",
       "      <td>로엘</td>\n",
       "      <td>듀스핀2</td>\n",
       "      <td>62950</td>\n",
       "      <td>300.0</td>\n",
       "      <td>NaN</td>\n",
       "    </tr>\n",
       "    <tr>\n",
       "      <th>44</th>\n",
       "      <td>욕실청소기</td>\n",
       "      <td>한샘</td>\n",
       "      <td>트리플 플러스 2.0 QNBC-6000W</td>\n",
       "      <td>65010</td>\n",
       "      <td>240.0</td>\n",
       "      <td>NaN</td>\n",
       "    </tr>\n",
       "    <tr>\n",
       "      <th>165</th>\n",
       "      <td>물걸레청소기</td>\n",
       "      <td>로엘</td>\n",
       "      <td>듀스핀</td>\n",
       "      <td>59900</td>\n",
       "      <td>240.0</td>\n",
       "      <td>NaN</td>\n",
       "    </tr>\n",
       "    <tr>\n",
       "      <th>36</th>\n",
       "      <td>물걸레청소기</td>\n",
       "      <td>로엘</td>\n",
       "      <td>듀스핀3 PRO</td>\n",
       "      <td>177900</td>\n",
       "      <td>180.0</td>\n",
       "      <td>NaN</td>\n",
       "    </tr>\n",
       "    <tr>\n",
       "      <th>215</th>\n",
       "      <td>핸디/스틱청소기</td>\n",
       "      <td>리하스</td>\n",
       "      <td>LH20</td>\n",
       "      <td>184000</td>\n",
       "      <td>120.0</td>\n",
       "      <td>330.0</td>\n",
       "    </tr>\n",
       "  </tbody>\n",
       "</table>\n",
       "</div>"
      ],
      "text/plain": [
       "         카테고리  회사명                      제품      가격   사용시간  흡입력(W)\n",
       "169    물걸레청소기   로엘                    듀스핀2   62950  300.0     NaN\n",
       "44      욕실청소기   한샘  트리플 플러스 2.0 QNBC-6000W   65010  240.0     NaN\n",
       "165    물걸레청소기   로엘                     듀스핀   59900  240.0     NaN\n",
       "36     물걸레청소기   로엘                듀스핀3 PRO  177900  180.0     NaN\n",
       "215  핸디/스틱청소기  리하스                    LH20  184000  120.0   330.0"
      ]
     },
     "execution_count": 246,
     "metadata": {},
     "output_type": "execute_result"
    }
   ],
   "source": [
    "top_list = danawa_data.sort_values([\"사용시간\"], ascending = False)\n",
    "top_list.head()"
   ]
  },
  {
   "cell_type": "code",
   "execution_count": 247,
   "id": "c7b1461d",
   "metadata": {},
   "outputs": [
    {
     "data": {
      "text/html": [
       "<div>\n",
       "<style scoped>\n",
       "    .dataframe tbody tr th:only-of-type {\n",
       "        vertical-align: middle;\n",
       "    }\n",
       "\n",
       "    .dataframe tbody tr th {\n",
       "        vertical-align: top;\n",
       "    }\n",
       "\n",
       "    .dataframe thead th {\n",
       "        text-align: right;\n",
       "    }\n",
       "</style>\n",
       "<table border=\"1\" class=\"dataframe\">\n",
       "  <thead>\n",
       "    <tr style=\"text-align: right;\">\n",
       "      <th></th>\n",
       "      <th>카테고리</th>\n",
       "      <th>회사명</th>\n",
       "      <th>제품</th>\n",
       "      <th>가격</th>\n",
       "      <th>사용시간</th>\n",
       "      <th>흡입력(W)</th>\n",
       "    </tr>\n",
       "  </thead>\n",
       "  <tbody>\n",
       "    <tr>\n",
       "      <th>169</th>\n",
       "      <td>물걸레청소기</td>\n",
       "      <td>로엘</td>\n",
       "      <td>듀스핀2</td>\n",
       "      <td>62950</td>\n",
       "      <td>300.0</td>\n",
       "      <td>NaN</td>\n",
       "    </tr>\n",
       "    <tr>\n",
       "      <th>44</th>\n",
       "      <td>욕실청소기</td>\n",
       "      <td>한샘</td>\n",
       "      <td>트리플 플러스 2.0 QNBC-6000W</td>\n",
       "      <td>65010</td>\n",
       "      <td>240.0</td>\n",
       "      <td>NaN</td>\n",
       "    </tr>\n",
       "    <tr>\n",
       "      <th>165</th>\n",
       "      <td>물걸레청소기</td>\n",
       "      <td>로엘</td>\n",
       "      <td>듀스핀</td>\n",
       "      <td>59900</td>\n",
       "      <td>240.0</td>\n",
       "      <td>NaN</td>\n",
       "    </tr>\n",
       "    <tr>\n",
       "      <th>36</th>\n",
       "      <td>물걸레청소기</td>\n",
       "      <td>로엘</td>\n",
       "      <td>듀스핀3 PRO</td>\n",
       "      <td>177900</td>\n",
       "      <td>180.0</td>\n",
       "      <td>NaN</td>\n",
       "    </tr>\n",
       "    <tr>\n",
       "      <th>215</th>\n",
       "      <td>핸디/스틱청소기</td>\n",
       "      <td>리하스</td>\n",
       "      <td>LH20</td>\n",
       "      <td>184000</td>\n",
       "      <td>120.0</td>\n",
       "      <td>330.0</td>\n",
       "    </tr>\n",
       "  </tbody>\n",
       "</table>\n",
       "</div>"
      ],
      "text/plain": [
       "         카테고리  회사명                      제품      가격   사용시간  흡입력(W)\n",
       "169    물걸레청소기   로엘                    듀스핀2   62950  300.0     NaN\n",
       "44      욕실청소기   한샘  트리플 플러스 2.0 QNBC-6000W   65010  240.0     NaN\n",
       "165    물걸레청소기   로엘                     듀스핀   59900  240.0     NaN\n",
       "36     물걸레청소기   로엘                듀스핀3 PRO  177900  180.0     NaN\n",
       "215  핸디/스틱청소기  리하스                    LH20  184000  120.0   330.0"
      ]
     },
     "execution_count": 247,
     "metadata": {},
     "output_type": "execute_result"
    }
   ],
   "source": [
    "top_list = danawa_data.sort_values([\"사용시간\",\"흡입력(W)\"], ascending = False)\n",
    "top_list.head()"
   ]
  },
  {
   "cell_type": "code",
   "execution_count": 249,
   "id": "9b917c9d",
   "metadata": {},
   "outputs": [
    {
     "name": "stdout",
     "output_type": "stream",
     "text": [
      "가격 평균값 296125.35\n",
      "흡입력 평균값 157.364406779661\n",
      "사용시간 평균값 44.98011363636363\n"
     ]
    }
   ],
   "source": [
    "price_mean_value = danawa_data['가격'].mean()\n",
    "suction_mean_value = danawa_data['흡입력(W)'].mean()\n",
    "use_time_mean_value = danawa_data['사용시간'].mean()\n",
    "print(\"가격 평균값\", price_mean_value)\n",
    "print(\"흡입력 평균값\", suction_mean_value)\n",
    "print(\"사용시간 평균값\", use_time_mean_value)"
   ]
  },
  {
   "cell_type": "code",
   "execution_count": 251,
   "id": "af418cb8",
   "metadata": {},
   "outputs": [
    {
     "data": {
      "text/html": [
       "<div>\n",
       "<style scoped>\n",
       "    .dataframe tbody tr th:only-of-type {\n",
       "        vertical-align: middle;\n",
       "    }\n",
       "\n",
       "    .dataframe tbody tr th {\n",
       "        vertical-align: top;\n",
       "    }\n",
       "\n",
       "    .dataframe thead th {\n",
       "        text-align: right;\n",
       "    }\n",
       "</style>\n",
       "<table border=\"1\" class=\"dataframe\">\n",
       "  <thead>\n",
       "    <tr style=\"text-align: right;\">\n",
       "      <th></th>\n",
       "      <th>카테고리</th>\n",
       "      <th>회사명</th>\n",
       "      <th>제품</th>\n",
       "      <th>가격</th>\n",
       "      <th>사용시간</th>\n",
       "      <th>흡입력(W)</th>\n",
       "    </tr>\n",
       "  </thead>\n",
       "  <tbody>\n",
       "    <tr>\n",
       "      <th>5</th>\n",
       "      <td>핸디/스틱청소기</td>\n",
       "      <td>샤오미</td>\n",
       "      <td>TROUVER POWER 11</td>\n",
       "      <td>73950</td>\n",
       "      <td>60.0</td>\n",
       "      <td>200.0</td>\n",
       "    </tr>\n",
       "    <tr>\n",
       "      <th>7</th>\n",
       "      <td>핸디/스틱청소기</td>\n",
       "      <td>샤오미</td>\n",
       "      <td>드리미 V10</td>\n",
       "      <td>155700</td>\n",
       "      <td>60.0</td>\n",
       "      <td>220.0</td>\n",
       "    </tr>\n",
       "    <tr>\n",
       "      <th>17</th>\n",
       "      <td>핸디/스틱청소기</td>\n",
       "      <td>델로라</td>\n",
       "      <td>V11 파워 300W</td>\n",
       "      <td>104990</td>\n",
       "      <td>70.0</td>\n",
       "      <td>220.0</td>\n",
       "    </tr>\n",
       "    <tr>\n",
       "      <th>23</th>\n",
       "      <td>핸디/스틱청소기</td>\n",
       "      <td>DIBEA</td>\n",
       "      <td>차이슨 ALLNEW29000</td>\n",
       "      <td>248000</td>\n",
       "      <td>48.0</td>\n",
       "      <td>290.0</td>\n",
       "    </tr>\n",
       "    <tr>\n",
       "      <th>28</th>\n",
       "      <td>핸디/스틱청소기</td>\n",
       "      <td>샤오미</td>\n",
       "      <td>드리미 V12</td>\n",
       "      <td>282060</td>\n",
       "      <td>90.0</td>\n",
       "      <td>270.0</td>\n",
       "    </tr>\n",
       "    <tr>\n",
       "      <th>29</th>\n",
       "      <td>핸디/스틱청소기</td>\n",
       "      <td>샤오미</td>\n",
       "      <td>드리미 V11</td>\n",
       "      <td>194880</td>\n",
       "      <td>90.0</td>\n",
       "      <td>250.0</td>\n",
       "    </tr>\n",
       "    <tr>\n",
       "      <th>34</th>\n",
       "      <td>핸디/스틱청소기</td>\n",
       "      <td>DIBEA</td>\n",
       "      <td>M24 MAX</td>\n",
       "      <td>139000</td>\n",
       "      <td>50.0</td>\n",
       "      <td>250.0</td>\n",
       "    </tr>\n",
       "    <tr>\n",
       "      <th>50</th>\n",
       "      <td>핸디/스틱청소기</td>\n",
       "      <td>샤오미</td>\n",
       "      <td>드리미 V11SE</td>\n",
       "      <td>180430</td>\n",
       "      <td>60.0</td>\n",
       "      <td>240.0</td>\n",
       "    </tr>\n",
       "    <tr>\n",
       "      <th>57</th>\n",
       "      <td>핸디/스틱청소기</td>\n",
       "      <td>샤오미</td>\n",
       "      <td>TROUVER POWER 12</td>\n",
       "      <td>169650</td>\n",
       "      <td>60.0</td>\n",
       "      <td>220.0</td>\n",
       "    </tr>\n",
       "    <tr>\n",
       "      <th>148</th>\n",
       "      <td>핸디/스틱청소기</td>\n",
       "      <td>샤오미</td>\n",
       "      <td>G10</td>\n",
       "      <td>256950</td>\n",
       "      <td>65.0</td>\n",
       "      <td>250.0</td>\n",
       "    </tr>\n",
       "    <tr>\n",
       "      <th>155</th>\n",
       "      <td>핸디/스틱청소기</td>\n",
       "      <td>아이룸</td>\n",
       "      <td>KHAN A15</td>\n",
       "      <td>168000</td>\n",
       "      <td>50.0</td>\n",
       "      <td>250.0</td>\n",
       "    </tr>\n",
       "    <tr>\n",
       "      <th>159</th>\n",
       "      <td>핸디/스틱청소기</td>\n",
       "      <td>캐치웰</td>\n",
       "      <td>VX11</td>\n",
       "      <td>149000</td>\n",
       "      <td>60.0</td>\n",
       "      <td>200.0</td>\n",
       "    </tr>\n",
       "    <tr>\n",
       "      <th>197</th>\n",
       "      <td>핸디/스틱청소기</td>\n",
       "      <td>아이닉</td>\n",
       "      <td>NEW i20</td>\n",
       "      <td>188000</td>\n",
       "      <td>50.0</td>\n",
       "      <td>300.0</td>\n",
       "    </tr>\n",
       "    <tr>\n",
       "      <th>202</th>\n",
       "      <td>핸디/스틱청소기</td>\n",
       "      <td>샤오미</td>\n",
       "      <td>로이드미 Z1 Air</td>\n",
       "      <td>199000</td>\n",
       "      <td>60.0</td>\n",
       "      <td>220.0</td>\n",
       "    </tr>\n",
       "    <tr>\n",
       "      <th>215</th>\n",
       "      <td>핸디/스틱청소기</td>\n",
       "      <td>리하스</td>\n",
       "      <td>LH20</td>\n",
       "      <td>184000</td>\n",
       "      <td>120.0</td>\n",
       "      <td>330.0</td>\n",
       "    </tr>\n",
       "    <tr>\n",
       "      <th>233</th>\n",
       "      <td>핸디/스틱청소기</td>\n",
       "      <td>DIBEA</td>\n",
       "      <td>X20</td>\n",
       "      <td>199000</td>\n",
       "      <td>50.0</td>\n",
       "      <td>200.0</td>\n",
       "    </tr>\n",
       "    <tr>\n",
       "      <th>255</th>\n",
       "      <td>핸디/스틱청소기</td>\n",
       "      <td>DIBEA</td>\n",
       "      <td>TSX-25000A</td>\n",
       "      <td>186190</td>\n",
       "      <td>45.0</td>\n",
       "      <td>250.0</td>\n",
       "    </tr>\n",
       "    <tr>\n",
       "      <th>259</th>\n",
       "      <td>핸디/스틱청소기</td>\n",
       "      <td>DIBEA</td>\n",
       "      <td>올인원25000</td>\n",
       "      <td>170050</td>\n",
       "      <td>55.0</td>\n",
       "      <td>250.0</td>\n",
       "    </tr>\n",
       "    <tr>\n",
       "      <th>291</th>\n",
       "      <td>핸디/스틱청소기</td>\n",
       "      <td>샤오미</td>\n",
       "      <td>TROUVER TECH SOLO10</td>\n",
       "      <td>78690</td>\n",
       "      <td>48.0</td>\n",
       "      <td>180.0</td>\n",
       "    </tr>\n",
       "    <tr>\n",
       "      <th>304</th>\n",
       "      <td>핸디/스틱청소기</td>\n",
       "      <td>DIBEA</td>\n",
       "      <td>M500 퀀텀</td>\n",
       "      <td>184990</td>\n",
       "      <td>50.0</td>\n",
       "      <td>250.0</td>\n",
       "    </tr>\n",
       "    <tr>\n",
       "      <th>317</th>\n",
       "      <td>핸디/스틱청소기</td>\n",
       "      <td>캐치웰</td>\n",
       "      <td>CX11</td>\n",
       "      <td>159000</td>\n",
       "      <td>60.0</td>\n",
       "      <td>200.0</td>\n",
       "    </tr>\n",
       "    <tr>\n",
       "      <th>331</th>\n",
       "      <td>핸디/스틱청소기</td>\n",
       "      <td>샤오미</td>\n",
       "      <td>VIOMI A9 V-HWVC12A</td>\n",
       "      <td>248400</td>\n",
       "      <td>60.0</td>\n",
       "      <td>230.0</td>\n",
       "    </tr>\n",
       "    <tr>\n",
       "      <th>365</th>\n",
       "      <td>핸디/스틱청소기</td>\n",
       "      <td>DIBEA</td>\n",
       "      <td>M500 클래스</td>\n",
       "      <td>169000</td>\n",
       "      <td>50.0</td>\n",
       "      <td>200.0</td>\n",
       "    </tr>\n",
       "    <tr>\n",
       "      <th>382</th>\n",
       "      <td>핸디/스틱청소기</td>\n",
       "      <td>DIBEA</td>\n",
       "      <td>X30</td>\n",
       "      <td>189000</td>\n",
       "      <td>50.0</td>\n",
       "      <td>250.0</td>\n",
       "    </tr>\n",
       "  </tbody>\n",
       "</table>\n",
       "</div>"
      ],
      "text/plain": [
       "         카테고리    회사명                   제품      가격   사용시간  흡입력(W)\n",
       "5    핸디/스틱청소기    샤오미     TROUVER POWER 11   73950   60.0   200.0\n",
       "7    핸디/스틱청소기    샤오미              드리미 V10  155700   60.0   220.0\n",
       "17   핸디/스틱청소기    델로라          V11 파워 300W  104990   70.0   220.0\n",
       "23   핸디/스틱청소기  DIBEA      차이슨 ALLNEW29000  248000   48.0   290.0\n",
       "28   핸디/스틱청소기    샤오미              드리미 V12  282060   90.0   270.0\n",
       "29   핸디/스틱청소기    샤오미              드리미 V11  194880   90.0   250.0\n",
       "34   핸디/스틱청소기  DIBEA              M24 MAX  139000   50.0   250.0\n",
       "50   핸디/스틱청소기    샤오미            드리미 V11SE  180430   60.0   240.0\n",
       "57   핸디/스틱청소기    샤오미     TROUVER POWER 12  169650   60.0   220.0\n",
       "148  핸디/스틱청소기    샤오미                  G10  256950   65.0   250.0\n",
       "155  핸디/스틱청소기    아이룸             KHAN A15  168000   50.0   250.0\n",
       "159  핸디/스틱청소기    캐치웰                 VX11  149000   60.0   200.0\n",
       "197  핸디/스틱청소기    아이닉              NEW i20  188000   50.0   300.0\n",
       "202  핸디/스틱청소기    샤오미          로이드미 Z1 Air  199000   60.0   220.0\n",
       "215  핸디/스틱청소기    리하스                 LH20  184000  120.0   330.0\n",
       "233  핸디/스틱청소기  DIBEA                  X20  199000   50.0   200.0\n",
       "255  핸디/스틱청소기  DIBEA           TSX-25000A  186190   45.0   250.0\n",
       "259  핸디/스틱청소기  DIBEA             올인원25000  170050   55.0   250.0\n",
       "291  핸디/스틱청소기    샤오미  TROUVER TECH SOLO10   78690   48.0   180.0\n",
       "304  핸디/스틱청소기  DIBEA              M500 퀀텀  184990   50.0   250.0\n",
       "317  핸디/스틱청소기    캐치웰                 CX11  159000   60.0   200.0\n",
       "331  핸디/스틱청소기    샤오미   VIOMI A9 V-HWVC12A  248400   60.0   230.0\n",
       "365  핸디/스틱청소기  DIBEA             M500 클래스  169000   50.0   200.0\n",
       "382  핸디/스틱청소기  DIBEA                  X30  189000   50.0   250.0"
      ]
     },
     "execution_count": 251,
     "metadata": {},
     "output_type": "execute_result"
    }
   ],
   "source": [
    "condition_data = danawa_data [\n",
    "    (danawa_data['가격'] <= price_mean_value) & \n",
    "    (danawa_data['흡입력(W)'] >= suction_mean_value) & \n",
    "    (danawa_data['사용시간'] >= use_time_mean_value)]\n",
    "condition_data"
   ]
  },
  {
   "cell_type": "markdown",
   "id": "07252d7c",
   "metadata": {},
   "source": [
    "#### 데이터 시각화하기"
   ]
  },
  {
   "cell_type": "code",
   "execution_count": 253,
   "id": "a753dfc5",
   "metadata": {},
   "outputs": [],
   "source": [
    "from matplotlib import font_manager, rc\n",
    "import matplotlib.pyplot as plt\n",
    "import seaborn as sns\n",
    "import platform\n",
    "\n",
    "# 그래프에서 한글 표기를 위한 글꼴 변경(윈도우, macOS에 대해 처리)\n",
    "font_path = ''\n",
    "if platform.system() == 'Windows': \n",
    "    font_path = 'c:/Windows/Fonts/malgun.ttf'\n",
    "    font_name = font_manager.FontProperties(fname = font_path).get_name()\n",
    "    rc('font', family = font_name)\n",
    "elif platform.system() == 'Darwin':\n",
    "    font_path = '/Users/$USER/Library/Fonts/AppleGothic.ttf'\n",
    "    rc('font', family = 'AppleGothic')\n",
    "else: \n",
    "    print('Check your OS system')"
   ]
  },
  {
   "cell_type": "markdown",
   "id": "dbee3567",
   "metadata": {},
   "source": [
    "#### 결측치(NA) 제거"
   ]
  },
  {
   "cell_type": "code",
   "execution_count": 255,
   "id": "7f62ebca",
   "metadata": {},
   "outputs": [
    {
     "data": {
      "text/plain": [
       "212"
      ]
     },
     "execution_count": 255,
     "metadata": {},
     "output_type": "execute_result"
    }
   ],
   "source": [
    "chart_data = danawa_data.dropna(axis = 0)\n",
    "len(chart_data)"
   ]
  },
  {
   "cell_type": "code",
   "execution_count": 257,
   "id": "7973ab84",
   "metadata": {},
   "outputs": [],
   "source": [
    "suction_max_value = chart_data['흡입력(W)'].max()\n",
    "suction_mean_value = chart_data['흡입력(W)'].mean()\n",
    "use_time_max_value = chart_data['사용시간'].max()\n",
    "use_time_mean_value = chart_data['사용시간'].mean()"
   ]
  },
  {
   "cell_type": "code",
   "execution_count": 259,
   "id": "cfac7abc",
   "metadata": {},
   "outputs": [
    {
     "data": {
      "image/png": "[encoded data removed]",
      "text/plain": [
       "<Figure size 1440x720 with 1 Axes>"
      ]
     },
     "metadata": {
      "needs_background": "light"
     },
     "output_type": "display_data"
    }
   ],
   "source": [
    "plt.figure(figsize=(20, 10))\n",
    "plt.title(\"무선 핸디/스틱청소기 차트\")\n",
    "sns.scatterplot(x = '흡입력(W)', y = '사용시간', size = '가격', hue = chart_data['회사명'], \n",
    "             data = chart_data, sizes = (10, 1000), legend = False)\n",
    "plt.plot([0, suction_max_value], \n",
    "          [use_time_mean_value, use_time_mean_value], \n",
    "          'r--', \n",
    "          lw = 1 )\n",
    "plt.plot([suction_mean_value, suction_mean_value], \n",
    "          [0, use_time_max_value], \n",
    "          'r--', \n",
    "          lw = 1 )\n",
    "plt.show()"
   ]
  },
  {
   "cell_type": "markdown",
   "id": "84315ed7",
   "metadata": {},
   "source": [
    "#### 인기제품의 데이터 시각화"
   ]
  },
  {
   "cell_type": "code",
   "execution_count": 265,
   "id": "a122ea49",
   "metadata": {},
   "outputs": [
    {
     "data": {
      "text/html": [
       "<div>\n",
       "<style scoped>\n",
       "    .dataframe tbody tr th:only-of-type {\n",
       "        vertical-align: middle;\n",
       "    }\n",
       "\n",
       "    .dataframe tbody tr th {\n",
       "        vertical-align: top;\n",
       "    }\n",
       "\n",
       "    .dataframe thead th {\n",
       "        text-align: right;\n",
       "    }\n",
       "</style>\n",
       "<table border=\"1\" class=\"dataframe\">\n",
       "  <thead>\n",
       "    <tr style=\"text-align: right;\">\n",
       "      <th></th>\n",
       "      <th>카테고리</th>\n",
       "      <th>회사명</th>\n",
       "      <th>제품</th>\n",
       "      <th>가격</th>\n",
       "      <th>사용시간</th>\n",
       "      <th>흡입력(W)</th>\n",
       "    </tr>\n",
       "  </thead>\n",
       "  <tbody>\n",
       "    <tr>\n",
       "      <th>0</th>\n",
       "      <td>핸디/스틱청소기</td>\n",
       "      <td>LG전자</td>\n",
       "      <td>오브제컬렉션 코드제로 ThinQ A9S AO9571</td>\n",
       "      <td>1055260</td>\n",
       "      <td>60.0</td>\n",
       "      <td>210.0</td>\n",
       "    </tr>\n",
       "    <tr>\n",
       "      <th>1</th>\n",
       "      <td>핸디/스틱청소기</td>\n",
       "      <td>삼성전자</td>\n",
       "      <td>비스포크 제트 VS20A956A3</td>\n",
       "      <td>566410</td>\n",
       "      <td>60.0</td>\n",
       "      <td>210.0</td>\n",
       "    </tr>\n",
       "    <tr>\n",
       "      <th>2</th>\n",
       "      <td>핸디/스틱청소기</td>\n",
       "      <td>LG전자</td>\n",
       "      <td>코드제로 ThinQ A9S AS9370IKT</td>\n",
       "      <td>784550</td>\n",
       "      <td>60.0</td>\n",
       "      <td>210.0</td>\n",
       "    </tr>\n",
       "    <tr>\n",
       "      <th>3</th>\n",
       "      <td>차량용청소기</td>\n",
       "      <td>샤오미</td>\n",
       "      <td>CLEANFLY 차량용 무선 청소기 4세대 H2 (해외구매)</td>\n",
       "      <td>59840</td>\n",
       "      <td>30.0</td>\n",
       "      <td>168.0</td>\n",
       "    </tr>\n",
       "    <tr>\n",
       "      <th>4</th>\n",
       "      <td>핸디/스틱청소기</td>\n",
       "      <td>삼성전자</td>\n",
       "      <td>비스포크 제트 VS20A957E3</td>\n",
       "      <td>903110</td>\n",
       "      <td>60.0</td>\n",
       "      <td>210.0</td>\n",
       "    </tr>\n",
       "    <tr>\n",
       "      <th>5</th>\n",
       "      <td>핸디/스틱청소기</td>\n",
       "      <td>샤오미</td>\n",
       "      <td>TROUVER POWER 11</td>\n",
       "      <td>73950</td>\n",
       "      <td>60.0</td>\n",
       "      <td>200.0</td>\n",
       "    </tr>\n",
       "    <tr>\n",
       "      <th>6</th>\n",
       "      <td>차량용청소기</td>\n",
       "      <td>베이스어스</td>\n",
       "      <td>차량용 청소기 A3 (해외구매)</td>\n",
       "      <td>49880</td>\n",
       "      <td>45.0</td>\n",
       "      <td>150.0</td>\n",
       "    </tr>\n",
       "    <tr>\n",
       "      <th>7</th>\n",
       "      <td>핸디/스틱청소기</td>\n",
       "      <td>샤오미</td>\n",
       "      <td>드리미 V10</td>\n",
       "      <td>155700</td>\n",
       "      <td>60.0</td>\n",
       "      <td>220.0</td>\n",
       "    </tr>\n",
       "    <tr>\n",
       "      <th>8</th>\n",
       "      <td>핸디/스틱청소기</td>\n",
       "      <td>삼성전자</td>\n",
       "      <td>비스포크 제트 VS20A957D2</td>\n",
       "      <td>712970</td>\n",
       "      <td>60.0</td>\n",
       "      <td>210.0</td>\n",
       "    </tr>\n",
       "    <tr>\n",
       "      <th>11</th>\n",
       "      <td>핸디/스틱청소기</td>\n",
       "      <td>다이슨</td>\n",
       "      <td>V10 플러피 오리진</td>\n",
       "      <td>527450</td>\n",
       "      <td>60.0</td>\n",
       "      <td>151.0</td>\n",
       "    </tr>\n",
       "    <tr>\n",
       "      <th>12</th>\n",
       "      <td>핸디/스틱청소기</td>\n",
       "      <td>LG전자</td>\n",
       "      <td>코드제로 A9 A9100N</td>\n",
       "      <td>537390</td>\n",
       "      <td>50.0</td>\n",
       "      <td>140.0</td>\n",
       "    </tr>\n",
       "    <tr>\n",
       "      <th>13</th>\n",
       "      <td>핸디/스틱청소기</td>\n",
       "      <td>LG전자</td>\n",
       "      <td>코드제로 ThinQ A9S AS9470</td>\n",
       "      <td>887350</td>\n",
       "      <td>60.0</td>\n",
       "      <td>210.0</td>\n",
       "    </tr>\n",
       "    <tr>\n",
       "      <th>14</th>\n",
       "      <td>핸디/스틱청소기</td>\n",
       "      <td>삼성전자</td>\n",
       "      <td>비스포크 제트 VS20A956A3 + 물걸레</td>\n",
       "      <td>673460</td>\n",
       "      <td>60.0</td>\n",
       "      <td>210.0</td>\n",
       "    </tr>\n",
       "    <tr>\n",
       "      <th>16</th>\n",
       "      <td>차량용청소기</td>\n",
       "      <td>위드앤올</td>\n",
       "      <td>2in1 휴대용 무선 에어건 핸디 청소기 WNA-AG8</td>\n",
       "      <td>78830</td>\n",
       "      <td>40.0</td>\n",
       "      <td>80.0</td>\n",
       "    </tr>\n",
       "    <tr>\n",
       "      <th>17</th>\n",
       "      <td>핸디/스틱청소기</td>\n",
       "      <td>델로라</td>\n",
       "      <td>V11 파워 300W</td>\n",
       "      <td>104990</td>\n",
       "      <td>70.0</td>\n",
       "      <td>220.0</td>\n",
       "    </tr>\n",
       "    <tr>\n",
       "      <th>18</th>\n",
       "      <td>핸디/스틱청소기</td>\n",
       "      <td>삼성전자</td>\n",
       "      <td>제트 VS20T9210BF</td>\n",
       "      <td>465950</td>\n",
       "      <td>60.0</td>\n",
       "      <td>200.0</td>\n",
       "    </tr>\n",
       "    <tr>\n",
       "      <th>19</th>\n",
       "      <td>차량용청소기</td>\n",
       "      <td>조아스</td>\n",
       "      <td>차량용 에어건 청소기 JVC-2000</td>\n",
       "      <td>38900</td>\n",
       "      <td>20.0</td>\n",
       "      <td>55.0</td>\n",
       "    </tr>\n",
       "    <tr>\n",
       "      <th>20</th>\n",
       "      <td>차량용청소기</td>\n",
       "      <td>인트비즈</td>\n",
       "      <td>MORUN 차량용 무선 미니 청소기 V5</td>\n",
       "      <td>89000</td>\n",
       "      <td>12.0</td>\n",
       "      <td>130.0</td>\n",
       "    </tr>\n",
       "    <tr>\n",
       "      <th>22</th>\n",
       "      <td>핸디/스틱청소기</td>\n",
       "      <td>다이슨</td>\n",
       "      <td>V15 디텍트 앱솔루트 엑스트라</td>\n",
       "      <td>1246540</td>\n",
       "      <td>60.0</td>\n",
       "      <td>240.0</td>\n",
       "    </tr>\n",
       "    <tr>\n",
       "      <th>23</th>\n",
       "      <td>핸디/스틱청소기</td>\n",
       "      <td>DIBEA</td>\n",
       "      <td>차이슨 ALLNEW29000</td>\n",
       "      <td>248000</td>\n",
       "      <td>48.0</td>\n",
       "      <td>290.0</td>\n",
       "    </tr>\n",
       "  </tbody>\n",
       "</table>\n",
       "</div>"
      ],
      "text/plain": [
       "        카테고리    회사명                                 제품       가격  사용시간  흡입력(W)\n",
       "0   핸디/스틱청소기   LG전자       오브제컬렉션 코드제로 ThinQ A9S AO9571  1055260  60.0   210.0\n",
       "1   핸디/스틱청소기   삼성전자                 비스포크 제트 VS20A956A3   566410  60.0   210.0\n",
       "2   핸디/스틱청소기   LG전자           코드제로 ThinQ A9S AS9370IKT   784550  60.0   210.0\n",
       "3     차량용청소기    샤오미  CLEANFLY 차량용 무선 청소기 4세대 H2 (해외구매)    59840  30.0   168.0\n",
       "4   핸디/스틱청소기   삼성전자                 비스포크 제트 VS20A957E3   903110  60.0   210.0\n",
       "5   핸디/스틱청소기    샤오미                   TROUVER POWER 11    73950  60.0   200.0\n",
       "6     차량용청소기  베이스어스                  차량용 청소기 A3 (해외구매)    49880  45.0   150.0\n",
       "7   핸디/스틱청소기    샤오미                            드리미 V10   155700  60.0   220.0\n",
       "8   핸디/스틱청소기   삼성전자                 비스포크 제트 VS20A957D2   712970  60.0   210.0\n",
       "11  핸디/스틱청소기    다이슨                        V10 플러피 오리진   527450  60.0   151.0\n",
       "12  핸디/스틱청소기   LG전자                     코드제로 A9 A9100N   537390  50.0   140.0\n",
       "13  핸디/스틱청소기   LG전자              코드제로 ThinQ A9S AS9470   887350  60.0   210.0\n",
       "14  핸디/스틱청소기   삼성전자           비스포크 제트 VS20A956A3 + 물걸레   673460  60.0   210.0\n",
       "16    차량용청소기   위드앤올     2in1 휴대용 무선 에어건 핸디 청소기 WNA-AG8    78830  40.0    80.0\n",
       "17  핸디/스틱청소기    델로라                        V11 파워 300W   104990  70.0   220.0\n",
       "18  핸디/스틱청소기   삼성전자                     제트 VS20T9210BF   465950  60.0   200.0\n",
       "19    차량용청소기    조아스               차량용 에어건 청소기 JVC-2000    38900  20.0    55.0\n",
       "20    차량용청소기   인트비즈             MORUN 차량용 무선 미니 청소기 V5    89000  12.0   130.0\n",
       "22  핸디/스틱청소기    다이슨                  V15 디텍트 앱솔루트 엑스트라  1246540  60.0   240.0\n",
       "23  핸디/스틱청소기  DIBEA                    차이슨 ALLNEW29000   248000  48.0   290.0"
      ]
     },
     "execution_count": 265,
     "metadata": {},
     "output_type": "execute_result"
    }
   ],
   "source": [
    "chart_data_selected = chart_data[:20]\n",
    "chart_data_selected"
   ]
  },
  {
   "cell_type": "code",
   "execution_count": 264,
   "id": "f4ec18c3",
   "metadata": {},
   "outputs": [
    {
     "data": {
      "image/png": "[encoded data removed]",
      "text/plain": [
       "<Figure size 1440x720 with 1 Axes>"
      ]
     },
     "metadata": {
      "needs_background": "light"
     },
     "output_type": "display_data"
    }
   ],
   "source": [
    "suction_max_value = chart_data_selected['흡입력(W)'].max()\n",
    "suction_mean_value = chart_data_selected['흡입력(W)'].mean()\n",
    "use_time_max_value = chart_data_selected['사용시간'].max()\n",
    "use_time_mean_value = chart_data_selected['사용시간'].mean()\n",
    "plt.figure(figsize=(20, 10))\n",
    "plt.title(\"무선 핸디/스틱청소기 TOP 20\")\n",
    "sns.scatterplot(x = '흡입력(W)', \n",
    "                  y = '사용시간', \n",
    "                  size = '가격', \n",
    "                  hue = chart_data_selected['회사명'], \n",
    "                  data = chart_data_selected, sizes = (100, 2000),\n",
    "                  legend = False)\n",
    "plt.plot([60, suction_max_value], \n",
    "          [use_time_mean_value, use_time_mean_value], \n",
    "          'r--', \n",
    "          lw = 1 )\n",
    "plt.plot([suction_mean_value, suction_mean_value], \n",
    "          [20, use_time_max_value], \n",
    "          'r--', \n",
    "          lw = 1 )\n",
    "for index, row in chart_data_selected.iterrows():\n",
    "    x = row['흡입력(W)']\n",
    "    y = row['사용시간']\n",
    "    s = row['제품'].split(' ')[0]\n",
    "    plt.text(x, y, s, size=15)\n",
    "plt.show()"
   ]
  }
 ],
 "metadata": {
  "kernelspec": {
   "display_name": "Python 3 (ipykernel)",
   "language": "python",
   "name": "python3"
  },
  "language_info": {
   "codemirror_mode": {
    "name": "ipython",
    "version": 3
   },
   "file_extension": ".py",
   "mimetype": "text/x-python",
   "name": "python",
   "nbconvert_exporter": "python",
   "pygments_lexer": "ipython3",
   "version": "3.9.7"
  }
 },
 "nbformat": 4,
 "nbformat_minor": 5
}
