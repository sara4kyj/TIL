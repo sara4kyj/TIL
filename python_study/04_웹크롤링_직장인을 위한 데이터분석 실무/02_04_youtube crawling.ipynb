{
 "cells": [
  {
   "cell_type": "markdown",
   "id": "5d4ccf4c",
   "metadata": {},
   "source": [
    "url = 'https://www.youtube-rank.com/board/bbs/board.php?bo_table=youtube'\n",
    "['음악/댄스', '가수명', '구독자수', 'View수', '동영상수']\n",
    " youtube_rank_class.xlsx"
   ]
  },
  {
   "cell_type": "code",
   "execution_count": 21,
   "id": "2dbf71cb",
   "metadata": {},
   "outputs": [],
   "source": [
    "import pandas as pd\n",
    "import numpy as np\n",
    "import time\n",
    "\n",
    "from selenium import webdriver\n",
    "from selenium.webdriver.chrome.service import Service\n",
    "from bs4 import BeautifulSoup"
   ]
  },
  {
   "cell_type": "code",
   "execution_count": 2,
   "id": "2322bd43",
   "metadata": {},
   "outputs": [],
   "source": [
    "ser = Service('../chromedriver/chromedriver.exe')\n",
    "driver = webdriver.Chrome(service = ser)"
   ]
  },
  {
   "cell_type": "code",
   "execution_count": 3,
   "id": "40e99c1e",
   "metadata": {},
   "outputs": [],
   "source": [
    "time.sleep(2)\n",
    "\n",
    "url = 'https://www.youtube-rank.com/board/bbs/board.php?bo_table=youtube'\n",
    "driver.get(url)"
   ]
  },
  {
   "cell_type": "code",
   "execution_count": 4,
   "id": "16763a05",
   "metadata": {},
   "outputs": [],
   "source": [
    "html = driver.page_source\n",
    "\n",
    "soup = BeautifulSoup(html, 'html.parser')"
   ]
  },
  {
   "cell_type": "code",
   "execution_count": 7,
   "id": "b3b22e45",
   "metadata": {},
   "outputs": [],
   "source": [
    "data = soup.select('form > table > tbody > tr')\n",
    "youtube = data[0]\n"
   ]
  },
  {
   "cell_type": "code",
   "execution_count": 8,
   "id": "3449f39c",
   "metadata": {},
   "outputs": [
    {
     "name": "stdout",
     "output_type": "stream",
     "text": [
      "[음악/댄스/가수]\n",
      "BLACKPINK\n",
      "7130만\n",
      "220억1380만\n",
      "395개\n"
     ]
    }
   ],
   "source": [
    "print(youtube.select('.category')[0].text.strip())\n",
    "print(youtube.select('a')[1].text.strip())\n",
    "print(youtube.select('td.subscriber_cnt')[0].text)\n",
    "print(youtube.select('td.view_cnt')[0].text)\n",
    "print(youtube.select('td.video_cnt')[0].text)"
   ]
  },
  {
   "cell_type": "code",
   "execution_count": 32,
   "id": "4bf95f9d",
   "metadata": {
    "scrolled": true
   },
   "outputs": [],
   "source": [
    "data = soup.select('form > table > tbody > tr')\n",
    "data_list = []\n",
    "rank = 1\n",
    "\n",
    "for youtube in data:\n",
    "    category = youtube.select('.category')[0].text.strip()\n",
    "    singer = youtube.select('a')[1].text.strip()\n",
    "    subscriber = youtube.select('td.subscriber_cnt')[0].text\n",
    "    view = youtube.select('td.view_cnt')[0].text\n",
    "    video = youtube.select('td.video_cnt')[0].text\n",
    "    list = [rank, category, singer, subscriber, view, video]\n",
    "    data_list.append(list)\n",
    "    rank += 1\n",
    "    \n",
    "data_list_df = pd.DataFrame(data_list,\n",
    "                            columns = ['no','음악/댄스', '가수명', '구독자수', 'View수', '동영상수'])\n",
    "data_list_df.to_excel('./files/youtube_class.xlsx', index = False)"
   ]
  },
  {
   "cell_type": "code",
   "execution_count": null,
   "id": "75df96e4",
   "metadata": {},
   "outputs": [],
   "source": []
  }
 ],
 "metadata": {
  "kernelspec": {
   "display_name": "Python 3 (ipykernel)",
   "language": "python",
   "name": "python3"
  },
  "language_info": {
   "codemirror_mode": {
    "name": "ipython",
    "version": 3
   },
   "file_extension": ".py",
   "mimetype": "text/x-python",
   "name": "python",
   "nbconvert_exporter": "python",
   "pygments_lexer": "ipython3",
   "version": "3.9.7"
  }
 },
 "nbformat": 4,
 "nbformat_minor": 5
}
