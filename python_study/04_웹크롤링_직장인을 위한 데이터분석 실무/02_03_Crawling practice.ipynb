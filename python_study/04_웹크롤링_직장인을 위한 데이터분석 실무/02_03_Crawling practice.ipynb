{
 "cells": [
  {
   "cell_type": "code",
   "execution_count": 231,
   "id": "7b1ff1e3",
   "metadata": {},
   "outputs": [],
   "source": [
    "from selenium import webdriver\n",
    "from selenium.webdriver.chrome.service import Service\n",
    "from bs4 import BeautifulSoup\n",
    "\n",
    "import pandas as pd\n",
    "import numpy as np"
   ]
  },
  {
   "cell_type": "markdown",
   "id": "673ce0c0",
   "metadata": {},
   "source": [
    "#### melon webpage 연결하기"
   ]
  },
  {
   "cell_type": "code",
   "execution_count": 4,
   "id": "b462b92d",
   "metadata": {},
   "outputs": [],
   "source": [
    "ser = Service('../chromedriver/chromedriver.exe')\n",
    "\n",
    "driver = webdriver.Chrome(service = ser)"
   ]
  },
  {
   "cell_type": "code",
   "execution_count": 5,
   "id": "f11ea43a",
   "metadata": {},
   "outputs": [],
   "source": [
    "url = 'https://www.melon.com/chart/index.htm'\n",
    "driver.get(url)"
   ]
  },
  {
   "cell_type": "code",
   "execution_count": 8,
   "id": "7ec7e031",
   "metadata": {},
   "outputs": [],
   "source": [
    "html = driver.page_source\n",
    "html\n",
    "\n",
    "soup = BeautifulSoup(html, 'html.parser')"
   ]
  },
  {
   "cell_type": "markdown",
   "id": "ed10df85",
   "metadata": {},
   "source": [
    "#### html 구조 파악하기"
   ]
  },
  {
   "cell_type": "code",
   "execution_count": 9,
   "id": "efd46926",
   "metadata": {},
   "outputs": [],
   "source": [
    "# 예제 2-39 HTML 구조\n",
    "html = '''\n",
    "<html>\n",
    "    <head>\n",
    "    </head>\n",
    "    <body>\n",
    "        <h1> 우리동네시장</h1>\n",
    "            <div class = 'sale'>\n",
    "                <p id='fruits1' class='fruits'>\n",
    "                    <span class = 'name'> 바나나 </span>\n",
    "                    <span class = 'price'> 3000원 </span>\n",
    "                    <span class = 'inventory'> 500개 </span>\n",
    "                    <span class = 'store'> 가나다상회 </span>\n",
    "                    <a href = 'http://bit.ly/forPlaywithData' > 홈페이지 </a>\n",
    "                </p>\n",
    "            </div>\n",
    "            <div class = 'prepare'>\n",
    "                <p id='fruits2' class='fruits'>\n",
    "                    <span class ='name'> 파인애플 </span>\n",
    "                </p>\n",
    "            </div>\n",
    "    </body>\n",
    "</html>\n",
    "'''"
   ]
  },
  {
   "cell_type": "code",
   "execution_count": 13,
   "id": "b040b8bd",
   "metadata": {},
   "outputs": [],
   "source": [
    "soup = BeautifulSoup(html, 'html.parser')"
   ]
  },
  {
   "cell_type": "code",
   "execution_count": 21,
   "id": "4eb48a4b",
   "metadata": {},
   "outputs": [
    {
     "data": {
      "text/plain": [
       "' 바나나 '"
      ]
     },
     "execution_count": 21,
     "metadata": {},
     "output_type": "execute_result"
    }
   ],
   "source": [
    "tags_span = soup.select('span')\n",
    "tags_span[0].text"
   ]
  },
  {
   "cell_type": "code",
   "execution_count": 23,
   "id": "e6507b98",
   "metadata": {},
   "outputs": [
    {
     "data": {
      "text/plain": [
       "2"
      ]
     },
     "execution_count": 23,
     "metadata": {},
     "output_type": "execute_result"
    }
   ],
   "source": [
    "tags_p = soup.select('p')\n",
    "len(tags_p)"
   ]
  },
  {
   "cell_type": "code",
   "execution_count": 31,
   "id": "1b349b3f",
   "metadata": {},
   "outputs": [
    {
     "data": {
      "text/plain": [
       "[' 바나나 ', ' 파인애플 ']"
      ]
     },
     "execution_count": 31,
     "metadata": {},
     "output_type": "execute_result"
    }
   ],
   "source": [
    "class_name = soup.select('.name')\n",
    "\n",
    "class_name_text = [ class_name[i].text for i in range(0,len(class_name))]\n",
    "class_name_text"
   ]
  },
  {
   "cell_type": "code",
   "execution_count": 37,
   "id": "4d081a6e",
   "metadata": {},
   "outputs": [
    {
     "data": {
      "text/plain": [
       "[<span class=\"name\"> 바나나 </span>]"
      ]
     },
     "execution_count": 37,
     "metadata": {},
     "output_type": "execute_result"
    }
   ],
   "source": [
    "soup.select('span.name')\n",
    "soup.select('span.inventory')\n",
    "soup.select('#fruits1 > span.name')"
   ]
  },
  {
   "cell_type": "code",
   "execution_count": 38,
   "id": "e9661a79",
   "metadata": {},
   "outputs": [
    {
     "data": {
      "text/plain": [
       "[<span class=\"store\"> 가나다상회 </span>]"
      ]
     },
     "execution_count": 38,
     "metadata": {},
     "output_type": "execute_result"
    }
   ],
   "source": [
    "soup.select('div.sale span.store')"
   ]
  },
  {
   "cell_type": "code",
   "execution_count": 51,
   "id": "006af0ad",
   "metadata": {},
   "outputs": [
    {
     "name": "stdout",
     "output_type": "stream",
     "text": [
      "홈페이지\n",
      "http://bit.ly/forPlaywithData\n"
     ]
    }
   ],
   "source": [
    "tags_a = soup.select('a')\n",
    "\n",
    "tag = tags_a[0]\n",
    "print(tag.text.strip())\n",
    "print(tag['href'])"
   ]
  },
  {
   "cell_type": "markdown",
   "id": "b04fe046",
   "metadata": {},
   "source": [
    "#### melon top100차트 분석하기"
   ]
  },
  {
   "cell_type": "code",
   "execution_count": 53,
   "id": "d692a448",
   "metadata": {},
   "outputs": [],
   "source": [
    "url = 'https://www.melon.com/chart/index.htm'\n",
    "\n",
    "driver.get(url)"
   ]
  },
  {
   "cell_type": "code",
   "execution_count": 165,
   "id": "2c73da02",
   "metadata": {},
   "outputs": [],
   "source": [
    "html = driver.page_source\n",
    "soup = BeautifulSoup(html, 'html.parser')\n",
    "\n",
    "#songs = soup.select('tr')     \n",
    "#song_list = songs[1:]            # top100에 불포함되는 0[첫번째]행 제외하고 song에 저장 \n",
    "                                  # >> 이방법보다는 아래의 방법 추천(명확한 경로 입력)"
   ]
  },
  {
   "cell_type": "markdown",
   "id": "d820c1a0",
   "metadata": {},
   "source": [
    "#### 교재"
   ]
  },
  {
   "cell_type": "code",
   "execution_count": 168,
   "id": "1540b88b",
   "metadata": {},
   "outputs": [],
   "source": [
    "songs = soup.select('table > tbody > tr')\n",
    "\n",
    "for song in songs:\n",
    "    title = song.select('div.ellipsis.rank01 > span > a')[0].text\n",
    "    singer = song.select ('div.ellipsis.rank02 > a')[0].text  \n",
    "    #print(title, singer, sep = ' | ')"
   ]
  },
  {
   "cell_type": "markdown",
   "id": "0226c967",
   "metadata": {},
   "source": [
    "##### 내가 작성한 코드 - 1"
   ]
  },
  {
   "cell_type": "code",
   "execution_count": 192,
   "id": "735110b9",
   "metadata": {},
   "outputs": [
    {
     "data": {
      "text/html": [
       "<div>\n",
       "<style scoped>\n",
       "    .dataframe tbody tr th:only-of-type {\n",
       "        vertical-align: middle;\n",
       "    }\n",
       "\n",
       "    .dataframe tbody tr th {\n",
       "        vertical-align: top;\n",
       "    }\n",
       "\n",
       "    .dataframe thead th {\n",
       "        text-align: right;\n",
       "    }\n",
       "</style>\n",
       "<table border=\"1\" class=\"dataframe\">\n",
       "  <thead>\n",
       "    <tr style=\"text-align: right;\">\n",
       "      <th></th>\n",
       "      <th>서비스</th>\n",
       "      <th>순위</th>\n",
       "      <th>타이틀</th>\n",
       "      <th>가수</th>\n",
       "    </tr>\n",
       "  </thead>\n",
       "  <tbody>\n",
       "    <tr>\n",
       "      <th>0</th>\n",
       "      <td>melon</td>\n",
       "      <td>1</td>\n",
       "      <td>취중고백</td>\n",
       "      <td>김민석 (멜로망스)</td>\n",
       "    </tr>\n",
       "    <tr>\n",
       "      <th>1</th>\n",
       "      <td>melon</td>\n",
       "      <td>2</td>\n",
       "      <td>사랑은 늘 도망가</td>\n",
       "      <td>임영웅</td>\n",
       "    </tr>\n",
       "    <tr>\n",
       "      <th>2</th>\n",
       "      <td>melon</td>\n",
       "      <td>3</td>\n",
       "      <td>회전목마 (Feat. Zion.T, 원슈타인) (Prod. Slom)</td>\n",
       "      <td>sokodomo</td>\n",
       "    </tr>\n",
       "    <tr>\n",
       "      <th>3</th>\n",
       "      <td>melon</td>\n",
       "      <td>4</td>\n",
       "      <td>Counting Stars (Feat. Beenzino)</td>\n",
       "      <td>BE'O (비오)</td>\n",
       "    </tr>\n",
       "    <tr>\n",
       "      <th>4</th>\n",
       "      <td>melon</td>\n",
       "      <td>5</td>\n",
       "      <td>겨울잠</td>\n",
       "      <td>아이유</td>\n",
       "    </tr>\n",
       "    <tr>\n",
       "      <th>...</th>\n",
       "      <td>...</td>\n",
       "      <td>...</td>\n",
       "      <td>...</td>\n",
       "      <td>...</td>\n",
       "    </tr>\n",
       "    <tr>\n",
       "      <th>95</th>\n",
       "      <td>melon</td>\n",
       "      <td>96</td>\n",
       "      <td>ASAP</td>\n",
       "      <td>STAYC(스테이씨)</td>\n",
       "    </tr>\n",
       "    <tr>\n",
       "      <th>96</th>\n",
       "      <td>melon</td>\n",
       "      <td>97</td>\n",
       "      <td>호우주의 (Feat. 개코, 넉살 (Nucksal)) (Prod. 코드 쿤스트)</td>\n",
       "      <td>조광일</td>\n",
       "    </tr>\n",
       "    <tr>\n",
       "      <th>97</th>\n",
       "      <td>melon</td>\n",
       "      <td>98</td>\n",
       "      <td>19금\\nPeaches (Feat. Daniel Caesar &amp; Giveon)</td>\n",
       "      <td>Justin Bieber</td>\n",
       "    </tr>\n",
       "    <tr>\n",
       "      <th>98</th>\n",
       "      <td>melon</td>\n",
       "      <td>99</td>\n",
       "      <td>밤새 서로 미루다</td>\n",
       "      <td>존박</td>\n",
       "    </tr>\n",
       "    <tr>\n",
       "      <th>99</th>\n",
       "      <td>melon</td>\n",
       "      <td>100</td>\n",
       "      <td>깐부 (Feat. 염따, ASH ISLAND) (Prod. TOIL)</td>\n",
       "      <td>쿤타</td>\n",
       "    </tr>\n",
       "  </tbody>\n",
       "</table>\n",
       "<p>100 rows × 4 columns</p>\n",
       "</div>"
      ],
      "text/plain": [
       "      서비스   순위                                           타이틀             가수\n",
       "0   melon    1                                          취중고백     김민석 (멜로망스)\n",
       "1   melon    2                                     사랑은 늘 도망가            임영웅\n",
       "2   melon    3        회전목마 (Feat. Zion.T, 원슈타인) (Prod. Slom)       sokodomo\n",
       "3   melon    4               Counting Stars (Feat. Beenzino)      BE'O (비오)\n",
       "4   melon    5                                           겨울잠            아이유\n",
       "..    ...  ...                                           ...            ...\n",
       "95  melon   96                                          ASAP    STAYC(스테이씨)\n",
       "96  melon   97  호우주의 (Feat. 개코, 넉살 (Nucksal)) (Prod. 코드 쿤스트)            조광일\n",
       "97  melon   98   19금\\nPeaches (Feat. Daniel Caesar & Giveon)  Justin Bieber\n",
       "98  melon   99                                     밤새 서로 미루다             존박\n",
       "99  melon  100        깐부 (Feat. 염따, ASH ISLAND) (Prod. TOIL)             쿤타\n",
       "\n",
       "[100 rows x 4 columns]"
      ]
     },
     "execution_count": 192,
     "metadata": {},
     "output_type": "execute_result"
    }
   ],
   "source": [
    "# 순위, 제목, 가수\n",
    "songs = soup.select('tbody > tr')\n",
    "song_data = []\n",
    "\n",
    "for i in range(len(songs)):\n",
    "    song = songs[i].select('.wrap_song_info > div')\n",
    "    song_name = song[0].text.strip('\\n')\n",
    "    singer = song[1].select('a')[0].text\n",
    "    #print(i+1,'.', song_name[i], '-' ,singer[i])\n",
    "    song_data.append(['melon', i+1, song_name, singer])\n",
    "\n",
    "song_data_df = DataFrame(song_data, columns = ['서비스','순위','타이틀', '가수'])\n",
    "song_data_df"
   ]
  },
  {
   "cell_type": "markdown",
   "id": "90d44ea5",
   "metadata": {},
   "source": [
    "#### 크롤링결과 저장하기"
   ]
  },
  {
   "cell_type": "code",
   "execution_count": 189,
   "id": "f51616f8",
   "metadata": {},
   "outputs": [],
   "source": [
    "songs = soup.select('tbody > tr')\n",
    "song_data2 = []\n",
    "rank = 1\n",
    "\n",
    "for song in songs:\n",
    "    title = song.select('div.ellipsis.rank01 > span > a')[0].text\n",
    "    singer = song.select ('div.ellipsis.rank02 > a')[0].text  \n",
    "    #print(title, singer, sep = ' | ')\n",
    "    song_data2.append(['melon', rank, title, singer])\n",
    "    rank += 1"
   ]
  },
  {
   "cell_type": "code",
   "execution_count": 190,
   "id": "db22ce8c",
   "metadata": {},
   "outputs": [
    {
     "data": {
      "text/html": [
       "<div>\n",
       "<style scoped>\n",
       "    .dataframe tbody tr th:only-of-type {\n",
       "        vertical-align: middle;\n",
       "    }\n",
       "\n",
       "    .dataframe tbody tr th {\n",
       "        vertical-align: top;\n",
       "    }\n",
       "\n",
       "    .dataframe thead th {\n",
       "        text-align: right;\n",
       "    }\n",
       "</style>\n",
       "<table border=\"1\" class=\"dataframe\">\n",
       "  <thead>\n",
       "    <tr style=\"text-align: right;\">\n",
       "      <th></th>\n",
       "      <th>서비스</th>\n",
       "      <th>순위</th>\n",
       "      <th>타이틀</th>\n",
       "      <th>가수</th>\n",
       "    </tr>\n",
       "  </thead>\n",
       "  <tbody>\n",
       "    <tr>\n",
       "      <th>0</th>\n",
       "      <td>melon</td>\n",
       "      <td>1</td>\n",
       "      <td>취중고백</td>\n",
       "      <td>김민석 (멜로망스)</td>\n",
       "    </tr>\n",
       "    <tr>\n",
       "      <th>1</th>\n",
       "      <td>melon</td>\n",
       "      <td>2</td>\n",
       "      <td>사랑은 늘 도망가</td>\n",
       "      <td>임영웅</td>\n",
       "    </tr>\n",
       "    <tr>\n",
       "      <th>2</th>\n",
       "      <td>melon</td>\n",
       "      <td>3</td>\n",
       "      <td>회전목마 (Feat. Zion.T, 원슈타인) (Prod. Slom)</td>\n",
       "      <td>sokodomo</td>\n",
       "    </tr>\n",
       "    <tr>\n",
       "      <th>3</th>\n",
       "      <td>melon</td>\n",
       "      <td>4</td>\n",
       "      <td>Counting Stars (Feat. Beenzino)</td>\n",
       "      <td>BE'O (비오)</td>\n",
       "    </tr>\n",
       "    <tr>\n",
       "      <th>4</th>\n",
       "      <td>melon</td>\n",
       "      <td>5</td>\n",
       "      <td>겨울잠</td>\n",
       "      <td>아이유</td>\n",
       "    </tr>\n",
       "    <tr>\n",
       "      <th>...</th>\n",
       "      <td>...</td>\n",
       "      <td>...</td>\n",
       "      <td>...</td>\n",
       "      <td>...</td>\n",
       "    </tr>\n",
       "    <tr>\n",
       "      <th>95</th>\n",
       "      <td>melon</td>\n",
       "      <td>96</td>\n",
       "      <td>ASAP</td>\n",
       "      <td>STAYC(스테이씨)</td>\n",
       "    </tr>\n",
       "    <tr>\n",
       "      <th>96</th>\n",
       "      <td>melon</td>\n",
       "      <td>97</td>\n",
       "      <td>호우주의 (Feat. 개코, 넉살 (Nucksal)) (Prod. 코드 쿤스트)</td>\n",
       "      <td>조광일</td>\n",
       "    </tr>\n",
       "    <tr>\n",
       "      <th>97</th>\n",
       "      <td>melon</td>\n",
       "      <td>98</td>\n",
       "      <td>Peaches (Feat. Daniel Caesar &amp; Giveon)</td>\n",
       "      <td>Justin Bieber</td>\n",
       "    </tr>\n",
       "    <tr>\n",
       "      <th>98</th>\n",
       "      <td>melon</td>\n",
       "      <td>99</td>\n",
       "      <td>밤새 서로 미루다</td>\n",
       "      <td>존박</td>\n",
       "    </tr>\n",
       "    <tr>\n",
       "      <th>99</th>\n",
       "      <td>melon</td>\n",
       "      <td>100</td>\n",
       "      <td>깐부 (Feat. 염따, ASH ISLAND) (Prod. TOIL)</td>\n",
       "      <td>쿤타</td>\n",
       "    </tr>\n",
       "  </tbody>\n",
       "</table>\n",
       "<p>100 rows × 4 columns</p>\n",
       "</div>"
      ],
      "text/plain": [
       "      서비스   순위                                           타이틀             가수\n",
       "0   melon    1                                          취중고백     김민석 (멜로망스)\n",
       "1   melon    2                                     사랑은 늘 도망가            임영웅\n",
       "2   melon    3        회전목마 (Feat. Zion.T, 원슈타인) (Prod. Slom)       sokodomo\n",
       "3   melon    4               Counting Stars (Feat. Beenzino)      BE'O (비오)\n",
       "4   melon    5                                           겨울잠            아이유\n",
       "..    ...  ...                                           ...            ...\n",
       "95  melon   96                                          ASAP    STAYC(스테이씨)\n",
       "96  melon   97  호우주의 (Feat. 개코, 넉살 (Nucksal)) (Prod. 코드 쿤스트)            조광일\n",
       "97  melon   98        Peaches (Feat. Daniel Caesar & Giveon)  Justin Bieber\n",
       "98  melon   99                                     밤새 서로 미루다             존박\n",
       "99  melon  100        깐부 (Feat. 염따, ASH ISLAND) (Prod. TOIL)             쿤타\n",
       "\n",
       "[100 rows x 4 columns]"
      ]
     },
     "execution_count": 190,
     "metadata": {},
     "output_type": "execute_result"
    }
   ],
   "source": [
    "song_data2_df = DataFrame(song_data2, columns = ['서비스','순위','타이틀', '가수'])\n",
    "song_data2_df"
   ]
  },
  {
   "cell_type": "code",
   "execution_count": 191,
   "id": "d18e2b87",
   "metadata": {},
   "outputs": [],
   "source": [
    "song_data2_df.to_excel('./files/melon_class.xlsx', \n",
    "                   index = False,\n",
    "                   sheet_name = 'top100')"
   ]
  },
  {
   "cell_type": "markdown",
   "id": "85bd9bed",
   "metadata": {},
   "source": [
    "#### 벅스 top100 크롤링하기"
   ]
  },
  {
   "cell_type": "code",
   "execution_count": 193,
   "id": "d1335d83",
   "metadata": {},
   "outputs": [],
   "source": [
    "url = 'https://music.bugs.co.kr/chart'\n",
    "\n",
    "driver.get(url)"
   ]
  },
  {
   "cell_type": "code",
   "execution_count": 197,
   "id": "e95b75dd",
   "metadata": {},
   "outputs": [],
   "source": [
    "html = driver.page_source\n",
    "\n",
    "soup = BeautifulSoup(html, 'html.parser')"
   ]
  },
  {
   "cell_type": "markdown",
   "id": "e1fe4ab9",
   "metadata": {},
   "source": [
    "#### 내가 작성한 코드 - 벅스 1"
   ]
  },
  {
   "cell_type": "code",
   "execution_count": 306,
   "id": "c772d69c",
   "metadata": {},
   "outputs": [
    {
     "data": {
      "text/html": [
       "<div>\n",
       "<style scoped>\n",
       "    .dataframe tbody tr th:only-of-type {\n",
       "        vertical-align: middle;\n",
       "    }\n",
       "\n",
       "    .dataframe tbody tr th {\n",
       "        vertical-align: top;\n",
       "    }\n",
       "\n",
       "    .dataframe thead th {\n",
       "        text-align: right;\n",
       "    }\n",
       "</style>\n",
       "<table border=\"1\" class=\"dataframe\">\n",
       "  <thead>\n",
       "    <tr style=\"text-align: right;\">\n",
       "      <th></th>\n",
       "      <th>서비스</th>\n",
       "      <th>순위</th>\n",
       "      <th>타이틀</th>\n",
       "      <th>가수</th>\n",
       "    </tr>\n",
       "  </thead>\n",
       "  <tbody>\n",
       "    <tr>\n",
       "      <th>0</th>\n",
       "      <td>bugs</td>\n",
       "      <td>1</td>\n",
       "      <td>Step Back</td>\n",
       "      <td>GOT the beat</td>\n",
       "    </tr>\n",
       "    <tr>\n",
       "      <th>1</th>\n",
       "      <td>bugs</td>\n",
       "      <td>2</td>\n",
       "      <td>여름비</td>\n",
       "      <td>샘김(Sam Kim)</td>\n",
       "    </tr>\n",
       "    <tr>\n",
       "      <th>2</th>\n",
       "      <td>bugs</td>\n",
       "      <td>3</td>\n",
       "      <td>Christmas Tree</td>\n",
       "      <td>V</td>\n",
       "    </tr>\n",
       "    <tr>\n",
       "      <th>3</th>\n",
       "      <td>bugs</td>\n",
       "      <td>4</td>\n",
       "      <td>서랍</td>\n",
       "      <td>10CM</td>\n",
       "    </tr>\n",
       "    <tr>\n",
       "      <th>4</th>\n",
       "      <td>bugs</td>\n",
       "      <td>5</td>\n",
       "      <td>Dreams Come True</td>\n",
       "      <td>aespa</td>\n",
       "    </tr>\n",
       "    <tr>\n",
       "      <th>...</th>\n",
       "      <td>...</td>\n",
       "      <td>...</td>\n",
       "      <td>...</td>\n",
       "      <td>...</td>\n",
       "    </tr>\n",
       "    <tr>\n",
       "      <th>95</th>\n",
       "      <td>bugs</td>\n",
       "      <td>96</td>\n",
       "      <td>사랑은 말로 표현하는게 아니래요</td>\n",
       "      <td>규현 (KYUHYUN)</td>\n",
       "    </tr>\n",
       "    <tr>\n",
       "      <th>96</th>\n",
       "      <td>bugs</td>\n",
       "      <td>97</td>\n",
       "      <td>RE : WIND</td>\n",
       "      <td>이세계 아이돌</td>\n",
       "    </tr>\n",
       "    <tr>\n",
       "      <th>97</th>\n",
       "      <td>bugs</td>\n",
       "      <td>98</td>\n",
       "      <td>Love Yourself</td>\n",
       "      <td>Justin Bieber(저스틴 비버)</td>\n",
       "    </tr>\n",
       "    <tr>\n",
       "      <th>98</th>\n",
       "      <td>bugs</td>\n",
       "      <td>99</td>\n",
       "      <td>Hey Mama (feat. Nicki Minaj, Bebe Rexha &amp; Afro...</td>\n",
       "      <td>David Guetta(데이빗 게타)</td>\n",
       "    </tr>\n",
       "    <tr>\n",
       "      <th>99</th>\n",
       "      <td>bugs</td>\n",
       "      <td>100</td>\n",
       "      <td>나무</td>\n",
       "      <td>카더가든</td>\n",
       "    </tr>\n",
       "  </tbody>\n",
       "</table>\n",
       "<p>100 rows × 4 columns</p>\n",
       "</div>"
      ],
      "text/plain": [
       "     서비스   순위                                                타이틀  \\\n",
       "0   bugs    1                                          Step Back   \n",
       "1   bugs    2                                                여름비   \n",
       "2   bugs    3                                     Christmas Tree   \n",
       "3   bugs    4                                                 서랍   \n",
       "4   bugs    5                                   Dreams Come True   \n",
       "..   ...  ...                                                ...   \n",
       "95  bugs   96                                  사랑은 말로 표현하는게 아니래요   \n",
       "96  bugs   97                                          RE : WIND   \n",
       "97  bugs   98                                      Love Yourself   \n",
       "98  bugs   99  Hey Mama (feat. Nicki Minaj, Bebe Rexha & Afro...   \n",
       "99  bugs  100                                                 나무   \n",
       "\n",
       "                       가수  \n",
       "0            GOT the beat  \n",
       "1             샘김(Sam Kim)  \n",
       "2                       V  \n",
       "3                    10CM  \n",
       "4                   aespa  \n",
       "..                    ...  \n",
       "95           규현 (KYUHYUN)  \n",
       "96                이세계 아이돌  \n",
       "97  Justin Bieber(저스틴 비버)  \n",
       "98   David Guetta(데이빗 게타)  \n",
       "99                   카더가든  \n",
       "\n",
       "[100 rows x 4 columns]"
      ]
     },
     "execution_count": 306,
     "metadata": {},
     "output_type": "execute_result"
    }
   ],
   "source": [
    "title_soup = soup.select('tbody > tr p.title')\n",
    "singer_soup = soup.select('tbody > tr p.artist')\n",
    "bugs_song = []\n",
    "\n",
    "for i in range(0,100) : \n",
    "    song_name = title_soup[i].text.replace('\\n','')\n",
    "    singer = singer_soup[i].text.replace('\\n','')\n",
    "    bugs_song.append(['bugs', i+1, song_name, singer])\n",
    "    \n",
    "bugs_song_df = DataFrame(bugs_song, columns = ['서비스','순위','타이틀', '가수'])\n",
    "bugs_song_df"
   ]
  },
  {
   "cell_type": "markdown",
   "id": "3f86fd57",
   "metadata": {},
   "source": [
    "#### 내가 작성한 코드 - 벅스 2"
   ]
  },
  {
   "cell_type": "code",
   "execution_count": 300,
   "id": "c39d4705",
   "metadata": {},
   "outputs": [
    {
     "data": {
      "text/html": [
       "<div>\n",
       "<style scoped>\n",
       "    .dataframe tbody tr th:only-of-type {\n",
       "        vertical-align: middle;\n",
       "    }\n",
       "\n",
       "    .dataframe tbody tr th {\n",
       "        vertical-align: top;\n",
       "    }\n",
       "\n",
       "    .dataframe thead th {\n",
       "        text-align: right;\n",
       "    }\n",
       "</style>\n",
       "<table border=\"1\" class=\"dataframe\">\n",
       "  <thead>\n",
       "    <tr style=\"text-align: right;\">\n",
       "      <th></th>\n",
       "      <th>서비스</th>\n",
       "      <th>순위</th>\n",
       "      <th>타이틀</th>\n",
       "      <th>가수</th>\n",
       "    </tr>\n",
       "  </thead>\n",
       "  <tbody>\n",
       "    <tr>\n",
       "      <th>0</th>\n",
       "      <td>bugs</td>\n",
       "      <td>1</td>\n",
       "      <td>Step Back</td>\n",
       "      <td>GOT the beat</td>\n",
       "    </tr>\n",
       "    <tr>\n",
       "      <th>1</th>\n",
       "      <td>bugs</td>\n",
       "      <td>2</td>\n",
       "      <td>여름비</td>\n",
       "      <td>샘김(Sam Kim)</td>\n",
       "    </tr>\n",
       "    <tr>\n",
       "      <th>2</th>\n",
       "      <td>bugs</td>\n",
       "      <td>3</td>\n",
       "      <td>Christmas Tree</td>\n",
       "      <td>V</td>\n",
       "    </tr>\n",
       "    <tr>\n",
       "      <th>3</th>\n",
       "      <td>bugs</td>\n",
       "      <td>4</td>\n",
       "      <td>서랍</td>\n",
       "      <td>10CM</td>\n",
       "    </tr>\n",
       "    <tr>\n",
       "      <th>4</th>\n",
       "      <td>bugs</td>\n",
       "      <td>5</td>\n",
       "      <td>Dreams Come True</td>\n",
       "      <td>aespa</td>\n",
       "    </tr>\n",
       "    <tr>\n",
       "      <th>...</th>\n",
       "      <td>...</td>\n",
       "      <td>...</td>\n",
       "      <td>...</td>\n",
       "      <td>...</td>\n",
       "    </tr>\n",
       "    <tr>\n",
       "      <th>95</th>\n",
       "      <td>bugs</td>\n",
       "      <td>96</td>\n",
       "      <td>사랑은 말로 표현하는게 아니래요</td>\n",
       "      <td>규현 (KYUHYUN)</td>\n",
       "    </tr>\n",
       "    <tr>\n",
       "      <th>96</th>\n",
       "      <td>bugs</td>\n",
       "      <td>97</td>\n",
       "      <td>RE : WIND</td>\n",
       "      <td>이세계 아이돌</td>\n",
       "    </tr>\n",
       "    <tr>\n",
       "      <th>97</th>\n",
       "      <td>bugs</td>\n",
       "      <td>98</td>\n",
       "      <td>Love Yourself</td>\n",
       "      <td>Justin Bieber(저스틴 비버)</td>\n",
       "    </tr>\n",
       "    <tr>\n",
       "      <th>98</th>\n",
       "      <td>bugs</td>\n",
       "      <td>99</td>\n",
       "      <td>Hey Mama (feat. Nicki Minaj, Bebe Rexha &amp; Afro...</td>\n",
       "      <td>David Guetta(데이빗 게타)</td>\n",
       "    </tr>\n",
       "    <tr>\n",
       "      <th>99</th>\n",
       "      <td>bugs</td>\n",
       "      <td>100</td>\n",
       "      <td>나무</td>\n",
       "      <td>카더가든</td>\n",
       "    </tr>\n",
       "  </tbody>\n",
       "</table>\n",
       "<p>100 rows × 4 columns</p>\n",
       "</div>"
      ],
      "text/plain": [
       "     서비스   순위                                                타이틀  \\\n",
       "0   bugs    1                                          Step Back   \n",
       "1   bugs    2                                                여름비   \n",
       "2   bugs    3                                     Christmas Tree   \n",
       "3   bugs    4                                                 서랍   \n",
       "4   bugs    5                                   Dreams Come True   \n",
       "..   ...  ...                                                ...   \n",
       "95  bugs   96                                  사랑은 말로 표현하는게 아니래요   \n",
       "96  bugs   97                                          RE : WIND   \n",
       "97  bugs   98                                      Love Yourself   \n",
       "98  bugs   99  Hey Mama (feat. Nicki Minaj, Bebe Rexha & Afro...   \n",
       "99  bugs  100                                                 나무   \n",
       "\n",
       "                       가수  \n",
       "0            GOT the beat  \n",
       "1             샘김(Sam Kim)  \n",
       "2                       V  \n",
       "3                    10CM  \n",
       "4                   aespa  \n",
       "..                    ...  \n",
       "95           규현 (KYUHYUN)  \n",
       "96                이세계 아이돌  \n",
       "97  Justin Bieber(저스틴 비버)  \n",
       "98   David Guetta(데이빗 게타)  \n",
       "99                   카더가든  \n",
       "\n",
       "[100 rows x 4 columns]"
      ]
     },
     "execution_count": 300,
     "metadata": {},
     "output_type": "execute_result"
    }
   ],
   "source": [
    "song = soup.select('tbody > tr p')\n",
    "bugs_song = []\n",
    "\n",
    "for i in range(0,len(song),3) : \n",
    "    song_name = song[i+1].text.replace('\\n','')\n",
    "    singer = song[i+2].text.replace('\\n','')\n",
    "    bugs_song.append(['bugs', int(i/3+1), song_name, singer])\n",
    "    \n",
    "bugs_song_df = DataFrame(bugs_song, columns = ['서비스','순위','타이틀', '가수'])\n",
    "bugs_song_df"
   ]
  },
  {
   "cell_type": "markdown",
   "id": "bdfd85e4",
   "metadata": {},
   "source": [
    "#### 교재"
   ]
  },
  {
   "cell_type": "code",
   "execution_count": 308,
   "id": "b98dfb66",
   "metadata": {},
   "outputs": [],
   "source": [
    "songs = soup.select('table.byChart > tbody > tr')\n",
    "song_list = []\n",
    "\n",
    "for i in range(len(songs)):\n",
    "    title = songs[i].select('p.title > a')[0].text\n",
    "    singer = songs[i].select('p.artist > a')[0].text\n",
    "    song_list.append(['Bugs', i+1, title, singer])\n",
    "\n",
    "song_list_df = DataFrame(song_list, columns = ['서비스','순위','타이틀', '가수'])\n",
    "song_list_df.to_excel('./files/bugs.xlsx')"
   ]
  },
  {
   "cell_type": "markdown",
   "id": "3dde9af3",
   "metadata": {},
   "source": [
    "#### 지니차트 가져오기"
   ]
  },
  {
   "cell_type": "code",
   "execution_count": 309,
   "id": "584c783e",
   "metadata": {},
   "outputs": [],
   "source": [
    "url = 'https://www.genie.co.kr/chart/top200'\n",
    "driver.get(url)"
   ]
  },
  {
   "cell_type": "code",
   "execution_count": 310,
   "id": "8610991b",
   "metadata": {},
   "outputs": [],
   "source": [
    "html = driver.page_source\n",
    "\n",
    "soup = BeautifulSoup(html, 'html.parser')"
   ]
  },
  {
   "cell_type": "markdown",
   "id": "7c4a71b9",
   "metadata": {},
   "source": [
    "#### 내가 작성한 코드 - 지니 1"
   ]
  },
  {
   "cell_type": "code",
   "execution_count": 358,
   "id": "322d507a",
   "metadata": {},
   "outputs": [],
   "source": [
    "songs = soup.select('div.newest-list tbody tr')\n",
    "genie_list = []\n",
    "\n",
    "for i in range(len(songs)):\n",
    "    title = songs[i].select('.title')[0].text.strip()\n",
    "    artist = songs[i].select('.artist')[0].text\n",
    "    genie_list.append(['genie', i+1, title, artist])\n",
    "    \n",
    "genie_list_df = DataFrame(genie_list,columns = ['서비스','순위','타이틀', '가수'])\n",
    "genie_list_df.to_excel('./files/genie_clas.xlsx')"
   ]
  },
  {
   "cell_type": "markdown",
   "id": "abcb1eef",
   "metadata": {},
   "source": [
    "#### 교재"
   ]
  },
  {
   "cell_type": "code",
   "execution_count": 360,
   "id": "6a4ca9f7",
   "metadata": {},
   "outputs": [],
   "source": [
    "songs = soup.select('tbody > tr')\n",
    "song_list = []\n",
    "rank = 1\n",
    "\n",
    "for song in songs : \n",
    "    title = song.select('a.title')[0].text.strip()\n",
    "    singer = song.select('a.artist')[0].text\n",
    "    song_list.append(['지니',rank, title, singer])\n",
    "    rank += 1\n",
    "\n",
    "song_list_df = DataFrame(song_list, columns = ['서비스','순위','타이틀', '가수'])\n",
    "song_list_df.to_excel('./files/genie_class2.xlsx', index=False)"
   ]
  },
  {
   "cell_type": "markdown",
   "id": "8932beda",
   "metadata": {},
   "source": [
    "#### 멜론, 벅스, 지니 크롤링 엑셀 파일 통합하기"
   ]
  },
  {
   "cell_type": "code",
   "execution_count": 363,
   "id": "ea5e2ad6",
   "metadata": {},
   "outputs": [],
   "source": [
    "excel_names = ['./files/melon_class.xlsx',\n",
    "               './files/bugs.xlsx',\n",
    "               './files/genie_class2.xlsx']\n",
    "\n",
    "append_data = pd.DataFrame()\n",
    "\n",
    "for name in excel_names:\n",
    "    pd_data = pd.read_excel(name)\n",
    "    append_data = append_data.append(pd_data)\n",
    "    \n",
    "append_data.to_excel('./files/append_data.xlsx', index = False)"
   ]
  }
 ],
 "metadata": {
  "kernelspec": {
   "display_name": "Python 3 (ipykernel)",
   "language": "python",
   "name": "python3"
  },
  "language_info": {
   "codemirror_mode": {
    "name": "ipython",
    "version": 3
   },
   "file_extension": ".py",
   "mimetype": "text/x-python",
   "name": "python",
   "nbconvert_exporter": "python",
   "pygments_lexer": "ipython3",
   "version": "3.9.7"
  }
 },
 "nbformat": 4,
 "nbformat_minor": 5
}
