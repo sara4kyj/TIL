{
 "cells": [
  {
   "cell_type": "code",
   "execution_count": 1,
   "id": "98d2b829",
   "metadata": {},
   "outputs": [],
   "source": [
    "from selenium import webdriver\n",
    "from selenium.webdriver.chrome.service import Service\n",
    "from bs4 import BeautifulSoup\n",
    "\n",
    "import pandas as pd\n",
    "import numpy as np\n",
    "import time"
   ]
  },
  {
   "cell_type": "code",
   "execution_count": 2,
   "id": "fd9618e8",
   "metadata": {},
   "outputs": [],
   "source": [
    "ser = Service('../chromedriver/chromedriver.exe')\n",
    "\n",
    "driver = webdriver.Chrome(service = ser)"
   ]
  },
  {
   "cell_type": "code",
   "execution_count": 3,
   "id": "51e46b6f",
   "metadata": {},
   "outputs": [],
   "source": [
    "url = 'https://www.instagram.com/'\n",
    "driver.get(url)\n",
    "time.sleep(3)"
   ]
  },
  {
   "cell_type": "code",
   "execution_count": 4,
   "id": "7798bfb7",
   "metadata": {},
   "outputs": [],
   "source": [
    "def insta_searching(word):\n",
    "    url = 'https://www.instagram.com/explore/tags/{}/'.format(word)\n",
    "    return url"
   ]
  },
  {
   "cell_type": "code",
   "execution_count": 5,
   "id": "ba3791cd",
   "metadata": {},
   "outputs": [
    {
     "data": {
      "text/plain": [
       "'https://www.instagram.com/explore/tags/제주도맛집/'"
      ]
     },
     "execution_count": 5,
     "metadata": {},
     "output_type": "execute_result"
    }
   ],
   "source": [
    "word = '제주도맛집'\n",
    "url = insta_searching(word)\n",
    "url"
   ]
  },
  {
   "cell_type": "code",
   "execution_count": 6,
   "id": "42235aa3",
   "metadata": {},
   "outputs": [],
   "source": [
    "word = '제주도맛집'\n",
    "url = insta_searching(word)\n",
    "driver.get(url)\n",
    "time.sleep(3)"
   ]
  },
  {
   "cell_type": "code",
   "execution_count": 7,
   "id": "cb5d9977",
   "metadata": {},
   "outputs": [
    {
     "name": "stderr",
     "output_type": "stream",
     "text": [
      "C:\\Users\\sara\\AppData\\Local\\Temp/ipykernel_11072/1320061655.py:2: DeprecationWarning: find_element_by_* commands are deprecated. Please use find_element() instead\n",
      "  first = driver.find_element_by_css_selector('div._9AhH0')\n"
     ]
    }
   ],
   "source": [
    "# 지원안함\n",
    "first = driver.find_element_by_css_selector('div._9AhH0')\n",
    "first.click()\n",
    "time.sleep(3)"
   ]
  },
  {
   "cell_type": "code",
   "execution_count": 8,
   "id": "2ed7a4ca",
   "metadata": {},
   "outputs": [],
   "source": [
    "from selenium.webdriver.common.by import By"
   ]
  },
  {
   "cell_type": "code",
   "execution_count": 10,
   "id": "7f64d554",
   "metadata": {},
   "outputs": [],
   "source": [
    "first = driver.find_element(By.CSS_SELECTOR,'div._9AhH0')\n",
    "first.click()\n",
    "time.sleep(3)"
   ]
  },
  {
   "cell_type": "code",
   "execution_count": 11,
   "id": "e602784b",
   "metadata": {},
   "outputs": [],
   "source": [
    "def select_first(driver):\n",
    "    first = driver.find_element(By.CSS_SELECTOR,'div._9AhH0')\n",
    "    first.click()\n",
    "    time.sleep(3)"
   ]
  },
  {
   "cell_type": "code",
   "execution_count": 12,
   "id": "e34a3355",
   "metadata": {},
   "outputs": [],
   "source": [
    "html = driver.page_source\n",
    "soup = BeautifulSoup(html, 'html.parser')"
   ]
  },
  {
   "cell_type": "code",
   "execution_count": 13,
   "id": "26e5bc2e",
   "metadata": {},
   "outputs": [],
   "source": [
    "import re\n",
    "import unicodedata     # 한글깨짐 개선"
   ]
  },
  {
   "cell_type": "code",
   "execution_count": 23,
   "id": "34b5529e",
   "metadata": {},
   "outputs": [],
   "source": [
    "# content,  tags, like, place\n",
    "\n",
    "content = soup.select('div.C4VMK > span')[0].text\n",
    "tags = soup.select('span > .xil3i')[0].text\n",
    "#like = soup.select('div > a.zV_Nj > span')[0].text\n",
    "#place = soup.select('div.JF9hh > a')[0].text"
   ]
  },
  {
   "cell_type": "code",
   "execution_count": 24,
   "id": "7b9f2bc7",
   "metadata": {},
   "outputs": [],
   "source": [
    "import re\n",
    "\n",
    "word = '제주도맛집'\n",
    "url = insta_searching(word)\n",
    "driver.get(url)\n",
    "time.sleep(7)\n",
    "\n",
    "first = driver.find_element(By.CSS_SELECTOR,'div._9AhH0')\n",
    "first.click()\n",
    "time.sleep(5)  \n",
    "\n",
    "html = driver.page_source\n",
    "soup = BeautifulSoup(html, 'html.parser')"
   ]
  },
  {
   "cell_type": "code",
   "execution_count": 25,
   "id": "8fccb04f",
   "metadata": {},
   "outputs": [
    {
     "data": {
      "text/plain": [
       "['#제주맛집',\n",
       " '#제주도맛집',\n",
       " '#제주아쿠아플라넷',\n",
       " '#표선맛집',\n",
       " '#성산맛집',\n",
       " '#성산일출봉맛집',\n",
       " '#구좌읍맛집',\n",
       " '#구좌맛집',\n",
       " '#비자림맛집',\n",
       " '#안돌오름',\n",
       " '#광치기해변맛집',\n",
       " '#제주고기국수',\n",
       " '#제주도고기국수',\n",
       " '#성산아침식사',\n",
       " '#스타애드']"
      ]
     },
     "execution_count": 25,
     "metadata": {},
     "output_type": "execute_result"
    }
   ],
   "source": [
    "tags = soup.select('span > .xil3i')\n",
    "tag = [ tag.text for tag in tags ]\n",
    "tag"
   ]
  },
  {
   "cell_type": "code",
   "execution_count": 26,
   "id": "b8684b1c",
   "metadata": {},
   "outputs": [
    {
     "data": {
      "text/plain": [
       "['#제주맛집',\n",
       " '#제주도맛집',\n",
       " '#제주아쿠아플라넷#표선맛집',\n",
       " '#성산맛집',\n",
       " '#성산일출봉맛집',\n",
       " '#구좌읍맛집',\n",
       " '#구좌맛집',\n",
       " '#비자림맛집',\n",
       " '#안돌오름',\n",
       " '#광치기해변맛집',\n",
       " '#제주고기국수#제주도고기국수',\n",
       " '#성산아침식사']"
      ]
     },
     "execution_count": 26,
     "metadata": {},
     "output_type": "execute_result"
    }
   ],
   "source": [
    "content = soup.select('div.C4VMK > span')[0].text\n",
    "tags = re.findall(r'#[^\\s,\\\\]+', content)\n",
    "tags"
   ]
  },
  {
   "cell_type": "code",
   "execution_count": 27,
   "id": "809ba44e",
   "metadata": {},
   "outputs": [],
   "source": [
    "date = soup.select('div > time')[0]['datetime'][:10]"
   ]
  },
  {
   "cell_type": "markdown",
   "id": "e8d6551d",
   "metadata": {},
   "source": [
    "##### 인스타크램에서 content 저장하는 함수 만들기"
   ]
  },
  {
   "cell_type": "code",
   "execution_count": 28,
   "id": "809ac151",
   "metadata": {},
   "outputs": [],
   "source": [
    "def get_content(driver):\n",
    "    html = driver.page_source\n",
    "    soup = BeautifulSoup(html, 'html.parser')\n",
    "    \n",
    "    try : \n",
    "        content = soup.select('div.C4VMK > span')[0].text\n",
    "    except :\n",
    "        content = ''\n",
    "    \n",
    "    try : \n",
    "        tags = re.findall(r'#[^\\s,\\\\]+', content) \n",
    "    except :\n",
    "        tags = ''\n",
    "        \n",
    "    date = soup.select('div > time')[0]['datetime'][:10]\n",
    "    \n",
    "    try :\n",
    "        like = soup.select('div > a.zV_Nj > span')[0].text\n",
    "    except :\n",
    "        like = 0\n",
    "        \n",
    "    try :\n",
    "        place = soup.select('div.JF9hh > a')[0].text\n",
    "    except :\n",
    "        place = ''\n",
    "        \n",
    "    data = [content, date, tags, like, place]\n",
    "    \n",
    "       \n",
    "    return data"
   ]
  },
  {
   "cell_type": "markdown",
   "id": "2f128518",
   "metadata": {},
   "source": [
    "##### 다음페이지로 넘기는 함수 만들기"
   ]
  },
  {
   "cell_type": "code",
   "execution_count": 29,
   "id": "997fccf2",
   "metadata": {},
   "outputs": [],
   "source": [
    "def move_next(driver):\n",
    "    right = driver.find_element(By.CSS_SELECTOR,'div.l8mY4.feth3')\n",
    "    right.click()\n",
    "    time.sleep(3) "
   ]
  },
  {
   "cell_type": "code",
   "execution_count": 30,
   "id": "72fb6f2c",
   "metadata": {},
   "outputs": [],
   "source": [
    "move_next(driver)"
   ]
  },
  {
   "cell_type": "code",
   "execution_count": null,
   "id": "28fcd43b",
   "metadata": {},
   "outputs": [],
   "source": [
    "import re\n",
    "\n",
    "word = '제주도맛집'\n",
    "url = insta_searching(word)\n",
    "driver.get(url)\n",
    "time.sleep(10)\n",
    "\n",
    "first = driver.find_element(By.CSS_SELECTOR,'div._9AhH0')\n",
    "first.click()\n",
    "time.sleep(3)  "
   ]
  },
  {
   "cell_type": "code",
   "execution_count": null,
   "id": "d23322d0",
   "metadata": {},
   "outputs": [],
   "source": [
    "def get_data_insta(num, driver):\n",
    "    result = []\n",
    "    for i in range(num):\n",
    "        result.append(get_content(driver))\n",
    "        move_next(driver)\n",
    "    \n",
    "    return result"
   ]
  },
  {
   "cell_type": "code",
   "execution_count": 31,
   "id": "d7ac3a28",
   "metadata": {},
   "outputs": [],
   "source": [
    "def insta_crawling(word, num):\n",
    "    url = insta_searching(word)\n",
    "    \n",
    "    driver.get(url)\n",
    "    time.sleep(7)\n",
    "    \n",
    "    select_first(driver)\n",
    "    time.sleep(3)\n",
    "    \n",
    "    result = []\n",
    "    \n",
    "    for i in range(num):\n",
    "        try:\n",
    "            result.append(get_content(driver))\n",
    "            move_next(driver)\n",
    "        except:\n",
    "            time.sleep(2)\n",
    "            move_next(driver)\n",
    "    \n",
    "    return result"
   ]
  },
  {
   "cell_type": "code",
   "execution_count": 32,
   "id": "1b8672aa",
   "metadata": {
    "scrolled": false
   },
   "outputs": [],
   "source": [
    "df = pd.DataFrame(insta_crawling('제주도맛집', 10), \n",
    "                  columns = ['content', 'date', 'tags', 'like', 'place'])"
   ]
  },
  {
   "cell_type": "markdown",
   "id": "747ec66e",
   "metadata": {},
   "source": [
    "##### 중복값 제거를 위한 엑셀파일 통합(교재)"
   ]
  },
  {
   "cell_type": "code",
   "execution_count": 34,
   "id": "f1eb5fa7",
   "metadata": {},
   "outputs": [],
   "source": [
    "jeju_insta_df = pd.DataFrame( [ ] )\n",
    "\n",
    "folder = './files/'\n",
    "f_list = ['1_crawling_jejudoMatJip.xlsx', '1_crawling_jejudoGwanGwang.xlsx', '1_crawling_jejuMatJip.xlsx', '1_crawling_jejuYeoHang.xlsx']\n",
    "for fname in f_list:\n",
    "    fpath = folder + fname\n",
    "    temp = pd.read_excel(fpath)\n",
    "    jeju_insta_df = jeju_insta_df.append(temp)\n",
    "\n",
    "jeju_insta_df.columns =['content','data','like','place','tags']"
   ]
  },
  {
   "cell_type": "code",
   "execution_count": 35,
   "id": "18d0a697",
   "metadata": {},
   "outputs": [
    {
     "data": {
      "text/plain": [
       "(12780, 5)"
      ]
     },
     "execution_count": 35,
     "metadata": {},
     "output_type": "execute_result"
    }
   ],
   "source": [
    "jeju_insta_df.shape"
   ]
  },
  {
   "cell_type": "markdown",
   "id": "33181cf6",
   "metadata": {},
   "source": [
    "##### 중복값 제거"
   ]
  },
  {
   "cell_type": "code",
   "execution_count": 36,
   "id": "99867af5",
   "metadata": {},
   "outputs": [
    {
     "data": {
      "text/plain": [
       "(8369, 5)"
      ]
     },
     "execution_count": 36,
     "metadata": {},
     "output_type": "execute_result"
    }
   ],
   "source": [
    "jeju_insta_df.drop_duplicates(subset=['content'], inplace = True)\n",
    "jeju_insta_df.shape"
   ]
  },
  {
   "cell_type": "code",
   "execution_count": 37,
   "id": "3b5abf87",
   "metadata": {},
   "outputs": [],
   "source": [
    "jeju_insta_df.to_excel('./files/1_crawling_raw.xlsx', index = False)"
   ]
  },
  {
   "cell_type": "markdown",
   "id": "65df8a4a",
   "metadata": {},
   "source": [
    "###### 해시태그 데이터 가져오기"
   ]
  },
  {
   "cell_type": "code",
   "execution_count": 38,
   "id": "ec751cd5",
   "metadata": {},
   "outputs": [],
   "source": [
    "raw_total = jeju_insta_df.copy()"
   ]
  },
  {
   "cell_type": "code",
   "execution_count": 39,
   "id": "84eee43d",
   "metadata": {},
   "outputs": [
    {
     "data": {
      "text/plain": [
       "0       ['#제주분식', '#제주맛집', '#제주도맛집', '#제주맛집추천', '#제주도맛...\n",
       "1       ['#함덕맛집', '#제주도카페투어', '#제주일상', '#함덕', '#jejudo...\n",
       "2       ['#동문시장', '#제주동문시장', '#제주도기념품', '#제주기념품', '#제주...\n",
       "3       ['#제주여행', '#2일차무거버거', '#제주도여행', '#제주맛집', '#함덕맛...\n",
       "4                                                      []\n",
       "                              ...                        \n",
       "1702    ['#일상', '#구기자', '#티타임', '#2019', '#새해', '#차스타그...\n",
       "1703    ['#제주', '#친정여행', '#겨울방학', '#제주여행앞머리는', '#친정찬스'...\n",
       "1705                           ['#사진좀찍으시는님덕에건져또', '#이순간']\n",
       "1706                                                   []\n",
       "1707                            ['#HappyNewYearEveryone']\n",
       "Name: tags, Length: 8369, dtype: object"
      ]
     },
     "execution_count": 39,
     "metadata": {},
     "output_type": "execute_result"
    }
   ],
   "source": [
    "raw_total.columns\n",
    "raw_total['tags']"
   ]
  },
  {
   "cell_type": "code",
   "execution_count": 40,
   "id": "5aed82d9",
   "metadata": {},
   "outputs": [
    {
     "data": {
      "text/plain": [
       "0    #제주분식', '#제주맛집', '#제주도맛집', '#제주맛집추천', '#제주도맛집추...\n",
       "0    #제주핫플레이스', '#제주여행', '#제주여행', '#제주도여행', '#제주가볼만...\n",
       "0                                                     \n",
       "0                                                 #제주도\n",
       "Name: tags, dtype: object"
      ]
     },
     "execution_count": 40,
     "metadata": {},
     "output_type": "execute_result"
    }
   ],
   "source": [
    "raw_total['tags'][0].str[2:-2]"
   ]
  },
  {
   "cell_type": "code",
   "execution_count": 41,
   "id": "53487fe5",
   "metadata": {},
   "outputs": [],
   "source": [
    "tags_total = []\n",
    "\n",
    "for tags in raw_total['tags']:\n",
    "    tags_list = tags[2:-2].split(\"', '\")\n",
    "    for tag in tags_list:\n",
    "        tags_total.append(tag)"
   ]
  },
  {
   "cell_type": "code",
   "execution_count": 42,
   "id": "e0e77074",
   "metadata": {},
   "outputs": [
    {
     "data": {
      "text/plain": [
       "[('#제주맛집', 3412),\n",
       " ('#제주도맛집', 3149),\n",
       " ('#제주여행', 3020),\n",
       " ('#제주관광', 2827),\n",
       " ('#제주도', 2053),\n",
       " ('#제주', 1538),\n",
       " ('#제주도여행', 1454),\n",
       " ('#서귀포맛집', 1330),\n",
       " ('#제주도가볼만한곳', 1014),\n",
       " ('#제주핫플레이스', 835),\n",
       " ('#서귀포', 825),\n",
       " ('#jeju', 749),\n",
       " ('#일상', 701),\n",
       " ('#제주흑돼지맛집', 685),\n",
       " ('#제주맛집추천', 675),\n",
       " ('#제주도흑돼지맛집', 669),\n",
       " ('#제주도흑돼지', 663),\n",
       " ('#성산일출봉', 650),\n",
       " ('#제주흑돼지', 648),\n",
       " ('#협재맛집', 602),\n",
       " ('#제주카페', 600),\n",
       " ('#제주도그램', 594),\n",
       " ('#서귀포흑돼지맛집', 593),\n",
       " ('', 587),\n",
       " ('#서귀포흑돼지', 577),\n",
       " ('#제주도민', 570),\n",
       " ('#섭지코지', 556),\n",
       " ('#성산일출봉맛집', 545),\n",
       " ('#섭지코지맛집', 511),\n",
       " ('#선팔', 503),\n",
       " ('#제주가볼만한곳', 497),\n",
       " ('#통갈치구이', 494),\n",
       " ('#제주통갈치구이', 485),\n",
       " ('#제주핫플', 483),\n",
       " ('#제주살이', 480),\n",
       " ('#제주서귀포맛집', 479),\n",
       " ('#제주도민맛집', 477),\n",
       " ('#여행스타그램', 472),\n",
       " ('#제주반영구', 440),\n",
       " ('#제주도관광', 440),\n",
       " ('#여행', 436),\n",
       " ('#제주눈썹문신', 434),\n",
       " ('#서귀포눈썹문신', 420),\n",
       " ('#제주시', 419),\n",
       " ('#제주스타그램', 408),\n",
       " ('#눈썹문신', 405),\n",
       " ('#반영구', 405),\n",
       " ('#중문맛집', 404),\n",
       " ('#제주일상', 398),\n",
       " ('#제주속눈썹', 397)]"
      ]
     },
     "execution_count": 42,
     "metadata": {},
     "output_type": "execute_result"
    }
   ],
   "source": [
    "from collections import Counter\n",
    "tag_counts = Counter(tags_total)\n",
    "tag_counts.most_common(50)"
   ]
  },
  {
   "cell_type": "markdown",
   "id": "186aeb0d",
   "metadata": {},
   "source": [
    "###### 불용어 제거"
   ]
  },
  {
   "cell_type": "code",
   "execution_count": 43,
   "id": "11f7ca91",
   "metadata": {},
   "outputs": [
    {
     "data": {
      "text/plain": [
       "[('#제주맛집', 3412),\n",
       " ('#제주도맛집', 3149),\n",
       " ('#서귀포맛집', 1330),\n",
       " ('#제주도가볼만한곳', 1014),\n",
       " ('#제주핫플레이스', 835),\n",
       " ('#제주흑돼지맛집', 685),\n",
       " ('#제주맛집추천', 675),\n",
       " ('#제주도흑돼지맛집', 669),\n",
       " ('#제주도흑돼지', 663),\n",
       " ('#제주흑돼지', 648),\n",
       " ('#협재맛집', 602),\n",
       " ('#제주카페', 600),\n",
       " ('#서귀포흑돼지맛집', 593),\n",
       " ('', 587),\n",
       " ('#서귀포흑돼지', 577),\n",
       " ('#섭지코지', 556),\n",
       " ('#성산일출봉맛집', 545),\n",
       " ('#섭지코지맛집', 511),\n",
       " ('#통갈치구이', 494),\n",
       " ('#제주통갈치구이', 485),\n",
       " ('#제주핫플', 483),\n",
       " ('#제주서귀포맛집', 479),\n",
       " ('#제주도민맛집', 477),\n",
       " ('#중문맛집', 404),\n",
       " ('#먹스타그램', 395),\n",
       " ('#중문흑돼지맛집', 377),\n",
       " ('#애월맛집', 373),\n",
       " ('#성산맛집', 316),\n",
       " ('#제주시맛집', 311),\n",
       " ('#서귀포맛집추천', 303),\n",
       " ('#한림맛집', 263),\n",
       " ('#제주도카페', 258),\n",
       " ('#오설록', 241),\n",
       " ('#제주도이색맛집', 240),\n",
       " ('#제주공항근처맛집', 231),\n",
       " ('#맛집', 223),\n",
       " ('#맛스타그램', 223),\n",
       " ('#제주공항맛집', 207),\n",
       " ('#신라호텔제주', 205),\n",
       " ('#제주도핫플레이스', 201),\n",
       " ('#롯데호텔제주', 199),\n",
       " ('#서귀포카페', 198),\n",
       " ('#제주중문맛집', 194),\n",
       " ('#제주도맛집추천', 187),\n",
       " ('#제주도가족여행', 183),\n",
       " ('#제주도핫플', 183),\n",
       " ('#먹방', 179),\n",
       " ('#월정리맛집', 178),\n",
       " ('#한라산', 178),\n",
       " ('#휘닉스아일랜드', 174)]"
      ]
     },
     "execution_count": 43,
     "metadata": {},
     "output_type": "execute_result"
    }
   ],
   "source": [
    "STOPWORDS = ['#일상', '#선팔', '#제주도', '#jeju', '#반영구', \n",
    "             '#제주자연눈썹','#서귀포눈썹문신', '#제주눈썹문신', \n",
    "             '#소통', '#맞팔','#제주일상','#제주속눈썹','#눈썹문신',\n",
    "             '#제주스타그램','#여행','#제주도관광','#선팔','#제주도그램',\n",
    "             '#jeju','#서귀포','#제주여행', '#제주관광', '#제주도',\n",
    "             '#제주', '#제주도여행','#제주살이','#제주가볼만한곳',\n",
    "             '#제주반영구','#제주시','#서귀포반영구','#서귀포속눈썹',\n",
    "             '#제주남자눈썹문신', '#서귀포자연눈썹','#서귀포남자눈썹문신',\n",
    "             '#카멜리아힐','#daily','#제주메이크업','#가족여행','#제주도여행코스'\n",
    "             '#셀카','#제주해안도로','#제주속눈썹연장','#제주문신','#좋아요',\n",
    "             '#첫줄', '#첫줄','#제주두피반영구','#서귀포문신','#제주실탄사격장',\n",
    "             '#데일리','#서귀포여행','#제주도여행코스','#jejuisland','#셀카',\n",
    "             '#제주공항','#제주실내관광지','#성산일출봉','#제주도민',\n",
    "             '#여행스타그램','#제주반영구수강','#두피반영구','#jejudo',\n",
    "             '#제주버스여행','#여행에미치다']\n",
    "\n",
    "tag_total_selected = []\n",
    "for tag in tags_total :\n",
    "    if tag not in STOPWORDS:\n",
    "        tag_total_selected.append(tag)\n",
    "        \n",
    "tag_counts_selected = Counter(tag_total_selected)\n",
    "tag_counts_selected.most_common(50)"
   ]
  },
  {
   "cell_type": "code",
   "execution_count": 44,
   "id": "6e8be381",
   "metadata": {},
   "outputs": [],
   "source": [
    "import matplotlib.pyplot as plt\n",
    "import seaborn as sns\n",
    "from matplotlib import font_manager, rc\n",
    "import sys\n",
    "\n",
    "if sys.platform in [\"win32\",\"win64\"]:\n",
    "    font_name = 'malgun gothic'\n",
    "elif sys.platform == 'darwin':\n",
    "    font_name = 'AppleGothic'\n",
    "    \n",
    "rc('font', family = font_name)"
   ]
  },
  {
   "cell_type": "code",
   "execution_count": 45,
   "id": "c3097f95",
   "metadata": {},
   "outputs": [
    {
     "data": {
      "text/html": [
       "<div>\n",
       "<style scoped>\n",
       "    .dataframe tbody tr th:only-of-type {\n",
       "        vertical-align: middle;\n",
       "    }\n",
       "\n",
       "    .dataframe tbody tr th {\n",
       "        vertical-align: top;\n",
       "    }\n",
       "\n",
       "    .dataframe thead th {\n",
       "        text-align: right;\n",
       "    }\n",
       "</style>\n",
       "<table border=\"1\" class=\"dataframe\">\n",
       "  <thead>\n",
       "    <tr style=\"text-align: right;\">\n",
       "      <th></th>\n",
       "      <th>tags</th>\n",
       "      <th>counts</th>\n",
       "    </tr>\n",
       "  </thead>\n",
       "  <tbody>\n",
       "    <tr>\n",
       "      <th>0</th>\n",
       "      <td>#제주맛집</td>\n",
       "      <td>3412</td>\n",
       "    </tr>\n",
       "    <tr>\n",
       "      <th>1</th>\n",
       "      <td>#제주도맛집</td>\n",
       "      <td>3149</td>\n",
       "    </tr>\n",
       "    <tr>\n",
       "      <th>2</th>\n",
       "      <td>#서귀포맛집</td>\n",
       "      <td>1330</td>\n",
       "    </tr>\n",
       "    <tr>\n",
       "      <th>3</th>\n",
       "      <td>#제주도가볼만한곳</td>\n",
       "      <td>1014</td>\n",
       "    </tr>\n",
       "    <tr>\n",
       "      <th>4</th>\n",
       "      <td>#제주핫플레이스</td>\n",
       "      <td>835</td>\n",
       "    </tr>\n",
       "  </tbody>\n",
       "</table>\n",
       "</div>"
      ],
      "text/plain": [
       "        tags  counts\n",
       "0      #제주맛집    3412\n",
       "1     #제주도맛집    3149\n",
       "2     #서귀포맛집    1330\n",
       "3  #제주도가볼만한곳    1014\n",
       "4   #제주핫플레이스     835"
      ]
     },
     "execution_count": 45,
     "metadata": {},
     "output_type": "execute_result"
    }
   ],
   "source": [
    "tag_count_df = pd.DataFrame(tag_counts_selected.most_common(50), \n",
    "                            columns = ['tags','counts'])\n",
    "tag_count_df.head()\n",
    "\n",
    "# delete blank\n",
    "tag_count_df['tags'].replace('',None, inplace = True)\n",
    "tag_count_df.dropna(subset = ['tags'], inplace=True)\n",
    "tag_count_df.head()"
   ]
  },
  {
   "cell_type": "code",
   "execution_count": 46,
   "id": "877eee65",
   "metadata": {},
   "outputs": [
    {
     "data": {
      "text/plain": [
       "<AxesSubplot:xlabel='counts', ylabel='tags'>"
      ]
     },
     "execution_count": 46,
     "metadata": {},
     "output_type": "execute_result"
    },
    {
     "data": {
      "image/png": "[encoded data removed]",
      "text/plain": [
       "<Figure size 720x576 with 1 Axes>"
      ]
     },
     "metadata": {
      "needs_background": "light"
     },
     "output_type": "display_data"
    }
   ],
   "source": [
    "plt.figure(figsize = (10,8))\n",
    "sns.barplot(x = 'counts',  y = 'tags', data = tag_count_df)"
   ]
  },
  {
   "cell_type": "markdown",
   "id": "24c4b410",
   "metadata": {},
   "source": [
    "### 지도 시각화"
   ]
  },
  {
   "cell_type": "code",
   "execution_count": 48,
   "id": "4b1caefd",
   "metadata": {},
   "outputs": [
    {
     "data": {
      "text/plain": [
       "Jeju                        241\n",
       "Jeju-do                     172\n",
       "Jungle Book by Alice        101\n",
       "Seogwipo                     65\n",
       "제주도 크리스마스 박물관                59\n",
       "                           ... \n",
       "에코랜드 라벤다앤그린티로즈가든역             1\n",
       "청사포 수민이네                      1\n",
       "제주몬트락                         1\n",
       "Jeju National University      1\n",
       "디스이즈핫                         1\n",
       "Name: place, Length: 1027, dtype: int64"
      ]
     },
     "execution_count": 48,
     "metadata": {},
     "output_type": "execute_result"
    }
   ],
   "source": [
    "location_counts = raw_total['place'].value_counts( )\n",
    "location_counts"
   ]
  },
  {
   "cell_type": "code",
   "execution_count": 49,
   "id": "d3e256c1",
   "metadata": {},
   "outputs": [
    {
     "data": {
      "text/html": [
       "<div>\n",
       "<style scoped>\n",
       "    .dataframe tbody tr th:only-of-type {\n",
       "        vertical-align: middle;\n",
       "    }\n",
       "\n",
       "    .dataframe tbody tr th {\n",
       "        vertical-align: top;\n",
       "    }\n",
       "\n",
       "    .dataframe thead th {\n",
       "        text-align: right;\n",
       "    }\n",
       "</style>\n",
       "<table border=\"1\" class=\"dataframe\">\n",
       "  <thead>\n",
       "    <tr style=\"text-align: right;\">\n",
       "      <th></th>\n",
       "      <th>place</th>\n",
       "    </tr>\n",
       "  </thead>\n",
       "  <tbody>\n",
       "    <tr>\n",
       "      <th>Jeju</th>\n",
       "      <td>241</td>\n",
       "    </tr>\n",
       "    <tr>\n",
       "      <th>Jeju-do</th>\n",
       "      <td>172</td>\n",
       "    </tr>\n",
       "    <tr>\n",
       "      <th>Jungle Book by Alice</th>\n",
       "      <td>101</td>\n",
       "    </tr>\n",
       "    <tr>\n",
       "      <th>Seogwipo</th>\n",
       "      <td>65</td>\n",
       "    </tr>\n",
       "    <tr>\n",
       "      <th>제주도 크리스마스 박물관</th>\n",
       "      <td>59</td>\n",
       "    </tr>\n",
       "  </tbody>\n",
       "</table>\n",
       "</div>"
      ],
      "text/plain": [
       "                      place\n",
       "Jeju                    241\n",
       "Jeju-do                 172\n",
       "Jungle Book by Alice    101\n",
       "Seogwipo                 65\n",
       "제주도 크리스마스 박물관            59"
      ]
     },
     "execution_count": 49,
     "metadata": {},
     "output_type": "execute_result"
    }
   ],
   "source": [
    "location_counts_df = pd.DataFrame(location_counts)\n",
    "location_counts_df.head()"
   ]
  },
  {
   "cell_type": "code",
   "execution_count": 50,
   "id": "626ae9e7",
   "metadata": {},
   "outputs": [],
   "source": [
    "location_counts_df.to_excel('./files/3_location_counts.xlsx')"
   ]
  },
  {
   "cell_type": "code",
   "execution_count": 51,
   "id": "dba71e1c",
   "metadata": {},
   "outputs": [],
   "source": [
    "locations = list(location_counts_df.index)"
   ]
  },
  {
   "cell_type": "code",
   "execution_count": null,
   "id": "848e2842",
   "metadata": {},
   "outputs": [],
   "source": []
  },
  {
   "cell_type": "code",
   "execution_count": null,
   "id": "9df5ca2a",
   "metadata": {},
   "outputs": [],
   "source": []
  },
  {
   "cell_type": "code",
   "execution_count": null,
   "id": "aa864491",
   "metadata": {},
   "outputs": [],
   "source": []
  },
  {
   "cell_type": "code",
   "execution_count": null,
   "id": "faa8a79f",
   "metadata": {},
   "outputs": [],
   "source": []
  }
 ],
 "metadata": {
  "kernelspec": {
   "display_name": "Python 3 (ipykernel)",
   "language": "python",
   "name": "python3"
  },
  "language_info": {
   "codemirror_mode": {
    "name": "ipython",
    "version": 3
   },
   "file_extension": ".py",
   "mimetype": "text/x-python",
   "name": "python",
   "nbconvert_exporter": "python",
   "pygments_lexer": "ipython3",
   "version": "3.9.7"
  }
 },
 "nbformat": 4,
 "nbformat_minor": 5
}
