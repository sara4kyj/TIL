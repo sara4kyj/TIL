{
 "cells": [
  {
   "cell_type": "code",
   "execution_count": 1,
   "id": "de56a31f",
   "metadata": {},
   "outputs": [],
   "source": [
    "import pandas as pd\n",
    "import numpy as np\n",
    "import matplotlib.pyplot as plt"
   ]
  },
  {
   "cell_type": "markdown",
   "id": "1b05ad9c",
   "metadata": {},
   "source": [
    "### 범주형 자료 요약 - 도수분포표"
   ]
  },
  {
   "cell_type": "code",
   "execution_count": 2,
   "id": "d54ec5d0",
   "metadata": {},
   "outputs": [
    {
     "data": {
      "text/html": [
       "<div>\n",
       "<style scoped>\n",
       "    .dataframe tbody tr th:only-of-type {\n",
       "        vertical-align: middle;\n",
       "    }\n",
       "\n",
       "    .dataframe tbody tr th {\n",
       "        vertical-align: top;\n",
       "    }\n",
       "\n",
       "    .dataframe thead th {\n",
       "        text-align: right;\n",
       "    }\n",
       "</style>\n",
       "<table border=\"1\" class=\"dataframe\">\n",
       "  <thead>\n",
       "    <tr style=\"text-align: right;\">\n",
       "      <th></th>\n",
       "      <th>Attend</th>\n",
       "      <th>Name</th>\n",
       "    </tr>\n",
       "  </thead>\n",
       "  <tbody>\n",
       "    <tr>\n",
       "      <th>0</th>\n",
       "      <td>1</td>\n",
       "      <td>A</td>\n",
       "    </tr>\n",
       "    <tr>\n",
       "      <th>1</th>\n",
       "      <td>0</td>\n",
       "      <td>A</td>\n",
       "    </tr>\n",
       "    <tr>\n",
       "      <th>2</th>\n",
       "      <td>1</td>\n",
       "      <td>A</td>\n",
       "    </tr>\n",
       "    <tr>\n",
       "      <th>3</th>\n",
       "      <td>1</td>\n",
       "      <td>A</td>\n",
       "    </tr>\n",
       "    <tr>\n",
       "      <th>4</th>\n",
       "      <td>1</td>\n",
       "      <td>A</td>\n",
       "    </tr>\n",
       "  </tbody>\n",
       "</table>\n",
       "</div>"
      ],
      "text/plain": [
       "   Attend Name\n",
       "0       1    A\n",
       "1       0    A\n",
       "2       1    A\n",
       "3       1    A\n",
       "4       1    A"
      ]
     },
     "execution_count": 2,
     "metadata": {},
     "output_type": "execute_result"
    }
   ],
   "source": [
    "drink = pd.read_csv('./data/drink.csv')\n",
    "drink.head()"
   ]
  },
  {
   "cell_type": "code",
   "execution_count": 4,
   "id": "30597666",
   "metadata": {},
   "outputs": [
    {
     "data": {
      "text/plain": [
       "0    13\n",
       "1    12\n",
       "Name: Attend, dtype: int64"
      ]
     },
     "execution_count": 4,
     "metadata": {},
     "output_type": "execute_result"
    }
   ],
   "source": [
    "# 도수 계산\n",
    "\n",
    "drink['Attend'].value_counts()"
   ]
  },
  {
   "cell_type": "code",
   "execution_count": 5,
   "id": "b2f7d1dd",
   "metadata": {},
   "outputs": [
    {
     "name": "stdout",
     "output_type": "stream",
     "text": [
      "도수분포표\n",
      "0    13\n",
      "1    12\n",
      "Name: Attend, dtype: int64\n"
     ]
    }
   ],
   "source": [
    "drink_freq = drink['Attend'].value_counts()\n",
    "print('도수분포표')\n",
    "print(drink_freq)"
   ]
  },
  {
   "cell_type": "code",
   "execution_count": 7,
   "id": "bb3b3db0",
   "metadata": {},
   "outputs": [
    {
     "data": {
      "text/html": [
       "<div>\n",
       "<style scoped>\n",
       "    .dataframe tbody tr th:only-of-type {\n",
       "        vertical-align: middle;\n",
       "    }\n",
       "\n",
       "    .dataframe tbody tr th {\n",
       "        vertical-align: top;\n",
       "    }\n",
       "\n",
       "    .dataframe thead th {\n",
       "        text-align: right;\n",
       "    }\n",
       "</style>\n",
       "<table border=\"1\" class=\"dataframe\">\n",
       "  <thead>\n",
       "    <tr style=\"text-align: right;\">\n",
       "      <th></th>\n",
       "      <th>Attend</th>\n",
       "      <th>Name</th>\n",
       "    </tr>\n",
       "  </thead>\n",
       "  <tbody>\n",
       "    <tr>\n",
       "      <th>0</th>\n",
       "      <td>1</td>\n",
       "      <td>A</td>\n",
       "    </tr>\n",
       "    <tr>\n",
       "      <th>2</th>\n",
       "      <td>1</td>\n",
       "      <td>A</td>\n",
       "    </tr>\n",
       "    <tr>\n",
       "      <th>3</th>\n",
       "      <td>1</td>\n",
       "      <td>A</td>\n",
       "    </tr>\n",
       "    <tr>\n",
       "      <th>4</th>\n",
       "      <td>1</td>\n",
       "      <td>A</td>\n",
       "    </tr>\n",
       "    <tr>\n",
       "      <th>5</th>\n",
       "      <td>1</td>\n",
       "      <td>B</td>\n",
       "    </tr>\n",
       "    <tr>\n",
       "      <th>6</th>\n",
       "      <td>1</td>\n",
       "      <td>B</td>\n",
       "    </tr>\n",
       "    <tr>\n",
       "      <th>7</th>\n",
       "      <td>1</td>\n",
       "      <td>B</td>\n",
       "    </tr>\n",
       "    <tr>\n",
       "      <th>12</th>\n",
       "      <td>1</td>\n",
       "      <td>C</td>\n",
       "    </tr>\n",
       "    <tr>\n",
       "      <th>13</th>\n",
       "      <td>1</td>\n",
       "      <td>C</td>\n",
       "    </tr>\n",
       "    <tr>\n",
       "      <th>15</th>\n",
       "      <td>1</td>\n",
       "      <td>D</td>\n",
       "    </tr>\n",
       "    <tr>\n",
       "      <th>19</th>\n",
       "      <td>1</td>\n",
       "      <td>D</td>\n",
       "    </tr>\n",
       "    <tr>\n",
       "      <th>23</th>\n",
       "      <td>1</td>\n",
       "      <td>E</td>\n",
       "    </tr>\n",
       "  </tbody>\n",
       "</table>\n",
       "</div>"
      ],
      "text/plain": [
       "    Attend Name\n",
       "0        1    A\n",
       "2        1    A\n",
       "3        1    A\n",
       "4        1    A\n",
       "5        1    B\n",
       "6        1    B\n",
       "7        1    B\n",
       "12       1    C\n",
       "13       1    C\n",
       "15       1    D\n",
       "19       1    D\n",
       "23       1    E"
      ]
     },
     "execution_count": 7,
     "metadata": {},
     "output_type": "execute_result"
    }
   ],
   "source": [
    "drink[drink['Attend']==1]"
   ]
  },
  {
   "cell_type": "code",
   "execution_count": 8,
   "id": "a3afbbc7",
   "metadata": {},
   "outputs": [
    {
     "data": {
      "text/plain": [
       "0     A\n",
       "2     A\n",
       "3     A\n",
       "4     A\n",
       "5     B\n",
       "6     B\n",
       "7     B\n",
       "12    C\n",
       "13    C\n",
       "15    D\n",
       "19    D\n",
       "23    E\n",
       "Name: Name, dtype: object"
      ]
     },
     "execution_count": 8,
     "metadata": {},
     "output_type": "execute_result"
    }
   ],
   "source": [
    "drink[drink['Attend']==1]['Name']"
   ]
  },
  {
   "cell_type": "code",
   "execution_count": 9,
   "id": "0618bf65",
   "metadata": {},
   "outputs": [
    {
     "data": {
      "text/plain": [
       "A    4\n",
       "B    3\n",
       "C    2\n",
       "D    2\n",
       "E    1\n",
       "Name: Name, dtype: int64"
      ]
     },
     "execution_count": 9,
     "metadata": {},
     "output_type": "execute_result"
    }
   ],
   "source": [
    "drink[drink['Attend']==1]['Name'].value_counts()"
   ]
  },
  {
   "cell_type": "markdown",
   "id": "d4136410",
   "metadata": {},
   "source": [
    "#### 범주형 자료 요약 - 막대그래프"
   ]
  },
  {
   "cell_type": "code",
   "execution_count": 10,
   "id": "3f3dc9cd",
   "metadata": {},
   "outputs": [],
   "source": [
    "import matplotlib.pyplot as plt"
   ]
  },
  {
   "cell_type": "code",
   "execution_count": 11,
   "id": "d972c23c",
   "metadata": {},
   "outputs": [
    {
     "data": {
      "text/plain": [
       "<BarContainer object of 5 artists>"
      ]
     },
     "execution_count": 11,
     "metadata": {},
     "output_type": "execute_result"
    },
    {
     "data": {
      "image/png": "[encoded data removed]",
      "text/plain": [
       "<Figure size 432x288 with 1 Axes>"
      ]
     },
     "metadata": {
      "needs_background": "light"
     },
     "output_type": "display_data"
    }
   ],
   "source": [
    "# 술자리 참여 상대도수 데이터\n",
    "\n",
    "labels = ['A', 'B', 'C','D','E']\n",
    "ratio = [4,3,2,2,1]\n",
    "\n",
    "# 막대그래프\n",
    "\n",
    "fig, ax = plt.subplots()\n",
    "plt.bar(labels, ratio)"
   ]
  },
  {
   "cell_type": "code",
   "execution_count": 13,
   "id": "70839bbe",
   "metadata": {},
   "outputs": [],
   "source": [
    "fig.savefig('bar_plot.png')"
   ]
  },
  {
   "cell_type": "markdown",
   "id": "5c56b917",
   "metadata": {},
   "source": [
    "#### 수치형 자료 요약 - 평균"
   ]
  },
  {
   "cell_type": "code",
   "execution_count": 16,
   "id": "8c3ee6b2",
   "metadata": {},
   "outputs": [
    {
     "name": "stdout",
     "output_type": "stream",
     "text": [
      "Mean(평균):  144.12\n"
     ]
    }
   ],
   "source": [
    "coffee = np.array([202,177,121,148,89,121,137,158])\n",
    "\n",
    "# 평균 \n",
    "cf_mean = coffee.mean()\n",
    "\n",
    "# 소수점 둘째자리까지 반올림 하여 출력하세요\n",
    "print('Mean(평균): ', round(cf_mean, 2))"
   ]
  },
  {
   "cell_type": "markdown",
   "id": "6dd8f4ac",
   "metadata": {},
   "source": [
    "#### 수치형 자료 요약 - 표준편차"
   ]
  },
  {
   "cell_type": "code",
   "execution_count": 17,
   "id": "225dc8de",
   "metadata": {},
   "outputs": [],
   "source": [
    "from statistics import stdev\n",
    "import numpy as np"
   ]
  },
  {
   "cell_type": "code",
   "execution_count": 19,
   "id": "c3bb64cc",
   "metadata": {},
   "outputs": [
    {
     "name": "stdout",
     "output_type": "stream",
     "text": [
      "Standard deviation(표준편차):  35.44\n"
     ]
    }
   ],
   "source": [
    "# 표준편차\n",
    "cf_std = stdev(coffee)\n",
    "print('Standard deviation(표준편차): ', round(cf_std, 2))"
   ]
  },
  {
   "cell_type": "code",
   "execution_count": 20,
   "id": "a5eb2a0d",
   "metadata": {},
   "outputs": [
    {
     "data": {
      "text/plain": [
       "(array([1., 0., 2., 0., 1., 1., 1., 1., 0., 1.]),\n",
       " array([ 89. , 100.3, 111.6, 122.9, 134.2, 145.5, 156.8, 168.1, 179.4,\n",
       "        190.7, 202. ]),\n",
       " <BarContainer object of 10 artists>)"
      ]
     },
     "execution_count": 20,
     "metadata": {},
     "output_type": "execute_result"
    },
    {
     "data": {
      "image/png": "[encoded data removed]",
      "text/plain": [
       "<Figure size 432x288 with 1 Axes>"
      ]
     },
     "metadata": {
      "needs_background": "light"
     },
     "output_type": "display_data"
    }
   ],
   "source": [
    "# 히스토그램 그리는 코드를 작성해주세요.\n",
    "\n",
    "fix, ax = plt.subplots()\n",
    "\n",
    "plt.hist(coffee)"
   ]
  },
  {
   "cell_type": "code",
   "execution_count": 21,
   "id": "7c0c1748",
   "metadata": {},
   "outputs": [
    {
     "data": {
      "text/plain": [
       "(array([3., 3., 2.]),\n",
       " array([ 89.        , 126.66666667, 164.33333333, 202.        ]),\n",
       " <BarContainer object of 3 artists>)"
      ]
     },
     "execution_count": 21,
     "metadata": {},
     "output_type": "execute_result"
    },
    {
     "data": {
      "image/png": "[encoded data removed]",
      "text/plain": [
       "<Figure size 432x288 with 1 Axes>"
      ]
     },
     "metadata": {
      "needs_background": "light"
     },
     "output_type": "display_data"
    }
   ],
   "source": [
    "plt.hist(coffee, bins=3)  # bins=3 >> 계급수를 3개로 설정"
   ]
  }
 ],
 "metadata": {
  "kernelspec": {
   "display_name": "Python 3 (ipykernel)",
   "language": "python",
   "name": "python3"
  },
  "language_info": {
   "codemirror_mode": {
    "name": "ipython",
    "version": 3
   },
   "file_extension": ".py",
   "mimetype": "text/x-python",
   "name": "python",
   "nbconvert_exporter": "python",
   "pygments_lexer": "ipython3",
   "version": "3.9.7"
  }
 },
 "nbformat": 4,
 "nbformat_minor": 5
}
