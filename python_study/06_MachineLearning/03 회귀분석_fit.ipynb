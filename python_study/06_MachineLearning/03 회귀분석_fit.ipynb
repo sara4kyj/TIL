{
 "cells": [
  {
   "cell_type": "code",
   "execution_count": 1,
   "id": "51266599",
   "metadata": {},
   "outputs": [],
   "source": [
    "import numpy as np\n",
    "import pandas as pd\n",
    "import matplotlib.pyplot as plt\n",
    "%matplotlib inline"
   ]
  },
  {
   "cell_type": "code",
   "execution_count": 2,
   "id": "b6efb691",
   "metadata": {},
   "outputs": [],
   "source": [
    "from sklearn import linear_model"
   ]
  },
  {
   "cell_type": "code",
   "execution_count": 4,
   "id": "92b7f64e",
   "metadata": {},
   "outputs": [],
   "source": [
    "# 데이터 불러오기\n",
    "# 시계열데이터는 처음 입력이 없기 때문에 NaN이 존재할 수 밖에 없음\n",
    "\n",
    "h_stock = pd.read_csv('./data/H_stock.csv')  # H 회사 주식\n",
    "s_stock = pd.read_csv('./data/S_stock.csv')  # S 회사 주식\n",
    "k_index = pd.read_csv('./data/K_index.csv')  # KOSPI"
   ]
  },
  {
   "cell_type": "code",
   "execution_count": 5,
   "id": "1d141d59",
   "metadata": {},
   "outputs": [
    {
     "name": "stdout",
     "output_type": "stream",
     "text": [
      "         date  h_price  h_rate\n",
      "0  2015-03-25    45500     NaN\n",
      "1  2015-03-26    45900   0.879\n",
      "2  2015-03-27    45000  -1.961\n",
      "3  2015-03-30    45600   1.333\n",
      "4  2015-03-31    46000   0.877\n",
      "\n",
      "         date  s_price  s_rate\n",
      "0  2015-03-25  1485000     NaN\n",
      "1  2015-03-26  1421000  -4.310\n",
      "2  2015-03-27  1421000   0.000\n",
      "3  2015-03-30  1428000   0.493\n",
      "4  2015-03-31  1441000   0.910\n",
      "\n",
      "         date    kospi  k_rate\n",
      "0  2015-03-25  2042.81     NaN\n",
      "1  2015-03-26  2022.56  -0.991\n",
      "2  2015-03-27  2019.80  -0.136\n",
      "3  2015-03-30  2030.04   0.507\n",
      "4  2015-03-31  2041.03   0.541\n"
     ]
    }
   ],
   "source": [
    "print(h_stock.head())\n",
    "print()\n",
    "print(s_stock.head())\n",
    "print()\n",
    "print(k_index.head())"
   ]
  },
  {
   "cell_type": "code",
   "execution_count": 8,
   "id": "d9c43490",
   "metadata": {},
   "outputs": [],
   "source": [
    "# NaN 있는 헤더 정보 제거 : dropna()\n",
    "# DataFrame -> np.array로 변경\n",
    "\n",
    "h_rate = np.array(h_stock.h_rate[1:])\n",
    "s_rate = np.array(s_stock.s_rate[1:])\n",
    "k_rate = np.array(k_index.k_rate[1:])"
   ]
  },
  {
   "cell_type": "code",
   "execution_count": 11,
   "id": "1e261649",
   "metadata": {
    "scrolled": true
   },
   "outputs": [
    {
     "name": "stdout",
     "output_type": "stream",
     "text": [
      "[ 0.879 -1.961  1.333  0.877 -0.109  0.762  0.756 -1.929 -0.874 -3.638\n",
      " -1.373  1.276 -0.802  1.386 -0.228  5.023  3.37  -2.734 -0.432 -1.194\n",
      "  0.659  2.293  0.32   2.021 -0.521 -1.782  2.348 -2.92  -0.644 -0.973\n",
      "  2.183  0.641  0.212 -0.847  0.    -0.214 -1.285  3.905 -0.939  2.213\n",
      " -3.093 -2.66  -0.109  1.094 -1.515  0.769 -1.2   -1.766  0.674  0.\n",
      " -0.223 -2.237  0.343 -0.798  0.69  -1.826 -0.698 -0.585  3.887  4.762\n",
      " -0.325 -1.303 -0.77   0.222 -0.885  2.232  1.201  0.539  0.644  0.213\n",
      " -0.957  1.504  1.693 -1.353  1.266  2.083  0.102 -0.306  0.307  1.733\n",
      "  1.002 -3.472  2.261 -3.216 -1.038  1.154  0.622  0.206  4.733  2.554\n",
      " -0.958 -0.193 -0.969 -0.196  0.588 -1.949 -0.994 -0.402  1.815  0.594\n",
      " -0.394  2.174 -4.255 -3.636 -0.419  3.474  0.712 -0.606 -2.439  1.042\n",
      " -1.753 -0.315 -1.579  1.176 -2.114  2.916  3.358 -2.437  1.249  0.\n",
      "  0.103 -2.156 -0.315 -0.211  4.852 -2.817  1.035  0.512 -0.102  0.\n",
      " -1.531  1.451  0.511 -1.728  0.    -0.207  0.104  3.416  1.301  1.581\n",
      "  0.778  0.965  0.382  0.    -1.333  2.317  0.566 -1.501 -1.714 -0.388\n",
      " -1.362  2.564  1.923 -0.943  0.381  0.    -4.175  0.396 -2.17  -0.806\n",
      "  1.22   0.402  1.6   -0.394 -0.395 -0.595 -0.998 -1.008  0.509  0.811\n",
      " -1.608  1.634 -2.01   0.41  -2.043 -0.938  1.895  2.583 -2.014 -0.103\n",
      "  1.749 -1.517  0.308  2.047 -0.301 -0.402  0.909  0.701  0.    -1.789\n",
      "  0.506  0.705  0.     1.4    0.197 -0.984 -0.795  1.603 -0.394  2.97\n",
      "  0.    -1.923 -0.784  1.976 -0.194 -1.942 -1.386  1.606  1.976  0.194\n",
      "  1.934 -0.19   1.141  0.188 -0.563  1.509 -2.788 -0.191  1.341 -0.567\n",
      "  1.331  2.064  0.184  2.385 -0.538 -0.18   2.166  5.124  1.849 -3.135\n",
      "  2.215 -2.5   -0.171 -2.74  -1.585  2.683  1.045  0.345  1.031 -0.34\n",
      "  2.048 -0.836  0.506  0.839 -1.498 -0.507  0.679  0.   ]\n",
      "\n",
      "(248,)\n",
      "\n",
      "[-4.31   0.     0.493  0.91  -1.249  0.773  0.     2.51  -0.544  1.163\n",
      "  0.27   0.472 -0.738 -0.338 -1.9    2.144 -1.828 -1.379  0.979  1.177\n",
      " -0.684 -2.826 -1.064 -2.079  1.391  1.805 -0.709 -2.714  0.587 -2.336\n",
      " -0.149 -0.374  0.15   0.525 -1.045 -0.452  1.364  2.093 -1.025 -0.148\n",
      "  0.889 -3.524 -0.381 -0.153 -1.224  0.93  -2.302  5.027  0.299 -2.013\n",
      " -2.435 -1.56  -0.396  1.591 -0.548 -1.181 -0.08   0.877  0.079  1.185\n",
      "  3.123 -1.438 -2.535  0.709  0.235 -1.015  2.129  0.309 -2.386 -2.997\n",
      "  0.813 -0.081  2.098 -0.474  0.556 -3.239  0.816  3.806  1.794 -2.299\n",
      " -0.941 -0.792 -1.516 -0.405  0.081  0.     2.683 -3.8   -2.469 -0.844\n",
      "  0.596 -1.946 -3.796  1.883  0.44   1.402 -0.259 -1.213 -3.158  2.446\n",
      "  2.034 -1.3   -3.336 -1.998  0.    -1.112  0.     1.312  0.74  -0.367\n",
      "  0.461  2.936  0.624 -1.506  1.709  1.415 -1.133 -1.675  0.807 -0.089\n",
      "  2.582  0.434  2.852 -3.361 -0.435 -1.223 -0.442 -1.243  1.978  0.\n",
      " -1.323 -0.357  3.229  8.688  1.519 -0.787 -0.635  0.16   1.196 -0.315\n",
      " -0.711  0.796  0.316  0.787  0.703  0.233  0.464  0.77   1.3    3.547\n",
      "  0.802 -2.242 -1.627  0.902 -0.298  0.448 -1.711  0.908 -1.2   -1.291\n",
      " -2.846  0.554  0.866  0.625 -0.31  -0.233  1.326  0.     2.771 -0.599\n",
      " -3.24   2.882 -1.59  -0.769 -1.628 -0.552  0.     0.079  1.584  0.078\n",
      " -1.791  1.269  1.723 -0.693 -0.93   0.156  0.938  0.232 -0.772 -1.479\n",
      " -0.948  0.478 -4.365  0.249 -2.732 -1.021  0.688 -1.623 -0.521  0.175\n",
      " -0.871 -0.527 -0.53   3.996 -2.818 -0.615  3.271 -0.514 -2.151  3.342\n",
      " -2.553  0.437  1.13  -0.602 -0.865  0.873  0.692 -2.921  0.     2.124\n",
      "  1.213  1.455  0.169  0.253 -1.261  0.511 -0.762  0.597 -0.594  0.512\n",
      "  1.613  1.921 -0.41   0.658 -2.535  0.168  2.596  1.959  0.48  -0.159\n",
      "  0.239  0.557  0.792 -0.471  0.158  0.788  0.235  0.468]\n",
      "\n",
      "(248,)\n",
      "\n",
      "[-0.991 -0.136  0.507  0.541 -0.616  0.031  0.806  0.049  0.029  0.597\n",
      " -0.019  1.403  0.535  0.61   0.39   0.941  0.168  0.15  -0.089 -0.042\n",
      "  1.377 -0.626 -0.105 -0.457 -0.235 -0.722  0.238 -1.297 -0.645 -0.262\n",
      "  0.569 -0.029  0.829  0.292 -0.652  0.343  0.337  0.881 -0.782  1.097\n",
      " -0.121 -1.679  0.161  0.185 -0.588 -1.129 -0.745  0.47  -0.23  -0.141\n",
      " -0.056 -0.616  0.258 -0.216 -0.48  -0.666  0.303  0.345  0.249  0.401\n",
      "  1.267  0.208 -0.023  0.249 -1.424  0.665  1.142  0.45  -0.139 -2.399\n",
      " -0.664 -1.18   0.575  0.166  1.494 -0.111  0.664  0.723 -0.532 -0.168\n",
      "  0.497 -0.907  0.016 -0.925 -0.349  0.014 -0.073 -0.912  0.551 -1.067\n",
      "  0.971  0.087 -0.811 -0.152 -0.351 -0.825 -0.563  0.404 -0.753 -0.623\n",
      " -0.863 -1.28  -2.01  -2.466  0.919  2.57   0.734  1.555  0.197 -1.404\n",
      "  0.052  0.016 -1.54  -0.15  -0.241  2.955  1.443 -1.057 -0.51   0.316\n",
      "  1.956  0.053  0.985 -1.567  0.885 -1.888  0.127 -0.218  1.027  0.841\n",
      " -0.487  0.435  0.627  0.763  0.683  0.104 -0.128 -0.471  1.18  -0.148\n",
      "  0.     0.448  0.178 -0.978  0.86   0.376 -0.167 -0.105 -0.409 -0.231\n",
      "  0.284  0.647  0.213 -0.164 -0.407 -0.753 -1.437  0.034 -0.196 -1.007\n",
      " -1.534  1.058 -0.036  1.326  0.048  0.696  0.628 -0.341  1.058 -0.083\n",
      " -1.825  1.604 -0.723 -0.757 -0.986 -0.543 -0.745 -0.041  0.197 -0.177\n",
      " -1.067  0.267  1.885  0.435 -0.133  0.297  0.574  0.334 -0.429 -1.336\n",
      "  0.115 -0.254 -2.169  0.613 -0.264 -1.096  0.698 -1.188 -0.21   1.344\n",
      " -0.849 -1.113 -0.022  0.596 -2.339 -0.267  2.114  0.745 -1.148  1.399\n",
      "  0.478  0.268  0.667 -0.947 -0.836  1.353  0.08  -2.933 -1.411  1.467\n",
      "  1.402 -0.231  1.322  0.388  0.006 -0.112 -0.088  0.316  0.083 -0.182\n",
      "  1.605  0.552 -0.13   0.115 -0.6    0.351  0.839  0.106  0.044 -0.117\n",
      "  0.25   0.663  0.208 -0.118  0.354 -0.085 -0.459 -0.109]\n",
      "\n",
      "(248,)\n"
     ]
    }
   ],
   "source": [
    "print(h_rate,h_rate.shape, s_rate, s_rate.shape, k_rate, k_rate.shape, sep='\\n\\n')"
   ]
  },
  {
   "cell_type": "code",
   "execution_count": 13,
   "id": "5b776083",
   "metadata": {},
   "outputs": [],
   "source": [
    "# 선형회귀모델 함수에 넣기 위해서 reshape를 사용하여 차원 조정\n",
    "# (248,) >> (248,1)\n",
    "\n",
    "h_rate = h_rate.reshape(h_rate.shape[0],1)\n",
    "s_rate = s_rate.reshape(s_rate.shape[0],1)\n",
    "k_rate = k_rate.reshape(k_rate.shape[0],1)"
   ]
  },
  {
   "cell_type": "code",
   "execution_count": 15,
   "id": "36d74339",
   "metadata": {},
   "outputs": [
    {
     "data": {
      "text/plain": [
       "<matplotlib.collections.PathCollection at 0x2d4ed6810d0>"
      ]
     },
     "execution_count": 15,
     "metadata": {},
     "output_type": "execute_result"
    },
    {
     "data": {
      "image/png": "[encoded data removed]",
      "text/plain": [
       "<Figure size 432x288 with 1 Axes>"
      ]
     },
     "metadata": {
      "needs_background": "light"
     },
     "output_type": "display_data"
    }
   ],
   "source": [
    "# 산점도 그리기 (k_rate와 h_rate 비교)\n",
    "# x : k_rate , y:h_rate\n",
    "\n",
    "plt.scatter(k_rate, h_rate, c='blue', s=30, marker='o')"
   ]
  },
  {
   "cell_type": "markdown",
   "id": "32825260",
   "metadata": {},
   "source": [
    "### 모델링"
   ]
  },
  {
   "cell_type": "code",
   "execution_count": 16,
   "id": "706b2da7",
   "metadata": {},
   "outputs": [
    {
     "data": {
      "text/plain": [
       "LinearRegression()"
      ]
     },
     "execution_count": 16,
     "metadata": {},
     "output_type": "execute_result"
    }
   ],
   "source": [
    "model = linear_model.LinearRegression()\n",
    "model.fit(k_rate, h_rate)"
   ]
  },
  {
   "cell_type": "code",
   "execution_count": 17,
   "id": "f970dc47",
   "metadata": {},
   "outputs": [
    {
     "data": {
      "text/plain": [
       "array([[-5.02823664e-01],\n",
       "       [ 3.99487981e-02],\n",
       "       [ 4.48139082e-01],\n",
       "       [ 4.69723017e-01],\n",
       "       [-2.64765567e-01],\n",
       "       [ 1.45964004e-01],\n",
       "       [ 6.37950739e-01],\n",
       "       [ 1.57390793e-01],\n",
       "       [ 1.44694361e-01],\n",
       "       [ 5.05273026e-01],\n",
       "       [ 1.14222924e-01],\n",
       "       [ 1.01693923e+00],\n",
       "       [ 4.65914087e-01],\n",
       "       [ 5.13525707e-01],\n",
       "       [ 3.73864956e-01],\n",
       "       [ 7.23651654e-01],\n",
       "       [ 2.32934562e-01],\n",
       "       [ 2.21507774e-01],\n",
       "       [ 6.97854129e-02],\n",
       "       [ 9.96220278e-02],\n",
       "       [ 1.00043387e+00],\n",
       "       [-2.71113783e-01],\n",
       "       [ 5.96282675e-02],\n",
       "       [-1.63828933e-01],\n",
       "       [-2.28985396e-02],\n",
       "       [-3.32056655e-01],\n",
       "       [ 2.77372074e-01],\n",
       "       [-6.97079072e-01],\n",
       "       [-2.83175393e-01],\n",
       "       [-4.00387227e-02],\n",
       "       [ 4.87498021e-01],\n",
       "       [ 1.07874709e-01],\n",
       "       [ 6.52551635e-01],\n",
       "       [ 3.11652440e-01],\n",
       "       [-2.87619144e-01],\n",
       "       [ 3.44028341e-01],\n",
       "       [ 3.40219412e-01],\n",
       "       [ 6.85562358e-01],\n",
       "       [-3.70145951e-01],\n",
       "       [ 8.22683822e-01],\n",
       "       [ 4.94711220e-02],\n",
       "       [-9.39580920e-01],\n",
       "       [ 2.28490811e-01],\n",
       "       [ 2.43726529e-01],\n",
       "       [-2.46990562e-01],\n",
       "       [-5.90429044e-01],\n",
       "       [-3.46657552e-01],\n",
       "       [ 4.24650683e-01],\n",
       "       [-1.97244317e-02],\n",
       "       [ 3.67746901e-02],\n",
       "       [ 9.07345255e-02],\n",
       "       [-2.64765567e-01],\n",
       "       [ 2.90068506e-01],\n",
       "       [-1.08369294e-02],\n",
       "       [-1.78429830e-01],\n",
       "       [-2.96506646e-01],\n",
       "       [ 3.18635477e-01],\n",
       "       [ 3.45297984e-01],\n",
       "       [ 2.84355111e-01],\n",
       "       [ 3.80847994e-01],\n",
       "       [ 9.30603493e-01],\n",
       "       [ 2.58327426e-01],\n",
       "       [ 1.11683638e-01],\n",
       "       [ 2.84355111e-01],\n",
       "       [-7.77701414e-01],\n",
       "       [ 5.48440894e-01],\n",
       "       [ 8.51250794e-01],\n",
       "       [ 4.11954252e-01],\n",
       "       [ 3.80443333e-02],\n",
       "       [-1.39665247e+00],\n",
       "       [-2.95237003e-01],\n",
       "       [-6.22804945e-01],\n",
       "       [ 4.91306951e-01],\n",
       "       [ 2.31664919e-01],\n",
       "       [ 1.07470799e+00],\n",
       "       [ 5.58193379e-02],\n",
       "       [ 5.47806073e-01],\n",
       "       [ 5.85260547e-01],\n",
       "       [-2.11440553e-01],\n",
       "       [ 1.96345071e-02],\n",
       "       [ 4.41790867e-01],\n",
       "       [-4.49498650e-01],\n",
       "       [ 1.36441680e-01],\n",
       "       [-4.60925439e-01],\n",
       "       [-9.52682013e-02],\n",
       "       [ 1.35172037e-01],\n",
       "       [ 7.99425584e-02],\n",
       "       [-4.52672758e-01],\n",
       "       [ 4.76071233e-01],\n",
       "       [-5.51070105e-01],\n",
       "       [ 7.42696302e-01],\n",
       "       [ 1.81514013e-01],\n",
       "       [-3.88555777e-01],\n",
       "       [ 2.97916526e-02],\n",
       "       [-9.65378444e-02],\n",
       "       [-3.97443280e-01],\n",
       "       [-2.31120022e-01],\n",
       "       [ 3.82752458e-01],\n",
       "       [-3.51736125e-01],\n",
       "       [-2.69209318e-01],\n",
       "       [-4.21566500e-01],\n",
       "       [-6.86287104e-01],\n",
       "       [-1.14970687e+00],\n",
       "       [-1.43918551e+00],\n",
       "       [ 7.09685579e-01],\n",
       "       [ 1.75777603e+00],\n",
       "       [ 5.92243584e-01],\n",
       "       [ 1.11343211e+00],\n",
       "       [ 2.51344389e-01],\n",
       "       [-7.65004982e-01],\n",
       "       [ 1.59295258e-01],\n",
       "       [ 1.36441680e-01],\n",
       "       [-8.51340719e-01],\n",
       "       [ 3.10612958e-02],\n",
       "       [-2.67074692e-02],\n",
       "       [ 2.00218234e+00],\n",
       "       [ 1.04233209e+00],\n",
       "       [-5.44721889e-01],\n",
       "       [-1.97474478e-01],\n",
       "       [ 3.26888158e-01],\n",
       "       [ 1.36799557e+00],\n",
       "       [ 1.59930079e-01],\n",
       "       [ 7.51583804e-01],\n",
       "       [-8.68480902e-01],\n",
       "       [ 6.88101645e-01],\n",
       "       [-1.07225863e+00],\n",
       "       [ 2.06906877e-01],\n",
       "       [-1.21065726e-02],\n",
       "       [ 7.78246311e-01],\n",
       "       [ 6.60169495e-01],\n",
       "       [-1.82873581e-01],\n",
       "       [ 4.02431928e-01],\n",
       "       [ 5.24317674e-01],\n",
       "       [ 6.10653410e-01],\n",
       "       [ 5.59867683e-01],\n",
       "       [ 1.92305980e-01],\n",
       "       [ 4.50273708e-02],\n",
       "       [-1.72716436e-01],\n",
       "       [ 8.75374015e-01],\n",
       "       [ 3.23309390e-02],\n",
       "       [ 1.26284535e-01],\n",
       "       [ 4.10684608e-01],\n",
       "       [ 2.39282778e-01],\n",
       "       [-4.94570983e-01],\n",
       "       [ 6.72231105e-01],\n",
       "       [ 3.64977454e-01],\n",
       "       [ 2.02693287e-02],\n",
       "       [ 5.96282675e-02],\n",
       "       [-1.33357497e-01],\n",
       "       [-2.03592533e-02],\n",
       "       [ 3.06573867e-01],\n",
       "       [ 5.37014105e-01],\n",
       "       [ 2.61501534e-01],\n",
       "       [ 2.21737935e-02],\n",
       "       [-1.32087854e-01],\n",
       "       [-3.51736125e-01],\n",
       "       [-7.85954095e-01],\n",
       "       [ 1.47868469e-01],\n",
       "       [ 1.85950248e-03],\n",
       "       [-5.12980810e-01],\n",
       "       [-8.47531789e-01],\n",
       "       [ 7.97925780e-01],\n",
       "       [ 1.03430957e-01],\n",
       "       [ 9.68057967e-01],\n",
       "       [ 1.56755971e-01],\n",
       "       [ 5.68120364e-01],\n",
       "       [ 5.24952495e-01],\n",
       "       [-9.01896285e-02],\n",
       "       [ 7.97925780e-01],\n",
       "       [ 7.35943425e-02],\n",
       "       [-1.03226487e+00],\n",
       "       [ 1.14453837e+00],\n",
       "       [-3.32691477e-01],\n",
       "       [-3.54275411e-01],\n",
       "       [-4.99649556e-01],\n",
       "       [-2.18423590e-01],\n",
       "       [-3.46657552e-01],\n",
       "       [ 1.00256849e-01],\n",
       "       [ 2.51344389e-01],\n",
       "       [ 1.39211128e-02],\n",
       "       [-5.51070105e-01],\n",
       "       [ 2.95781900e-01],\n",
       "       [ 1.32292324e+00],\n",
       "       [ 4.02431928e-01],\n",
       "       [ 4.18532628e-02],\n",
       "       [ 3.14826548e-01],\n",
       "       [ 4.90672129e-01],\n",
       "       [ 3.38314947e-01],\n",
       "       [-1.46053929e-01],\n",
       "       [-7.21837114e-01],\n",
       "       [ 1.99289018e-01],\n",
       "       [-3.49601499e-02],\n",
       "       [-1.25064350e+00],\n",
       "       [ 5.15430171e-01],\n",
       "       [-4.13083658e-02],\n",
       "       [-5.69479931e-01],\n",
       "       [ 5.69390007e-01],\n",
       "       [-6.27883518e-01],\n",
       "       [-7.02799982e-03],\n",
       "       [ 9.79484756e-01],\n",
       "       [-4.12678998e-01],\n",
       "       [-5.80271898e-01],\n",
       "       [ 1.12318460e-01],\n",
       "       [ 5.04638204e-01],\n",
       "       [-1.35856317e+00],\n",
       "       [-4.32128306e-02],\n",
       "       [ 1.46829738e+00],\n",
       "       [ 5.99226622e-01],\n",
       "       [-6.02490654e-01],\n",
       "       [ 1.01439994e+00],\n",
       "       [ 4.29729256e-01],\n",
       "       [ 2.96416722e-01],\n",
       "       [ 5.49710537e-01],\n",
       "       [-4.74891514e-01],\n",
       "       [-4.04426317e-01],\n",
       "       [ 9.85198150e-01],\n",
       "       [ 1.77070262e-01],\n",
       "       [-1.73564720e+00],\n",
       "       [-7.69448733e-01],\n",
       "       [ 1.05756781e+00],\n",
       "       [ 1.01630441e+00],\n",
       "       [-2.03592533e-02],\n",
       "       [ 9.65518681e-01],\n",
       "       [ 3.72595313e-01],\n",
       "       [ 1.30093464e-01],\n",
       "       [ 5.51845163e-02],\n",
       "       [ 7.04202345e-02],\n",
       "       [ 3.26888158e-01],\n",
       "       [ 1.78974727e-01],\n",
       "       [ 1.07470048e-02],\n",
       "       [ 1.14517319e+00],\n",
       "       [ 4.76706054e-01],\n",
       "       [ 4.37577276e-02],\n",
       "       [ 1.99289018e-01],\n",
       "       [-2.54608421e-01],\n",
       "       [ 3.49106914e-01],\n",
       "       [ 6.58899851e-01],\n",
       "       [ 1.93575624e-01],\n",
       "       [ 1.54216685e-01],\n",
       "       [ 5.20104083e-02],\n",
       "       [ 2.84989933e-01],\n",
       "       [ 5.47171251e-01],\n",
       "       [ 2.58327426e-01],\n",
       "       [ 5.13755867e-02],\n",
       "       [ 3.51011379e-01],\n",
       "       [ 7.23246993e-02],\n",
       "       [-1.65098577e-01],\n",
       "       [ 5.70889811e-02]])"
      ]
     },
     "execution_count": 17,
     "metadata": {},
     "output_type": "execute_result"
    }
   ],
   "source": [
    "model.predict(k_rate)"
   ]
  },
  {
   "cell_type": "code",
   "execution_count": 18,
   "id": "3fd8d5ad",
   "metadata": {},
   "outputs": [
    {
     "data": {
      "text/plain": [
       "[<matplotlib.lines.Line2D at 0x2d4ef1e0610>]"
      ]
     },
     "execution_count": 18,
     "metadata": {},
     "output_type": "execute_result"
    },
    {
     "data": {
      "image/png": "[encoded data removed]",
      "text/plain": [
       "<Figure size 432x288 with 1 Axes>"
      ]
     },
     "metadata": {
      "needs_background": "light"
     },
     "output_type": "display_data"
    }
   ],
   "source": [
    "# 실제값(y)와 예측값(y_hat) 비교\n",
    "plt.plot(k_rate, model.predict(k_rate), linestyle='-.', c='r')"
   ]
  },
  {
   "cell_type": "code",
   "execution_count": 19,
   "id": "ae6b897e",
   "metadata": {},
   "outputs": [
    {
     "data": {
      "text/plain": [
       "<matplotlib.collections.PathCollection at 0x2d4ef2050d0>"
      ]
     },
     "execution_count": 19,
     "metadata": {},
     "output_type": "execute_result"
    },
    {
     "data": {
      "image/png": "[encoded data removed]",
      "text/plain": [
       "<Figure size 432x288 with 1 Axes>"
      ]
     },
     "metadata": {
      "needs_background": "light"
     },
     "output_type": "display_data"
    }
   ],
   "source": [
    "# k_rate, h_rate 관계성 확인\n",
    "plt.scatter(k_rate, h_rate, c='b', s=30, marker='v')"
   ]
  },
  {
   "cell_type": "code",
   "execution_count": 20,
   "id": "a54e0e91",
   "metadata": {},
   "outputs": [
    {
     "data": {
      "text/plain": [
       "[<matplotlib.lines.Line2D at 0x2d4ef3d4ca0>]"
      ]
     },
     "execution_count": 20,
     "metadata": {},
     "output_type": "execute_result"
    },
    {
     "data": {
      "image/png": "[encoded data removed]",
      "text/plain": [
       "<Figure size 432x288 with 1 Axes>"
      ]
     },
     "metadata": {
      "needs_background": "light"
     },
     "output_type": "display_data"
    }
   ],
   "source": [
    "plt.scatter(k_rate, h_rate, c='b', s=30, marker='v')\n",
    "plt.plot(k_rate, model.predict(k_rate), linestyle='-.', c='r')"
   ]
  },
  {
   "cell_type": "code",
   "execution_count": 22,
   "id": "4849b7a0",
   "metadata": {},
   "outputs": [
    {
     "name": "stdout",
     "output_type": "stream",
     "text": [
      "기울기: [[0.63482159]]\n",
      "절편: [0.12628453]\n",
      "결정계수: 0.1064571423759525\n"
     ]
    }
   ],
   "source": [
    "print('기울기:', model.coef_) \n",
    "print('절편:', model.intercept_)\n",
    "print('결정계수:', model.score(k_rate, h_rate))\n",
    "\n",
    "# 기울기:  [[0.63482159]]\n",
    "# 코스피 지표(k_rate)와 h회사 주가변동(h_rate)간 63% 관계가 있음(영향력이 있음)"
   ]
  },
  {
   "cell_type": "code",
   "execution_count": 24,
   "id": "1a9c3a28",
   "metadata": {},
   "outputs": [
    {
     "name": "stdout",
     "output_type": "stream",
     "text": [
      "기울기: [[1.00132771]]\n",
      "절편: [-0.03500143]\n",
      "결정계수: 0.2644483831226938\n"
     ]
    },
    {
     "data": {
      "image/png": "[encoded data removed]",
      "text/plain": [
       "<Figure size 432x288 with 1 Axes>"
      ]
     },
     "metadata": {
      "needs_background": "light"
     },
     "output_type": "display_data"
    }
   ],
   "source": [
    "plt.scatter(k_rate, s_rate, c='black', s=30, marker='x')\n",
    "\n",
    "model = linear_model.LinearRegression()\n",
    "model.fit(k_rate, s_rate)\n",
    "\n",
    "plt.plot(k_rate, model.predict(k_rate), linestyle='-.', label='s_stock', c='r')\n",
    "\n",
    "print('기울기:', model.coef_) \n",
    "print('절편:', model.intercept_)\n",
    "print('결정계수:', model.score(k_rate, s_rate))\n",
    "\n",
    "# 코스피지수 변동(k_rate)이 s회사의 주가 변동(s_rate)dp 100% 가까운 영향력을 끼치고 있다.\n",
    "# 베타지수(beta_index) 크면 공격성향이 큰 주가로 판단"
   ]
  }
 ],
 "metadata": {
  "kernelspec": {
   "display_name": "Python 3 (ipykernel)",
   "language": "python",
   "name": "python3"
  },
  "language_info": {
   "codemirror_mode": {
    "name": "ipython",
    "version": 3
   },
   "file_extension": ".py",
   "mimetype": "text/x-python",
   "name": "python",
   "nbconvert_exporter": "python",
   "pygments_lexer": "ipython3",
   "version": "3.9.7"
  }
 },
 "nbformat": 4,
 "nbformat_minor": 5
}
