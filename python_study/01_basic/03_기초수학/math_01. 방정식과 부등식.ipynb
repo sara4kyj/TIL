{
 "cells": [
  {
   "cell_type": "code",
   "execution_count": 4,
   "id": "57395cf4",
   "metadata": {},
   "outputs": [
    {
     "name": "stdout",
     "output_type": "stream",
     "text": [
      "Requirement already satisfied: sympy in c:\\programdata\\anaconda3\\lib\\site-packages (1.9)\n",
      "Requirement already satisfied: mpmath>=0.19 in c:\\programdata\\anaconda3\\lib\\site-packages (from sympy) (1.2.1)\n"
     ]
    }
   ],
   "source": [
    "!pip install sympy"
   ]
  },
  {
   "cell_type": "code",
   "execution_count": 5,
   "id": "038d1568",
   "metadata": {},
   "outputs": [],
   "source": [
    "from sympy import Symbol, solve"
   ]
  },
  {
   "cell_type": "code",
   "execution_count": 8,
   "id": "a98cb764",
   "metadata": {},
   "outputs": [],
   "source": [
    "x = Symbol('x')   # 문자 x를 부호로 설정"
   ]
  },
  {
   "cell_type": "code",
   "execution_count": 9,
   "id": "d8b3fb96",
   "metadata": {},
   "outputs": [
    {
     "data": {
      "text/latex": [
       "$\\displaystyle x$"
      ],
      "text/plain": [
       "x"
      ]
     },
     "execution_count": 9,
     "metadata": {},
     "output_type": "execute_result"
    }
   ],
   "source": [
    "x       "
   ]
  },
  {
   "cell_type": "code",
   "execution_count": 11,
   "id": "c403ac88",
   "metadata": {},
   "outputs": [],
   "source": [
    "equation = x-2-4  "
   ]
  },
  {
   "cell_type": "code",
   "execution_count": 13,
   "id": "45d5a298",
   "metadata": {},
   "outputs": [
    {
     "data": {
      "text/plain": [
       "[6]"
      ]
     },
     "execution_count": 13,
     "metadata": {},
     "output_type": "execute_result"
    }
   ],
   "source": [
    "solve(equation)"
   ]
  },
  {
   "cell_type": "code",
   "execution_count": 6,
   "id": "92be2ade",
   "metadata": {},
   "outputs": [
    {
     "name": "stdout",
     "output_type": "stream",
     "text": [
      "x\n",
      "y\n"
     ]
    }
   ],
   "source": [
    "# 방정식과 부등식\n",
    "\n",
    "x = Symbol('x')\n",
    "y = Symbol('y')\n",
    "print(x)\n",
    "print(y)"
   ]
  },
  {
   "cell_type": "code",
   "execution_count": 7,
   "id": "74bd7453",
   "metadata": {},
   "outputs": [],
   "source": [
    "equation_3 = 3*x + y - 2\n",
    "equation_4 = x - 2*y - 3"
   ]
  },
  {
   "cell_type": "code",
   "execution_count": 8,
   "id": "50517a96",
   "metadata": {},
   "outputs": [
    {
     "data": {
      "text/plain": [
       "[{x: 1, y: -1}]"
      ]
     },
     "execution_count": 8,
     "metadata": {},
     "output_type": "execute_result"
    }
   ],
   "source": [
    "solve((equation_3, equation_4), dict=True)"
   ]
  }
 ],
 "metadata": {
  "kernelspec": {
   "display_name": "Python 3 (ipykernel)",
   "language": "python",
   "name": "python3"
  },
  "language_info": {
   "codemirror_mode": {
    "name": "ipython",
    "version": 3
   },
   "file_extension": ".py",
   "mimetype": "text/x-python",
   "name": "python",
   "nbconvert_exporter": "python",
   "pygments_lexer": "ipython3",
   "version": "3.9.7"
  }
 },
 "nbformat": 4,
 "nbformat_minor": 5
}
