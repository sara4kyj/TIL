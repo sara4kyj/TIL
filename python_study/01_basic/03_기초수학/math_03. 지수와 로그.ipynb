{
 "cells": [
  {
   "cell_type": "code",
   "execution_count": 1,
   "id": "19557965",
   "metadata": {},
   "outputs": [],
   "source": [
    "import math"
   ]
  },
  {
   "cell_type": "markdown",
   "id": "d588837e",
   "metadata": {},
   "source": [
    "## 1. 지수함수"
   ]
  },
  {
   "cell_type": "code",
   "execution_count": 2,
   "id": "0afdf180",
   "metadata": {},
   "outputs": [
    {
     "data": {
      "text/plain": [
       "32.0"
      ]
     },
     "execution_count": 2,
     "metadata": {},
     "output_type": "execute_result"
    }
   ],
   "source": [
    "#2의 5 제곱\n",
    "math.pow(2,5)   # 제곱근 함수 pow(밑,지수)"
   ]
  },
  {
   "cell_type": "code",
   "execution_count": 4,
   "id": "fd57a495",
   "metadata": {},
   "outputs": [
    {
     "data": {
      "text/plain": [
       "1.4142135623730951"
      ]
     },
     "execution_count": 4,
     "metadata": {},
     "output_type": "execute_result"
    }
   ],
   "source": [
    "# 2의 제곱근(squrt)\n",
    "math.sqrt(2)"
   ]
  },
  {
   "cell_type": "code",
   "execution_count": 5,
   "id": "10b3e71f",
   "metadata": {},
   "outputs": [
    {
     "data": {
      "text/plain": [
       "7.38905609893065"
      ]
     },
     "execution_count": 5,
     "metadata": {},
     "output_type": "execute_result"
    }
   ],
   "source": [
    "# 자연상수 e의 2제곱\n",
    "math.exp(2)"
   ]
  },
  {
   "cell_type": "markdown",
   "id": "219bd3c3",
   "metadata": {},
   "source": [
    "## 2. 로그함수"
   ]
  },
  {
   "cell_type": "code",
   "execution_count": 6,
   "id": "71d3f725",
   "metadata": {},
   "outputs": [
    {
     "data": {
      "text/plain": [
       "0.5"
      ]
     },
     "execution_count": 6,
     "metadata": {},
     "output_type": "execute_result"
    }
   ],
   "source": [
    "math.log(2,4)   # 밑이 4, 진수 2d인 로그"
   ]
  },
  {
   "cell_type": "code",
   "execution_count": 7,
   "id": "423c46d9",
   "metadata": {},
   "outputs": [
    {
     "data": {
      "text/plain": [
       "2.0"
      ]
     },
     "execution_count": 7,
     "metadata": {},
     "output_type": "execute_result"
    }
   ],
   "source": [
    "math.log(4,2)"
   ]
  }
 ],
 "metadata": {
  "kernelspec": {
   "display_name": "Python 3 (ipykernel)",
   "language": "python",
   "name": "python3"
  },
  "language_info": {
   "codemirror_mode": {
    "name": "ipython",
    "version": 3
   },
   "file_extension": ".py",
   "mimetype": "text/x-python",
   "name": "python",
   "nbconvert_exporter": "python",
   "pygments_lexer": "ipython3",
   "version": "3.9.7"
  }
 },
 "nbformat": 4,
 "nbformat_minor": 5
}
