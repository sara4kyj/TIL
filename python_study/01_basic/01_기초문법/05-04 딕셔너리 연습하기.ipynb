{
 "cells": [
  {
   "cell_type": "markdown",
   "id": "f84e296a",
   "metadata": {},
   "source": [
    "### 영어단어장 만들기\n",
    "엔터를 입력할 때까지 영어단어,뜻을 입력받아 단어장을 만들고, 입력이 끝나면 단어 테스트를 실시하는 프로그램을 만들어봅시다.\n",
    "1) 단어장을 만듭니다.\n",
    "\n",
    "2) 단어테스트를 실시하고 맞은 갯수를 계산합니다.\n",
    "\n",
    "3) 테스트가 끝나면 맞은갯수/전체단어수/점수 형태로 결과를 출력합니다"
   ]
  },
  {
   "cell_type": "markdown",
   "id": "72266a76",
   "metadata": {},
   "source": [
    "#### 단어장 만들기\n",
    "엔터('')를 입력할 때까지 영어단어, 뜻을 입력받아 딕셔너리에 저장"
   ]
  },
  {
   "cell_type": "code",
   "execution_count": 1,
   "id": "fe978039",
   "metadata": {},
   "outputs": [
    {
     "name": "stdout",
     "output_type": "stream",
     "text": [
      "영어단어, 뜻: apple,사과\n",
      "영어단어, 뜻: banana,바나나\n",
      "영어단어, 뜻: \n"
     ]
    },
    {
     "data": {
      "text/plain": [
       "{'apple': '사과', 'banana': '바나나'}"
      ]
     },
     "execution_count": 1,
     "metadata": {},
     "output_type": "execute_result"
    }
   ],
   "source": [
    "dict_word = {}\n",
    "\n",
    "while True:\n",
    "    word = input('영어단어, 뜻: ')\n",
    "    if word == '':\n",
    "        break\n",
    "    dict_word[word.split(',')[0]] = word.split(',')[1]\n",
    "\n",
    "dict_word"
   ]
  },
  {
   "cell_type": "markdown",
   "id": "dc0d3e05",
   "metadata": {},
   "source": [
    "#### 단어테스트\n",
    "\n",
    "단어장의 단어들을 모두 테스트\n",
    "\n",
    "맞은 갯수는 별도로 카운트"
   ]
  },
  {
   "cell_type": "code",
   "execution_count": 2,
   "id": "b8f2b08f",
   "metadata": {},
   "outputs": [
    {
     "data": {
      "text/plain": [
       "{'apple': '사과', 'banana': '바나나'}"
      ]
     },
     "execution_count": 2,
     "metadata": {},
     "output_type": "execute_result"
    }
   ],
   "source": [
    "dict_word"
   ]
  },
  {
   "cell_type": "code",
   "execution_count": 5,
   "id": "93fca5b6",
   "metadata": {},
   "outputs": [
    {
     "name": "stdout",
     "output_type": "stream",
     "text": [
      "apple 사과 \n",
      "O\n",
      "bananaㅂ\n",
      "X\n",
      "1개 맞췄습니다.\n"
     ]
    }
   ],
   "source": [
    "cnt = 0\n",
    "\n",
    "for eng, kor in dict_word.items():\n",
    "    answer = input(eng)\n",
    "    if answer.strip() == kor:\n",
    "        print('O')\n",
    "        cnt+=1\n",
    "    else:\n",
    "        print('X')\n",
    "print(f'{cnt}개 맞췄습니다.')"
   ]
  },
  {
   "cell_type": "markdown",
   "id": "750fa473",
   "metadata": {},
   "source": [
    "#### 테스트 결과 출력\n",
    "\n",
    "맞은갯수/전체문제수/점수출력"
   ]
  },
  {
   "cell_type": "code",
   "execution_count": 6,
   "id": "9b0b3b8d",
   "metadata": {},
   "outputs": [
    {
     "name": "stdout",
     "output_type": "stream",
     "text": [
      "맞은갯수: 1\n",
      "전체문제수 : 2\n",
      "점수출력 : 50.0\n"
     ]
    }
   ],
   "source": [
    "print(f'맞은갯수: {cnt}\\n전체문제수 : {len(dict_word)}\\n점수출력 : {round(cnt/len(dict_word)*100,1)}')"
   ]
  }
 ],
 "metadata": {
  "kernelspec": {
   "display_name": "Python 3 (ipykernel)",
   "language": "python",
   "name": "python3"
  },
  "language_info": {
   "codemirror_mode": {
    "name": "ipython",
    "version": 3
   },
   "file_extension": ".py",
   "mimetype": "text/x-python",
   "name": "python",
   "nbconvert_exporter": "python",
   "pygments_lexer": "ipython3",
   "version": "3.9.7"
  }
 },
 "nbformat": 4,
 "nbformat_minor": 5
}
