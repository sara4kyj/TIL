{
 "cells": [
  {
   "cell_type": "markdown",
   "id": "c1048c0c",
   "metadata": {},
   "source": [
    "### 문자열 인덱싱\n",
    "- 양수 인덱스 사용하기"
   ]
  },
  {
   "cell_type": "code",
   "execution_count": 1,
   "id": "2b33bf5e",
   "metadata": {},
   "outputs": [
    {
     "name": "stdout",
     "output_type": "stream",
     "text": [
      "H\n",
      " \n",
      "l\n"
     ]
    }
   ],
   "source": [
    "a = 'Hello World'\n",
    "\n",
    "# 'H' 출력하기\n",
    "print(a[0])\n",
    "\n",
    "# ' ' 출력하기\n",
    "print(a[5])\n",
    "\n",
    "# 'l' 출력하기\n",
    "print(a[9])"
   ]
  },
  {
   "cell_type": "markdown",
   "id": "4c807338",
   "metadata": {},
   "source": [
    "- 음수 인덱스 사용하기"
   ]
  },
  {
   "cell_type": "code",
   "execution_count": 2,
   "id": "81de80ec",
   "metadata": {},
   "outputs": [
    {
     "name": "stdout",
     "output_type": "stream",
     "text": [
      "H\n",
      " \n",
      "l\n"
     ]
    }
   ],
   "source": [
    "a = 'Hello World'\n",
    "\n",
    "# 'H' 출력하기\n",
    "print(a[-11])\n",
    "\n",
    "# ' ' 출력하기\n",
    "print(a[-6])\n",
    "\n",
    "# 'l' 출력하기\n",
    "print(a[-2])"
   ]
  },
  {
   "cell_type": "markdown",
   "id": "19be81e7",
   "metadata": {},
   "source": [
    "- 범위 밖의 인덱스를 사용하면?"
   ]
  },
  {
   "cell_type": "code",
   "execution_count": 3,
   "id": "69838826",
   "metadata": {},
   "outputs": [
    {
     "ename": "IndexError",
     "evalue": "string index out of range",
     "output_type": "error",
     "traceback": [
      "\u001b[1;31m---------------------------------------------------------------------------\u001b[0m",
      "\u001b[1;31mIndexError\u001b[0m                                Traceback (most recent call last)",
      "\u001b[1;32m~\\AppData\\Local\\Temp/ipykernel_11976/1682186399.py\u001b[0m in \u001b[0;36m<module>\u001b[1;34m\u001b[0m\n\u001b[0;32m      1\u001b[0m \u001b[0ma\u001b[0m \u001b[1;33m=\u001b[0m \u001b[1;34m'Hello World'\u001b[0m\u001b[1;33m\u001b[0m\u001b[1;33m\u001b[0m\u001b[0m\n\u001b[1;32m----> 2\u001b[1;33m \u001b[0mprint\u001b[0m\u001b[1;33m(\u001b[0m\u001b[0ma\u001b[0m\u001b[1;33m[\u001b[0m\u001b[1;36m11\u001b[0m\u001b[1;33m]\u001b[0m\u001b[1;33m)\u001b[0m\u001b[1;33m\u001b[0m\u001b[1;33m\u001b[0m\u001b[0m\n\u001b[0m",
      "\u001b[1;31mIndexError\u001b[0m: string index out of range"
     ]
    }
   ],
   "source": [
    "a = 'Hello World'\n",
    "print(a[11])"
   ]
  },
  {
   "cell_type": "code",
   "execution_count": 4,
   "id": "83949228",
   "metadata": {},
   "outputs": [
    {
     "ename": "IndexError",
     "evalue": "string index out of range",
     "output_type": "error",
     "traceback": [
      "\u001b[1;31m---------------------------------------------------------------------------\u001b[0m",
      "\u001b[1;31mIndexError\u001b[0m                                Traceback (most recent call last)",
      "\u001b[1;32m~\\AppData\\Local\\Temp/ipykernel_11976/2201501043.py\u001b[0m in \u001b[0;36m<module>\u001b[1;34m\u001b[0m\n\u001b[0;32m      1\u001b[0m \u001b[0ma\u001b[0m \u001b[1;33m=\u001b[0m \u001b[1;34m'Hello World'\u001b[0m\u001b[1;33m\u001b[0m\u001b[1;33m\u001b[0m\u001b[0m\n\u001b[1;32m----> 2\u001b[1;33m \u001b[0mprint\u001b[0m\u001b[1;33m(\u001b[0m\u001b[0ma\u001b[0m\u001b[1;33m[\u001b[0m\u001b[1;33m-\u001b[0m\u001b[1;36m12\u001b[0m\u001b[1;33m]\u001b[0m\u001b[1;33m)\u001b[0m\u001b[1;33m\u001b[0m\u001b[1;33m\u001b[0m\u001b[0m\n\u001b[0m",
      "\u001b[1;31mIndexError\u001b[0m: string index out of range"
     ]
    }
   ],
   "source": [
    "a = 'Hello World'\n",
    "print(a[-12])"
   ]
  },
  {
   "cell_type": "markdown",
   "id": "8328c5ea",
   "metadata": {},
   "source": [
    "### 문자열 슬라이싱\n",
    "- 양수 인덱스로 슬라이싱"
   ]
  },
  {
   "cell_type": "code",
   "execution_count": 6,
   "id": "24bd2afe",
   "metadata": {},
   "outputs": [
    {
     "name": "stdout",
     "output_type": "stream",
     "text": [
      "Hello\n",
      "World\n"
     ]
    }
   ],
   "source": [
    "a = 'Hello World'\n",
    "\n",
    "# 'Hello' 출력하기\n",
    "print(a[:5])\n",
    "\n",
    "# 'World' 출력하기\n",
    "print(a[6:])"
   ]
  },
  {
   "cell_type": "markdown",
   "id": "766ccb14",
   "metadata": {},
   "source": [
    "- 음수 인덱스로 슬라이싱"
   ]
  },
  {
   "cell_type": "code",
   "execution_count": 7,
   "id": "b0372b49",
   "metadata": {},
   "outputs": [
    {
     "name": "stdout",
     "output_type": "stream",
     "text": [
      "Hello\n",
      "World\n"
     ]
    }
   ],
   "source": [
    "a = 'Hello World'\n",
    "\n",
    "# 'Hello' 출력하기\n",
    "print(a[-11:-6])\n",
    "\n",
    "# 'World' 출력하기\n",
    "print(a[-5:])"
   ]
  },
  {
   "cell_type": "markdown",
   "id": "d2f2a2b9",
   "metadata": {},
   "source": [
    "- 첫번째와 마지막 인덱스는 생략 가능"
   ]
  },
  {
   "cell_type": "code",
   "execution_count": 8,
   "id": "0161b75e",
   "metadata": {},
   "outputs": [
    {
     "name": "stdout",
     "output_type": "stream",
     "text": [
      "Hello\n",
      "World\n",
      "Hello World\n"
     ]
    }
   ],
   "source": [
    "a = 'Hello World'\n",
    "\n",
    "# 'Hello'\n",
    "print(a[:5])\n",
    "\n",
    "# 'World'\n",
    "print(a[6:])\n",
    "\n",
    "# 'Hello World'\n",
    "print(a[:])"
   ]
  },
  {
   "cell_type": "markdown",
   "id": "bc494c57",
   "metadata": {},
   "source": [
    "- 한문자씩 건너뛰어 출력하기"
   ]
  },
  {
   "cell_type": "code",
   "execution_count": 9,
   "id": "23599195",
   "metadata": {},
   "outputs": [
    {
     "name": "stdout",
     "output_type": "stream",
     "text": [
      "HloWrd\n"
     ]
    }
   ],
   "source": [
    "a = 'Hello World'\n",
    "print(a[::2]) \n",
    "# a[:] 전체 문자열\n",
    "# a[::2] 전체 문자열에서 a[0]부터 간격을 2씩 반환"
   ]
  },
  {
   "cell_type": "markdown",
   "id": "5a8b91b5",
   "metadata": {},
   "source": [
    "- 역순으로 출력하기</br>\n",
    ": 간격을 마이너스(-)로 하면 역순으로 출력된다."
   ]
  },
  {
   "cell_type": "code",
   "execution_count": 10,
   "id": "909629d8",
   "metadata": {},
   "outputs": [
    {
     "name": "stdout",
     "output_type": "stream",
     "text": [
      "dlroW olleH\n"
     ]
    }
   ],
   "source": [
    "a = 'Hello World'\n",
    "print(a[::-1])"
   ]
  },
  {
   "cell_type": "markdown",
   "id": "6aeb34d1",
   "metadata": {},
   "source": [
    "### 문자열 함수\n",
    "#### 문자열 교체하기\n",
    "- 문자열.replace(찾을 문자열, 교체할 문자열)"
   ]
  },
  {
   "cell_type": "code",
   "execution_count": 11,
   "id": "11fdb014",
   "metadata": {},
   "outputs": [
    {
     "name": "stdout",
     "output_type": "stream",
     "text": [
      "나는 초코우유 좋아. 초코우유 최고\n"
     ]
    }
   ],
   "source": [
    "a = '나는 딸기우유 좋아. 딸기우유 최고'\n",
    "\n",
    "# '딸기' -> '초코'로 교체\n",
    "print(a.replace('딸기', '초코'))"
   ]
  },
  {
   "cell_type": "markdown",
   "id": "d46d28ff",
   "metadata": {},
   "source": [
    "#### 문자의 위치 찾기\n",
    "- 문자열.find(문자)"
   ]
  },
  {
   "cell_type": "code",
   "execution_count": 12,
   "id": "bd26c726",
   "metadata": {},
   "outputs": [
    {
     "name": "stdout",
     "output_type": "stream",
     "text": [
      "4\n",
      "12\n"
     ]
    }
   ],
   "source": [
    "a = 'Hello, Python!!!'\n",
    "\n",
    "# 'o'의 위치 찾기\n",
    "print(a.find('o'))\n",
    "\n",
    "# 'n'의 위치 찾기\n",
    "print(a.find('n'))"
   ]
  },
  {
   "cell_type": "markdown",
   "id": "1656d9c3",
   "metadata": {},
   "source": [
    "#### 소문자로 변환하기 \n",
    "- 문자열.lower()"
   ]
  },
  {
   "cell_type": "code",
   "execution_count": 13,
   "id": "ab2d36cf",
   "metadata": {},
   "outputs": [
    {
     "data": {
      "text/plain": [
       "'hello, python!!!'"
      ]
     },
     "execution_count": 13,
     "metadata": {},
     "output_type": "execute_result"
    }
   ],
   "source": [
    "a = 'Hello, Python!!!'\n",
    "a.lower()"
   ]
  },
  {
   "cell_type": "markdown",
   "id": "9a8e9cad",
   "metadata": {},
   "source": [
    "#### 대문자로 변환하기\n",
    "- 문자열.upper()"
   ]
  },
  {
   "cell_type": "code",
   "execution_count": 14,
   "id": "19b3be9e",
   "metadata": {},
   "outputs": [
    {
     "data": {
      "text/plain": [
       "'HELLO, PYTHON!!!'"
      ]
     },
     "execution_count": 14,
     "metadata": {},
     "output_type": "execute_result"
    }
   ],
   "source": [
    "a = 'Hello, Python!!!'\n",
    "a.upper()"
   ]
  },
  {
   "cell_type": "markdown",
   "id": "5616b141",
   "metadata": {},
   "source": [
    "#### 문자열 나누기\n",
    "- 문자열.split(구분자)"
   ]
  },
  {
   "cell_type": "code",
   "execution_count": 15,
   "id": "1080c8d3",
   "metadata": {},
   "outputs": [
    {
     "data": {
      "text/plain": [
       "['010', '1234', '4567']"
      ]
     },
     "execution_count": 15,
     "metadata": {},
     "output_type": "execute_result"
    }
   ],
   "source": [
    "phone = '010-1234-4567'\n",
    "phone.split('-')"
   ]
  },
  {
   "cell_type": "code",
   "execution_count": 16,
   "id": "6c05af0f",
   "metadata": {},
   "outputs": [
    {
     "data": {
      "text/plain": [
       "['drwill', 'naver.com']"
      ]
     },
     "execution_count": 16,
     "metadata": {},
     "output_type": "execute_result"
    }
   ],
   "source": [
    "email = 'drwill@naver.com'\n",
    "email.split('@')"
   ]
  },
  {
   "cell_type": "markdown",
   "id": "10913d9c",
   "metadata": {},
   "source": [
    "#### 연습문제\n",
    "- 사용자의 영문 이름을 입력받아 성과 이름 순서를 바꾸어서 출력하는 프로그램을 작성하세요.</br>\n",
    "성과 이름은 공백으로 구분합니다."
   ]
  },
  {
   "cell_type": "code",
   "execution_count": 18,
   "id": "df4d8c23",
   "metadata": {},
   "outputs": [
    {
     "name": "stdout",
     "output_type": "stream",
     "text": [
      "영문이름(성과 이름의 사이에는 공백을 넣어주세요): kim yujeong\n",
      "입력받은 영문이름: kim yujeong\n",
      "성과 이름 순서 바꾸기 : yujeong kim\n"
     ]
    }
   ],
   "source": [
    "name = input('영문이름(성과 이름의 사이에는 공백을 넣어주세요): ')\n",
    "\n",
    "first_name = name.split(' ')[0]\n",
    "last_name = name.split(' ')[1]\n",
    "\n",
    "print('입력받은 영문이름:',name)\n",
    "print('성과 이름 순서 바꾸기 :', last_name, first_name)"
   ]
  }
 ],
 "metadata": {
  "kernelspec": {
   "display_name": "Python 3 (ipykernel)",
   "language": "python",
   "name": "python3"
  },
  "language_info": {
   "codemirror_mode": {
    "name": "ipython",
    "version": 3
   },
   "file_extension": ".py",
   "mimetype": "text/x-python",
   "name": "python",
   "nbconvert_exporter": "python",
   "pygments_lexer": "ipython3",
   "version": "3.9.7"
  }
 },
 "nbformat": 4,
 "nbformat_minor": 5
}
