{
 "cells": [
  {
   "cell_type": "markdown",
   "id": "692aabeb",
   "metadata": {},
   "source": [
    "### Up & Down 숫자 맞추기 게임\n",
    "- 1~100 사이의 정답 숫자를 랜덤으로 하나 정하고, 정답 숫자를 맞출 때까지 숫자를 입력하는 게임이다. \n",
    "    내가 입력한 숫자가 정답보다 작으면 'DOWN', 정답보다 크면 'UP'을 출력하고 숫자를 다시 입력받는다. \n",
    "    정답을 맞추면 '정답!'이라고 출력하고 게임을 끝낸다."
   ]
  },
  {
   "cell_type": "code",
   "execution_count": 2,
   "id": "e1b4c1a7",
   "metadata": {},
   "outputs": [
    {
     "name": "stdout",
     "output_type": "stream",
     "text": [
      "Enter the number : 30\n"
     ]
    }
   ],
   "source": [
    "num = int(input('Enter the number : '))"
   ]
  },
  {
   "cell_type": "code",
   "execution_count": 3,
   "id": "f9884344",
   "metadata": {},
   "outputs": [
    {
     "name": "stdout",
     "output_type": "stream",
     "text": [
      "Enter the Estimated number : 31\n",
      "UP\n",
      "Enter the Estimated number : 29\n",
      "DOWN\n",
      "Enter the Estimated number : 30\n",
      "정답!\n"
     ]
    }
   ],
   "source": [
    "while True :\n",
    "    es_num = int(input('Enter the Estimated number : '))\n",
    "    \n",
    "    if es_num == num:\n",
    "        print('정답!')\n",
    "        break\n",
    "    elif es_num < num:\n",
    "        print('DOWN')\n",
    "    else:\n",
    "        print('UP')"
   ]
  },
  {
   "cell_type": "markdown",
   "id": "1f97e584",
   "metadata": {},
   "source": [
    "- 확장\n",
    "\n",
    "    기회는 5번까지만 주어집니다.\n",
    "\n",
    "    5회가 넘으면 '횟수초과' 메시지와 함께 정답을 알려줍니다.\n",
    "\n",
    "    정답을 맞추면 몇번째에 맞추었는지 출력합니다."
   ]
  },
  {
   "cell_type": "code",
   "execution_count": 6,
   "id": "8d6a4b85",
   "metadata": {},
   "outputs": [
    {
     "name": "stdout",
     "output_type": "stream",
     "text": [
      "1번째 예상숫자 : 29\n",
      "DOWN\n",
      "2번째 예상숫자 : 31\n",
      "UP\n",
      "3번째 예상숫자 : 30\n",
      "정답!\n",
      "3번만에 맞췄습니다.\n"
     ]
    }
   ],
   "source": [
    "for i in range(1,6) :\n",
    "    es_num = int(input(f'{i}번째 예상숫자 : '))\n",
    "    \n",
    "    if es_num == num:\n",
    "        print(f'정답!\\n{i}번만에 맞췄습니다.')\n",
    "        break\n",
    "    elif es_num < num:\n",
    "        print('DOWN')\n",
    "    else:\n",
    "        print('UP')\n",
    "if i==5:\n",
    "    print(f'횟수초과\\n정답은 {num}입니다.')"
   ]
  },
  {
   "cell_type": "markdown",
   "id": "68f6ba1a",
   "metadata": {},
   "source": [
    "### 사칙연산 프로그램\n",
    "- 계산식을 입력받아 연산 기호에 따라 연산 결과를 출력하는 프로그램을 작성하세요.\n",
    "- 사칙연산기호가 아닌 경우 '잘못 입력하셨습니다.' 출력"
   ]
  },
  {
   "cell_type": "code",
   "execution_count": 40,
   "id": "a3532907",
   "metadata": {},
   "outputs": [
    {
     "name": "stdout",
     "output_type": "stream",
     "text": [
      "계산식을 입력해주세요.: 3 * 91\n",
      "3*91=273\n"
     ]
    }
   ],
   "source": [
    "formula = input('계산식을 입력해주세요.: ')\n",
    "\n",
    "if '+' in formula:\n",
    "    try: \n",
    "        num1 = int(formula.split('+')[0].strip())\n",
    "        num2 = int(formula.split('+')[1].strip())\n",
    "        print(f'{num1}+{num2}={num1+num2}')\n",
    "    except:\n",
    "        print('잘못 입력하셨습니다.')\n",
    "elif '-' in formula:\n",
    "    try: \n",
    "        num1 = int(formula.split('-')[0].strip())\n",
    "        num2 = int(formula.split('-')[1].strip())\n",
    "        print(f'{num1}-{num2}={num1-num2}')\n",
    "    except:\n",
    "        print('잘못 입력하셨습니다.')\n",
    "elif '/' in formula:\n",
    "    try: \n",
    "        num1 = int(formula.split('/')[0].strip())\n",
    "        num2 = int(formula.split('/')[1].strip())\n",
    "        print(f'{num1}/{num2}={num1/num2}')\n",
    "    except:\n",
    "        print('잘못 입력하셨습니다.')\n",
    "elif '*' in formula:\n",
    "    try:\n",
    "        num1 = int(formula.split('*')[0].strip())\n",
    "        num2 = int(formula.split('*')[1].strip())\n",
    "        print(f'{num1}*{num2}={num1*num2}')\n",
    "    except:\n",
    "        print('잘못 입력하셨습니다.')\n",
    "else:\n",
    "    print('잘못 입력하셨습니다.')"
   ]
  },
  {
   "cell_type": "markdown",
   "id": "bf12676f",
   "metadata": {},
   "source": [
    "### 할인된 금액 계산\n",
    "- 물건 구매가를 입력 받고, 금액에 따른 할인율을 계산하여 구매가, 할인율, 할인금액, 지불금액을 출력하세요.\n",
    "|금액|1만원이상 5만원미만|5만원이상 10만원미만|10만원이상|\n",
    "|:---:|:---:|:---:|:---:|\n",
    "|할인율|5%|7%|10%|"
   ]
  },
  {
   "cell_type": "code",
   "execution_count": 39,
   "id": "42206e18",
   "metadata": {},
   "outputs": [
    {
     "name": "stdout",
     "output_type": "stream",
     "text": [
      "물건 구매가격을 입력해주세요.: 51000\n",
      "\n",
      "  구매가 : 51000\n",
      "  할인율 : 7%\n",
      "할인금액 : 3570.0\n",
      "지불금액 : 47430.0\n",
      "\n"
     ]
    }
   ],
   "source": [
    "price = int(input('물건 구매가격을 입력해주세요.: '))\n",
    "\n",
    "if price >= 100000:\n",
    "    dc = 10\n",
    "elif price >= 50000:\n",
    "    dc = 7\n",
    "elif price >= 10000:\n",
    "    dc = 5\n",
    "else :\n",
    "    dc = 0\n",
    "\n",
    "print(f'''\n",
    "  구매가 : {price}\n",
    "  할인율 : {dc}%\n",
    "할인금액 : {round(price*(dc/100),0)}\n",
    "지불금액 : {round(price*(100-dc)/100,0)}\n",
    "''')"
   ]
  }
 ],
 "metadata": {
  "kernelspec": {
   "display_name": "Python 3 (ipykernel)",
   "language": "python",
   "name": "python3"
  },
  "language_info": {
   "codemirror_mode": {
    "name": "ipython",
    "version": 3
   },
   "file_extension": ".py",
   "mimetype": "text/x-python",
   "name": "python",
   "nbconvert_exporter": "python",
   "pygments_lexer": "ipython3",
   "version": "3.9.7"
  }
 },
 "nbformat": 4,
 "nbformat_minor": 5
}
