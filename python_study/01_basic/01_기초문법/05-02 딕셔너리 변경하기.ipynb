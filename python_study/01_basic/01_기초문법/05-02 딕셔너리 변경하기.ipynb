{
 "cells": [
  {
   "cell_type": "markdown",
   "id": "436d05c8",
   "metadata": {},
   "source": [
    "### 딕셔너리 항목 추가/수정\n",
    "#### 딕셔너리명[키]=값\n",
    "- 키가 존재하지 않으면 추가, 존재하면 수정하면 된다."
   ]
  },
  {
   "cell_type": "code",
   "execution_count": 3,
   "id": "18aff6a9",
   "metadata": {},
   "outputs": [
    {
     "data": {
      "text/plain": [
       "{'kor': 100, 'eng': 90, 'math': 85, 'music': 95}"
      ]
     },
     "execution_count": 3,
     "metadata": {},
     "output_type": "execute_result"
    }
   ],
   "source": [
    "scores = {'kor':100, 'eng':90, 'math':80}\n",
    "\n",
    "# math점수 85점으로 수정하기\n",
    "scores['math'] = 85\n",
    "\n",
    "# music점수 95점 추가하기\n",
    "scores['music'] = 95\n",
    "\n",
    "scores"
   ]
  },
  {
   "cell_type": "markdown",
   "id": "0f5b51f1",
   "metadata": {},
   "source": [
    "#### setdefault 로 항목 추가하기\n",
    "- 딕셔너리명.setdefault(키,값)\n",
    "- 이미 들어있는 키의 값은 수정할 수 없다."
   ]
  },
  {
   "cell_type": "code",
   "execution_count": 4,
   "id": "d11e48f2",
   "metadata": {},
   "outputs": [
    {
     "data": {
      "text/plain": [
       "{'kor': 100, 'eng': 90, 'math': 80, 'music': None}"
      ]
     },
     "execution_count": 4,
     "metadata": {},
     "output_type": "execute_result"
    }
   ],
   "source": [
    "scores = {'kor':100, 'eng':90, 'math':80}\n",
    "\n",
    "# music점수 넣기(key만 넣고 value를 생략한다면? value에 빈값)\n",
    "scores.setdefault('music')\n",
    "\n",
    "scores"
   ]
  },
  {
   "cell_type": "code",
   "execution_count": 5,
   "id": "d9e27af6",
   "metadata": {},
   "outputs": [
    {
     "data": {
      "text/plain": [
       "{'kor': 100, 'eng': 90, 'math': 80, 'music': 90}"
      ]
     },
     "execution_count": 5,
     "metadata": {},
     "output_type": "execute_result"
    }
   ],
   "source": [
    "scores = {'kor':100, 'eng':90, 'math':80}\n",
    "\n",
    "# music점수 90점 추가\n",
    "scores.setdefault('music',90)\n",
    "\n",
    "scores"
   ]
  },
  {
   "cell_type": "code",
   "execution_count": 7,
   "id": "f239eb4e",
   "metadata": {},
   "outputs": [
    {
     "data": {
      "text/plain": [
       "{'kor': 100, 'eng': 90, 'math': 80, 'music': 95}"
      ]
     },
     "execution_count": 7,
     "metadata": {},
     "output_type": "execute_result"
    }
   ],
   "source": [
    "scores = {'kor':100, 'eng':90, 'math':80,'music': 95}\n",
    "\n",
    "# music점수 85점으로 수정\n",
    "scores.setdefault('music', 85) # 변경되지 않음\n",
    "\n",
    "scores"
   ]
  },
  {
   "cell_type": "markdown",
   "id": "b2d9db41",
   "metadata": {},
   "source": [
    "#### update로 여러 항목 추가/수정하기\n",
    "- 키가 존재하면 수정, 존재하지 않으면 추가된다."
   ]
  },
  {
   "cell_type": "markdown",
   "id": "38935448",
   "metadata": {},
   "source": [
    "- 딕셔너리명.update(키1=값1, 키2=값2, ...)\n",
    "- 키에 따옴표를 하지 않지만, 딕셔너리에 들어갈 때는 따옴표가 붙어서 들어간다."
   ]
  },
  {
   "cell_type": "code",
   "execution_count": 9,
   "id": "cacae772",
   "metadata": {},
   "outputs": [
    {
     "data": {
      "text/plain": [
       "{'kor': 100, 'eng': 90, 'math': 90, 'music': 90}"
      ]
     },
     "execution_count": 9,
     "metadata": {},
     "output_type": "execute_result"
    }
   ],
   "source": [
    "scores = {'kor':100, 'eng':90, 'math':80}\n",
    "\n",
    "# math : 90, music: 90\n",
    "scores.update(math=90, music=90)\n",
    "\n",
    "scores"
   ]
  },
  {
   "cell_type": "markdown",
   "id": "41511dfa",
   "metadata": {},
   "source": [
    "- 딕셔너리명.update(zip(key_list, value_list)"
   ]
  },
  {
   "cell_type": "code",
   "execution_count": 10,
   "id": "4d892f6e",
   "metadata": {},
   "outputs": [
    {
     "data": {
      "text/plain": [
       "{'kor': 100, 'eng': 90, 'math': 90, 'music': 90}"
      ]
     },
     "execution_count": 10,
     "metadata": {},
     "output_type": "execute_result"
    }
   ],
   "source": [
    "scores = {'kor':100, 'eng':90, 'math':80}\n",
    "\n",
    "# math : 90, music: 90\n",
    "scores.update(zip(['math','music'], [90,90]))\n",
    "\n",
    "scores"
   ]
  },
  {
   "cell_type": "markdown",
   "id": "0b286563",
   "metadata": {},
   "source": [
    "- 딕셔너리명.update([(키1,값1),(키2,값2)])"
   ]
  },
  {
   "cell_type": "code",
   "execution_count": 11,
   "id": "6684a840",
   "metadata": {},
   "outputs": [
    {
     "data": {
      "text/plain": [
       "{'kor': 100, 'eng': 90, 'math': 90, 'music': 90}"
      ]
     },
     "execution_count": 11,
     "metadata": {},
     "output_type": "execute_result"
    }
   ],
   "source": [
    "scores = {'kor':100, 'eng':90, 'math':80}\n",
    "\n",
    "# math : 90, music: 90\n",
    "scores.update([('math',90),('music',90)])\n",
    "\n",
    "scores"
   ]
  },
  {
   "cell_type": "markdown",
   "id": "5a4feb05",
   "metadata": {},
   "source": [
    "- 딕셔너리명.update({key1:value1, key2:value2, ...})"
   ]
  },
  {
   "cell_type": "code",
   "execution_count": 12,
   "id": "0a9535e1",
   "metadata": {},
   "outputs": [
    {
     "data": {
      "text/plain": [
       "{'kor': 100, 'eng': 90, 'math': 90, 'music': 90}"
      ]
     },
     "execution_count": 12,
     "metadata": {},
     "output_type": "execute_result"
    }
   ],
   "source": [
    "scores = {'kor':100, 'eng':90, 'math':80}\n",
    "\n",
    "# math : 90, music: 90\n",
    "scores.update({'math':90, 'music':90})\n",
    "\n",
    "scores"
   ]
  },
  {
   "cell_type": "markdown",
   "id": "e10c3b80",
   "metadata": {},
   "source": [
    "### 딕셔너리에서 항목 삭제하기\n",
    "\n",
    "#### del 딕셔너리명[키]\n",
    "- 해당 키의 항목 삭제"
   ]
  },
  {
   "cell_type": "code",
   "execution_count": 13,
   "id": "18544a48",
   "metadata": {},
   "outputs": [
    {
     "data": {
      "text/plain": [
       "{'eng': 90, 'math': 80}"
      ]
     },
     "execution_count": 13,
     "metadata": {},
     "output_type": "execute_result"
    }
   ],
   "source": [
    "scores = {'kor':100, 'eng':90, 'math':80}\n",
    "\n",
    "# 키가 'kor'인 항목 삭제\n",
    "del scores['kor']\n",
    "\n",
    "scores"
   ]
  },
  {
   "cell_type": "markdown",
   "id": "e724d407",
   "metadata": {},
   "source": [
    "### 딕셔너리명.pop(키,기본값)"
   ]
  },
  {
   "cell_type": "markdown",
   "id": "b47ee551",
   "metadata": {},
   "source": [
    "- 해당 키의 항목(값) 반환하고 삭제"
   ]
  },
  {
   "cell_type": "code",
   "execution_count": 14,
   "id": "4b0764e5",
   "metadata": {},
   "outputs": [
    {
     "name": "stdout",
     "output_type": "stream",
     "text": [
      "100\n",
      "{'eng': 90, 'math': 80}\n"
     ]
    }
   ],
   "source": [
    "scores = {'kor':100, 'eng':90, 'math':80}\n",
    "\n",
    "# 키가 'kor'인 항목의 값 받아온 후 삭제\n",
    "kor = scores.pop('kor')\n",
    "\n",
    "print(kor)\n",
    "print(scores)"
   ]
  },
  {
   "cell_type": "markdown",
   "id": "5539c09f",
   "metadata": {},
   "source": [
    "- 해당 키의 항목 반환하고 삭제(키가 존재하지 않을 때 기본값 반환)"
   ]
  },
  {
   "cell_type": "code",
   "execution_count": 16,
   "id": "f247c33d",
   "metadata": {},
   "outputs": [
    {
     "name": "stdout",
     "output_type": "stream",
     "text": [
      "None\n",
      "{'kor': 100, 'eng': 90, 'math': 80}\n"
     ]
    }
   ],
   "source": [
    "scores = {'kor':100, 'eng':90, 'math':80}\n",
    "\n",
    "# 키가 'kor'인 항목의 값 받아온 후 삭제(삭제할 키가 존재하지 않은 경우)\n",
    "music = scores.pop('music', None)\n",
    "\n",
    "print(music)\n",
    "print(scores)"
   ]
  },
  {
   "cell_type": "markdown",
   "id": "f50fe1ae",
   "metadata": {},
   "source": [
    "#### 딕셔너리명.clear()\n",
    "- 딕셔너리의 모든 항목 삭제"
   ]
  },
  {
   "cell_type": "code",
   "execution_count": 17,
   "id": "c3238586",
   "metadata": {},
   "outputs": [
    {
     "name": "stdout",
     "output_type": "stream",
     "text": [
      "{}\n"
     ]
    }
   ],
   "source": [
    "scores = {'kor':100, 'eng':90, 'math':80}\n",
    "\n",
    "scores.clear()\n",
    "print(scores)"
   ]
  }
 ],
 "metadata": {
  "kernelspec": {
   "display_name": "Python 3 (ipykernel)",
   "language": "python",
   "name": "python3"
  },
  "language_info": {
   "codemirror_mode": {
    "name": "ipython",
    "version": 3
   },
   "file_extension": ".py",
   "mimetype": "text/x-python",
   "name": "python",
   "nbconvert_exporter": "python",
   "pygments_lexer": "ipython3",
   "version": "3.9.7"
  }
 },
 "nbformat": 4,
 "nbformat_minor": 5
}
