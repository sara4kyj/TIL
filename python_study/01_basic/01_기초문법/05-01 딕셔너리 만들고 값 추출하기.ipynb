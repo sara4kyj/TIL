{
 "cells": [
  {
   "cell_type": "markdown",
   "id": "6c450d2c",
   "metadata": {},
   "source": [
    "### 딕셔너리 만들기\n",
    "- 딕셔너리명 = {키1:값1, 키2:값2,...,}\n",
    "- 중괄호 안에 키:값의 쌍으로 된 항목을 콤마(,)로 구분하여 적어준다.\n",
    "|메뉴|가격|\n",
    "|---|---|\n",
    "|김밥|2000|\n",
    "|떡볶이|2500|\n",
    "|어묵|2000|\n",
    "|튀김|3000|"
   ]
  },
  {
   "cell_type": "code",
   "execution_count": 1,
   "id": "5bf43a0f",
   "metadata": {},
   "outputs": [
    {
     "data": {
      "text/plain": [
       "{'김밥': 2000, '떡볶이': 2500, '어묵': 2000, '튀김': 3000}"
      ]
     },
     "execution_count": 1,
     "metadata": {},
     "output_type": "execute_result"
    }
   ],
   "source": [
    "menu = {'김밥':2000, '떡볶이':2500, '어묵':2000, '튀김':3000}\n",
    "menu"
   ]
  },
  {
   "cell_type": "code",
   "execution_count": 2,
   "id": "70c57f96",
   "metadata": {},
   "outputs": [
    {
     "data": {
      "text/plain": [
       "{'김밥': 2000, '떡볶이': 2500, '어묵': 2000, '튀김': 3000}"
      ]
     },
     "execution_count": 2,
     "metadata": {},
     "output_type": "execute_result"
    }
   ],
   "source": [
    "menu = {'김밥':2000,\n",
    "        '떡볶이':2500,\n",
    "        '어묵':2000,\n",
    "        '튀김':3000}\n",
    "menu"
   ]
  },
  {
   "cell_type": "markdown",
   "id": "b3cfebe2",
   "metadata": {},
   "source": [
    "#### dict로 딕셔너리 만들기\n",
    "- 딕셔너리명 = dict(키1=값1, 키2=값2,...,)\n",
    "- 키에 따옴표('')를 쓰지 않는다는 점에 주의한다.\n",
    "- 키에 따옴표('')를 쓰지 않아도 딕셔너리가 생성되면서 자동으로 문자열형으로 지정된다."
   ]
  },
  {
   "cell_type": "code",
   "execution_count": 3,
   "id": "9c8f39d5",
   "metadata": {},
   "outputs": [
    {
     "data": {
      "text/plain": [
       "{'김밥': 2000, '떡볶이': 2500, '어묵': 2000, '튀김': 3000}"
      ]
     },
     "execution_count": 3,
     "metadata": {},
     "output_type": "execute_result"
    }
   ],
   "source": [
    "menu1 = dict(김밥=2000, 떡볶이=2500, 어묵=2000, 튀김=3000)\n",
    "menu1"
   ]
  },
  {
   "cell_type": "markdown",
   "id": "552e1c08",
   "metadata": {},
   "source": [
    "- 딕셔너리명 = dict(zip(key리스트, value리스트))"
   ]
  },
  {
   "cell_type": "code",
   "execution_count": 4,
   "id": "83291a8f",
   "metadata": {},
   "outputs": [
    {
     "data": {
      "text/plain": [
       "{'김밥': 2000, '어묵': 500, '떡볶이': 2000, '튀김': 3000}"
      ]
     },
     "execution_count": 4,
     "metadata": {},
     "output_type": "execute_result"
    }
   ],
   "source": [
    "key_list = ['김밥','어묵','떡볶이','튀김']\n",
    "value_lsit = [2000,500,2000,3000]\n",
    "menu2 = dict(zip(key_list, value_lsit))\n",
    "menu2"
   ]
  },
  {
   "cell_type": "markdown",
   "id": "e5c90eaf",
   "metadata": {},
   "source": [
    "- 딕셔너리명 = dict([(key1,value1),(key2,value2)...])"
   ]
  },
  {
   "cell_type": "code",
   "execution_count": 5,
   "id": "f8c441bf",
   "metadata": {},
   "outputs": [
    {
     "data": {
      "text/plain": [
       "{'김밥': 2000, '떡볶이': 2500, '어묵': 2000, '튀김': 3000}"
      ]
     },
     "execution_count": 5,
     "metadata": {},
     "output_type": "execute_result"
    }
   ],
   "source": [
    "[('김밥',2000),('떡볶이',2500),('어묵',2000),('튀김',3000)]\n",
    "menu3 = dict([('김밥',2000),('떡볶이',2500),('어묵',2000),('튀김',3000)])\n",
    "menu3"
   ]
  },
  {
   "cell_type": "markdown",
   "id": "76340bd0",
   "metadata": {},
   "source": [
    "#### 딕셔너리에 사용할 수 있는 자료형\n",
    "- 딕셔너리의 value에는 모든 자료형을 혼합하여 사용할 수 있다."
   ]
  },
  {
   "cell_type": "code",
   "execution_count": 6,
   "id": "09edface",
   "metadata": {},
   "outputs": [
    {
     "data": {
      "text/plain": [
       "{'name': 'james', 'age': 25, '키': 175.5, '시력': (1.0, 1.0), '취미': ['운동', '독서']}"
      ]
     },
     "execution_count": 6,
     "metadata": {},
     "output_type": "execute_result"
    }
   ],
   "source": [
    "person = {'name':'james',\n",
    "          'age':25,\n",
    "          '키':175.5,\n",
    "          '시력': (1.0,1.0),\n",
    "          '취미': ['운동','독서']}\n",
    "person"
   ]
  },
  {
   "cell_type": "markdown",
   "id": "ef4f882e",
   "metadata": {},
   "source": [
    "- 딕셔너리의 key에는 숫자, 문자열, 부울형, 튜플을 사용할 수 있다."
   ]
  },
  {
   "cell_type": "code",
   "execution_count": 7,
   "id": "88196649",
   "metadata": {},
   "outputs": [
    {
     "name": "stdout",
     "output_type": "stream",
     "text": [
      "{100: 'hundred', True: '참', False: '거짓', (1, 3): '학년,반', 7: '번호'}\n"
     ]
    }
   ],
   "source": [
    "number = 7\n",
    "\n",
    "dict1 = {\n",
    "    100:'hundred',\n",
    "    True:'참',\n",
    "    False:'거짓',\n",
    "    (1,3):'학년,반',\n",
    "    number:'번호'\n",
    "}\n",
    "print(dict1)"
   ]
  },
  {
   "cell_type": "markdown",
   "id": "a4a8c26b",
   "metadata": {},
   "source": [
    "#### 중복된 key를 사용하여 딕셔너리를 만들면?"
   ]
  },
  {
   "cell_type": "code",
   "execution_count": 8,
   "id": "5893f9c5",
   "metadata": {},
   "outputs": [
    {
     "data": {
      "text/plain": [
       "{'name': 'james', '나이': 30, '키': 175.5, '시력': (1.0, 1.0), '취미': ['운동', '독서']}"
      ]
     },
     "execution_count": 8,
     "metadata": {},
     "output_type": "execute_result"
    }
   ],
   "source": [
    "person = {'name':'james', \n",
    "          '나이':25,\n",
    "          '나이':30,    \n",
    "          '키':175.5,\n",
    "          '시력':(1.0,1.0),\n",
    "          '취미':['운동','독서']}\n",
    "person"
   ]
  },
  {
   "cell_type": "markdown",
   "id": "db9ef1cc",
   "metadata": {},
   "source": [
    "\n",
    "### 딕셔너리 값 추출하기\n",
    "\n",
    "#### 딕셔너리명[key]"
   ]
  },
  {
   "cell_type": "code",
   "execution_count": 9,
   "id": "ace1a061",
   "metadata": {},
   "outputs": [
    {
     "data": {
      "text/plain": [
       "30"
      ]
     },
     "execution_count": 9,
     "metadata": {},
     "output_type": "execute_result"
    }
   ],
   "source": [
    "person['나이']"
   ]
  },
  {
   "cell_type": "markdown",
   "id": "a6b1624d",
   "metadata": {},
   "source": [
    "### 존재하지 않는 key로 추출하면?\n",
    "- keyError 발생"
   ]
  },
  {
   "cell_type": "code",
   "execution_count": 10,
   "id": "605ca751",
   "metadata": {},
   "outputs": [
    {
     "ename": "KeyError",
     "evalue": "'몸무게'",
     "output_type": "error",
     "traceback": [
      "\u001b[1;31m---------------------------------------------------------------------------\u001b[0m",
      "\u001b[1;31mKeyError\u001b[0m                                  Traceback (most recent call last)",
      "\u001b[1;32m~\\AppData\\Local\\Temp/ipykernel_8672/3041137338.py\u001b[0m in \u001b[0;36m<module>\u001b[1;34m\u001b[0m\n\u001b[1;32m----> 1\u001b[1;33m \u001b[0mperson\u001b[0m\u001b[1;33m[\u001b[0m\u001b[1;34m'몸무게'\u001b[0m\u001b[1;33m]\u001b[0m\u001b[1;33m\u001b[0m\u001b[1;33m\u001b[0m\u001b[0m\n\u001b[0m",
      "\u001b[1;31mKeyError\u001b[0m: '몸무게'"
     ]
    }
   ],
   "source": [
    "person['몸무게']"
   ]
  },
  {
   "cell_type": "markdown",
   "id": "a525630d",
   "metadata": {},
   "source": [
    "#### 딕셔너리에 키 존재여부 확인하기\n",
    "- key in 딕셔너리명"
   ]
  },
  {
   "cell_type": "code",
   "execution_count": 11,
   "id": "e37d1c89",
   "metadata": {},
   "outputs": [
    {
     "name": "stdout",
     "output_type": "stream",
     "text": [
      "not found\n"
     ]
    }
   ],
   "source": [
    "if '몸무게' in person : \n",
    "    print(person['몸무게'])\n",
    "else:\n",
    "    print('not found')"
   ]
  },
  {
   "cell_type": "markdown",
   "id": "9b9122d9",
   "metadata": {},
   "source": [
    "#### 딕셔너리명.get(key,msg)\n",
    "- 존재하지 않는 key로 추출 시도해도 오류가 발생하지 않는다.\n",
    "- 존재하지 않는 key로 추출 시도할 경우 출력할 메시지를 설정할 수 있다."
   ]
  },
  {
   "cell_type": "code",
   "execution_count": 12,
   "id": "1d65c247",
   "metadata": {},
   "outputs": [
    {
     "data": {
      "text/plain": [
       "30"
      ]
     },
     "execution_count": 12,
     "metadata": {},
     "output_type": "execute_result"
    }
   ],
   "source": [
    "person.get('나이')"
   ]
  },
  {
   "cell_type": "code",
   "execution_count": 13,
   "id": "168082cf",
   "metadata": {},
   "outputs": [],
   "source": [
    "person.get('몸무게')"
   ]
  },
  {
   "cell_type": "code",
   "execution_count": 14,
   "id": "1ce50550",
   "metadata": {},
   "outputs": [
    {
     "data": {
      "text/plain": [
       "'not found'"
      ]
     },
     "execution_count": 14,
     "metadata": {},
     "output_type": "execute_result"
    }
   ],
   "source": [
    "person.get('몸무게','not found')"
   ]
  }
 ],
 "metadata": {
  "kernelspec": {
   "display_name": "Python 3 (ipykernel)",
   "language": "python",
   "name": "python3"
  },
  "language_info": {
   "codemirror_mode": {
    "name": "ipython",
    "version": 3
   },
   "file_extension": ".py",
   "mimetype": "text/x-python",
   "name": "python",
   "nbconvert_exporter": "python",
   "pygments_lexer": "ipython3",
   "version": "3.9.7"
  }
 },
 "nbformat": 4,
 "nbformat_minor": 5
}
