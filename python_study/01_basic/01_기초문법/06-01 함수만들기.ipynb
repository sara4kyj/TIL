{
 "cells": [
  {
   "cell_type": "markdown",
   "id": "80469d2d",
   "metadata": {},
   "source": [
    "### 함수 정의하고 호출하기"
   ]
  },
  {
   "cell_type": "markdown",
   "id": "43b50919",
   "metadata": {},
   "source": [
    "- 자기소개 함수 정의하고 호출하기"
   ]
  },
  {
   "cell_type": "code",
   "execution_count": 2,
   "id": "ba55a960",
   "metadata": {},
   "outputs": [
    {
     "name": "stdout",
     "output_type": "stream",
     "text": [
      "hello!\n",
      "my name is python!\n"
     ]
    }
   ],
   "source": [
    "print('hello!\\nmy name is python!')"
   ]
  },
  {
   "cell_type": "code",
   "execution_count": 3,
   "id": "876bbcaf",
   "metadata": {},
   "outputs": [
    {
     "name": "stdout",
     "output_type": "stream",
     "text": [
      "hello!\n",
      "my name is python!\n"
     ]
    }
   ],
   "source": [
    "def intro():\n",
    "    print('hello!\\nmy name is python!')\n",
    "\n",
    "intro()"
   ]
  },
  {
   "cell_type": "markdown",
   "id": "ee2e9d51",
   "metadata": {},
   "source": [
    "- 함수 정의를 먼저 한 후 호출하도록 코드를 순차적으로 작성해야한다."
   ]
  },
  {
   "cell_type": "code",
   "execution_count": 4,
   "id": "3a22f4ac",
   "metadata": {},
   "outputs": [
    {
     "ename": "NameError",
     "evalue": "name 'intro2' is not defined",
     "output_type": "error",
     "traceback": [
      "\u001b[1;31m---------------------------------------------------------------------------\u001b[0m",
      "\u001b[1;31mNameError\u001b[0m                                 Traceback (most recent call last)",
      "\u001b[1;32m~\\AppData\\Local\\Temp/ipykernel_3540/1732166711.py\u001b[0m in \u001b[0;36m<module>\u001b[1;34m\u001b[0m\n\u001b[1;32m----> 1\u001b[1;33m \u001b[0mintro2\u001b[0m\u001b[1;33m(\u001b[0m\u001b[1;33m)\u001b[0m\u001b[1;33m\u001b[0m\u001b[1;33m\u001b[0m\u001b[0m\n\u001b[0m",
      "\u001b[1;31mNameError\u001b[0m: name 'intro2' is not defined"
     ]
    }
   ],
   "source": [
    "intro2()"
   ]
  },
  {
   "cell_type": "code",
   "execution_count": 8,
   "id": "10510eb0",
   "metadata": {},
   "outputs": [
    {
     "name": "stdout",
     "output_type": "stream",
     "text": [
      "Hello!\n",
      "My name is python!\n"
     ]
    }
   ],
   "source": [
    "# 함수 정의 후 호출해야 한다.\n",
    "def intro2():\n",
    "    print('Hello!\\nMy name is python!')\n",
    "    \n",
    "#코드는 위에서 아래로 순차적으로 실행된다.\n",
    "# 함수는 호출하는 시점에 함수가 정의되어 있지 않으면 에러 발생\n",
    "\n",
    "intro2()"
   ]
  },
  {
   "cell_type": "markdown",
   "id": "4bd95b9d",
   "metadata": {},
   "source": [
    "### 매개변수 전달하기"
   ]
  },
  {
   "cell_type": "code",
   "execution_count": 10,
   "id": "516c528f",
   "metadata": {},
   "outputs": [
    {
     "name": "stdout",
     "output_type": "stream",
     "text": [
      "Hello!\n",
      "My name is sara\n"
     ]
    }
   ],
   "source": [
    "name='sara'\n",
    "print('Hello!\\nMy name is %s'%name)"
   ]
  },
  {
   "cell_type": "markdown",
   "id": "114d3929",
   "metadata": {},
   "source": [
    "- 매개변수 1개 전달하기"
   ]
  },
  {
   "cell_type": "code",
   "execution_count": 13,
   "id": "10f14f9c",
   "metadata": {},
   "outputs": [
    {
     "name": "stdout",
     "output_type": "stream",
     "text": [
      "Hello!\n",
      "My name is python\n",
      "Hello!\n",
      "My name is sara\n"
     ]
    }
   ],
   "source": [
    "def intro(name):\n",
    "    print('Hello!\\nMy name is %s'%name)\n",
    "\n",
    "intro('python')\n",
    "intro('sara')"
   ]
  },
  {
   "cell_type": "markdown",
   "id": "db127455",
   "metadata": {},
   "source": [
    "- 매개변수 여러개 전달하기"
   ]
  },
  {
   "cell_type": "code",
   "execution_count": 16,
   "id": "a78c611c",
   "metadata": {},
   "outputs": [
    {
     "name": "stdout",
     "output_type": "stream",
     "text": [
      "Hello!\n",
      "My name is python.\n",
      "I'm 20 years old.\n"
     ]
    }
   ],
   "source": [
    "name = 'python'\n",
    "age = 20\n",
    "print('Hello!\\nMy name is %s.'%name)\n",
    "print(\"I'm %d years old.\"%age)"
   ]
  },
  {
   "cell_type": "code",
   "execution_count": 18,
   "id": "d05aecb9",
   "metadata": {},
   "outputs": [
    {
     "name": "stdout",
     "output_type": "stream",
     "text": [
      "Hello!\n",
      "My name is python.\n",
      "I'm 21 years old.\n",
      "Hello!\n",
      "My name is sara.\n",
      "I'm 22 years old.\n"
     ]
    }
   ],
   "source": [
    "def intro(name, age):\n",
    "    print('Hello!\\nMy name is %s.'%name)\n",
    "    print(\"I'm %d years old.\"%age)\n",
    "\n",
    "intro('python',21)\n",
    "intro('sara',22)"
   ]
  },
  {
   "cell_type": "markdown",
   "id": "dd550ae0",
   "metadata": {},
   "source": [
    "### 연습문제\n",
    "- 이름과 나이를 입력받아 생일축하 메시지를 출력하는 함수를 만들고 호출하세요.\n",
    "- 생일문구 : 000님의 00번째 생일을 축하합니다."
   ]
  },
  {
   "cell_type": "code",
   "execution_count": 22,
   "id": "d150ac56",
   "metadata": {},
   "outputs": [
    {
     "name": "stdout",
     "output_type": "stream",
     "text": [
      "Enter the name : sara\n",
      "Enter the age : 22\n",
      "sara의 22번째 생일을 축하합니다.\n"
     ]
    }
   ],
   "source": [
    "name = input('Enter the name : ')\n",
    "age = input('Enter the age : ')\n",
    "\n",
    "def print_birthday(name, age):\n",
    "    print(f'{name}의 {age}번째 생일을 축하합니다.')\n",
    "\n",
    "print_birthday(name,age)"
   ]
  }
 ],
 "metadata": {
  "kernelspec": {
   "display_name": "Python 3 (ipykernel)",
   "language": "python",
   "name": "python3"
  },
  "language_info": {
   "codemirror_mode": {
    "name": "ipython",
    "version": 3
   },
   "file_extension": ".py",
   "mimetype": "text/x-python",
   "name": "python",
   "nbconvert_exporter": "python",
   "pygments_lexer": "ipython3",
   "version": "3.9.7"
  }
 },
 "nbformat": 4,
 "nbformat_minor": 5
}
