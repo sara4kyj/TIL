{
 "cells": [
  {
   "cell_type": "markdown",
   "id": "c23585f5",
   "metadata": {},
   "source": [
    "### 리스트, 튜플 만들기"
   ]
  },
  {
   "cell_type": "markdown",
   "id": "d2e8068f",
   "metadata": {},
   "source": [
    "#### 리스트 만들기"
   ]
  },
  {
   "cell_type": "code",
   "execution_count": 1,
   "id": "4dcdf796",
   "metadata": {},
   "outputs": [
    {
     "data": {
      "text/plain": [
       "[]"
      ]
     },
     "execution_count": 1,
     "metadata": {},
     "output_type": "execute_result"
    }
   ],
   "source": [
    "# []를 사용하여 빈 리스트 만들기\n",
    "l1 = []\n",
    "l1"
   ]
  },
  {
   "cell_type": "code",
   "execution_count": 2,
   "id": "1dd57676",
   "metadata": {},
   "outputs": [
    {
     "data": {
      "text/plain": [
       "[]"
      ]
     },
     "execution_count": 2,
     "metadata": {},
     "output_type": "execute_result"
    }
   ],
   "source": [
    "# list() 함수를 사용하여 빈 리스트 만들기\n",
    "l2 = list()\n",
    "l2"
   ]
  },
  {
   "cell_type": "code",
   "execution_count": 3,
   "id": "a6aed3b9",
   "metadata": {},
   "outputs": [
    {
     "data": {
      "text/plain": [
       "[1, 3, 5, 7, 9]"
      ]
     },
     "execution_count": 3,
     "metadata": {},
     "output_type": "execute_result"
    }
   ],
   "source": [
    "# []를 사용하여 초기값이 있는 리스트 만들기\n",
    "l3 = [1,3,5,7,9]\n",
    "l3"
   ]
  },
  {
   "cell_type": "code",
   "execution_count": 6,
   "id": "4c46dcf3",
   "metadata": {},
   "outputs": [
    {
     "data": {
      "text/plain": [
       "[1, 6, 11, 16, 21, 26, 31, 36, 41, 46, 51, 56, 61, 66, 71, 76, 81, 86, 91, 96]"
      ]
     },
     "execution_count": 6,
     "metadata": {},
     "output_type": "execute_result"
    }
   ],
   "source": [
    "# list() 함수를 사용사여 초기값이 있는 리스트 만들기(규칙이 있는 정수 값의 나열)\n",
    "l4 = list(range(1,100,5))\n",
    "l4"
   ]
  },
  {
   "cell_type": "markdown",
   "id": "97c89903",
   "metadata": {},
   "source": [
    "#### 튜플 만들기"
   ]
  },
  {
   "cell_type": "code",
   "execution_count": 7,
   "id": "566d6d2d",
   "metadata": {},
   "outputs": [
    {
     "data": {
      "text/plain": [
       "()"
      ]
     },
     "execution_count": 7,
     "metadata": {},
     "output_type": "execute_result"
    }
   ],
   "source": [
    "# ()를 사용하여 빈 튜플 만들기\n",
    "t1 = ()\n",
    "t1"
   ]
  },
  {
   "cell_type": "code",
   "execution_count": 8,
   "id": "232c3dc0",
   "metadata": {},
   "outputs": [
    {
     "data": {
      "text/plain": [
       "()"
      ]
     },
     "execution_count": 8,
     "metadata": {},
     "output_type": "execute_result"
    }
   ],
   "source": [
    "# tuple() 함수를 사용하여 빈 튜플 만들기\n",
    "t2 = tuple()\n",
    "t2"
   ]
  },
  {
   "cell_type": "code",
   "execution_count": 9,
   "id": "f634579d",
   "metadata": {},
   "outputs": [
    {
     "data": {
      "text/plain": [
       "(1, 3, 5, 7, 9)"
      ]
     },
     "execution_count": 9,
     "metadata": {},
     "output_type": "execute_result"
    }
   ],
   "source": [
    "# ()에 초기값 지정하여 튜플 만들기\n",
    "t3 = (1,3,5,7,9)\n",
    "t3"
   ]
  },
  {
   "cell_type": "code",
   "execution_count": 11,
   "id": "8ac67989",
   "metadata": {},
   "outputs": [
    {
     "data": {
      "text/plain": [
       "(1, 6, 11, 16, 21, 26, 31, 36, 41, 46, 51, 56, 61, 66, 71, 76, 81, 86, 91, 96)"
      ]
     },
     "execution_count": 11,
     "metadata": {},
     "output_type": "execute_result"
    }
   ],
   "source": [
    "# tuple()함수를 사용하여 초기값이 있는 튜플 만들기(규칙이 있는 정수값의 나열)\n",
    "t4 = tuple(range(1,100,5))\n",
    "t4"
   ]
  },
  {
   "cell_type": "code",
   "execution_count": 12,
   "id": "416bd5ed",
   "metadata": {},
   "outputs": [
    {
     "name": "stdout",
     "output_type": "stream",
     "text": [
      "<class 'tuple'>\n",
      "(1, 3, 5, 7, 9)\n"
     ]
    }
   ],
   "source": [
    "# 튜플을 만들 때 괄호()는 생략 가능하다.\n",
    "t5 = 1,3,5,7,9\n",
    "print(type(t5), t5, sep='\\n')"
   ]
  },
  {
   "cell_type": "code",
   "execution_count": 13,
   "id": "32217846",
   "metadata": {},
   "outputs": [
    {
     "name": "stdout",
     "output_type": "stream",
     "text": [
      "<class 'tuple'>\n",
      "(1,)\n"
     ]
    }
   ],
   "source": [
    "# 항목이 1개일 때는 ,를 붙인다.\n",
    "t6 = (1,)\n",
    "print(type(t6), t6, sep='\\n')"
   ]
  },
  {
   "cell_type": "code",
   "execution_count": 14,
   "id": "68507afe",
   "metadata": {},
   "outputs": [
    {
     "name": "stdout",
     "output_type": "stream",
     "text": [
      "<class 'tuple'>\n",
      "(1,)\n"
     ]
    }
   ],
   "source": [
    "t7 = 1,\n",
    "print(type(t7), t7, sep='\\n')"
   ]
  },
  {
   "cell_type": "markdown",
   "id": "3154c604",
   "metadata": {},
   "source": [
    "#### 리스트, 튜플의 자료형\n",
    "- 모든 자료형이 혼합되어 들어갈 수 있다."
   ]
  },
  {
   "cell_type": "code",
   "execution_count": 15,
   "id": "c17938b6",
   "metadata": {},
   "outputs": [
    {
     "data": {
      "text/plain": [
       "['amy', 20, 165.5, ['독서', '코딩']]"
      ]
     },
     "execution_count": 15,
     "metadata": {},
     "output_type": "execute_result"
    }
   ],
   "source": [
    "myinfo = ['amy', 20, 165.5, ['독서', '코딩']]\n",
    "myinfo"
   ]
  },
  {
   "cell_type": "code",
   "execution_count": 16,
   "id": "15ffe9fc",
   "metadata": {},
   "outputs": [
    {
     "data": {
      "text/plain": [
       "('amy', 20, 165.5, ['독서', '코딩'])"
      ]
     },
     "execution_count": 16,
     "metadata": {},
     "output_type": "execute_result"
    }
   ],
   "source": [
    "myinfo = ('amy', 20, 165.5, ['독서', '코딩'])\n",
    "myinfo"
   ]
  },
  {
   "cell_type": "code",
   "execution_count": 17,
   "id": "33bc570b",
   "metadata": {},
   "outputs": [
    {
     "data": {
      "text/plain": [
       "('빨', '주', '노', '초', '파', '남', '보')"
      ]
     },
     "execution_count": 17,
     "metadata": {},
     "output_type": "execute_result"
    }
   ],
   "source": [
    "t1 = ('빨','주')\n",
    "t2 = ('노', '초', '파', '남', '보')\n",
    "t1 + t2"
   ]
  },
  {
   "cell_type": "markdown",
   "id": "59a46c69",
   "metadata": {},
   "source": [
    "#### 리스트, 튜플 반복하기"
   ]
  },
  {
   "cell_type": "code",
   "execution_count": 21,
   "id": "13b0fd95",
   "metadata": {},
   "outputs": [
    {
     "data": {
      "text/plain": [
       "['먹고', '자고', '먹고', '자고', '먹고', '자고']"
      ]
     },
     "execution_count": 21,
     "metadata": {},
     "output_type": "execute_result"
    }
   ],
   "source": [
    "l = ['먹고', '자고']\n",
    "l*3"
   ]
  },
  {
   "cell_type": "code",
   "execution_count": 22,
   "id": "1b0a6f9f",
   "metadata": {},
   "outputs": [
    {
     "data": {
      "text/plain": [
       "('놀고', '먹고', '자고', '놀고', '먹고', '자고')"
      ]
     },
     "execution_count": 22,
     "metadata": {},
     "output_type": "execute_result"
    }
   ],
   "source": [
    "t = ('놀고', '먹고', '자고')\n",
    "t*2"
   ]
  },
  {
   "cell_type": "markdown",
   "id": "15e58581",
   "metadata": {},
   "source": [
    "#### 리스트, 튜플에 값 존재여부 확인\n",
    "- 멤버 연산자 : in, not in"
   ]
  },
  {
   "cell_type": "code",
   "execution_count": 24,
   "id": "aba476c7",
   "metadata": {},
   "outputs": [
    {
     "name": "stdout",
     "output_type": "stream",
     "text": [
      "True\n",
      "False\n",
      "False\n",
      "True\n"
     ]
    }
   ],
   "source": [
    "l = [1,2,3,4,5]\n",
    "\n",
    "print(5 in l)\n",
    "print(10 in l)\n",
    "print(5 not in l)\n",
    "print(10 not in l)"
   ]
  },
  {
   "cell_type": "code",
   "execution_count": 25,
   "id": "c218705f",
   "metadata": {},
   "outputs": [
    {
     "name": "stdout",
     "output_type": "stream",
     "text": [
      "True\n",
      "False\n",
      "False\n",
      "True\n"
     ]
    }
   ],
   "source": [
    "t = (1,2,3,4,5)\n",
    "\n",
    "print(5 in l)\n",
    "print(10 in l)\n",
    "print(5 not in l)\n",
    "print(10 not in l)"
   ]
  },
  {
   "cell_type": "markdown",
   "id": "3e7ab8af",
   "metadata": {},
   "source": [
    "#### 리스트, 튜플 항목의 갯수 구하기\n",
    "- len(list name)\n",
    "- len(tuple name)"
   ]
  },
  {
   "cell_type": "code",
   "execution_count": 28,
   "id": "e9908525",
   "metadata": {},
   "outputs": [
    {
     "data": {
      "text/plain": [
       "21"
      ]
     },
     "execution_count": 28,
     "metadata": {},
     "output_type": "execute_result"
    }
   ],
   "source": [
    "l = [1,3,2,4,5,6,2,33,3,6,7,0,66,6,4,2,1,'d','e','y',[2,3,4,7,5,4]]\n",
    "len(l)"
   ]
  },
  {
   "cell_type": "code",
   "execution_count": 29,
   "id": "4167cb84",
   "metadata": {},
   "outputs": [
    {
     "data": {
      "text/plain": [
       "2"
      ]
     },
     "execution_count": 29,
     "metadata": {},
     "output_type": "execute_result"
    }
   ],
   "source": [
    "t = ((1,2),[3,4])\n",
    "len(t)"
   ]
  }
 ],
 "metadata": {
  "kernelspec": {
   "display_name": "Python 3 (ipykernel)",
   "language": "python",
   "name": "python3"
  },
  "language_info": {
   "codemirror_mode": {
    "name": "ipython",
    "version": 3
   },
   "file_extension": ".py",
   "mimetype": "text/x-python",
   "name": "python",
   "nbconvert_exporter": "python",
   "pygments_lexer": "ipython3",
   "version": "3.9.7"
  }
 },
 "nbformat": 4,
 "nbformat_minor": 5
}
