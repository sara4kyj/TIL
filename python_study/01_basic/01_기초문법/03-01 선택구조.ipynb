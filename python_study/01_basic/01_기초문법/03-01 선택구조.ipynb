{
 "cells": [
  {
   "cell_type": "markdown",
   "id": "fba87df3",
   "metadata": {},
   "source": [
    "### if 구조"
   ]
  },
  {
   "cell_type": "markdown",
   "id": "ed7c17cc",
   "metadata": {},
   "source": [
    "- 점수를 입력받아, 점수가 60점 이상이라면 '합격'을 출력합니다."
   ]
  },
  {
   "cell_type": "code",
   "execution_count": 6,
   "id": "fd9b996d",
   "metadata": {},
   "outputs": [
    {
     "name": "stdout",
     "output_type": "stream",
     "text": [
      "Enter the score: 60\n",
      "\n",
      "!!!합격!!!\n",
      "축하드립니다.\n",
      "\n",
      "수고하셨습니다.\n"
     ]
    }
   ],
   "source": [
    "score = int(input('Enter the score: '))\n",
    "\n",
    "if score >= 60:\n",
    "    print('\\n!!!합격!!!\\n축하드립니다.')\n",
    "    \n",
    "print('\\n수고하셨습니다.')"
   ]
  },
  {
   "cell_type": "markdown",
   "id": "ef984b78",
   "metadata": {},
   "source": [
    "### if .. else .. 구조\n",
    "- 점수를 입력받아, 점수가 60점 이상이면 '합격'을 출력하고, 아니면 '불합격'을 출력합니다."
   ]
  },
  {
   "cell_type": "code",
   "execution_count": 8,
   "id": "3a5cd2c1",
   "metadata": {},
   "outputs": [
    {
     "name": "stdout",
     "output_type": "stream",
     "text": [
      "Enter the score: 59\n",
      "불합격\n"
     ]
    }
   ],
   "source": [
    "score = int(input('Enter the score: '))\n",
    "\n",
    "if score >= 60:\n",
    "    print('합격')\n",
    "else:\n",
    "    print('불합격')"
   ]
  },
  {
   "cell_type": "markdown",
   "id": "c3cf448c",
   "metadata": {},
   "source": [
    "### if .. elif .. 구조\n",
    "- 점수를 입력받고 점수의 범위에 따라 등급을 출력하는 프로그램을 작성하세요.\n",
    "|등급|A|B|C|D|F|\n",
    "|:---:|:---:|:---:|:---:|:---:|:---:|\n",
    "|점수|90이상|80~89|70~79|60~69|0~59|"
   ]
  },
  {
   "cell_type": "code",
   "execution_count": 9,
   "id": "f51a8603",
   "metadata": {},
   "outputs": [
    {
     "name": "stdout",
     "output_type": "stream",
     "text": [
      "score : 69\n",
      "grade :  D\n"
     ]
    }
   ],
   "source": [
    "score = int(input('score : '))\n",
    "\n",
    "if score >= 90:\n",
    "    grade = 'A'\n",
    "elif score >= 80:\n",
    "    grade = 'B'\n",
    "elif score >= 70:\n",
    "    grade = 'C'\n",
    "elif score >= 60:\n",
    "    grade = 'D'\n",
    "else:\n",
    "    grade = 'F'\n",
    "\n",
    "print('grade : ', grade)"
   ]
  },
  {
   "cell_type": "code",
   "execution_count": 10,
   "id": "6309e4bb",
   "metadata": {},
   "outputs": [
    {
     "name": "stdout",
     "output_type": "stream",
     "text": [
      "score : 95\n",
      "grade : B\n"
     ]
    }
   ],
   "source": [
    "score = int(input('score : '))\n",
    "\n",
    "if score >= 80:\n",
    "    grade = 'B'\n",
    "elif score >= 90:\n",
    "    grade = 'A'\n",
    "elif score >= 70:\n",
    "    grade = 'C'\n",
    "elif score >= 60:\n",
    "    grade = 'D'\n",
    "else:\n",
    "    grade = 'F'\n",
    "\n",
    "print('grade :', grade)"
   ]
  },
  {
   "cell_type": "markdown",
   "id": "6bb5c2e9",
   "metadata": {},
   "source": [
    "> if/else 문을 통한 조건문 작성 시 비교순위를 제대로 정하지 않으면 원하는 결과값을 얻을 수 없음"
   ]
  },
  {
   "cell_type": "markdown",
   "id": "6d72bae7",
   "metadata": {},
   "source": [
    "### 연습문제\n",
    "- 정수를 입력받아 짝수/홀수를 판별하세요."
   ]
  },
  {
   "cell_type": "code",
   "execution_count": 11,
   "id": "6cd38395",
   "metadata": {},
   "outputs": [
    {
     "name": "stdout",
     "output_type": "stream",
     "text": [
      "Enter the number : 3\n",
      "홀수\n"
     ]
    }
   ],
   "source": [
    "number = int(input('Enter the number : '))\n",
    "\n",
    "if number % 2 == 1:\n",
    "    print('홀수')\n",
    "elif number == 0:\n",
    "    print('0')\n",
    "else:\n",
    "    print('짝수')"
   ]
  }
 ],
 "metadata": {
  "kernelspec": {
   "display_name": "Python 3 (ipykernel)",
   "language": "python",
   "name": "python3"
  },
  "language_info": {
   "codemirror_mode": {
    "name": "ipython",
    "version": 3
   },
   "file_extension": ".py",
   "mimetype": "text/x-python",
   "name": "python",
   "nbconvert_exporter": "python",
   "pygments_lexer": "ipython3",
   "version": "3.9.7"
  }
 },
 "nbformat": 4,
 "nbformat_minor": 5
}
