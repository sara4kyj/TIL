{
 "cells": [
  {
   "cell_type": "markdown",
   "id": "985a034f",
   "metadata": {},
   "source": [
    "### 학생별 총점,평균 구하기\n",
    "- 다음은 학생 별 [국어,영어,수학]점수가 저장된 리스트이다.\n",
    "\n",
    "    score_list = [[96,84,80],[96,86,76],[76,95,83],[89,96,69],[90,76,91]]\n",
    "\n",
    "    각 학생의 세 과목의 성적의 [총점, 평균]을 구하여 리스트에 담으시오.\n",
    "\n",
    "    (평균은 반올림하여 소수점 1자리까지 표현한다.)"
   ]
  },
  {
   "cell_type": "code",
   "execution_count": 5,
   "id": "98c874a0",
   "metadata": {},
   "outputs": [],
   "source": [
    "score_list = [[96,84,80],[96,86,76],[76,95,83],[89,96,69],[90,76,91]]\n",
    "std_score = []"
   ]
  },
  {
   "cell_type": "code",
   "execution_count": 6,
   "id": "c7cd57e6",
   "metadata": {},
   "outputs": [
    {
     "data": {
      "text/plain": [
       "[[260, 86.7], [258, 86.0], [254, 84.7], [254, 84.7], [257, 85.7]]"
      ]
     },
     "execution_count": 6,
     "metadata": {},
     "output_type": "execute_result"
    }
   ],
   "source": [
    "for i in score_list:\n",
    "    std_score.append([sum(i),round(sum(i)/3,1)])\n",
    "std_score"
   ]
  },
  {
   "cell_type": "markdown",
   "id": "24f73021",
   "metadata": {},
   "source": [
    "### 과목별 평균 구하기\n",
    "\n",
    "- 다음은 학생 별 [국어,영어,수학]점수가 저장된 리스트이다.\n",
    "\n",
    "    score_list = [[96,84,80],[96,86,76],[76,95,83],[89,96,69],[90,76,91]]\n",
    "\n",
    "    각 과목의 리스트를 분리하고 과목별 평균을 구해봅시다. 평균은 소수점 1자리까지 출력한다."
   ]
  },
  {
   "cell_type": "code",
   "execution_count": 7,
   "id": "b007b5d5",
   "metadata": {},
   "outputs": [],
   "source": [
    "score_list = [[96,84,80],[96,86,76],[76,95,83],[89,96,69],[90,76,91]]"
   ]
  },
  {
   "cell_type": "code",
   "execution_count": 9,
   "id": "f825c6c3",
   "metadata": {},
   "outputs": [
    {
     "name": "stdout",
     "output_type": "stream",
     "text": [
      "kor_list:[96, 96, 76, 89, 90]\n",
      "eng_list: [84, 86, 95, 96, 76]\n",
      "math_list: [80, 76, 83, 69, 91]\n",
      "kor_avg:89.4\n",
      "eng_avg: 87.4\n",
      "math_avg: 79.8\n"
     ]
    }
   ],
   "source": [
    "kor_list=[]\n",
    "eng_list=[]\n",
    "math_list=[]\n",
    "\n",
    "for i in score_list:\n",
    "    kor_list.append(i[0])\n",
    "    eng_list.append(i[1])\n",
    "    math_list.append(i[2])\n",
    "\n",
    "kor_avg = sum(kor_list)/len(kor_list)\n",
    "eng_avg = sum(eng_list)/len(eng_list)\n",
    "math_avg = sum(math_list)/len(math_list)\n",
    "\n",
    "print(f'kor_list:{kor_list}\\neng_list: {eng_list}\\nmath_list: {math_list}')\n",
    "print(f'kor_avg:{kor_avg}\\neng_avg: {eng_avg}\\nmath_avg: {math_avg}')"
   ]
  },
  {
   "cell_type": "markdown",
   "id": "33bcda62",
   "metadata": {},
   "source": [
    "### 랜덤 항목 추출하기\n",
    "- random.choice(리스트명)"
   ]
  },
  {
   "cell_type": "code",
   "execution_count": 10,
   "id": "6fadd892",
   "metadata": {},
   "outputs": [
    {
     "name": "stdout",
     "output_type": "stream",
     "text": [
      "오늘은 뭘먹지?\n"
     ]
    }
   ],
   "source": [
    "menulist = ['한식','일식','중식','양식','분식','이탈리아식']\n",
    "print('오늘은 뭘먹지?')"
   ]
  },
  {
   "cell_type": "code",
   "execution_count": 11,
   "id": "81ecf696",
   "metadata": {},
   "outputs": [
    {
     "data": {
      "text/plain": [
       "'양식'"
      ]
     },
     "execution_count": 11,
     "metadata": {},
     "output_type": "execute_result"
    }
   ],
   "source": [
    "import random\n",
    "random.choice(menulist)"
   ]
  },
  {
   "cell_type": "markdown",
   "id": "c4b3cc58",
   "metadata": {},
   "source": [
    "- 메뉴를 입력받아 랜덤으로 메뉴를 정하는 프로그램을 작성해보자\n",
    "\n",
    "    공백('')을 입력할 때까지 메뉴를 입력"
   ]
  },
  {
   "cell_type": "code",
   "execution_count": 13,
   "id": "fb4b57f5",
   "metadata": {},
   "outputs": [
    {
     "name": "stdout",
     "output_type": "stream",
     "text": [
      "Enter the menu name: 한식\n",
      "Enter the menu name: 중식\n",
      "Enter the menu name: 일식\n",
      "Enter the menu name: 양식\n",
      "Enter the menu name: \n",
      "오늘의 메뉴는 일식\n"
     ]
    }
   ],
   "source": [
    "menu_list = []\n",
    "\n",
    "while True :\n",
    "    menu = input('Enter the menu name: ')\n",
    "    if menu == '':\n",
    "        break\n",
    "    menu_list.append(menu)\n",
    "print('오늘의 메뉴는',random.choice(menu_list))"
   ]
  }
 ],
 "metadata": {
  "kernelspec": {
   "display_name": "Python 3 (ipykernel)",
   "language": "python",
   "name": "python3"
  },
  "language_info": {
   "codemirror_mode": {
    "name": "ipython",
    "version": 3
   },
   "file_extension": ".py",
   "mimetype": "text/x-python",
   "name": "python",
   "nbconvert_exporter": "python",
   "pygments_lexer": "ipython3",
   "version": "3.9.7"
  }
 },
 "nbformat": 4,
 "nbformat_minor": 5
}
