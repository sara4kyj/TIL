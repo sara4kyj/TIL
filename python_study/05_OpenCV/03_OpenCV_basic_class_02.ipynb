{
 "cells": [
  {
   "cell_type": "code",
   "execution_count": 1,
   "id": "2b03eb91",
   "metadata": {},
   "outputs": [],
   "source": [
    "import numpy as np\n",
    "import cv2\n",
    "import sys"
   ]
  },
  {
   "cell_type": "markdown",
   "id": "c0bd4f4d",
   "metadata": {},
   "source": [
    "#### puppy에 sunglass 합성하기"
   ]
  },
  {
   "cell_type": "code",
   "execution_count": 42,
   "id": "2f6d6f3d",
   "metadata": {},
   "outputs": [],
   "source": [
    "puppy = cv2.imread('./fig/puppy.bmp',1)\n",
    "sunglass = cv2.imread('./fig/imgbin_sunglasses_1.png', cv2.IMREAD_UNCHANGED)\n",
    "\n",
    "if puppy is None or sunglass is None :\n",
    "    print('image read failed')\n",
    "    sys.exit()\n",
    "\n",
    "sunglass = cv2.resize(sunglass, (300, 150))\n",
    "puppy2 = puppy[130:280,220:520]  \n",
    "mask = sunglass[:, :, -1]\n",
    "glass = sunglass[:,:,0:3]\n",
    "\n",
    "glass[mask>0] = (0,127,255)\n",
    "cv2.copyTo(glass, mask, puppy2)\n",
    "\n",
    "cv2.imshow('puppy', puppy)\n",
    "cv2.imshow('puppy2', puppy2)\n",
    "cv2.imshow('glass', glass)\n",
    "cv2.imshow('mask', mask)\n",
    "\n",
    "while True :\n",
    "    if cv2.waitKey() == 27 :\n",
    "        break\n",
    "cv2.destroyAllWindows()"
   ]
  },
  {
   "cell_type": "markdown",
   "id": "227dac56",
   "metadata": {},
   "source": [
    "#### line, arrowedLine, rectangle, circle, ellipse 사용해보기"
   ]
  },
  {
   "cell_type": "code",
   "execution_count": 19,
   "id": "fd2e39ca",
   "metadata": {},
   "outputs": [
    {
     "name": "stdout",
     "output_type": "stream",
     "text": [
      "OpenCV version : 4.5.5\n"
     ]
    }
   ],
   "source": [
    "img = np.full((600,1200,3), 255, np.uint8)\n",
    "\n",
    "cv2.line(img, (100,50), (300,50), (0,0,255), 10)\n",
    "cv2.line(img, (300,50), (100,300), (0,0,255), 10)\n",
    "\n",
    "cv2.arrowedLine(img, (350,50), (350,300), (0,0,255), 10)\n",
    "\n",
    "cv2.rectangle(img, (100,320), (350,450), (255,0,0), -1)\n",
    "cv2.rectangle(img, (95,315), (355,455), (0,0,255), 10)\n",
    "\n",
    "cv2.circle(img, (600,150), 100, (127,127,0), -1)\n",
    "cv2.circle(img, (600,150), 105, (0,0,255), 10)\n",
    "\n",
    "cv2.ellipse(img, (600,150), (50,100), 10, 0, 360, (0,255,0), 10)\n",
    "\n",
    "text = 'OpenCV version : ' + cv2.__version__\n",
    "print(text)\n",
    "\n",
    "cv2.putText(img, text, (800,100), cv2.FONT_ITALIC, 0.8, (0,0,255), 1, cv2.LINE_AA)\n",
    "\n",
    "cv2.imshow('canvas', img)\n",
    "\n",
    "while True :\n",
    "    if cv2.waitKey() == 27 :\n",
    "        break\n",
    "cv2.destroyAllWindows()"
   ]
  },
  {
   "cell_type": "markdown",
   "id": "ce4c1e83",
   "metadata": {},
   "source": [
    "#### 인삼 그리기"
   ]
  },
  {
   "cell_type": "code",
   "execution_count": 21,
   "id": "2b59878c",
   "metadata": {},
   "outputs": [],
   "source": [
    "img = np.full((450,800,3), 255, np.uint8)\n",
    "\n",
    "cv2.circle(img, (150,150), 100, (255,0,0), 10)\n",
    "cv2.line(img, (300, 50) ,(300, 260), (255,0,0), 10)\n",
    "cv2.line(img, (70, 280) ,(70, 370), (255,0,0), 10)\n",
    "cv2.line(img, (70, 370) ,(300, 370), (255,0,0), 10)\n",
    "\n",
    "cv2.line(img, (500, 50) ,(400, 250), (255,0,0), 10)\n",
    "cv2.line(img, (500, 50) ,(600, 250), (255,0,0), 10)\n",
    "cv2.line(img, (650, 50) ,(650, 260), (255,0,0), 10)\n",
    "cv2.line(img, (650, 150) ,(720, 150), (255,0,0), 10)\n",
    "cv2.rectangle(img, (430,280), (650,370), (255,0,0), 10)\n",
    "\n",
    "\n",
    "cv2.imshow('canvas', img)\n",
    "\n",
    "while True :\n",
    "    if cv2.waitKey() == 27 :\n",
    "        break\n",
    "cv2.destroyAllWindows()"
   ]
  },
  {
   "cell_type": "markdown",
   "id": "e2221fd5",
   "metadata": {},
   "source": [
    "#### 웹캠 영상 가져오기"
   ]
  },
  {
   "cell_type": "code",
   "execution_count": 24,
   "id": "f5c8e3a6",
   "metadata": {},
   "outputs": [
    {
     "name": "stdout",
     "output_type": "stream",
     "text": [
      "640, 480, 21, 1482049860\n"
     ]
    }
   ],
   "source": [
    "cap = cv2.VideoCapture(0)\n",
    "\n",
    "if not cap.isOpened():\n",
    "    print('video capture open failed!')\n",
    "    sys.exit()\n",
    "    \n",
    "w = int(cap.get(cv2.CAP_PROP_FRAME_WIDTH))\n",
    "h = int(cap.get(cv2.CAP_PROP_FRAME_HEIGHT))\n",
    "fps = int(cap.get(cv2.CAP_PROP_FPS)*0.7) # frame per second\n",
    "fourcc = cv2.VideoWriter_fourcc(*'DIVX')\n",
    "\n",
    "print(w, h, fps, fourcc, sep = ', ')\n",
    "\n",
    "out = cv2.VideoWriter('ouput_class.avi', fourcc, fps, (w,h))  # color로 지정됨\n",
    "\n",
    "while True:\n",
    "    ret, frame = cap.read()\n",
    "    \n",
    "    if not ret:\n",
    "        print('video read failed!')\n",
    "        break\n",
    "    \n",
    "    # 동영상 편집 부분\n",
    "    #####################################################################\n",
    "    edge = cv2.Canny(frame, 30,150)  # 그레이스케일\n",
    "    edge_color = cv2.cvtColor(edge, cv2.COLOR_GRAY2BGR) # 파일로 저장하기 위해 color로 변경\n",
    "    \n",
    "    # edge 컬러 반전시키기\n",
    "#     edge_reverse = 255 - edge # 파일로 저장하기 위해 color로 변경\n",
    "#     edge_color = cv2.cvtColor(edge_reverse, cv2.COLOR_GRAY2BGR) # 파일로 저장하기 위해 color로 변경\n",
    "    #####################################################################\n",
    "    \n",
    "    cv2.imshow('img', frame)\n",
    "    cv2.imshow('edge', edge_color)\n",
    "    \n",
    "    out.write(edge)\n",
    "    \n",
    "    if cv2.waitKey(20) == 27 :\n",
    "        break\n",
    "    \n",
    "cap.release()\n",
    "out.release()\n",
    "cv2.destroyAllWindows()"
   ]
  }
 ],
 "metadata": {
  "kernelspec": {
   "display_name": "Python 3 (ipykernel)",
   "language": "python",
   "name": "python3"
  },
  "language_info": {
   "codemirror_mode": {
    "name": "ipython",
    "version": 3
   },
   "file_extension": ".py",
   "mimetype": "text/x-python",
   "name": "python",
   "nbconvert_exporter": "python",
   "pygments_lexer": "ipython3",
   "version": "3.9.7"
  }
 },
 "nbformat": 4,
 "nbformat_minor": 5
}
