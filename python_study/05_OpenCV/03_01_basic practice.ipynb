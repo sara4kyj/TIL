{
 "cells": [
  {
   "cell_type": "code",
   "execution_count": 1,
   "id": "49ebc402",
   "metadata": {},
   "outputs": [],
   "source": [
    "import cv2\n",
    "import sys\n",
    "import numpy as np"
   ]
  },
  {
   "cell_type": "code",
   "execution_count": 3,
   "id": "c312d1a1",
   "metadata": {},
   "outputs": [],
   "source": [
    "src = cv2.imread('./fig/kyj.jpg', cv2.IMREAD_COLOR)\n",
    "hat = cv2.imread('./fig/imgbin_hat.png', cv2.IMREAD_UNCHANGED)\n",
    "\n",
    "hat = cv2.resize(hat, (297,420))\n",
    "\n",
    "if src is None or hat is None:\n",
    "    print('Image read failed!')\n",
    "    sys.exit()\n",
    "\n",
    "\n",
    "mask = hat[:, :, -1]    # mask는 알파 채널로 만든 마스크 영상\n",
    "glass = hat[:, :, 0:3]  # glass는 b, g, r 3채널로 구성된 컬러 영상\n",
    "\n",
    "h, w = mask.shape[:2]\n",
    "crop = src[10:10+h, 40:40+w]  # glass mask와 같은 크기의 부분 영상 추출\n",
    "\n",
    "cv2.copyTo(glass, mask, crop)\n",
    "# crop[mask > 0] = (0, 0, 255)\n",
    "\n",
    "cv2.imshow('src', src)\n",
    "cv2.imshow('glass', glass)\n",
    "cv2.imshow('mask', mask)\n",
    "cv2.imshow('crop', crop)\n",
    "\n",
    "# cv2.imwrite('puppy_sunglass.bmp', src)\n",
    "\n",
    "cv2.waitKey()\n",
    "cv2.destroyAllWindows()"
   ]
  },
  {
   "cell_type": "code",
   "execution_count": null,
   "id": "8e5c17a4",
   "metadata": {},
   "outputs": [],
   "source": []
  }
 ],
 "metadata": {
  "kernelspec": {
   "display_name": "Python 3 (ipykernel)",
   "language": "python",
   "name": "python3"
  },
  "language_info": {
   "codemirror_mode": {
    "name": "ipython",
    "version": 3
   },
   "file_extension": ".py",
   "mimetype": "text/x-python",
   "name": "python",
   "nbconvert_exporter": "python",
   "pygments_lexer": "ipython3",
   "version": "3.9.7"
  }
 },
 "nbformat": 4,
 "nbformat_minor": 5
}
