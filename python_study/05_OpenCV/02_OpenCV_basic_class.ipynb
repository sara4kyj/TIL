{
 "cells": [
  {
   "cell_type": "code",
   "execution_count": 1,
   "id": "f89c4f96",
   "metadata": {},
   "outputs": [
    {
     "data": {
      "text/plain": [
       "'4.5.5'"
      ]
     },
     "execution_count": 1,
     "metadata": {},
     "output_type": "execute_result"
    }
   ],
   "source": [
    "import numpy as np\n",
    "import cv2\n",
    "import sys\n",
    "\n",
    "cv2.__version__"
   ]
  },
  {
   "cell_type": "code",
   "execution_count": 5,
   "id": "b6e01eb0",
   "metadata": {},
   "outputs": [
    {
     "name": "stdout",
     "output_type": "stream",
     "text": [
      "img1 size: 640 x 480\n",
      "img2 size: 616 x 769\n",
      "img type =  <class 'numpy.ndarray'>\n",
      "img1 type =  <class 'numpy.ndarray'>\n",
      "img dimension =  (480, 640)\n",
      "img1 dimension =  (769, 616, 3)\n",
      "data type =  uint8\n",
      "data1 type =  uint8\n"
     ]
    }
   ],
   "source": [
    "img1 = cv2.imread('./fig/puppy.bmp', cv2.IMREAD_GRAYSCALE)\n",
    "img2 = cv2.imread('./fig/puppy2.png', cv2.IMREAD_COLOR)\n",
    "\n",
    "if img1 is None :\n",
    "    print('image read failed')\n",
    "    sys.exit()\n",
    "    \n",
    "h, w = img1.shape\n",
    "print('img1 size: {} x {}'.format(w, h))\n",
    "\n",
    "h, w = img2.shape[:2]\n",
    "print('img2 size: {} x {}'.format(w, h)) \n",
    "    \n",
    "print('img type = ', type(img1))\n",
    "print('img1 type = ', type(img2))\n",
    "\n",
    "print('img dimension = ', img1.shape)\n",
    "print('img1 dimension = ', img2.shape)\n",
    "\n",
    "print('data type = ', img1.dtype)\n",
    "print('data1 type = ', img2.dtype)"
   ]
  },
  {
   "cell_type": "markdown",
   "id": "be518e1a",
   "metadata": {},
   "source": [
    "#### 영역 지정하여 해당 영역을 원하는 색으로 변경하기"
   ]
  },
  {
   "cell_type": "code",
   "execution_count": 2,
   "id": "63baaaf4",
   "metadata": {},
   "outputs": [
    {
     "name": "stdout",
     "output_type": "stream",
     "text": [
      "color center =  [208 214 227]\n",
      "gray center =  217\n"
     ]
    }
   ],
   "source": [
    "import cv2\n",
    "import sys\n",
    "import numpy as np\n",
    "\n",
    "img1 = cv2.imread('./fig/puppy.bmp', 1)\n",
    "img2 = cv2.imread('./fig/puppy.bmp', 0)\n",
    "\n",
    "if img1 is None or img2 is None :\n",
    "    print('read failed!')\n",
    "    sys.exit()\n",
    "\n",
    "# h, w = img1.shape[:2]\n",
    "\n",
    "x = 120\n",
    "y = 320\n",
    "\n",
    "img1_center = img1[y//2, x//2]\n",
    "print('color center = ', img1_center)\n",
    "\n",
    "img2_center = img2[y//2, x//2]\n",
    "print('gray center = ', img2_center)\n",
    "\n",
    "# img1[10:110, 100:200] = (0, 0 ,255)  # bgr\n",
    "# img1[10:110, 100:200] = (0, 255 ,0)  # bgr\n",
    "img1[10:110, 100:200] = (255, 0 ,0)  # bgr\n",
    "# img2[10:110, 100:200] = 0  # black\n",
    "img2[10:110, 100:200] = 255 # white\n",
    "# img2[10:110, 100:200] = 127  # gray\n",
    "\n",
    "cv2.imshow('img1', img1)\n",
    "cv2.imshow('img2', img2)\n",
    "\n",
    "cv2.waitKey()\n",
    "\n",
    "cv2.destroyAllWindows()"
   ]
  },
  {
   "cell_type": "markdown",
   "id": "2df2819e",
   "metadata": {},
   "source": [
    "#### 이미지 만들기"
   ]
  },
  {
   "cell_type": "code",
   "execution_count": 7,
   "id": "b1aa4a0e",
   "metadata": {},
   "outputs": [],
   "source": [
    "img1 = np.zeros((240, 320, 3), dtype=np.uint8) \n",
    "img2 = np.ones((240, 320), dtype=np.uint8)*255\n",
    "img3 = np.full((240, 320, 3), 255, dtype=np.uint8)\n",
    "img4 = np.random.randint(0, 255, size=(240,320), dtype=np.uint8)\n",
    "\n",
    "img1[10:60, 10:60] = (0,0,255)\n",
    "# img2[10:60, 10:60] = 255\n",
    "\n",
    "cv2.imshow('img1', img1)\n",
    "cv2.imshow('img2', img2)\n",
    "cv2.imshow('img3', img3)\n",
    "cv2.imshow('img4', img4)\n",
    "\n",
    "cv2.waitKey()\n",
    "cv2.destroyAllWindows()"
   ]
  },
  {
   "cell_type": "markdown",
   "id": "7c5cc118",
   "metadata": {},
   "source": [
    "#### 영상 복사"
   ]
  },
  {
   "cell_type": "code",
   "execution_count": 8,
   "id": "defd00d2",
   "metadata": {},
   "outputs": [],
   "source": [
    "img = cv2.imread('./fig/cat.bmp')\n",
    "\n",
    "if img is None :\n",
    "    print('image read failed')\n",
    "    sys.exit()\n",
    "\n",
    "img1 = img    \n",
    "img2 = img.copy()    \n",
    "\n",
    "img[100:200, 200:300] = (0,0,255)\n",
    "img2[100:200, 200:300] = (0,255,255)\n",
    "\n",
    "cv2.imshow('img', img)\n",
    "cv2.imshow('img1', img1)\n",
    "cv2.imshow('img2', img2)\n",
    "\n",
    "while True :\n",
    "    if cv2.waitKey() == 27:\n",
    "        break\n",
    "\n",
    "cv2.destroyAllWindows()"
   ]
  },
  {
   "cell_type": "markdown",
   "id": "63ea285e",
   "metadata": {},
   "source": [
    "#### 원그리기"
   ]
  },
  {
   "cell_type": "code",
   "execution_count": 3,
   "id": "65fd9939",
   "metadata": {},
   "outputs": [],
   "source": [
    "image = np.ones((400,400,3), dtype = np.uint8)*255\n",
    "\n",
    "if image is None:\n",
    "    print('read ERROR!')\n",
    "    sys.exit()\n",
    "\n",
    "img1 = image.copy()    \n",
    "    \n",
    "cv2.circle(image, (100,200), 100, (0,0,255), 3, cv2.LINE_AA)\n",
    "\n",
    "cv2.imshow('image', image)\n",
    "\n",
    "while True:\n",
    "    if cv2.waitKey() == 27:\n",
    "        break\n",
    "        \n",
    "cv2.destroyAllWindows()"
   ]
  },
  {
   "cell_type": "markdown",
   "id": "e67132db",
   "metadata": {},
   "source": [
    "#### 불러온 이미지의 원하는 영역에 원 그리기"
   ]
  },
  {
   "cell_type": "code",
   "execution_count": 32,
   "id": "2fedb59d",
   "metadata": {},
   "outputs": [],
   "source": [
    "img1 = cv2.imread('./fig/puppy.bmp')\n",
    "\n",
    "if img1 is None :\n",
    "    print('ERROR!!!')\n",
    "    sys.exit()\n",
    "    \n",
    "img_cut = img1.copy()\n",
    "img_cut = img_cut[200:400, 300:500]\n",
    "img_cut_copy = img_cut.copy()\n",
    "\n",
    "cv2.circle(img_cut_copy, (115,90), 50, (0,0,255), -1)\n",
    "\n",
    "cv2.imshow('img1', img1)\n",
    "cv2.imshow('img_cut', img_cut)\n",
    "cv2.imshow('img_cut_copy', img_cut_copy)\n",
    "\n",
    "while True:\n",
    "    if cv2.waitKey() == 27:\n",
    "        break\n",
    "    \n",
    "cv2.destroyAllWindows()"
   ]
  },
  {
   "cell_type": "markdown",
   "id": "cfdcaff6",
   "metadata": {},
   "source": [
    "#### copyTo\n",
    "copyTo(src, mask, dst)\n",
    "- src : source file\n",
    "- mask : source file이 흑백으로만 이루어진 파일, 출력을 원하는 부분은 백색, 원치 않는 부분은 흑색으로 설정\n",
    "- dst : source file에 mask를 적용하여 출력을 원하는 부분(백색)만 해당 이미지에 삽입"
   ]
  },
  {
   "cell_type": "code",
   "execution_count": 4,
   "id": "a805213e",
   "metadata": {},
   "outputs": [],
   "source": [
    "src = cv2.imread('./fig/airplane.bmp', cv2.IMREAD_COLOR)\n",
    "mask = cv2.imread('./fig/mask_plane.bmp', cv2.IMREAD_GRAYSCALE)\n",
    "dst = cv2.imread('./fig/field.bmp', cv2.IMREAD_COLOR)\n",
    "\n",
    "if src is None or mask is None or dst is None:\n",
    "    print('image read failed')\n",
    "    sys.exit()\n",
    "\n",
    "cv2.copyTo(src, mask, dst)    \n",
    "    \n",
    "cv2.imshow('src', src)\n",
    "cv2.imshow('mask', mask)\n",
    "cv2.imshow('dst', dst)\n",
    "\n",
    "while True:\n",
    "    if cv2.waitKey() == 27:\n",
    "        break\n",
    "        \n",
    "cv2.destroyAllWindows()"
   ]
  },
  {
   "cell_type": "markdown",
   "id": "4f83ed01",
   "metadata": {},
   "source": [
    "##### threshold를 사용하여 mask 제작  "
   ]
  },
  {
   "cell_type": "code",
   "execution_count": 57,
   "id": "cdc8a0be",
   "metadata": {},
   "outputs": [],
   "source": [
    "src = cv2.imread('./fig/airplane.bmp', cv2.IMREAD_COLOR)\n",
    "src_gray = cv2.cvtColor(src, cv2.COLOR_BGR2GRAY)\n",
    "\n",
    "if src is None or src_gray is None:\n",
    "    print('ERROR')\n",
    "    sys.exit()\n",
    "\n",
    "ret, mask = cv2.threshold(src_gray, 160,255, cv2.THRESH_BINARY_INV)\n",
    "\n",
    "cv2.imshow('src', src)\n",
    "cv2.imshow('src_gray', src_gray)\n",
    "cv2.imshow('mask', mask)\n",
    "\n",
    "while True :\n",
    "    if cv2.waitKey() == 27 :\n",
    "        break\n",
    "cv2.destroyAllWindows()"
   ]
  },
  {
   "cell_type": "markdown",
   "id": "9819b6f0",
   "metadata": {},
   "source": [
    "##### copyTo를 사용하여 cow 이미지를 green에 삽입하기"
   ]
  },
  {
   "cell_type": "code",
   "execution_count": 41,
   "id": "f4f8a8a2",
   "metadata": {},
   "outputs": [],
   "source": [
    "cow = cv2.imread('./fig/cow.png', cv2.IMREAD_COLOR)\n",
    "green = cv2.imread('./fig/green.png', cv2.IMREAD_COLOR)\n",
    "\n",
    "if cow is None or green is None:\n",
    "    print('ERROR')\n",
    "    sys.exit()\n",
    "\n",
    "cow_gray = cv2.cvtColor(cow, cv2.COLOR_BGR2GRAY)\n",
    "\n",
    "h, w = cow.shape[:2]\n",
    "\n",
    "green = cv2.resize(green, (w, h), cv2.INTER_AREA)\n",
    "\n",
    "ret, mask = cv2.threshold(cow_gray, 237, 255, cv2.THRESH_BINARY_INV)\n",
    "\n",
    "cv2.copyTo(cow, mask, green)\n",
    "\n",
    "cv2.imshow('cow', cow)\n",
    "cv2.imshow('green', green)\n",
    "cv2.imshow('mask', mask)\n",
    "\n",
    "while True:\n",
    "    if cv2.waitKey() == 27:\n",
    "        break\n",
    "cv2.destroyAllWindows()"
   ]
  },
  {
   "cell_type": "markdown",
   "id": "02ec450f",
   "metadata": {},
   "source": [
    "##### copyTo practice"
   ]
  },
  {
   "cell_type": "code",
   "execution_count": 80,
   "id": "fdf59fc4",
   "metadata": {},
   "outputs": [],
   "source": [
    "fun = cv2.imread('./fig/fun.jpg', cv2.IMREAD_COLOR)\n",
    "green = cv2.imread('./fig/green.png', cv2.IMREAD_REDUCED_COLOR_2)\n",
    "\n",
    "if cow is None or green is None:\n",
    "    print('ERROR')\n",
    "    sys.exit()\n",
    "\n",
    "fun_gray = cv2.cvtColor(fun, cv2.COLOR_BGR2GRAY)\n",
    "\n",
    "h, w = fun.shape[:2]\n",
    "\n",
    "green = cv2.resize(green, (w, h), cv2.INTER_AREA)\n",
    "\n",
    "ret, mask = cv2.threshold(fun_gray, 153, 255, cv2.THRESH_BINARY_INV)\n",
    "\n",
    "cv2.copyTo(fun, mask, green)\n",
    "\n",
    "cv2.imshow('fun', fun)\n",
    "cv2.imshow('green', green)\n",
    "cv2.imshow('mask', mask)\n",
    "\n",
    "while True:\n",
    "    if cv2.waitKey() == 27:\n",
    "        break\n",
    "cv2.destroyAllWindows()"
   ]
  }
 ],
 "metadata": {
  "kernelspec": {
   "display_name": "Python 3 (ipykernel)",
   "language": "python",
   "name": "python3"
  },
  "language_info": {
   "codemirror_mode": {
    "name": "ipython",
    "version": 3
   },
   "file_extension": ".py",
   "mimetype": "text/x-python",
   "name": "python",
   "nbconvert_exporter": "python",
   "pygments_lexer": "ipython3",
   "version": "3.9.7"
  }
 },
 "nbformat": 4,
 "nbformat_minor": 5
}
