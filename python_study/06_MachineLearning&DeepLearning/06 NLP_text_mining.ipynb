{
 "cells": [
  {
   "cell_type": "code",
   "execution_count": 1,
   "id": "aba381df",
   "metadata": {},
   "outputs": [],
   "source": [
    "data = [[2,81], [4,93], [6,91], [8,97]]"
   ]
  },
  {
   "cell_type": "code",
   "execution_count": 3,
   "id": "91ef6fbc",
   "metadata": {},
   "outputs": [
    {
     "data": {
      "text/plain": [
       "[2, 81]"
      ]
     },
     "execution_count": 3,
     "metadata": {},
     "output_type": "execute_result"
    }
   ],
   "source": [
    "data[0]"
   ]
  },
  {
   "cell_type": "code",
   "execution_count": 4,
   "id": "4a7f5184",
   "metadata": {},
   "outputs": [
    {
     "data": {
      "text/plain": [
       "[4, 93]"
      ]
     },
     "execution_count": 4,
     "metadata": {},
     "output_type": "execute_result"
    }
   ],
   "source": [
    "data[1]"
   ]
  },
  {
   "cell_type": "code",
   "execution_count": 5,
   "id": "35283c05",
   "metadata": {},
   "outputs": [
    {
     "data": {
      "text/plain": [
       "2"
      ]
     },
     "execution_count": 5,
     "metadata": {},
     "output_type": "execute_result"
    }
   ],
   "source": [
    "data[0][0]"
   ]
  },
  {
   "cell_type": "code",
   "execution_count": 6,
   "id": "e61b3389",
   "metadata": {},
   "outputs": [
    {
     "data": {
      "text/plain": [
       "81"
      ]
     },
     "execution_count": 6,
     "metadata": {},
     "output_type": "execute_result"
    }
   ],
   "source": [
    "data[0][1]"
   ]
  },
  {
   "cell_type": "code",
   "execution_count": 7,
   "id": "5c5ea5b3",
   "metadata": {},
   "outputs": [],
   "source": [
    "x = [i[0] for i in data]\n",
    "y = [i[1] for i in data]"
   ]
  },
  {
   "cell_type": "code",
   "execution_count": 8,
   "id": "d4a2240d",
   "metadata": {},
   "outputs": [
    {
     "data": {
      "text/plain": [
       "[2, 4, 6, 8]"
      ]
     },
     "execution_count": 8,
     "metadata": {},
     "output_type": "execute_result"
    }
   ],
   "source": [
    "x"
   ]
  },
  {
   "cell_type": "code",
   "execution_count": 9,
   "id": "9c6425ac",
   "metadata": {
    "scrolled": true
   },
   "outputs": [
    {
     "data": {
      "text/plain": [
       "[81, 93, 91, 97]"
      ]
     },
     "execution_count": 9,
     "metadata": {},
     "output_type": "execute_result"
    }
   ],
   "source": [
    "y"
   ]
  },
  {
   "cell_type": "markdown",
   "id": "b68a1579",
   "metadata": {},
   "source": [
    "### NLP CEO 연설 분석"
   ]
  },
  {
   "cell_type": "code",
   "execution_count": 11,
   "id": "bbcb9c67",
   "metadata": {},
   "outputs": [],
   "source": [
    "import numpy as np\n",
    "import pandas as pd"
   ]
  },
  {
   "cell_type": "code",
   "execution_count": 14,
   "id": "bbe89a1f",
   "metadata": {},
   "outputs": [
    {
     "data": {
      "text/html": [
       "<div>\n",
       "<style scoped>\n",
       "    .dataframe tbody tr th:only-of-type {\n",
       "        vertical-align: middle;\n",
       "    }\n",
       "\n",
       "    .dataframe tbody tr th {\n",
       "        vertical-align: top;\n",
       "    }\n",
       "\n",
       "    .dataframe thead th {\n",
       "        text-align: right;\n",
       "    }\n",
       "</style>\n",
       "<table border=\"1\" class=\"dataframe\">\n",
       "  <thead>\n",
       "    <tr style=\"text-align: right;\">\n",
       "      <th></th>\n",
       "      <th>number</th>\n",
       "      <th>firm</th>\n",
       "      <th>publishing</th>\n",
       "      <th>country</th>\n",
       "      <th>text</th>\n",
       "      <th>Unnamed: 5</th>\n",
       "      <th>Unnamed: 6</th>\n",
       "      <th>Unnamed: 7</th>\n",
       "      <th>Unnamed: 8</th>\n",
       "      <th>Unnamed: 9</th>\n",
       "      <th>...</th>\n",
       "      <th>Unnamed: 450</th>\n",
       "      <th>Unnamed: 451</th>\n",
       "      <th>Unnamed: 452</th>\n",
       "      <th>Unnamed: 453</th>\n",
       "      <th>Unnamed: 454</th>\n",
       "      <th>Unnamed: 455</th>\n",
       "      <th>Unnamed: 456</th>\n",
       "      <th>Unnamed: 457</th>\n",
       "      <th>Unnamed: 458</th>\n",
       "      <th>Unnamed: 459</th>\n",
       "    </tr>\n",
       "  </thead>\n",
       "  <tbody>\n",
       "    <tr>\n",
       "      <th>0</th>\n",
       "      <td>2</td>\n",
       "      <td>Amorepacific</td>\n",
       "      <td>1</td>\n",
       "      <td>Korea</td>\n",
       "      <td>We will use beauty to change the world and bec...</td>\n",
       "      <td>NaN</td>\n",
       "      <td>NaN</td>\n",
       "      <td>NaN</td>\n",
       "      <td>NaN</td>\n",
       "      <td>NaN</td>\n",
       "      <td>...</td>\n",
       "      <td>NaN</td>\n",
       "      <td>NaN</td>\n",
       "      <td>NaN</td>\n",
       "      <td>NaN</td>\n",
       "      <td>NaN</td>\n",
       "      <td>NaN</td>\n",
       "      <td>NaN</td>\n",
       "      <td>NaN</td>\n",
       "      <td>NaN</td>\n",
       "      <td>NaN</td>\n",
       "    </tr>\n",
       "    <tr>\n",
       "      <th>1</th>\n",
       "      <td>4</td>\n",
       "      <td>Amorepacific</td>\n",
       "      <td>3</td>\n",
       "      <td>Korea</td>\n",
       "      <td>AMOREPACIFC Group will endeavor to become a gr...</td>\n",
       "      <td>NaN</td>\n",
       "      <td>NaN</td>\n",
       "      <td>NaN</td>\n",
       "      <td>NaN</td>\n",
       "      <td>NaN</td>\n",
       "      <td>...</td>\n",
       "      <td>NaN</td>\n",
       "      <td>NaN</td>\n",
       "      <td>NaN</td>\n",
       "      <td>NaN</td>\n",
       "      <td>NaN</td>\n",
       "      <td>NaN</td>\n",
       "      <td>NaN</td>\n",
       "      <td>NaN</td>\n",
       "      <td>NaN</td>\n",
       "      <td>NaN</td>\n",
       "    </tr>\n",
       "    <tr>\n",
       "      <th>2</th>\n",
       "      <td>502</td>\n",
       "      <td>Amorepacific</td>\n",
       "      <td>4</td>\n",
       "      <td>Korea</td>\n",
       "      <td>AMOREPACIFIC Group has been pursuing the path ...</td>\n",
       "      <td>NaN</td>\n",
       "      <td>NaN</td>\n",
       "      <td>NaN</td>\n",
       "      <td>NaN</td>\n",
       "      <td>NaN</td>\n",
       "      <td>...</td>\n",
       "      <td>NaN</td>\n",
       "      <td>NaN</td>\n",
       "      <td>NaN</td>\n",
       "      <td>NaN</td>\n",
       "      <td>NaN</td>\n",
       "      <td>NaN</td>\n",
       "      <td>NaN</td>\n",
       "      <td>NaN</td>\n",
       "      <td>NaN</td>\n",
       "      <td>NaN</td>\n",
       "    </tr>\n",
       "    <tr>\n",
       "      <th>3</th>\n",
       "      <td>5</td>\n",
       "      <td>Asiana Airlines</td>\n",
       "      <td>1</td>\n",
       "      <td>Korea</td>\n",
       "      <td>This year marks the 25th anniversary of the es...</td>\n",
       "      <td>NaN</td>\n",
       "      <td>NaN</td>\n",
       "      <td>NaN</td>\n",
       "      <td>NaN</td>\n",
       "      <td>NaN</td>\n",
       "      <td>...</td>\n",
       "      <td>NaN</td>\n",
       "      <td>NaN</td>\n",
       "      <td>NaN</td>\n",
       "      <td>NaN</td>\n",
       "      <td>NaN</td>\n",
       "      <td>NaN</td>\n",
       "      <td>NaN</td>\n",
       "      <td>NaN</td>\n",
       "      <td>NaN</td>\n",
       "      <td>NaN</td>\n",
       "    </tr>\n",
       "    <tr>\n",
       "      <th>4</th>\n",
       "      <td>6</td>\n",
       "      <td>Asiana Airlines</td>\n",
       "      <td>2</td>\n",
       "      <td>Korea</td>\n",
       "      <td>Since the inception, Asiana Airlines has pledg...</td>\n",
       "      <td>NaN</td>\n",
       "      <td>NaN</td>\n",
       "      <td>NaN</td>\n",
       "      <td>NaN</td>\n",
       "      <td>NaN</td>\n",
       "      <td>...</td>\n",
       "      <td>NaN</td>\n",
       "      <td>NaN</td>\n",
       "      <td>NaN</td>\n",
       "      <td>NaN</td>\n",
       "      <td>NaN</td>\n",
       "      <td>NaN</td>\n",
       "      <td>NaN</td>\n",
       "      <td>NaN</td>\n",
       "      <td>NaN</td>\n",
       "      <td>NaN</td>\n",
       "    </tr>\n",
       "  </tbody>\n",
       "</table>\n",
       "<p>5 rows × 460 columns</p>\n",
       "</div>"
      ],
      "text/plain": [
       "   number             firm  publishing country  \\\n",
       "0       2     Amorepacific           1   Korea   \n",
       "1       4     Amorepacific           3   Korea   \n",
       "2     502     Amorepacific           4   Korea   \n",
       "3       5  Asiana Airlines           1   Korea   \n",
       "4       6  Asiana Airlines           2   Korea   \n",
       "\n",
       "                                                text  Unnamed: 5  Unnamed: 6  \\\n",
       "0  We will use beauty to change the world and bec...         NaN         NaN   \n",
       "1  AMOREPACIFC Group will endeavor to become a gr...         NaN         NaN   \n",
       "2  AMOREPACIFIC Group has been pursuing the path ...         NaN         NaN   \n",
       "3  This year marks the 25th anniversary of the es...         NaN         NaN   \n",
       "4  Since the inception, Asiana Airlines has pledg...         NaN         NaN   \n",
       "\n",
       "   Unnamed: 7  Unnamed: 8  Unnamed: 9  ...  Unnamed: 450  Unnamed: 451  \\\n",
       "0         NaN         NaN         NaN  ...           NaN           NaN   \n",
       "1         NaN         NaN         NaN  ...           NaN           NaN   \n",
       "2         NaN         NaN         NaN  ...           NaN           NaN   \n",
       "3         NaN         NaN         NaN  ...           NaN           NaN   \n",
       "4         NaN         NaN         NaN  ...           NaN           NaN   \n",
       "\n",
       "   Unnamed: 452  Unnamed: 453  Unnamed: 454  Unnamed: 455  Unnamed: 456  \\\n",
       "0           NaN           NaN           NaN           NaN           NaN   \n",
       "1           NaN           NaN           NaN           NaN           NaN   \n",
       "2           NaN           NaN           NaN           NaN           NaN   \n",
       "3           NaN           NaN           NaN           NaN           NaN   \n",
       "4           NaN           NaN           NaN           NaN           NaN   \n",
       "\n",
       "   Unnamed: 457  Unnamed: 458  Unnamed: 459  \n",
       "0           NaN           NaN           NaN  \n",
       "1           NaN           NaN           NaN  \n",
       "2           NaN           NaN           NaN  \n",
       "3           NaN           NaN           NaN  \n",
       "4           NaN           NaN           NaN  \n",
       "\n",
       "[5 rows x 460 columns]"
      ]
     },
     "execution_count": 14,
     "metadata": {},
     "output_type": "execute_result"
    }
   ],
   "source": [
    "df = pd.read_csv('./03_Stats_&_Machine_Learning/data/CEO3.csv', encoding='latin')\n",
    "df.head()"
   ]
  },
  {
   "cell_type": "code",
   "execution_count": 17,
   "id": "bfc2f16f",
   "metadata": {},
   "outputs": [
    {
     "data": {
      "text/plain": [
       "0      We will use beauty to change the world and bec...\n",
       "1      AMOREPACIFC Group will endeavor to become a gr...\n",
       "2      AMOREPACIFIC Group has been pursuing the path ...\n",
       "3      This year marks the 25th anniversary of the es...\n",
       "4      Since the inception, Asiana Airlines has pledg...\n",
       "                             ...                        \n",
       "373    Acting with integrity and providing a great  e...\n",
       "374    With\\ta\\tunique\\tglobal\\tportfolio\\tthat\\tincl...\n",
       "375    With\\tthe\\twidest\\trange\\tof\\tplaces\\tto\\tstay...\n",
       "376    These are exciting times for Xilinx, and the e...\n",
       "377    These are exciting times at Xilinx. Systems an...\n",
       "Name: text, Length: 378, dtype: object"
      ]
     },
     "execution_count": 17,
     "metadata": {},
     "output_type": "execute_result"
    }
   ],
   "source": [
    "df.text"
   ]
  },
  {
   "cell_type": "code",
   "execution_count": 16,
   "id": "960b628f",
   "metadata": {},
   "outputs": [],
   "source": [
    "texts = df.text"
   ]
  },
  {
   "cell_type": "code",
   "execution_count": 19,
   "id": "b337beac",
   "metadata": {},
   "outputs": [],
   "source": [
    "from nltk.tokenize import RegexpTokenizer   # 정규표현식 사용 정제\n",
    "tokenizer = RegexpTokenizer(r'\\w+')"
   ]
  },
  {
   "cell_type": "code",
   "execution_count": 20,
   "id": "836e980d",
   "metadata": {},
   "outputs": [],
   "source": [
    "from nltk.stem import WordNetLemmatizer    # 표제어\n",
    "lemmatizer = WordNetLemmatizer()"
   ]
  },
  {
   "cell_type": "code",
   "execution_count": 21,
   "id": "02c0160e",
   "metadata": {},
   "outputs": [
    {
     "name": "stderr",
     "output_type": "stream",
     "text": [
      "[nltk_data] Downloading package stopwords to\n",
      "[nltk_data]     C:\\Users\\sara\\AppData\\Roaming\\nltk_data...\n",
      "[nltk_data]   Package stopwords is already up-to-date!\n"
     ]
    },
    {
     "data": {
      "text/plain": [
       "True"
      ]
     },
     "execution_count": 21,
     "metadata": {},
     "output_type": "execute_result"
    }
   ],
   "source": [
    "import nltk\n",
    "nltk.download('stopwords')"
   ]
  },
  {
   "cell_type": "code",
   "execution_count": 22,
   "id": "68c10c33",
   "metadata": {},
   "outputs": [],
   "source": [
    "from nltk.corpus import stopwords\n",
    "stop_words = nltk.corpus.stopwords.words('english')"
   ]
  },
  {
   "cell_type": "code",
   "execution_count": 23,
   "id": "1f33399d",
   "metadata": {},
   "outputs": [],
   "source": [
    "stop_words.extend([])"
   ]
  },
  {
   "cell_type": "code",
   "execution_count": 24,
   "id": "1fea5d37",
   "metadata": {},
   "outputs": [
    {
     "data": {
      "text/plain": [
       "['i', 'me', 'my', 'myself', 'we', 'our', 'ours', 'ourselves', 'you', \"you're\"]"
      ]
     },
     "execution_count": 24,
     "metadata": {},
     "output_type": "execute_result"
    }
   ],
   "source": [
    "stop_words[:10]"
   ]
  },
  {
   "cell_type": "code",
   "execution_count": 25,
   "id": "de0dfda1",
   "metadata": {},
   "outputs": [
    {
     "name": "stderr",
     "output_type": "stream",
     "text": [
      "[nltk_data] Downloading package wordnet to\n",
      "[nltk_data]     C:\\Users\\sara\\AppData\\Roaming\\nltk_data...\n",
      "[nltk_data]   Package wordnet is already up-to-date!\n"
     ]
    },
    {
     "data": {
      "text/plain": [
       "True"
      ]
     },
     "execution_count": 25,
     "metadata": {},
     "output_type": "execute_result"
    }
   ],
   "source": [
    "from nltk import wordnet\n",
    "nltk.download('wordnet')"
   ]
  },
  {
   "cell_type": "code",
   "execution_count": 26,
   "id": "962d1b96",
   "metadata": {},
   "outputs": [],
   "source": [
    "preprocessed_texts =[]\n",
    "\n",
    "for text in texts.values:\n",
    "    tokenized_text = tokenizer.tokenize(text.lower())  # 소문자로 변경해서 tonkenizer 진행\n",
    "    lemmatized_text = [lemmatizer.lemmatize(token) for token in tokenized_text]\n",
    "    # 토큰화된 테스트를 표제어로 구성된 리스트 생성\n",
    "    stopped_text = [token for token in lemmatized_text if token not in stop_words]\n",
    "    # 불용어(stop words)가 아닌 토큰이라면, 표제어 리스트에서 토큰을 추출하여 리스트 만들기\n",
    "    preprocessed_texts.append(stopped_text)"
   ]
  },
  {
   "cell_type": "code",
   "execution_count": 27,
   "id": "637e03ef",
   "metadata": {},
   "outputs": [],
   "source": [
    "from collections import Counter"
   ]
  },
  {
   "cell_type": "code",
   "execution_count": 28,
   "id": "e025014c",
   "metadata": {},
   "outputs": [
    {
     "data": {
      "text/plain": [
       "[('business', 1534),\n",
       " ('company', 1445),\n",
       " ('year', 1159),\n",
       " ('management', 969),\n",
       " ('global', 953),\n",
       " ('growth', 938),\n",
       " ('sustainability', 907),\n",
       " ('customer', 890),\n",
       " ('also', 766),\n",
       " ('value', 755),\n",
       " ('new', 752),\n",
       " ('community', 722),\n",
       " ('world', 713),\n",
       " ('ha', 700),\n",
       " ('product', 683),\n",
       " ('social', 669),\n",
       " ('employee', 658),\n",
       " ('stakeholder', 651),\n",
       " ('effort', 637),\n",
       " ('u', 635)]"
      ]
     },
     "execution_count": 28,
     "metadata": {},
     "output_type": "execute_result"
    }
   ],
   "source": [
    "tokens = []\n",
    "\n",
    "for text in preprocessed_texts:\n",
    "    tokens.extend(text)\n",
    "    \n",
    "counted_tokens = Counter(tokens) # 전처리된 토큰리스트를 카운팅함\n",
    "top_20 = counted_tokens.most_common(20)\n",
    "top_20"
   ]
  },
  {
   "cell_type": "code",
   "execution_count": 7,
   "id": "1c4ebbd0",
   "metadata": {},
   "outputs": [
    {
     "data": {
      "text/html": [
       "<style>.container { width:90% !important; }</style>"
      ],
      "text/plain": [
       "<IPython.core.display.HTML object>"
      ]
     },
     "metadata": {},
     "output_type": "display_data"
    }
   ],
   "source": [
    "from IPython.core.display import display, HTML\n",
    "display(HTML(\"<style>.container { width:90% !important; }</style>\"))"
   ]
  },
  {
   "cell_type": "markdown",
   "id": "422cac85",
   "metadata": {},
   "source": [
    "### 갤럭시 관련"
   ]
  },
  {
   "cell_type": "code",
   "execution_count": 2,
   "id": "8a30f017",
   "metadata": {},
   "outputs": [],
   "source": [
    "import pandas as pd\n",
    "import numpy as np"
   ]
  },
  {
   "cell_type": "code",
   "execution_count": 8,
   "id": "ba090d98",
   "metadata": {},
   "outputs": [
    {
     "name": "stderr",
     "output_type": "stream",
     "text": [
      "C:\\ProgramData\\Anaconda3\\lib\\site-packages\\openpyxl\\styles\\stylesheet.py:226: UserWarning: Workbook contains no default style, apply openpyxl's default\n",
      "  warn(\"Workbook contains no default style, apply openpyxl's default\")\n"
     ]
    }
   ],
   "source": [
    "df = pd.read_excel('./data/samsung_smartphone.xlsx', sheet_name='sheet')"
   ]
  },
  {
   "cell_type": "code",
   "execution_count": 9,
   "id": "9c96afbe",
   "metadata": {},
   "outputs": [
    {
     "data": {
      "text/plain": [
       "0    삼성전자가 이르면 이달 중 보급형 스마트폰인 갤럭시 A 시리즈를 선보인다. 2년 만...\n",
       "1    [헤럴드경제=박혜림 기자] “싸다고 충전기까지 뺀다?” \\n \\n 삼성전자가 중저가...\n",
       "2    삼성전자(005930)가 외국 해커 그룹 ‘랩서스(LAPSUS＄)’로부터 해킹 당했...\n",
       "3    삼성전자가 최근 외국 해커그룹 랩서스(LAPSUS$)로부터 해킹 공격을 받은 것과 ...\n",
       "4    애플이 오는 9일 스페셜 이벤트를 통해 '아이폰SE' 신제품을 선보일 전망이다. 홈...\n",
       "Name: 본문, dtype: object"
      ]
     },
     "execution_count": 9,
     "metadata": {},
     "output_type": "execute_result"
    }
   ],
   "source": [
    "df.본문.head()"
   ]
  },
  {
   "cell_type": "code",
   "execution_count": 10,
   "id": "d4c36c53",
   "metadata": {},
   "outputs": [
    {
     "name": "stdout",
     "output_type": "stream",
     "text": [
      "Collecting eunjeon\n",
      "  Downloading eunjeon-0.4.0.tar.gz (34.7 MB)\n",
      "Building wheels for collected packages: eunjeon\n",
      "  Building wheel for eunjeon (setup.py): started\n",
      "  Building wheel for eunjeon (setup.py): finished with status 'done'\n",
      "  Created wheel for eunjeon: filename=eunjeon-0.4.0-cp39-cp39-win_amd64.whl size=35021862 sha256=9464a24d6d93a60a5bb5ebc1868ebe30c591038b21ad4f38191f2ddcc65dc0fd\n",
      "  Stored in directory: c:\\users\\sara\\appdata\\local\\pip\\cache\\wheels\\51\\05\\fb\\48ff3bf6804f7cea4a3f7be6300a5b19618007c35d2064a753\n",
      "Successfully built eunjeon\n",
      "Installing collected packages: eunjeon\n",
      "Successfully installed eunjeon-0.4.0\n"
     ]
    },
    {
     "name": "stderr",
     "output_type": "stream",
     "text": [
      "WARNING: Ignoring invalid distribution -na (c:\\programdata\\anaconda3\\lib\\site-packages)\n",
      "WARNING: Ignoring invalid distribution -na (c:\\programdata\\anaconda3\\lib\\site-packages)\n",
      "WARNING: Ignoring invalid distribution - (c:\\programdata\\anaconda3\\lib\\site-packages)\n",
      "WARNING: Ignoring invalid distribution -dna (c:\\programdata\\anaconda3\\lib\\site-packages)\n",
      "WARNING: Ignoring invalid distribution -na (c:\\programdata\\anaconda3\\lib\\site-packages)\n",
      "WARNING: Ignoring invalid distribution -na (c:\\programdata\\anaconda3\\lib\\site-packages)\n",
      "WARNING: Ignoring invalid distribution - (c:\\programdata\\anaconda3\\lib\\site-packages)\n",
      "WARNING: Ignoring invalid distribution -dna (c:\\programdata\\anaconda3\\lib\\site-packages)\n",
      "WARNING: Ignoring invalid distribution -na (c:\\programdata\\anaconda3\\lib\\site-packages)\n",
      "WARNING: Ignoring invalid distribution -na (c:\\programdata\\anaconda3\\lib\\site-packages)\n",
      "WARNING: Ignoring invalid distribution - (c:\\programdata\\anaconda3\\lib\\site-packages)\n",
      "WARNING: Ignoring invalid distribution -dna (c:\\programdata\\anaconda3\\lib\\site-packages)\n",
      "WARNING: Ignoring invalid distribution -na (c:\\programdata\\anaconda3\\lib\\site-packages)\n",
      "WARNING: Ignoring invalid distribution -na (c:\\programdata\\anaconda3\\lib\\site-packages)\n",
      "WARNING: Ignoring invalid distribution - (c:\\programdata\\anaconda3\\lib\\site-packages)\n",
      "WARNING: Ignoring invalid distribution -dna (c:\\programdata\\anaconda3\\lib\\site-packages)\n",
      "WARNING: Ignoring invalid distribution -na (c:\\programdata\\anaconda3\\lib\\site-packages)\n",
      "WARNING: Ignoring invalid distribution -na (c:\\programdata\\anaconda3\\lib\\site-packages)\n",
      "WARNING: Ignoring invalid distribution - (c:\\programdata\\anaconda3\\lib\\site-packages)\n",
      "WARNING: Ignoring invalid distribution -dna (c:\\programdata\\anaconda3\\lib\\site-packages)\n",
      "WARNING: Ignoring invalid distribution -na (c:\\programdata\\anaconda3\\lib\\site-packages)\n",
      "WARNING: Ignoring invalid distribution -na (c:\\programdata\\anaconda3\\lib\\site-packages)\n",
      "WARNING: Ignoring invalid distribution - (c:\\programdata\\anaconda3\\lib\\site-packages)\n",
      "WARNING: Ignoring invalid distribution -dna (c:\\programdata\\anaconda3\\lib\\site-packages)\n",
      "WARNING: Ignoring invalid distribution -na (c:\\programdata\\anaconda3\\lib\\site-packages)\n",
      "WARNING: Ignoring invalid distribution -na (c:\\programdata\\anaconda3\\lib\\site-packages)\n",
      "WARNING: Ignoring invalid distribution - (c:\\programdata\\anaconda3\\lib\\site-packages)\n",
      "WARNING: Ignoring invalid distribution -dna (c:\\programdata\\anaconda3\\lib\\site-packages)\n"
     ]
    }
   ],
   "source": [
    "!pip install eunjeon"
   ]
  },
  {
   "cell_type": "code",
   "execution_count": 11,
   "id": "914df690",
   "metadata": {},
   "outputs": [],
   "source": [
    "posts = df.본문"
   ]
  },
  {
   "cell_type": "code",
   "execution_count": 12,
   "id": "3a54698e",
   "metadata": {},
   "outputs": [],
   "source": [
    "from eunjeon import Mecab"
   ]
  },
  {
   "cell_type": "code",
   "execution_count": 13,
   "id": "5ee57240",
   "metadata": {},
   "outputs": [],
   "source": [
    "tagger = Mecab()"
   ]
  },
  {
   "cell_type": "code",
   "execution_count": 21,
   "id": "77dc79f9",
   "metadata": {},
   "outputs": [],
   "source": [
    "stop_words = \"은 이 것 등 더 를 좀 즉 인 옹 때 만 원 이때 개 일 기 시 럭 갤 성 삼 스 폰 트 드 기 이 리 폴 사 전 마 자 플 블 가 중 년\"\n",
    "stop_words = stop_words.split(' ')"
   ]
  },
  {
   "cell_type": "code",
   "execution_count": 23,
   "id": "b606de75",
   "metadata": {},
   "outputs": [
    {
     "data": {
      "text/plain": [
       "['은', '이', '것', '등', '더', '를', '좀', '즉', '인', '옹']"
      ]
     },
     "execution_count": 23,
     "metadata": {},
     "output_type": "execute_result"
    }
   ],
   "source": [
    "stop_words[:10]"
   ]
  },
  {
   "cell_type": "code",
   "execution_count": 24,
   "id": "689572e7",
   "metadata": {},
   "outputs": [],
   "source": [
    "nouns = []\n",
    "\n",
    "for post in posts:\n",
    "    for noun in tagger.nouns(post):\n",
    "        if noun not in stop_words:\n",
    "            nouns.append(noun)"
   ]
  },
  {
   "cell_type": "code",
   "execution_count": 25,
   "id": "ee75b5bd",
   "metadata": {},
   "outputs": [
    {
     "data": {
      "text/plain": [
       "['삼성전자', '이달', '보급', '스마트폰', '갤럭시', '시리즈', '보급', '제품', '출시', '중저가']"
      ]
     },
     "execution_count": 25,
     "metadata": {},
     "output_type": "execute_result"
    }
   ],
   "source": [
    "nouns[:10]"
   ]
  },
  {
   "cell_type": "code",
   "execution_count": 26,
   "id": "9d772d4f",
   "metadata": {},
   "outputs": [],
   "source": [
    "words = []\n",
    "\n",
    "for post in posts:\n",
    "    words.extend(tagger.pos(post)) # pos : part of speech(품사)"
   ]
  },
  {
   "cell_type": "code",
   "execution_count": 28,
   "id": "254f1b05",
   "metadata": {},
   "outputs": [
    {
     "data": {
      "text/plain": [
       "[('삼성전자', 'NNP'),\n",
       " ('가', 'JKS'),\n",
       " ('이르', 'VV'),\n",
       " ('면', 'EC'),\n",
       " ('이달', 'NNG'),\n",
       " ('중', 'NNB'),\n",
       " ('보급', 'NNG'),\n",
       " ('형', 'XSN'),\n",
       " ('스마트폰', 'NNP'),\n",
       " ('인', 'VCP+ETM')]"
      ]
     },
     "execution_count": 28,
     "metadata": {},
     "output_type": "execute_result"
    }
   ],
   "source": [
    "words[:10]"
   ]
  },
  {
   "cell_type": "code",
   "execution_count": 29,
   "id": "53b7efc3",
   "metadata": {},
   "outputs": [],
   "source": [
    "verbs = []\n",
    "\n",
    "for word in words:\n",
    "    if word[1] == 'VV':\n",
    "        verbs.append(word[0]+'다')"
   ]
  },
  {
   "cell_type": "code",
   "execution_count": 30,
   "id": "bee438e0",
   "metadata": {},
   "outputs": [
    {
     "data": {
      "text/plain": [
       "['이르다', '지키다', '있다', '넣다', '따르다', '받다', '오다', '치솟다', '앓다', '실다']"
      ]
     },
     "execution_count": 30,
     "metadata": {},
     "output_type": "execute_result"
    }
   ],
   "source": [
    "verbs[:10]"
   ]
  },
  {
   "cell_type": "code",
   "execution_count": 31,
   "id": "1a4a408e",
   "metadata": {},
   "outputs": [],
   "source": [
    "adjective = []\n",
    "\n",
    "for word in words:\n",
    "    if word[1] == 'VA':\n",
    "        adjective.append(word[0]+'다')"
   ]
  },
  {
   "cell_type": "code",
   "execution_count": 32,
   "id": "94b2a199",
   "metadata": {},
   "outputs": [
    {
     "data": {
      "text/plain": [
       "['싸다', '높다', '없다', '많다', '좋다', '있다', '높다', '많다', '없다', '같다']"
      ]
     },
     "execution_count": 32,
     "metadata": {},
     "output_type": "execute_result"
    }
   ],
   "source": [
    "adjective[:10]"
   ]
  },
  {
   "cell_type": "code",
   "execution_count": 34,
   "id": "81148fe6",
   "metadata": {},
   "outputs": [
    {
     "data": {
      "text/plain": [
       "[('갤럭시', 1865),\n",
       " ('삼성전자', 1795),\n",
       " ('시리즈', 808),\n",
       " ('스마트폰', 753),\n",
       " ('삼성', 557),\n",
       " ('공개', 478),\n",
       " ('제품', 439),\n",
       " ('시장', 391),\n",
       " ('출시', 374),\n",
       " ('더블', 350),\n",
       " ('기자', 345),\n",
       " ('세계', 270),\n",
       " ('시간', 266),\n",
       " ('모바일', 245),\n",
       " ('중국', 243),\n",
       " ('현지', 242),\n",
       " ('미국', 241),\n",
       " ('애플', 235),\n",
       " ('기술', 216),\n",
       " ('팩', 216)]"
      ]
     },
     "execution_count": 34,
     "metadata": {},
     "output_type": "execute_result"
    }
   ],
   "source": [
    "from collections import Counter\n",
    "\n",
    "counted_nouns = Counter(nouns) # 전처리된 토큰리스트를 카운팅함\n",
    "top_20 = counted_nouns.most_common(20)\n",
    "top_20"
   ]
  }
 ],
 "metadata": {
  "kernelspec": {
   "display_name": "Python 3 (ipykernel)",
   "language": "python",
   "name": "python3"
  },
  "language_info": {
   "codemirror_mode": {
    "name": "ipython",
    "version": 3
   },
   "file_extension": ".py",
   "mimetype": "text/x-python",
   "name": "python",
   "nbconvert_exporter": "python",
   "pygments_lexer": "ipython3",
   "version": "3.9.7"
  }
 },
 "nbformat": 4,
 "nbformat_minor": 5
}
