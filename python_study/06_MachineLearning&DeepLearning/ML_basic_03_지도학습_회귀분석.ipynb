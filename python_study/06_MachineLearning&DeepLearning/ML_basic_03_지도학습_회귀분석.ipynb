{
 "cells": [
  {
   "cell_type": "code",
   "execution_count": 1,
   "id": "65c043cd",
   "metadata": {},
   "outputs": [],
   "source": [
    "import numpy as np\n",
    "import pandas as pd\n",
    "import matplotlib.pyplot as plt\n",
    "from sklearn.linear_model import LinearRegression"
   ]
  },
  {
   "cell_type": "code",
   "execution_count": 3,
   "id": "8a953416",
   "metadata": {},
   "outputs": [],
   "source": [
    "X = [8.70153760, 3.90825773, 1.89362433, 3.28730045, 7.39333004, 2.98984649, 2.25757240, 9.84450732, 9.94589513, 5.48321616]\n",
    "Y = [5.64413093, 3.75876583, 3.87233310, 4.40990425, 6.43845020, 4.02827829, 2.26105955, 7.15768995, 6.29097441, 5.19692852]\n"
   ]
  },
  {
   "cell_type": "code",
   "execution_count": 4,
   "id": "e7b0cf20",
   "metadata": {},
   "outputs": [
    {
     "name": "stdout",
     "output_type": "stream",
     "text": [
      "전 처리한 X 데이터: \n",
      "           X\n",
      "0  8.701538\n",
      "1  3.908258\n",
      "2  1.893624\n",
      "3  3.287300\n",
      "4  7.393330\n",
      "5  2.989846\n",
      "6  2.257572\n",
      "7  9.844507\n",
      "8  9.945895\n",
      "9  5.483216\n",
      "전 처리한 X 데이터 shape: (10, 1)\n",
      "\n",
      "전 처리한 Y 데이터: \n",
      " 0    5.644131\n",
      "1    3.758766\n",
      "2    3.872333\n",
      "3    4.409904\n",
      "4    6.438450\n",
      "5    4.028278\n",
      "6    2.261060\n",
      "7    7.157690\n",
      "8    6.290974\n",
      "9    5.196929\n",
      "dtype: float64\n",
      "전 처리한 Y 데이터 shape: (10,)\n"
     ]
    }
   ],
   "source": [
    "\"\"\"\n",
    "1. X의 형태를 변환하여 train_X에 저장합니다.\n",
    "\"\"\"\n",
    "train_X = pd.DataFrame(X, columns=['X']) # 2차원\n",
    "\n",
    "\"\"\"\n",
    "2. Y의 형태를 변환하여 train_Y에 저장합니다.\n",
    "\"\"\"\n",
    "train_Y = pd.Series(Y) # 1차원\n",
    "\n",
    "# 변환된 데이터를 출력합니다.\n",
    "print('전 처리한 X 데이터: \\n {}'.format(train_X))\n",
    "print('전 처리한 X 데이터 shape: {}\\n'.format(train_X.shape))\n",
    "\n",
    "print('전 처리한 Y 데이터: \\n {}'.format(train_Y))\n",
    "print('전 처리한 Y 데이터 shape: {}'.format(train_Y.shape))\n"
   ]
  },
  {
   "cell_type": "code",
   "execution_count": 5,
   "id": "3ae9764a",
   "metadata": {},
   "outputs": [
    {
     "data": {
      "text/plain": [
       "LinearRegression()"
      ]
     },
     "execution_count": 5,
     "metadata": {},
     "output_type": "execute_result"
    }
   ],
   "source": [
    "# 모델 초기화\n",
    "\n",
    "lrmodel = LinearRegression()\n",
    "\n",
    "# train data, test data 구분, train data 로 학습\n",
    "\n",
    "lrmodel.fit(train_X, train_Y)"
   ]
  },
  {
   "cell_type": "code",
   "execution_count": 15,
   "id": "af13d858",
   "metadata": {},
   "outputs": [
    {
     "data": {
      "image/png": "[encoded data removed]",
      "text/plain": [
       "<Figure size 432x288 with 1 Axes>"
      ]
     },
     "metadata": {
      "needs_background": "light"
     },
     "output_type": "display_data"
    }
   ],
   "source": [
    "# 학습한 결과 시각화\n",
    "\n",
    "plt.scatter(X,Y) # 산점도\n",
    "plt.plot([0, 10], [lrmodel.intercept_, 10*lrmodel.coef_[0]+lrmodel.intercept_], c = 'r')\n",
    "plt.xlim(0,10)\n",
    "plt.ylim(0,10)\n",
    "plt.title('Result of traing')\n",
    "plt.savefig('traing.png')\n",
    "plt.show()"
   ]
  },
  {
   "cell_type": "code",
   "execution_count": 13,
   "id": "451d591a",
   "metadata": {},
   "outputs": [
    {
     "data": {
      "text/plain": [
       "array([0.43078118])"
      ]
     },
     "execution_count": 13,
     "metadata": {},
     "output_type": "execute_result"
    }
   ],
   "source": [
    "lrmodel.coef_ # 계수"
   ]
  },
  {
   "cell_type": "code",
   "execution_count": 14,
   "id": "13fbf584",
   "metadata": {},
   "outputs": [
    {
     "data": {
      "text/plain": [
       "0.4307811787648283"
      ]
     },
     "execution_count": 14,
     "metadata": {},
     "output_type": "execute_result"
    }
   ],
   "source": [
    "lrmodel.coef_[0]"
   ]
  },
  {
   "cell_type": "code",
   "execution_count": 9,
   "id": "3e14d552",
   "metadata": {},
   "outputs": [
    {
     "data": {
      "text/plain": [
       "2.5061811708934925"
      ]
     },
     "execution_count": 9,
     "metadata": {},
     "output_type": "execute_result"
    }
   ],
   "source": [
    "lrmodel.intercept_  # beta 값, 상수"
   ]
  },
  {
   "cell_type": "code",
   "execution_count": 16,
   "id": "a3c3491d",
   "metadata": {},
   "outputs": [],
   "source": [
    "beta_0 = lrmodel.intercept_  # beta 값, 상수\n",
    "beta_1 = lrmodel.coef_[0]    # 계수값 (weight : 기울기, 가중치)"
   ]
  },
  {
   "cell_type": "code",
   "execution_count": 18,
   "id": "8219d229",
   "metadata": {},
   "outputs": [
    {
     "name": "stdout",
     "output_type": "stream",
     "text": [
      "2.5061811708934925\n",
      "0.4307811787648283\n"
     ]
    }
   ],
   "source": [
    "print(beta_0)\n",
    "print(beta_1)"
   ]
  },
  {
   "cell_type": "markdown",
   "id": "8d19e716",
   "metadata": {},
   "source": [
    "#### 단순선형회귀 예측"
   ]
  },
  {
   "cell_type": "code",
   "execution_count": 19,
   "id": "fb8d2f13",
   "metadata": {},
   "outputs": [],
   "source": [
    "import matplotlib.pyplot as plt\n",
    "import pandas as pd\n",
    "import numpy as np\n",
    "from sklearn.linear_model import LinearRegression"
   ]
  },
  {
   "cell_type": "code",
   "execution_count": 20,
   "id": "c79c06db",
   "metadata": {},
   "outputs": [],
   "source": [
    "X = [8.70153760, 3.90825773, 1.89362433, 3.28730045, 7.39333004, 2.98984649, 2.25757240, 9.84450732, 9.94589513, 5.48321616]\n",
    "Y = [5.64413093, 3.75876583, 3.87233310, 4.40990425, 6.43845020, 4.02827829, 2.26105955, 7.15768995, 6.29097441, 5.19692852]\n",
    "\n",
    "train_X = pd.DataFrame(X, columns=['X'])\n",
    "train_Y = pd.Series(Y)"
   ]
  },
  {
   "cell_type": "code",
   "execution_count": 21,
   "id": "0f900b7e",
   "metadata": {},
   "outputs": [
    {
     "data": {
      "text/plain": [
       "LinearRegression()"
      ]
     },
     "execution_count": 21,
     "metadata": {},
     "output_type": "execute_result"
    }
   ],
   "source": [
    "lrmodel = LinearRegression()\n",
    "lrmodel.fit(train_X, train_Y)"
   ]
  },
  {
   "cell_type": "code",
   "execution_count": 23,
   "id": "246d3b76",
   "metadata": {},
   "outputs": [
    {
     "name": "stdout",
     "output_type": "stream",
     "text": [
      "train_X 예측값 : \n",
      "[6.2546398  4.18978504 3.32191889 3.92228833 5.6910886  3.79415077\n",
      " 3.47870087 6.74700964 6.7906856  4.86824749]\n",
      "\n",
      "실제값: \n",
      "0    5.644131\n",
      "1    3.758766\n",
      "2    3.872333\n",
      "3    4.409904\n",
      "4    6.438450\n",
      "5    4.028278\n",
      "6    2.261060\n",
      "7    7.157690\n",
      "8    6.290974\n",
      "9    5.196929\n",
      "dtype: float64\n",
      "\n"
     ]
    }
   ],
   "source": [
    "# train_X의 예측\n",
    "pred_X = lrmodel.predict(train_X)\n",
    "\n",
    "print('train_X 예측값 : \\n{}\\n'.format(pred_X))\n",
    "print('실제값: \\n{}\\n'.format(train_Y))"
   ]
  },
  {
   "cell_type": "markdown",
   "id": "bfe714b2",
   "metadata": {},
   "source": [
    "#### 다중 선형회귀 - 데이터 전처리"
   ]
  },
  {
   "cell_type": "code",
   "execution_count": 3,
   "id": "7a16bd9d",
   "metadata": {},
   "outputs": [],
   "source": [
    "import numpy as np\n",
    "import pandas as pd\n",
    "from sklearn.linear_model import LinearRegression\n",
    "from sklearn.metrics import r2_score\n",
    "from sklearn.model_selection import train_test_split"
   ]
  },
  {
   "cell_type": "code",
   "execution_count": 4,
   "id": "55a46330",
   "metadata": {},
   "outputs": [
    {
     "data": {
      "text/html": [
       "<div>\n",
       "<style scoped>\n",
       "    .dataframe tbody tr th:only-of-type {\n",
       "        vertical-align: middle;\n",
       "    }\n",
       "\n",
       "    .dataframe tbody tr th {\n",
       "        vertical-align: top;\n",
       "    }\n",
       "\n",
       "    .dataframe thead th {\n",
       "        text-align: right;\n",
       "    }\n",
       "</style>\n",
       "<table border=\"1\" class=\"dataframe\">\n",
       "  <thead>\n",
       "    <tr style=\"text-align: right;\">\n",
       "      <th></th>\n",
       "      <th>Unnamed: 0</th>\n",
       "      <th>FB</th>\n",
       "      <th>TV</th>\n",
       "      <th>Newspaper</th>\n",
       "      <th>Sales</th>\n",
       "    </tr>\n",
       "  </thead>\n",
       "  <tbody>\n",
       "    <tr>\n",
       "      <th>0</th>\n",
       "      <td>1</td>\n",
       "      <td>230.1</td>\n",
       "      <td>37.8</td>\n",
       "      <td>69.2</td>\n",
       "      <td>22.1</td>\n",
       "    </tr>\n",
       "    <tr>\n",
       "      <th>1</th>\n",
       "      <td>2</td>\n",
       "      <td>44.5</td>\n",
       "      <td>39.3</td>\n",
       "      <td>45.1</td>\n",
       "      <td>10.4</td>\n",
       "    </tr>\n",
       "    <tr>\n",
       "      <th>2</th>\n",
       "      <td>3</td>\n",
       "      <td>17.2</td>\n",
       "      <td>45.9</td>\n",
       "      <td>69.3</td>\n",
       "      <td>9.3</td>\n",
       "    </tr>\n",
       "    <tr>\n",
       "      <th>3</th>\n",
       "      <td>4</td>\n",
       "      <td>151.5</td>\n",
       "      <td>41.3</td>\n",
       "      <td>58.5</td>\n",
       "      <td>18.5</td>\n",
       "    </tr>\n",
       "    <tr>\n",
       "      <th>4</th>\n",
       "      <td>5</td>\n",
       "      <td>180.8</td>\n",
       "      <td>10.8</td>\n",
       "      <td>58.4</td>\n",
       "      <td>12.9</td>\n",
       "    </tr>\n",
       "  </tbody>\n",
       "</table>\n",
       "</div>"
      ],
      "text/plain": [
       "   Unnamed: 0     FB    TV  Newspaper  Sales\n",
       "0           1  230.1  37.8       69.2   22.1\n",
       "1           2   44.5  39.3       45.1   10.4\n",
       "2           3   17.2  45.9       69.3    9.3\n",
       "3           4  151.5  41.3       58.5   18.5\n",
       "4           5  180.8  10.8       58.4   12.9"
      ]
     },
     "execution_count": 4,
     "metadata": {},
     "output_type": "execute_result"
    }
   ],
   "source": [
    "df = pd.read_csv('./data/Advertising.csv')\n",
    "df.head()"
   ]
  },
  {
   "cell_type": "code",
   "execution_count": 6,
   "id": "0bac5775",
   "metadata": {},
   "outputs": [
    {
     "data": {
      "text/html": [
       "<div>\n",
       "<style scoped>\n",
       "    .dataframe tbody tr th:only-of-type {\n",
       "        vertical-align: middle;\n",
       "    }\n",
       "\n",
       "    .dataframe tbody tr th {\n",
       "        vertical-align: top;\n",
       "    }\n",
       "\n",
       "    .dataframe thead th {\n",
       "        text-align: right;\n",
       "    }\n",
       "</style>\n",
       "<table border=\"1\" class=\"dataframe\">\n",
       "  <thead>\n",
       "    <tr style=\"text-align: right;\">\n",
       "      <th></th>\n",
       "      <th>FB</th>\n",
       "      <th>TV</th>\n",
       "      <th>Newspaper</th>\n",
       "      <th>Sales</th>\n",
       "    </tr>\n",
       "  </thead>\n",
       "  <tbody>\n",
       "    <tr>\n",
       "      <th>0</th>\n",
       "      <td>230.1</td>\n",
       "      <td>37.8</td>\n",
       "      <td>69.2</td>\n",
       "      <td>22.1</td>\n",
       "    </tr>\n",
       "    <tr>\n",
       "      <th>1</th>\n",
       "      <td>44.5</td>\n",
       "      <td>39.3</td>\n",
       "      <td>45.1</td>\n",
       "      <td>10.4</td>\n",
       "    </tr>\n",
       "    <tr>\n",
       "      <th>2</th>\n",
       "      <td>17.2</td>\n",
       "      <td>45.9</td>\n",
       "      <td>69.3</td>\n",
       "      <td>9.3</td>\n",
       "    </tr>\n",
       "    <tr>\n",
       "      <th>3</th>\n",
       "      <td>151.5</td>\n",
       "      <td>41.3</td>\n",
       "      <td>58.5</td>\n",
       "      <td>18.5</td>\n",
       "    </tr>\n",
       "    <tr>\n",
       "      <th>4</th>\n",
       "      <td>180.8</td>\n",
       "      <td>10.8</td>\n",
       "      <td>58.4</td>\n",
       "      <td>12.9</td>\n",
       "    </tr>\n",
       "  </tbody>\n",
       "</table>\n",
       "</div>"
      ],
      "text/plain": [
       "      FB    TV  Newspaper  Sales\n",
       "0  230.1  37.8       69.2   22.1\n",
       "1   44.5  39.3       45.1   10.4\n",
       "2   17.2  45.9       69.3    9.3\n",
       "3  151.5  41.3       58.5   18.5\n",
       "4  180.8  10.8       58.4   12.9"
      ]
     },
     "execution_count": 6,
     "metadata": {},
     "output_type": "execute_result"
    }
   ],
   "source": [
    "df = df.drop(columns='Unnamed: 0')\n",
    "df.head()"
   ]
  },
  {
   "cell_type": "code",
   "execution_count": 7,
   "id": "f6ff4850",
   "metadata": {},
   "outputs": [
    {
     "name": "stdout",
     "output_type": "stream",
     "text": [
      "<class 'pandas.core.frame.DataFrame'>\n",
      "RangeIndex: 200 entries, 0 to 199\n",
      "Data columns (total 4 columns):\n",
      " #   Column     Non-Null Count  Dtype  \n",
      "---  ------     --------------  -----  \n",
      " 0   FB         200 non-null    float64\n",
      " 1   TV         200 non-null    float64\n",
      " 2   Newspaper  200 non-null    float64\n",
      " 3   Sales      200 non-null    float64\n",
      "dtypes: float64(4)\n",
      "memory usage: 6.4 KB\n"
     ]
    }
   ],
   "source": [
    "df.info()"
   ]
  },
  {
   "cell_type": "code",
   "execution_count": 13,
   "id": "983c92f3",
   "metadata": {},
   "outputs": [],
   "source": [
    "\"\"\"\n",
    "1. Sales 변수는 label 데이터로 Y에 저장하고 나머진 X에 저장합니다.\n",
    "\"\"\"\n",
    "# X = df.drop(columns='Sales')\n",
    "# Y = df.Sales\n",
    "\n",
    "# 추천코드 - 속도가 빠름 ( 인덱스로 접근하는 것이 속도가 빠름 )\n",
    "X = df.iloc[:,:-1]\n",
    "Y = df.iloc[:,-1]"
   ]
  },
  {
   "cell_type": "code",
   "execution_count": 14,
   "id": "27b36143",
   "metadata": {},
   "outputs": [],
   "source": [
    "# 학습용, 테스트 셋 분리\n",
    "\n",
    "train_X, test_X, train_y, test_y = train_test_split(X, Y, test_size=0.2, random_state=42)"
   ]
  },
  {
   "cell_type": "code",
   "execution_count": 15,
   "id": "8529eee8",
   "metadata": {},
   "outputs": [
    {
     "name": "stdout",
     "output_type": "stream",
     "text": [
      "        FB    TV  Newspaper\n",
      "79   116.0   7.7       23.1\n",
      "197  177.0   9.3        6.4\n",
      "38    43.1  26.7       35.1\n",
      "24    62.3  12.6       18.3\n",
      "122  224.0   2.4       15.6\n",
      "..     ...   ...        ...\n",
      "106   25.0  11.0       29.7\n",
      "14   204.1  32.9       46.0\n",
      "92   217.7  33.5       59.0\n",
      "179  165.6  10.0       17.6\n",
      "102  280.2  10.1       21.4\n",
      "\n",
      "[160 rows x 3 columns]\n",
      "        FB    TV  Newspaper\n",
      "95   163.3  31.6       52.9\n",
      "15   195.4  47.7       52.9\n",
      "30   292.9  28.3       43.2\n",
      "158   11.7  36.9       45.2\n",
      "128  220.3  49.0        3.2\n",
      "115   75.1  35.0       52.7\n",
      "69   216.8  43.9       27.2\n",
      "170   50.0  11.6       18.4\n",
      "174  222.4   3.4       13.1\n",
      "45   175.1  22.5       31.5\n",
      "66    31.5  24.6        2.2\n",
      "182   56.2   5.7       29.7\n",
      "165  234.5   3.4       84.8\n",
      "78     5.4  29.9        9.4\n",
      "186  139.5   2.1       26.6\n",
      "177  170.2   7.8       35.2\n",
      "56     7.3  28.1       41.4\n",
      "152  197.6  23.3       14.2\n",
      "82    75.3  20.3       32.5\n",
      "68   237.4  27.5       11.0\n",
      "124  229.5  32.3       74.2\n",
      "16    67.8  36.6      114.0\n",
      "148   38.0  40.3       11.9\n",
      "93   250.9  36.5       72.3\n",
      "65    69.0   9.3        0.9\n",
      "60    53.5   2.0       21.4\n",
      "84   213.5  43.0       33.8\n",
      "67   139.3  14.5       10.2\n",
      "125   87.2  11.8       25.9\n",
      "132    8.4  27.2        2.1\n",
      "9    199.8   2.6       21.2\n",
      "18    69.2  20.5       18.3\n",
      "55   198.9  49.4       60.0\n",
      "75    16.9  43.7       89.4\n",
      "150  280.7  13.9       37.0\n",
      "104  238.2  34.3        5.3\n",
      "135   48.3  47.0        8.5\n",
      "137  273.7  28.9       59.7\n",
      "164  117.2  14.7        5.4\n",
      "76    27.5   1.6       20.7\n",
      "79     11.0\n",
      "197    12.8\n",
      "38     10.1\n",
      "24      9.7\n",
      "122    11.6\n",
      "       ... \n",
      "106     7.2\n",
      "14     19.0\n",
      "92     19.4\n",
      "179    12.6\n",
      "102    14.8\n",
      "Name: Sales, Length: 160, dtype: float64\n",
      "95     16.9\n",
      "15     22.4\n",
      "30     21.4\n",
      "158     7.3\n",
      "128    24.7\n",
      "115    12.6\n",
      "69     22.3\n",
      "170     8.4\n",
      "174    11.5\n",
      "45     14.9\n",
      "66      9.5\n",
      "182     8.7\n",
      "165    11.9\n",
      "78      5.3\n",
      "186    10.3\n",
      "177    11.7\n",
      "56      5.5\n",
      "152    16.6\n",
      "82     11.3\n",
      "68     18.9\n",
      "124    19.7\n",
      "16     12.5\n",
      "148    10.9\n",
      "93     22.2\n",
      "65      9.3\n",
      "60      8.1\n",
      "84     21.7\n",
      "67     13.4\n",
      "125    10.6\n",
      "132     5.7\n",
      "9      10.6\n",
      "18     11.3\n",
      "55     23.7\n",
      "75      8.7\n",
      "150    16.1\n",
      "104    20.7\n",
      "135    11.6\n",
      "137    20.8\n",
      "164    11.9\n",
      "76      6.9\n",
      "Name: Sales, dtype: float64\n"
     ]
    }
   ],
   "source": [
    "print(train_X)\n",
    "print(test_X)\n",
    "print(train_y)\n",
    "print(test_y)"
   ]
  },
  {
   "cell_type": "code",
   "execution_count": 16,
   "id": "13015662",
   "metadata": {},
   "outputs": [
    {
     "data": {
      "text/plain": [
       "LinearRegression()"
      ]
     },
     "execution_count": 16,
     "metadata": {},
     "output_type": "execute_result"
    }
   ],
   "source": [
    "# 학습\n",
    "\n",
    "lrmodel = LinearRegression()\n",
    "lrmodel.fit(train_X, train_y)"
   ]
  },
  {
   "cell_type": "code",
   "execution_count": 17,
   "id": "b907e7db",
   "metadata": {},
   "outputs": [
    {
     "name": "stdout",
     "output_type": "stream",
     "text": [
      "2.9790673381226256\n",
      "0.04472951746871633\n",
      "0.18919505423437669\n",
      "0.0027611143413671657\n"
     ]
    }
   ],
   "source": [
    "# 학습된 파라미터 값을 불러옴\n",
    "\n",
    "beta_0 = lrmodel.intercept_  # y 절편 (기본 판매량)\n",
    "beta_1 = lrmodel.coef_[0]    # 1번째 변수에 대한 계수(cofficient) (FB: face book)\n",
    "beta_2 = lrmodel.coef_[1]    # 2번째 변수에 대한 계수(cofficient) (TV)\n",
    "beta_3 = lrmodel.coef_[2]    # 3번째 변수에 대한 계수(cofficient) (신문)\n",
    "\n",
    "print(beta_0)\n",
    "print(beta_1)\n",
    "print(beta_2)\n",
    "print(beta_3)"
   ]
  },
  {
   "cell_type": "markdown",
   "id": "17e9910d",
   "metadata": {},
   "source": [
    "#### 다중 회귀 분석 - 예측"
   ]
  },
  {
   "cell_type": "code",
   "execution_count": 18,
   "id": "cb38845b",
   "metadata": {},
   "outputs": [
    {
     "name": "stdout",
     "output_type": "stream",
     "text": [
      "        FB    TV  Newspaper\n",
      "95   163.3  31.6       52.9\n",
      "15   195.4  47.7       52.9\n",
      "30   292.9  28.3       43.2\n",
      "158   11.7  36.9       45.2\n",
      "128  220.3  49.0        3.2\n",
      "115   75.1  35.0       52.7\n",
      "69   216.8  43.9       27.2\n",
      "170   50.0  11.6       18.4\n",
      "174  222.4   3.4       13.1\n",
      "45   175.1  22.5       31.5\n",
      "66    31.5  24.6        2.2\n",
      "182   56.2   5.7       29.7\n",
      "165  234.5   3.4       84.8\n",
      "78     5.4  29.9        9.4\n",
      "186  139.5   2.1       26.6\n",
      "177  170.2   7.8       35.2\n",
      "56     7.3  28.1       41.4\n",
      "152  197.6  23.3       14.2\n",
      "82    75.3  20.3       32.5\n",
      "68   237.4  27.5       11.0\n",
      "124  229.5  32.3       74.2\n",
      "16    67.8  36.6      114.0\n",
      "148   38.0  40.3       11.9\n",
      "93   250.9  36.5       72.3\n",
      "65    69.0   9.3        0.9\n",
      "60    53.5   2.0       21.4\n",
      "84   213.5  43.0       33.8\n",
      "67   139.3  14.5       10.2\n",
      "125   87.2  11.8       25.9\n",
      "132    8.4  27.2        2.1\n",
      "9    199.8   2.6       21.2\n",
      "18    69.2  20.5       18.3\n",
      "55   198.9  49.4       60.0\n",
      "75    16.9  43.7       89.4\n",
      "150  280.7  13.9       37.0\n",
      "104  238.2  34.3        5.3\n",
      "135   48.3  47.0        8.5\n",
      "137  273.7  28.9       59.7\n",
      "164  117.2  14.7        5.4\n",
      "76    27.5   1.6       20.7\n"
     ]
    }
   ],
   "source": [
    "print(test_X)"
   ]
  },
  {
   "cell_type": "code",
   "execution_count": 19,
   "id": "a9430fec",
   "metadata": {},
   "outputs": [
    {
     "data": {
      "text/plain": [
       "array([16.4080242 , 20.88988209, 21.55384318, 10.60850256, 22.11237326,\n",
       "       13.10559172, 21.05719192,  7.46101034, 13.60634581, 15.15506967,\n",
       "        9.04831992,  6.65328312, 14.34554487,  8.90349333,  9.68959028,\n",
       "       12.16494386,  8.73628397, 16.26507258, 10.27759582, 18.83109103,\n",
       "       19.56036653, 13.25103464, 12.33620695, 21.30695132,  7.82740305,\n",
       "        5.80957448, 20.75753231, 11.98138077,  9.18349576,  8.5066991 ,\n",
       "       12.46646769, 10.00337695, 21.3876709 , 12.24966368, 18.26661538,\n",
       "       20.13766267, 14.05514005, 20.85411186, 11.0174441 ,  4.56899622])"
      ]
     },
     "execution_count": 19,
     "metadata": {},
     "output_type": "execute_result"
    }
   ],
   "source": [
    "lrmodel.predict(test_X)"
   ]
  },
  {
   "cell_type": "code",
   "execution_count": 21,
   "id": "d3240986",
   "metadata": {},
   "outputs": [
    {
     "data": {
      "text/html": [
       "<div>\n",
       "<style scoped>\n",
       "    .dataframe tbody tr th:only-of-type {\n",
       "        vertical-align: middle;\n",
       "    }\n",
       "\n",
       "    .dataframe tbody tr th {\n",
       "        vertical-align: top;\n",
       "    }\n",
       "\n",
       "    .dataframe thead th {\n",
       "        text-align: right;\n",
       "    }\n",
       "</style>\n",
       "<table border=\"1\" class=\"dataframe\">\n",
       "  <thead>\n",
       "    <tr style=\"text-align: right;\">\n",
       "      <th></th>\n",
       "      <th>FB</th>\n",
       "      <th>TV</th>\n",
       "      <th>Newspaper</th>\n",
       "    </tr>\n",
       "  </thead>\n",
       "  <tbody>\n",
       "    <tr>\n",
       "      <th>0</th>\n",
       "      <td>0</td>\n",
       "      <td>0</td>\n",
       "      <td>0</td>\n",
       "    </tr>\n",
       "    <tr>\n",
       "      <th>1</th>\n",
       "      <td>1</td>\n",
       "      <td>0</td>\n",
       "      <td>0</td>\n",
       "    </tr>\n",
       "    <tr>\n",
       "      <th>2</th>\n",
       "      <td>0</td>\n",
       "      <td>1</td>\n",
       "      <td>0</td>\n",
       "    </tr>\n",
       "    <tr>\n",
       "      <th>3</th>\n",
       "      <td>0</td>\n",
       "      <td>0</td>\n",
       "      <td>1</td>\n",
       "    </tr>\n",
       "    <tr>\n",
       "      <th>4</th>\n",
       "      <td>1</td>\n",
       "      <td>1</td>\n",
       "      <td>1</td>\n",
       "    </tr>\n",
       "  </tbody>\n",
       "</table>\n",
       "</div>"
      ],
      "text/plain": [
       "   FB  TV  Newspaper\n",
       "0   0   0          0\n",
       "1   1   0          0\n",
       "2   0   1          0\n",
       "3   0   0          1\n",
       "4   1   1          1"
      ]
     },
     "execution_count": 21,
     "metadata": {},
     "output_type": "execute_result"
    }
   ],
   "source": [
    "df1 = pd.DataFrame(np.array([[0,0,0],[1,0,0],[0,1,0],[0,0,1],[1,1,1]]), columns=['FB', 'TV', 'Newspaper'])\n",
    "df1"
   ]
  },
  {
   "cell_type": "code",
   "execution_count": 22,
   "id": "2c3de534",
   "metadata": {},
   "outputs": [
    {
     "data": {
      "text/plain": [
       "array([2.97906734, 3.02379686, 3.16826239, 2.98182845, 3.21575302])"
      ]
     },
     "execution_count": 22,
     "metadata": {},
     "output_type": "execute_result"
    }
   ],
   "source": [
    "lrmodel.predict(df1)"
   ]
  },
  {
   "cell_type": "markdown",
   "id": "dc08f191",
   "metadata": {},
   "source": [
    "#### [회귀 알고리즘 평가 지표 - mse, mae](https://mizykk.tistory.com/102)"
   ]
  },
  {
   "cell_type": "code",
   "execution_count": 24,
   "id": "b14abe75",
   "metadata": {},
   "outputs": [],
   "source": [
    "import numpy as np\n",
    "import pandas as pd\n",
    "from sklearn.linear_model import LinearRegression\n",
    "from sklearn.metrics import r2_score\n",
    "from sklearn.model_selection import train_test_split\n",
    "from sklearn.metrics import mean_absolute_error\n",
    "from sklearn.metrics import mean_squared_error"
   ]
  },
  {
   "cell_type": "code",
   "execution_count": 28,
   "id": "1ce27b4e",
   "metadata": {},
   "outputs": [
    {
     "name": "stdout",
     "output_type": "stream",
     "text": [
      "MSE_train : 2.705129\n",
      "MAE_train : 1.198468\n"
     ]
    }
   ],
   "source": [
    "# train_X, mse, mae 계산\n",
    "pred_train = lrmodel.predict(train_X)\n",
    "pred_test = lrmodel.predict(test_X)\n",
    "\n",
    "MSE_train = mean_squared_error(train_y, pred_train)\n",
    "MAE_train = mean_absolute_error(train_y, pred_train)\n",
    "\n",
    "print('MSE_train : %f' % MSE_train)\n",
    "print('MAE_train : %f' % MAE_train)\n"
   ]
  },
  {
   "cell_type": "code",
   "execution_count": 30,
   "id": "12278fc8",
   "metadata": {},
   "outputs": [
    {
     "name": "stdout",
     "output_type": "stream",
     "text": [
      "MSE_test : 3.174097\n",
      "MAE_test : 1.460757\n"
     ]
    }
   ],
   "source": [
    "MSE_test = mean_squared_error(test_y, pred_test)\n",
    "MAE_test = mean_absolute_error(test_y, pred_test)\n",
    "\n",
    "print('MSE_test : %f' % MSE_test)\n",
    "print('MAE_test : %f' % MAE_test)"
   ]
  },
  {
   "cell_type": "code",
   "execution_count": 31,
   "id": "39d903e7",
   "metadata": {},
   "outputs": [
    {
     "name": "stdout",
     "output_type": "stream",
     "text": [
      "R2_train : 0.895701\n"
     ]
    }
   ],
   "source": [
    "# train_X 결정계수(R2)\n",
    "\n",
    "R2_train = r2_score(train_y, pred_train)\n",
    "print('R2_train : %f'%R2_train)"
   ]
  },
  {
   "cell_type": "code",
   "execution_count": 32,
   "id": "884a1865",
   "metadata": {},
   "outputs": [
    {
     "data": {
      "text/plain": [
       "array([16.4080242 , 20.88988209, 21.55384318, 10.60850256, 22.11237326,\n",
       "       13.10559172, 21.05719192,  7.46101034, 13.60634581, 15.15506967,\n",
       "        9.04831992,  6.65328312, 14.34554487,  8.90349333,  9.68959028,\n",
       "       12.16494386,  8.73628397, 16.26507258, 10.27759582, 18.83109103,\n",
       "       19.56036653, 13.25103464, 12.33620695, 21.30695132,  7.82740305,\n",
       "        5.80957448, 20.75753231, 11.98138077,  9.18349576,  8.5066991 ,\n",
       "       12.46646769, 10.00337695, 21.3876709 , 12.24966368, 18.26661538,\n",
       "       20.13766267, 14.05514005, 20.85411186, 11.0174441 ,  4.56899622])"
      ]
     },
     "execution_count": 32,
     "metadata": {},
     "output_type": "execute_result"
    }
   ],
   "source": [
    "# test X 예측값 계산\n",
    "\n",
    "lrmodel.predict(test_X)"
   ]
  },
  {
   "cell_type": "code",
   "execution_count": 33,
   "id": "b202b6af",
   "metadata": {},
   "outputs": [],
   "source": [
    "pred_test = lrmodel.predict(test_X)"
   ]
  },
  {
   "cell_type": "code",
   "execution_count": 34,
   "id": "95fe74e8",
   "metadata": {},
   "outputs": [
    {
     "name": "stdout",
     "output_type": "stream",
     "text": [
      "R2_test: 0.899438\n"
     ]
    }
   ],
   "source": [
    "R2_test = r2_score(test_y, pred_test)\n",
    "print('R2_test: %f'%R2_test)"
   ]
  },
  {
   "cell_type": "markdown",
   "id": "4d748fe8",
   "metadata": {},
   "source": [
    "train보다 test의 결과가 더 좋음</br>\n",
    "보통은 train의 결과가 더 좋음"
   ]
  }
 ],
 "metadata": {
  "kernelspec": {
   "display_name": "Python 3 (ipykernel)",
   "language": "python",
   "name": "python3"
  },
  "language_info": {
   "codemirror_mode": {
    "name": "ipython",
    "version": 3
   },
   "file_extension": ".py",
   "mimetype": "text/x-python",
   "name": "python",
   "nbconvert_exporter": "python",
   "pygments_lexer": "ipython3",
   "version": "3.9.7"
  }
 },
 "nbformat": 4,
 "nbformat_minor": 5
}
