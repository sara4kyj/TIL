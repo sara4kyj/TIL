{
 "cells": [
  {
   "cell_type": "code",
   "execution_count": 1,
   "id": "29e9dd11",
   "metadata": {},
   "outputs": [],
   "source": [
    "import pandas as pd\n",
    "import numpy as np\n",
    "%matplotlib inline\n",
    "import matplotlib.pyplot as plt \n",
    "from sklearn import cluster"
   ]
  },
  {
   "cell_type": "code",
   "execution_count": 9,
   "id": "0a7618b8",
   "metadata": {
    "scrolled": true
   },
   "outputs": [
    {
     "data": {
      "text/html": [
       "<div>\n",
       "<style scoped>\n",
       "    .dataframe tbody tr th:only-of-type {\n",
       "        vertical-align: middle;\n",
       "    }\n",
       "\n",
       "    .dataframe tbody tr th {\n",
       "        vertical-align: top;\n",
       "    }\n",
       "\n",
       "    .dataframe thead th {\n",
       "        text-align: right;\n",
       "    }\n",
       "</style>\n",
       "<table border=\"1\" class=\"dataframe\">\n",
       "  <thead>\n",
       "    <tr style=\"text-align: right;\">\n",
       "      <th></th>\n",
       "      <th>학생번호</th>\n",
       "      <th>국어점수평균</th>\n",
       "      <th>수학점수평균</th>\n",
       "      <th>영어점수평균</th>\n",
       "      <th>과학점수평균</th>\n",
       "      <th>학업집중도</th>\n",
       "    </tr>\n",
       "  </thead>\n",
       "  <tbody>\n",
       "    <tr>\n",
       "      <th>0</th>\n",
       "      <td>1</td>\n",
       "      <td>90</td>\n",
       "      <td>75</td>\n",
       "      <td>85</td>\n",
       "      <td>60</td>\n",
       "      <td>70</td>\n",
       "    </tr>\n",
       "    <tr>\n",
       "      <th>1</th>\n",
       "      <td>2</td>\n",
       "      <td>65</td>\n",
       "      <td>90</td>\n",
       "      <td>60</td>\n",
       "      <td>88</td>\n",
       "      <td>80</td>\n",
       "    </tr>\n",
       "    <tr>\n",
       "      <th>2</th>\n",
       "      <td>3</td>\n",
       "      <td>45</td>\n",
       "      <td>53</td>\n",
       "      <td>48</td>\n",
       "      <td>50</td>\n",
       "      <td>60</td>\n",
       "    </tr>\n",
       "    <tr>\n",
       "      <th>3</th>\n",
       "      <td>4</td>\n",
       "      <td>77</td>\n",
       "      <td>96</td>\n",
       "      <td>62</td>\n",
       "      <td>92</td>\n",
       "      <td>70</td>\n",
       "    </tr>\n",
       "    <tr>\n",
       "      <th>4</th>\n",
       "      <td>5</td>\n",
       "      <td>88</td>\n",
       "      <td>89</td>\n",
       "      <td>80</td>\n",
       "      <td>82</td>\n",
       "      <td>90</td>\n",
       "    </tr>\n",
       "  </tbody>\n",
       "</table>\n",
       "</div>"
      ],
      "text/plain": [
       "   학생번호  국어점수평균  수학점수평균  영어점수평균  과학점수평균  학업집중도\n",
       "0     1      90      75      85      60     70\n",
       "1     2      65      90      60      88     80\n",
       "2     3      45      53      48      50     60\n",
       "3     4      77      96      62      92     70\n",
       "4     5      88      89      80      82     90"
      ]
     },
     "execution_count": 9,
     "metadata": {},
     "output_type": "execute_result"
    }
   ],
   "source": [
    "academy = pd.read_csv('./data/academy.csv', encoding='cp949')\n",
    "academy.head()"
   ]
  },
  {
   "cell_type": "code",
   "execution_count": 10,
   "id": "4fd25699",
   "metadata": {},
   "outputs": [
    {
     "data": {
      "text/html": [
       "<div>\n",
       "<style scoped>\n",
       "    .dataframe tbody tr th:only-of-type {\n",
       "        vertical-align: middle;\n",
       "    }\n",
       "\n",
       "    .dataframe tbody tr th {\n",
       "        vertical-align: top;\n",
       "    }\n",
       "\n",
       "    .dataframe thead th {\n",
       "        text-align: right;\n",
       "    }\n",
       "</style>\n",
       "<table border=\"1\" class=\"dataframe\">\n",
       "  <thead>\n",
       "    <tr style=\"text-align: right;\">\n",
       "      <th></th>\n",
       "      <th>kor</th>\n",
       "      <th>math</th>\n",
       "      <th>eng</th>\n",
       "      <th>science</th>\n",
       "      <th>intention</th>\n",
       "    </tr>\n",
       "  </thead>\n",
       "  <tbody>\n",
       "    <tr>\n",
       "      <th>0</th>\n",
       "      <td>90</td>\n",
       "      <td>75</td>\n",
       "      <td>85</td>\n",
       "      <td>60</td>\n",
       "      <td>70</td>\n",
       "    </tr>\n",
       "    <tr>\n",
       "      <th>1</th>\n",
       "      <td>65</td>\n",
       "      <td>90</td>\n",
       "      <td>60</td>\n",
       "      <td>88</td>\n",
       "      <td>80</td>\n",
       "    </tr>\n",
       "    <tr>\n",
       "      <th>2</th>\n",
       "      <td>45</td>\n",
       "      <td>53</td>\n",
       "      <td>48</td>\n",
       "      <td>50</td>\n",
       "      <td>60</td>\n",
       "    </tr>\n",
       "    <tr>\n",
       "      <th>3</th>\n",
       "      <td>77</td>\n",
       "      <td>96</td>\n",
       "      <td>62</td>\n",
       "      <td>92</td>\n",
       "      <td>70</td>\n",
       "    </tr>\n",
       "    <tr>\n",
       "      <th>4</th>\n",
       "      <td>88</td>\n",
       "      <td>89</td>\n",
       "      <td>80</td>\n",
       "      <td>82</td>\n",
       "      <td>90</td>\n",
       "    </tr>\n",
       "  </tbody>\n",
       "</table>\n",
       "</div>"
      ],
      "text/plain": [
       "   kor  math  eng  science  intention\n",
       "0   90    75   85       60         70\n",
       "1   65    90   60       88         80\n",
       "2   45    53   48       50         60\n",
       "3   77    96   62       92         70\n",
       "4   88    89   80       82         90"
      ]
     },
     "execution_count": 10,
     "metadata": {},
     "output_type": "execute_result"
    }
   ],
   "source": [
    "academy.columns = ['no','kor','math','eng','science','intention']\n",
    "academy = academy.drop('no', axis=1)\n",
    "academy.head()"
   ]
  },
  {
   "cell_type": "code",
   "execution_count": 12,
   "id": "22e87cd4",
   "metadata": {},
   "outputs": [
    {
     "name": "stdout",
     "output_type": "stream",
     "text": [
      "<class 'pandas.core.frame.DataFrame'>\n",
      "(52, 5)\n"
     ]
    }
   ],
   "source": [
    "print(type(academy), academy.shape, sep='\\n')"
   ]
  },
  {
   "cell_type": "code",
   "execution_count": 13,
   "id": "5fdd0001",
   "metadata": {
    "scrolled": true
   },
   "outputs": [
    {
     "data": {
      "text/plain": [
       "array([[ 90,  75,  85,  60,  70],\n",
       "       [ 65,  90,  60,  88,  80],\n",
       "       [ 45,  53,  48,  50,  60],\n",
       "       [ 77,  96,  62,  92,  70],\n",
       "       [ 88,  89,  80,  82,  90],\n",
       "       [ 90,  92,  90,  96, 100],\n",
       "       [ 65,  70,  66,  76,  70],\n",
       "       [ 60,  90,  70,  98,  80],\n",
       "       [ 46,  56,  43,  55,  60],\n",
       "       [ 88,  67,  90,  70,  70],\n",
       "       [ 70,  93,  77,  89,  60],\n",
       "       [ 99,  80,  95,  70,  80],\n",
       "       [ 97,  67,  80,  60,  80],\n",
       "       [ 50,  40,  30,  54,  50],\n",
       "       [ 90,  77,  92,  60,  70],\n",
       "       [ 55,  88,  67,  92,  60],\n",
       "       [ 77,  90,  70,  98,  70],\n",
       "       [ 90,  89,  80,  92,  90],\n",
       "       [ 76,  90,  80,  92,  70],\n",
       "       [ 70,  92,  80,  95,  70],\n",
       "       [ 76,  75,  70,  82,  80],\n",
       "       [ 77,  92,  68,  89,  80],\n",
       "       [ 60,  50,  70,  40,  60],\n",
       "       [ 54,  70,  56,  72,  60],\n",
       "       [ 72,  88,  67,  95,  80],\n",
       "       [ 58,  76,  59,  80,  70],\n",
       "       [ 88,  60,  76,  58,  60],\n",
       "       [ 84,  88,  90,  92,  90],\n",
       "       [ 45,  76,  56,  78,  70],\n",
       "       [ 76,  54,  70,  58,  70],\n",
       "       [ 66,  90,  70,  88,  70],\n",
       "       [ 88,  80,  85,  88,  90],\n",
       "       [ 71,  48,  69,  50,  80],\n",
       "       [ 90,  77,  82,  65,  80],\n",
       "       [ 34,  32,  45,  50,  50],\n",
       "       [ 56,  78,  67,  89,  60],\n",
       "       [ 70,  95,  72,  80,  70],\n",
       "       [ 93,  90,  89,  91,  90],\n",
       "       [ 92,  97,  90,  89,  80],\n",
       "       [ 56,  63,  70,  71,  70],\n",
       "       [ 88,  57,  78,  60,  80],\n",
       "       [ 90,  92,  88,  94,  90],\n",
       "       [ 91,  67,  89,  70,  60],\n",
       "       [ 58,  77,  62,  88,  70],\n",
       "       [ 54,  50,  45,  33,  60],\n",
       "       [ 78,  91,  77,  90,  80],\n",
       "       [ 92,  70,  88,  60,  80],\n",
       "       [ 57,  76,  58,  71,  60],\n",
       "       [ 97,  90,  96,  90,  90],\n",
       "       [ 69,  55,  70,  54,  60],\n",
       "       [ 45,  56,  54,  58,  80],\n",
       "       [ 65,  90,  70,  92,  70]], dtype=int64)"
      ]
     },
     "execution_count": 13,
     "metadata": {},
     "output_type": "execute_result"
    }
   ],
   "source": [
    "np.array(academy)"
   ]
  },
  {
   "cell_type": "code",
   "execution_count": 14,
   "id": "93a98be8",
   "metadata": {},
   "outputs": [],
   "source": [
    "# 자료형 변환\n",
    "# 데이터프레임 >> np array로\n",
    "academy_arr = np.array(academy)"
   ]
  },
  {
   "cell_type": "code",
   "execution_count": 15,
   "id": "186e71ca",
   "metadata": {
    "scrolled": true
   },
   "outputs": [
    {
     "data": {
      "text/plain": [
       "(Index(['kor', 'math', 'eng', 'science', 'intention'], dtype='object'),\n",
       " (52, 5),\n",
       " array([[ 90,  75,  85,  60,  70],\n",
       "        [ 65,  90,  60,  88,  80],\n",
       "        [ 45,  53,  48,  50,  60],\n",
       "        [ 77,  96,  62,  92,  70],\n",
       "        [ 88,  89,  80,  82,  90],\n",
       "        [ 90,  92,  90,  96, 100],\n",
       "        [ 65,  70,  66,  76,  70],\n",
       "        [ 60,  90,  70,  98,  80],\n",
       "        [ 46,  56,  43,  55,  60],\n",
       "        [ 88,  67,  90,  70,  70],\n",
       "        [ 70,  93,  77,  89,  60],\n",
       "        [ 99,  80,  95,  70,  80],\n",
       "        [ 97,  67,  80,  60,  80],\n",
       "        [ 50,  40,  30,  54,  50],\n",
       "        [ 90,  77,  92,  60,  70],\n",
       "        [ 55,  88,  67,  92,  60],\n",
       "        [ 77,  90,  70,  98,  70],\n",
       "        [ 90,  89,  80,  92,  90],\n",
       "        [ 76,  90,  80,  92,  70],\n",
       "        [ 70,  92,  80,  95,  70],\n",
       "        [ 76,  75,  70,  82,  80],\n",
       "        [ 77,  92,  68,  89,  80],\n",
       "        [ 60,  50,  70,  40,  60],\n",
       "        [ 54,  70,  56,  72,  60],\n",
       "        [ 72,  88,  67,  95,  80],\n",
       "        [ 58,  76,  59,  80,  70],\n",
       "        [ 88,  60,  76,  58,  60],\n",
       "        [ 84,  88,  90,  92,  90],\n",
       "        [ 45,  76,  56,  78,  70],\n",
       "        [ 76,  54,  70,  58,  70],\n",
       "        [ 66,  90,  70,  88,  70],\n",
       "        [ 88,  80,  85,  88,  90],\n",
       "        [ 71,  48,  69,  50,  80],\n",
       "        [ 90,  77,  82,  65,  80],\n",
       "        [ 34,  32,  45,  50,  50],\n",
       "        [ 56,  78,  67,  89,  60],\n",
       "        [ 70,  95,  72,  80,  70],\n",
       "        [ 93,  90,  89,  91,  90],\n",
       "        [ 92,  97,  90,  89,  80],\n",
       "        [ 56,  63,  70,  71,  70],\n",
       "        [ 88,  57,  78,  60,  80],\n",
       "        [ 90,  92,  88,  94,  90],\n",
       "        [ 91,  67,  89,  70,  60],\n",
       "        [ 58,  77,  62,  88,  70],\n",
       "        [ 54,  50,  45,  33,  60],\n",
       "        [ 78,  91,  77,  90,  80],\n",
       "        [ 92,  70,  88,  60,  80],\n",
       "        [ 57,  76,  58,  71,  60],\n",
       "        [ 97,  90,  96,  90,  90],\n",
       "        [ 69,  55,  70,  54,  60],\n",
       "        [ 45,  56,  54,  58,  80],\n",
       "        [ 65,  90,  70,  92,  70]], dtype=int64))"
      ]
     },
     "execution_count": 15,
     "metadata": {},
     "output_type": "execute_result"
    }
   ],
   "source": [
    "academy.columns, academy_arr.shape, academy_arr"
   ]
  },
  {
   "cell_type": "code",
   "execution_count": 16,
   "id": "c0b5fb8d",
   "metadata": {},
   "outputs": [
    {
     "data": {
      "text/plain": [
       "KMeans(n_clusters=5)"
      ]
     },
     "execution_count": 16,
     "metadata": {},
     "output_type": "execute_result"
    }
   ],
   "source": [
    "# 모델학습\n",
    "model = cluster.KMeans(n_clusters=5)  # 5개 군집으로 분류\n",
    "model.fit(academy_arr)"
   ]
  },
  {
   "cell_type": "code",
   "execution_count": 17,
   "id": "b9c89066",
   "metadata": {},
   "outputs": [
    {
     "data": {
      "text/plain": [
       "array([1, 3, 4, 3, 0, 0, 2, 3, 4, 1, 3, 0, 1, 4, 1, 2, 3, 0, 3, 3, 3, 3,\n",
       "       4, 2, 3, 2, 1, 0, 2, 1, 3, 0, 1, 1, 4, 2, 3, 0, 0, 2, 1, 0, 1, 2,\n",
       "       4, 3, 1, 2, 0, 1, 4, 3])"
      ]
     },
     "execution_count": 17,
     "metadata": {},
     "output_type": "execute_result"
    }
   ],
   "source": [
    "model.labels_"
   ]
  },
  {
   "cell_type": "code",
   "execution_count": 18,
   "id": "4338f2b7",
   "metadata": {},
   "outputs": [],
   "source": [
    "labels = model.labels_"
   ]
  },
  {
   "cell_type": "code",
   "execution_count": 22,
   "id": "29b9323c",
   "metadata": {},
   "outputs": [
    {
     "name": "stdout",
     "output_type": "stream",
     "text": [
      "[[ 88  89  80  82  90]\n",
      " [ 90  92  90  96 100]\n",
      " [ 99  80  95  70  80]\n",
      " [ 90  89  80  92  90]\n",
      " [ 84  88  90  92  90]\n",
      " [ 88  80  85  88  90]\n",
      " [ 93  90  89  91  90]\n",
      " [ 92  97  90  89  80]\n",
      " [ 90  92  88  94  90]\n",
      " [ 97  90  96  90  90]]\n",
      "\n",
      "[80 90 95 80 90 85 89 90 88 96]\n",
      "\n",
      "[82 96 70 92 92 88 91 89 94 90]\n"
     ]
    }
   ],
   "source": [
    "ldata = academy_arr[labels==0]\n",
    "print(ldata, ldata[:,2], ldata[:, 3], sep='\\n\\n')"
   ]
  },
  {
   "cell_type": "code",
   "execution_count": 24,
   "id": "16a6a17b",
   "metadata": {},
   "outputs": [
    {
     "data": {
      "image/png": "[encoded data removed]",
      "text/plain": [
       "<Figure size 432x288 with 1 Axes>"
      ]
     },
     "metadata": {
      "needs_background": "light"
     },
     "output_type": "display_data"
    }
   ],
   "source": [
    "# 시각화 - 그래프 그리기\n",
    "\n",
    "ldata = academy_arr[labels==0]\n",
    "plt.scatter(ldata[:,2], ldata[:,3], c='r', alpha=0.5, marker='o')\n",
    "\n",
    "ldata = academy_arr[labels==1]\n",
    "plt.scatter(ldata[:,2], ldata[:,3], c='b', alpha=0.5, marker='*')\n",
    "\n",
    "ldata = academy_arr[labels==2]\n",
    "plt.scatter(ldata[:,2], ldata[:,3], c='g', alpha=0.5, marker='^')\n",
    "\n",
    "ldata = academy_arr[labels==3]\n",
    "plt.scatter(ldata[:,2], ldata[:,3], c='y', alpha=0.5, marker='+')\n",
    "\n",
    "ldata = academy_arr[labels==4]\n",
    "plt.scatter(ldata[:,2], ldata[:,3], c='black', alpha=0.5, marker='>')\n",
    "\n",
    "# 축라벨 설정\n",
    "plt.xlabel(academy.columns[2], fontsize='large')\n",
    "plt.ylabel(academy.columns[3], fontsize='large')\n",
    "plt.show()"
   ]
  },
  {
   "cell_type": "code",
   "execution_count": 25,
   "id": "ee020d4b",
   "metadata": {},
   "outputs": [
    {
     "data": {
      "image/png": "[encoded data removed]",
      "text/plain": [
       "<Figure size 1800x720 with 1 Axes>"
      ]
     },
     "metadata": {
      "needs_background": "light"
     },
     "output_type": "display_data"
    }
   ],
   "source": [
    "# 덴드로그램\n",
    "\n",
    "from scipy.cluster.hierarchy import dendrogram, linkage\n",
    "\n",
    "z = linkage(academy_arr, 'ward')\n",
    "\n",
    "plt.figure(figsize=(25,10))\n",
    "plt.title('Hierachical Clustering Dendrogram')\n",
    "# plt.xlabel('iris')\n",
    "# plt.ylabel('distance')\n",
    "\n",
    "dendrogram(z, \n",
    "           leaf_rotation=90,  # rotation the x axis labels(각도 조절)\n",
    "           leaf_font_size=8)\n",
    "plt.show()"
   ]
  },
  {
   "cell_type": "code",
   "execution_count": 26,
   "id": "99c0f7d4",
   "metadata": {
    "scrolled": true
   },
   "outputs": [
    {
     "name": "stdout",
     "output_type": "stream",
     "text": [
      "Initialization complete\n",
      "Iteration 0, inertia 18150.0\n",
      "Iteration 1, inertia 13028.310954430668\n",
      "Iteration 2, inertia 12691.769841269845\n",
      "Converged at iteration 2: strict convergence.\n",
      "Initialization complete\n",
      "Iteration 0, inertia 18511.0\n",
      "Iteration 1, inertia 12670.814178240744\n",
      "Iteration 2, inertia 12251.132352941177\n",
      "Converged at iteration 2: strict convergence.\n",
      "Initialization complete\n",
      "Iteration 0, inertia 22663.0\n",
      "Iteration 1, inertia 13547.027851239669\n",
      "Iteration 2, inertia 12023.839194309967\n",
      "Iteration 3, inertia 11789.445959595963\n",
      "Converged at iteration 3: strict convergence.\n",
      "Initialization complete\n",
      "Iteration 0, inertia 21895.0\n",
      "Iteration 1, inertia 12229.306291804545\n",
      "Iteration 2, inertia 11748.682539682542\n",
      "Converged at iteration 2: strict convergence.\n",
      "Initialization complete\n",
      "Iteration 0, inertia 20362.0\n",
      "Iteration 1, inertia 13004.241891643711\n",
      "Iteration 2, inertia 12421.344741202265\n",
      "Iteration 3, inertia 12220.85854341737\n",
      "Converged at iteration 3: strict convergence.\n",
      "Initialization complete\n",
      "Iteration 0, inertia 19644.0\n",
      "Iteration 1, inertia 13051.913014098915\n",
      "Iteration 2, inertia 12892.271583564177\n",
      "Iteration 3, inertia 12691.769841269845\n",
      "Converged at iteration 3: strict convergence.\n",
      "Initialization complete\n",
      "Iteration 0, inertia 21708.0\n",
      "Iteration 1, inertia 15311.530735930733\n",
      "Converged at iteration 1: strict convergence.\n",
      "Initialization complete\n",
      "Iteration 0, inertia 24589.0\n",
      "Iteration 1, inertia 12683.5001010101\n",
      "Iteration 2, inertia 11772.088023088027\n",
      "Converged at iteration 2: strict convergence.\n",
      "Initialization complete\n",
      "Iteration 0, inertia 20808.0\n",
      "Iteration 1, inertia 16358.66600091828\n",
      "Iteration 2, inertia 16097.609104422152\n",
      "Converged at iteration 2: strict convergence.\n",
      "Initialization complete\n",
      "Iteration 0, inertia 21614.0\n",
      "Iteration 1, inertia 14728.141514235323\n",
      "Iteration 2, inertia 14343.369607843139\n",
      "Converged at iteration 2: strict convergence.\n"
     ]
    },
    {
     "data": {
      "text/plain": [
       "KMeans(n_clusters=5, verbose=1)"
      ]
     },
     "execution_count": 26,
     "metadata": {},
     "output_type": "execute_result"
    }
   ],
   "source": [
    "# 모델학습\n",
    "model = cluster.KMeans(n_clusters=5, verbose=1)  # 5개 군집으로 분류\n",
    "model.fit(academy_arr)"
   ]
  }
 ],
 "metadata": {
  "kernelspec": {
   "display_name": "Python 3 (ipykernel)",
   "language": "python",
   "name": "python3"
  },
  "language_info": {
   "codemirror_mode": {
    "name": "ipython",
    "version": 3
   },
   "file_extension": ".py",
   "mimetype": "text/x-python",
   "name": "python",
   "nbconvert_exporter": "python",
   "pygments_lexer": "ipython3",
   "version": "3.9.7"
  }
 },
 "nbformat": 4,
 "nbformat_minor": 5
}
