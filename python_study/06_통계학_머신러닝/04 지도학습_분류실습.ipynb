{
 "cells": [
  {
   "cell_type": "markdown",
   "id": "c5a113c2",
   "metadata": {},
   "source": [
    "#### 의사결정나무"
   ]
  },
  {
   "cell_type": "code",
   "execution_count": 1,
   "id": "7233cb99",
   "metadata": {},
   "outputs": [],
   "source": [
    "import numpy as np\n",
    "import pandas as pd\n",
    "\n",
    "# 풍속을 threshold(기준이 되는 값)에 따라 분리하는 의사결정나무 함수 생성\n",
    "\n",
    "def binary_tree(data, threshold):\n",
    "    \n",
    "    # 초기화\n",
    "    yes = []\n",
    "    no = []\n",
    "    \n",
    "    # data로부터 풍속 값마다 비교하기 위한 반복문\n",
    "    for wind in data['풍속']:\n",
    "        \n",
    "        # threshold와 비교하기 위해 분리\n",
    "        if wind > threshold:\n",
    "            yes.append(wind)\n",
    "        else:\n",
    "            no.append(wind)\n",
    "            \n",
    "    # 예측한 결과를 데이터 프레임 형태로 저장\n",
    "    data_yes = pd.DataFrame({'풍속':yes, '예상 지연 여부':['Yes']*len(yes)})\n",
    "    data_no = pd.DataFrame({'풍속':no, '예상 지연 여부':['no']*len(no)})\n",
    "    \n",
    "    return data_no.append(data_yes, ignore_index=True)\n",
    "    # data_no 뒤에 data_yes를 붙이고, 각각 만들어진 index 무시하고 새로 만들기\n",
    "    \n",
    "# 풍속에 따른 항공지연 데이터\n",
    "Wind = [1, 1.5, 2.5, 5, 5.5, 6.5]\n",
    "Delay  = ['No', 'No', 'No', 'Yes', 'Yes', 'Yes']"
   ]
  },
  {
   "cell_type": "code",
   "execution_count": 2,
   "id": "1952530a",
   "metadata": {},
   "outputs": [
    {
     "name": "stdout",
     "output_type": "stream",
     "text": [
      "    풍속 지연여부\n",
      "0  1.0   No\n",
      "1  1.5   No\n",
      "2  2.5   No\n",
      "3  5.0  Yes\n",
      "4  5.5  Yes\n",
      "5  6.5  Yes\n"
     ]
    }
   ],
   "source": [
    "data = pd.DataFrame({'풍속':Wind, '지연여부':Delay})\n",
    "print(data)"
   ]
  },
  {
   "cell_type": "code",
   "execution_count": 3,
   "id": "417f9756",
   "metadata": {},
   "outputs": [
    {
     "name": "stdout",
     "output_type": "stream",
     "text": [
      "    풍속 예상 지연 여부\n",
      "0  1.0       no\n",
      "1  1.5       no\n",
      "2  2.5       no\n",
      "3  5.0      Yes\n",
      "4  5.5      Yes\n",
      "5  6.5      Yes\n"
     ]
    }
   ],
   "source": [
    "\"\"\"\n",
    "1. binary_tree 모델을 사용하여 항공 지연 여부를 예측합니다.\n",
    "   data의 지연 여부와 예상 지연 여부가 같은 값이 나오도록 의사결정나무의 \n",
    "   결과물을 data_pred에 저장하세요.\n",
    "\"\"\"\n",
    "data_pred = binary_tree(data, threshold=4)\n",
    "\n",
    "print(data_pred)"
   ]
  },
  {
   "cell_type": "markdown",
   "id": "6be9b645",
   "metadata": {},
   "source": [
    "#### sklearn 의사결정나무 - 데이터 전처리"
   ]
  },
  {
   "cell_type": "code",
   "execution_count": 4,
   "id": "85626d52",
   "metadata": {},
   "outputs": [],
   "source": [
    "from sklearn.datasets import load_iris\n",
    "from sklearn.tree import DecisionTreeClassifier\n",
    "from sklearn.model_selection import train_test_split\n",
    "from sklearn.metrics import accuracy_score"
   ]
  },
  {
   "cell_type": "code",
   "execution_count": 5,
   "id": "ebdbe330",
   "metadata": {},
   "outputs": [],
   "source": [
    "# sklearn 저장된 데이터 불러오기\n",
    "\n",
    "X, y = load_iris(return_X_y=True)"
   ]
  },
  {
   "cell_type": "code",
   "execution_count": 6,
   "id": "1062c4a8",
   "metadata": {},
   "outputs": [
    {
     "data": {
      "text/html": [
       "<div>\n",
       "<style scoped>\n",
       "    .dataframe tbody tr th:only-of-type {\n",
       "        vertical-align: middle;\n",
       "    }\n",
       "\n",
       "    .dataframe tbody tr th {\n",
       "        vertical-align: top;\n",
       "    }\n",
       "\n",
       "    .dataframe thead th {\n",
       "        text-align: right;\n",
       "    }\n",
       "</style>\n",
       "<table border=\"1\" class=\"dataframe\">\n",
       "  <thead>\n",
       "    <tr style=\"text-align: right;\">\n",
       "      <th></th>\n",
       "      <th>꽃받침길이</th>\n",
       "      <th>꽃받침넓이</th>\n",
       "      <th>꽃잎길이</th>\n",
       "      <th>꽃잎넓이</th>\n",
       "    </tr>\n",
       "  </thead>\n",
       "  <tbody>\n",
       "    <tr>\n",
       "      <th>0</th>\n",
       "      <td>5.1</td>\n",
       "      <td>3.5</td>\n",
       "      <td>1.4</td>\n",
       "      <td>0.2</td>\n",
       "    </tr>\n",
       "    <tr>\n",
       "      <th>1</th>\n",
       "      <td>4.9</td>\n",
       "      <td>3.0</td>\n",
       "      <td>1.4</td>\n",
       "      <td>0.2</td>\n",
       "    </tr>\n",
       "    <tr>\n",
       "      <th>2</th>\n",
       "      <td>4.7</td>\n",
       "      <td>3.2</td>\n",
       "      <td>1.3</td>\n",
       "      <td>0.2</td>\n",
       "    </tr>\n",
       "    <tr>\n",
       "      <th>3</th>\n",
       "      <td>4.6</td>\n",
       "      <td>3.1</td>\n",
       "      <td>1.5</td>\n",
       "      <td>0.2</td>\n",
       "    </tr>\n",
       "    <tr>\n",
       "      <th>4</th>\n",
       "      <td>5.0</td>\n",
       "      <td>3.6</td>\n",
       "      <td>1.4</td>\n",
       "      <td>0.2</td>\n",
       "    </tr>\n",
       "  </tbody>\n",
       "</table>\n",
       "</div>"
      ],
      "text/plain": [
       "   꽃받침길이  꽃받침넓이  꽃잎길이  꽃잎넓이\n",
       "0    5.1    3.5   1.4   0.2\n",
       "1    4.9    3.0   1.4   0.2\n",
       "2    4.7    3.2   1.3   0.2\n",
       "3    4.6    3.1   1.5   0.2\n",
       "4    5.0    3.6   1.4   0.2"
      ]
     },
     "execution_count": 6,
     "metadata": {},
     "output_type": "execute_result"
    }
   ],
   "source": [
    "# 데이터프레임으로 변환\n",
    "\n",
    "df = pd.DataFrame(X, columns=['꽃받침길이', '꽃받침넓이', '꽃잎길이', '꽃잎넓이'])\n",
    "df.head()"
   ]
  },
  {
   "cell_type": "code",
   "execution_count": 7,
   "id": "7cf2379b",
   "metadata": {},
   "outputs": [
    {
     "data": {
      "text/html": [
       "<div>\n",
       "<style scoped>\n",
       "    .dataframe tbody tr th:only-of-type {\n",
       "        vertical-align: middle;\n",
       "    }\n",
       "\n",
       "    .dataframe tbody tr th {\n",
       "        vertical-align: top;\n",
       "    }\n",
       "\n",
       "    .dataframe thead th {\n",
       "        text-align: right;\n",
       "    }\n",
       "</style>\n",
       "<table border=\"1\" class=\"dataframe\">\n",
       "  <thead>\n",
       "    <tr style=\"text-align: right;\">\n",
       "      <th></th>\n",
       "      <th>꽃받침길이</th>\n",
       "      <th>꽃받침넓이</th>\n",
       "      <th>꽃잎길이</th>\n",
       "      <th>꽃잎넓이</th>\n",
       "      <th>클래스(품종)</th>\n",
       "    </tr>\n",
       "  </thead>\n",
       "  <tbody>\n",
       "    <tr>\n",
       "      <th>0</th>\n",
       "      <td>5.1</td>\n",
       "      <td>3.5</td>\n",
       "      <td>1.4</td>\n",
       "      <td>0.2</td>\n",
       "      <td>0</td>\n",
       "    </tr>\n",
       "    <tr>\n",
       "      <th>1</th>\n",
       "      <td>4.9</td>\n",
       "      <td>3.0</td>\n",
       "      <td>1.4</td>\n",
       "      <td>0.2</td>\n",
       "      <td>0</td>\n",
       "    </tr>\n",
       "    <tr>\n",
       "      <th>2</th>\n",
       "      <td>4.7</td>\n",
       "      <td>3.2</td>\n",
       "      <td>1.3</td>\n",
       "      <td>0.2</td>\n",
       "      <td>0</td>\n",
       "    </tr>\n",
       "    <tr>\n",
       "      <th>3</th>\n",
       "      <td>4.6</td>\n",
       "      <td>3.1</td>\n",
       "      <td>1.5</td>\n",
       "      <td>0.2</td>\n",
       "      <td>0</td>\n",
       "    </tr>\n",
       "    <tr>\n",
       "      <th>4</th>\n",
       "      <td>5.0</td>\n",
       "      <td>3.6</td>\n",
       "      <td>1.4</td>\n",
       "      <td>0.2</td>\n",
       "      <td>0</td>\n",
       "    </tr>\n",
       "  </tbody>\n",
       "</table>\n",
       "</div>"
      ],
      "text/plain": [
       "   꽃받침길이  꽃받침넓이  꽃잎길이  꽃잎넓이  클래스(품종)\n",
       "0    5.1    3.5   1.4   0.2        0\n",
       "1    4.9    3.0   1.4   0.2        0\n",
       "2    4.7    3.2   1.3   0.2        0\n",
       "3    4.6    3.1   1.5   0.2        0\n",
       "4    5.0    3.6   1.4   0.2        0"
      ]
     },
     "execution_count": 7,
     "metadata": {},
     "output_type": "execute_result"
    }
   ],
   "source": [
    "df['클래스(품종)']=y\n",
    "df.head()"
   ]
  },
  {
   "cell_type": "code",
   "execution_count": 8,
   "id": "8d3ac2bb",
   "metadata": {},
   "outputs": [],
   "source": [
    "# 학습용, 평가용 데이터 \n",
    "\n",
    "train_X, test_X, train_y, test_y = train_test_split(X, y, test_size=0.2, random_state=42)"
   ]
  },
  {
   "cell_type": "code",
   "execution_count": 9,
   "id": "9afec359",
   "metadata": {},
   "outputs": [
    {
     "name": "stdout",
     "output_type": "stream",
     "text": [
      "     꽃받침길이  꽃받침넓이  꽃잎길이  꽃잎넓이  클래스(품종)\n",
      "0      5.1    3.5   1.4   0.2        0\n",
      "1      4.9    3.0   1.4   0.2        0\n",
      "2      4.7    3.2   1.3   0.2        0\n",
      "3      4.6    3.1   1.5   0.2        0\n",
      "4      5.0    3.6   1.4   0.2        0\n",
      "..     ...    ...   ...   ...      ...\n",
      "145    6.7    3.0   5.2   2.3        2\n",
      "146    6.3    2.5   5.0   1.9        2\n",
      "147    6.5    3.0   5.2   2.0        2\n",
      "148    6.2    3.4   5.4   2.3        2\n",
      "149    5.9    3.0   5.1   1.8        2\n",
      "\n",
      "[150 rows x 5 columns]\n",
      "[[4.6 3.6 1.  0.2]\n",
      " [5.7 4.4 1.5 0.4]\n",
      " [6.7 3.1 4.4 1.4]\n",
      " [4.8 3.4 1.6 0.2]\n",
      " [4.4 3.2 1.3 0.2]]\n",
      "[0 0 1 0 0]\n",
      "[[6.1 2.8 4.7 1.2]\n",
      " [5.7 3.8 1.7 0.3]\n",
      " [7.7 2.6 6.9 2.3]\n",
      " [6.  2.9 4.5 1.5]\n",
      " [6.8 2.8 4.8 1.4]]\n",
      "[1 0 2 1 1]\n"
     ]
    }
   ],
   "source": [
    "# 원본 데이터 출력\n",
    "print(df)\n",
    "\n",
    "# 전처리한 데이터 5개만 추출, 출력\n",
    "print(train_X[:5])\n",
    "print(train_y[:5])\n",
    "print(test_X[:5])\n",
    "print(test_y[:5])"
   ]
  },
  {
   "cell_type": "code",
   "execution_count": 10,
   "id": "6d2c8c2a",
   "metadata": {},
   "outputs": [],
   "source": [
    "from matplotlib import pyplot as plt\n",
    "from sklearn import tree"
   ]
  },
  {
   "cell_type": "code",
   "execution_count": 11,
   "id": "57e32f8e",
   "metadata": {},
   "outputs": [],
   "source": [
    "# 의사결정나무 모델 초기화, 학습\n",
    "\n",
    "DTmodel = DecisionTreeClassifier(max_depth=2) # 깊이 조절 가능 : max_depth"
   ]
  },
  {
   "cell_type": "code",
   "execution_count": 12,
   "id": "3728f538",
   "metadata": {},
   "outputs": [
    {
     "data": {
      "text/plain": [
       "DecisionTreeClassifier(max_depth=2)"
      ]
     },
     "execution_count": 12,
     "metadata": {},
     "output_type": "execute_result"
    }
   ],
   "source": [
    "DTmodel.fit(train_X, train_y)"
   ]
  },
  {
   "cell_type": "code",
   "execution_count": 13,
   "id": "1114e5fb",
   "metadata": {},
   "outputs": [
    {
     "data": {
      "image/png": "[encoded data removed]",
      "text/plain": [
       "<Figure size 864x432 with 1 Axes>"
      ]
     },
     "metadata": {
      "needs_background": "light"
     },
     "output_type": "display_data"
    }
   ],
   "source": [
    "# 학습한 결과 출력\n",
    "\n",
    "plt.rc('font', family = 'Malgun Gothic')\n",
    "fig = plt.figure(figsize = (12,6))\n",
    "tree.plot_tree(DTmodel, \n",
    "              feature_names=['꽃받침길이', '꽃받침넓이', '꽃잎길이', '꽃잎넓이'],\n",
    "              class_names=['setosa','versicolor','virginca'],\n",
    "              filled=True)\n",
    "plt.show()"
   ]
  },
  {
   "cell_type": "markdown",
   "id": "99e15677",
   "metadata": {},
   "source": [
    "#### 예측하기"
   ]
  },
  {
   "cell_type": "code",
   "execution_count": 14,
   "id": "d605e5a8",
   "metadata": {},
   "outputs": [
    {
     "data": {
      "text/plain": [
       "array([1, 0, 2, 1, 2, 0, 1, 2, 1, 1, 2, 0, 0, 0, 0, 1, 2, 1, 1, 2, 0, 2,\n",
       "       0, 2, 2, 2, 2, 2, 0, 0])"
      ]
     },
     "execution_count": 14,
     "metadata": {},
     "output_type": "execute_result"
    }
   ],
   "source": [
    "# test data로 예측하기\n",
    "DTmodel.predict(test_X)"
   ]
  },
  {
   "cell_type": "markdown",
   "id": "81908c35",
   "metadata": {},
   "source": [
    "#### "
   ]
  },
  {
   "cell_type": "code",
   "execution_count": 15,
   "id": "05fd4c76",
   "metadata": {},
   "outputs": [],
   "source": [
    "import numpy as np\n",
    "import pandas as pd\n",
    "import seaborn as sns\n",
    "import matplotlib.pyplot as plt\n",
    "from sklearn.datasets import load_breast_cancer\n",
    "from sklearn.tree import DecisionTreeClassifier\n",
    "from sklearn.model_selection import train_test_split\n",
    "from sklearn.metrics import accuracy_score\n",
    "from sklearn.metrics import precision_score\n",
    "from sklearn.metrics import recall_score\n",
    "from sklearn import tree\n",
    "from sklearn.metrics import confusion_matrix\n",
    "from sklearn.utils.multiclass import unique_labels"
   ]
  },
  {
   "cell_type": "code",
   "execution_count": 16,
   "id": "54739360",
   "metadata": {},
   "outputs": [],
   "source": [
    "# data 불러오기\n",
    "\n",
    "X, y = load_breast_cancer(return_X_y=True)\n",
    "X = np.array(X)\n",
    "y = np.array(y)"
   ]
  },
  {
   "cell_type": "code",
   "execution_count": 17,
   "id": "1c00f17b",
   "metadata": {},
   "outputs": [
    {
     "data": {
      "text/plain": [
       "30"
      ]
     },
     "execution_count": 17,
     "metadata": {},
     "output_type": "execute_result"
    }
   ],
   "source": [
    "len(X[0])  # feature 개수"
   ]
  },
  {
   "cell_type": "code",
   "execution_count": 18,
   "id": "5b0aa57e",
   "metadata": {},
   "outputs": [
    {
     "data": {
      "text/plain": [
       "(569, 30)"
      ]
     },
     "execution_count": 18,
     "metadata": {},
     "output_type": "execute_result"
    }
   ],
   "source": [
    "X.shape"
   ]
  },
  {
   "cell_type": "code",
   "execution_count": 19,
   "id": "b23cfc7b",
   "metadata": {},
   "outputs": [],
   "source": [
    "# 학습용 데이터, 평가용 데이터 분리\n",
    "\n",
    "train_X, test_X, train_y, test_y = train_test_split(X, y, test_size=0.2, random_state=42)"
   ]
  },
  {
   "cell_type": "code",
   "execution_count": 20,
   "id": "1068b630",
   "metadata": {},
   "outputs": [
    {
     "data": {
      "text/plain": [
       "114"
      ]
     },
     "execution_count": 20,
     "metadata": {},
     "output_type": "execute_result"
    }
   ],
   "source": [
    "len(test_y)   # 평가용 샘플 개수"
   ]
  },
  {
   "cell_type": "code",
   "execution_count": 21,
   "id": "fec5bd70",
   "metadata": {},
   "outputs": [
    {
     "data": {
      "text/plain": [
       "43"
      ]
     },
     "execution_count": 21,
     "metadata": {},
     "output_type": "execute_result"
    }
   ],
   "source": [
    "len(test_y) - sum(test_y)  # 클래스 0인 평가용 샘플"
   ]
  },
  {
   "cell_type": "code",
   "execution_count": 22,
   "id": "9df6c98e",
   "metadata": {},
   "outputs": [
    {
     "data": {
      "text/plain": [
       "71"
      ]
     },
     "execution_count": 22,
     "metadata": {},
     "output_type": "execute_result"
    }
   ],
   "source": [
    "sum(test_y) # 클래스 1인 평가용 샘플"
   ]
  },
  {
   "cell_type": "code",
   "execution_count": 23,
   "id": "58990e9f",
   "metadata": {},
   "outputs": [
    {
     "data": {
      "text/plain": [
       "DecisionTreeClassifier()"
      ]
     },
     "execution_count": 23,
     "metadata": {},
     "output_type": "execute_result"
    }
   ],
   "source": [
    "# 의사결정나무모델(DecisionTreeClassifier) 초기화해서 DTmodel 생성, 학습하기\n",
    "DTmodel = DecisionTreeClassifier()\n",
    "DTmodel.fit(train_X, train_y)"
   ]
  },
  {
   "cell_type": "code",
   "execution_count": 24,
   "id": "e3daf6bc",
   "metadata": {},
   "outputs": [
    {
     "data": {
      "text/plain": [
       "array([1, 0, 0, 1, 1, 0, 0, 0, 0, 1, 1, 0, 1, 1, 1, 0, 1, 1, 1, 0, 1, 1,\n",
       "       0, 1, 1, 1, 1, 1, 1, 0, 1, 1, 1, 1, 1, 1, 0, 1, 0, 1, 1, 0, 1, 1,\n",
       "       1, 1, 0, 1, 1, 1, 0, 0, 1, 1, 1, 1, 1, 0, 0, 1, 1, 0, 0, 1, 1, 1,\n",
       "       0, 0, 1, 1, 0, 0, 1, 0, 1, 1, 1, 1, 1, 1, 0, 1, 1, 0, 0, 0, 0, 0,\n",
       "       1, 1, 1, 1, 1, 1, 1, 1, 0, 0, 1, 0, 0, 1, 0, 0, 1, 1, 1, 0, 0, 1,\n",
       "       0, 1, 1, 0])"
      ]
     },
     "execution_count": 24,
     "metadata": {},
     "output_type": "execute_result"
    }
   ],
   "source": [
    "# 예측\n",
    "y_pred = DTmodel.predict(test_X)\n",
    "y_pred"
   ]
  },
  {
   "cell_type": "code",
   "execution_count": 31,
   "id": "8504e157",
   "metadata": {},
   "outputs": [
    {
     "name": "stdout",
     "output_type": "stream",
     "text": [
      "Confusion Matrix : \n",
      " [[39  4]\n",
      " [ 3 68]]\n"
     ]
    },
    {
     "data": {
      "image/png": "[encoded data removed]",
      "text/plain": [
       "<Figure size 360x360 with 2 Axes>"
      ]
     },
     "metadata": {
      "needs_background": "light"
     },
     "output_type": "display_data"
    }
   ],
   "source": [
    "# 혼동행렬(confusion_matrix)\n",
    "\n",
    "\"\"\"\n",
    "1. 혼동 행렬을 계산합니다\n",
    "\"\"\"\n",
    "cm = confusion_matrix(test_y, y_pred)\n",
    "print('Confusion Matrix : \\n {}'.format(cm))\n",
    "\n",
    "# 혼동 행렬을 출력합니다\n",
    "fig = plt.figure(figsize=(5,5))\n",
    "ax = sns.heatmap(cm, annot=True)\n",
    "ax.set(title='Confusion Matrix',\n",
    "            ylabel='True label',\n",
    "            xlabel='Predicted label')\n",
    "fig.savefig(\"decistion_tree.png\")\n",
    "#elice_utils.send_image(\"decistion_tree.png\")"
   ]
  },
  {
   "cell_type": "code",
   "execution_count": 26,
   "id": "9c47a489",
   "metadata": {},
   "outputs": [
    {
     "name": "stdout",
     "output_type": "stream",
     "text": [
      "train_X confusion_matrix : \n",
      "[[169   0]\n",
      " [  0 286]]\n",
      "test_X confusion_matrix : \n",
      "[[39  4]\n",
      " [ 3 68]]\n"
     ]
    }
   ],
   "source": [
    "# 예측한 값 저장\n",
    "y_pred_train = DTmodel.predict(train_X)\n",
    "y_pred_test = DTmodel.predict(test_X)\n",
    "\n",
    "# 혼동행렬 계산\n",
    "cm_train = confusion_matrix(train_y, y_pred_train)\n",
    "cm_test = confusion_matrix(test_y, y_pred_test)\n",
    "\n",
    "print('train_X confusion_matrix : \\n{}'.format(cm_train))\n",
    "print('test_X confusion_matrix : \\n{}'.format(cm_test))"
   ]
  },
  {
   "cell_type": "code",
   "execution_count": 27,
   "id": "236dde38",
   "metadata": {},
   "outputs": [
    {
     "name": "stdout",
     "output_type": "stream",
     "text": [
      "train_X Accuracy: 1.000000\n",
      "test_X Accuracy: 0.938596\n"
     ]
    }
   ],
   "source": [
    "# 정확도 계산\n",
    "\n",
    "acc_train = DTmodel.score(train_X, train_y)\n",
    "acc_test = DTmodel.score(test_X, test_y)\n",
    "\n",
    "# 정확도를 출력합니다.\n",
    "print('train_X Accuracy: %f' % (acc_train))\n",
    "print('test_X Accuracy: %f' % (acc_test))"
   ]
  },
  {
   "cell_type": "code",
   "execution_count": 28,
   "id": "c2c97f64",
   "metadata": {},
   "outputs": [
    {
     "data": {
      "text/plain": [
       "0.9385964912280702"
      ]
     },
     "execution_count": 28,
     "metadata": {},
     "output_type": "execute_result"
    }
   ],
   "source": [
    "accuracy_score(test_y, y_pred)"
   ]
  },
  {
   "cell_type": "code",
   "execution_count": 29,
   "id": "6685b072",
   "metadata": {},
   "outputs": [
    {
     "name": "stdout",
     "output_type": "stream",
     "text": [
      "train_X precision: 1.000000\n",
      "test_X precision: 0.944444\n"
     ]
    }
   ],
   "source": [
    "# 정밀도 계산\n",
    "\n",
    "precision_train = precision_score(train_y, y_pred_train)\n",
    "precision_test = precision_score(test_y, y_pred_test)\n",
    "\n",
    "# 정밀도를 출력합니다.\n",
    "print('train_X precision: %f' % (precision_train))\n",
    "print('test_X precision: %f' % (precision_test))"
   ]
  },
  {
   "cell_type": "code",
   "execution_count": 30,
   "id": "224e979e",
   "metadata": {},
   "outputs": [
    {
     "name": "stdout",
     "output_type": "stream",
     "text": [
      "train_X recall: 1.000000\n",
      "test_X recall: 0.957746\n"
     ]
    }
   ],
   "source": [
    "# 재현율 계산\n",
    "\n",
    "recall_train = recall_score(train_y, y_pred_train)\n",
    "recall_test = recall_score(test_y, y_pred_test)\n",
    "\n",
    "# 재현율를 출력합니다.\n",
    "print('train_X recall: %f' % (recall_train))\n",
    "print('test_X recall: %f' % (recall_test))"
   ]
  }
 ],
 "metadata": {
  "kernelspec": {
   "display_name": "Python 3 (ipykernel)",
   "language": "python",
   "name": "python3"
  },
  "language_info": {
   "codemirror_mode": {
    "name": "ipython",
    "version": 3
   },
   "file_extension": ".py",
   "mimetype": "text/x-python",
   "name": "python",
   "nbconvert_exporter": "python",
   "pygments_lexer": "ipython3",
   "version": "3.9.7"
  }
 },
 "nbformat": 4,
 "nbformat_minor": 5
}
