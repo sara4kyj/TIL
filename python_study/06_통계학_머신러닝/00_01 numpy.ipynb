{
 "cells": [
  {
   "cell_type": "code",
   "execution_count": 1,
   "id": "d7749612",
   "metadata": {},
   "outputs": [
    {
     "name": "stdout",
     "output_type": "stream",
     "text": [
      "0.029999494552612305\n"
     ]
    }
   ],
   "source": [
    "# 넘파이 필요한가?\n",
    "\n",
    "import time\n",
    "time.time()\n",
    "sTime = time.time()\n",
    "L = range(100000)\n",
    "b = [i**2  for i in L]\n",
    "\n",
    "eTime = time.time()\n",
    "\n",
    "print(eTime-sTime)"
   ]
  },
  {
   "cell_type": "code",
   "execution_count": 3,
   "id": "6061ab5c",
   "metadata": {},
   "outputs": [
    {
     "name": "stdout",
     "output_type": "stream",
     "text": [
      "0.0009996891021728516\n"
     ]
    }
   ],
   "source": [
    "import numpy as np\n",
    "\n",
    "sTime = time.time()\n",
    "\n",
    "c = np.arange(100000)\n",
    "d = c**2\n",
    "\n",
    "eTime = time.time()\n",
    "\n",
    "print(eTime-sTime)"
   ]
  },
  {
   "cell_type": "markdown",
   "id": "c275f083",
   "metadata": {},
   "source": [
    "> numpy를 사용할 경우 사용하지 않는 경우보다 속도가 빠른 것을 확인할 수 있음</br>\n",
    "> 따라서 대용량의 데이터를 처리해야하는 머신러닝의 경우 numpy를 사용하는 것이 효율적임"
   ]
  },
  {
   "cell_type": "code",
   "execution_count": 9,
   "id": "31d55a49",
   "metadata": {},
   "outputs": [
    {
     "name": "stdout",
     "output_type": "stream",
     "text": [
      "<class 'numpy.ndarray'>\n",
      "1\n",
      "(3,)\n"
     ]
    }
   ],
   "source": [
    "# 배열 생성 및 정보 확인\n",
    "\n",
    "array = np.array([1,2,3])\n",
    "print(type(array), array.ndim, array.shape, sep='\\n')"
   ]
  },
  {
   "cell_type": "code",
   "execution_count": 10,
   "id": "5547f298",
   "metadata": {},
   "outputs": [
    {
     "name": "stdout",
     "output_type": "stream",
     "text": [
      "<class 'numpy.ndarray'>\n",
      "2\n",
      "(2, 3)\n"
     ]
    }
   ],
   "source": [
    "# 배열 생성 및 정보 확인\n",
    "\n",
    "array = np.array([[1,2,3],[4,5,6]])\n",
    "print(type(array), array.ndim, array.shape, sep='\\n')"
   ]
  },
  {
   "cell_type": "code",
   "execution_count": 11,
   "id": "e93d2967",
   "metadata": {},
   "outputs": [
    {
     "name": "stdout",
     "output_type": "stream",
     "text": [
      "<class 'numpy.ndarray'>\n",
      "3\n",
      "(1, 3, 3)\n"
     ]
    }
   ],
   "source": [
    "# 배열 생성 및 정보 확인\n",
    "\n",
    "array = np.array([[[1,2,3],[4,5,6],[7,8,9]]])\n",
    "print(type(array), array.ndim, array.shape, sep='\\n')"
   ]
  }
 ],
 "metadata": {
  "kernelspec": {
   "display_name": "Python 3 (ipykernel)",
   "language": "python",
   "name": "python3"
  },
  "language_info": {
   "codemirror_mode": {
    "name": "ipython",
    "version": 3
   },
   "file_extension": ".py",
   "mimetype": "text/x-python",
   "name": "python",
   "nbconvert_exporter": "python",
   "pygments_lexer": "ipython3",
   "version": "3.9.7"
  }
 },
 "nbformat": 4,
 "nbformat_minor": 5
}
